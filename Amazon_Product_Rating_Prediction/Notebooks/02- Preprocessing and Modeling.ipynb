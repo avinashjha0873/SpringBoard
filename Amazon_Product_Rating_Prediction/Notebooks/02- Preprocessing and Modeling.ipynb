{
 "cells": [
  {
   "cell_type": "markdown",
   "metadata": {},
   "source": [
    "### Imports"
   ]
  },
  {
   "cell_type": "code",
   "execution_count": 1,
   "metadata": {},
   "outputs": [],
   "source": [
    "import pandas as pd\n",
    "import numpy as np\n",
    "import matplotlib.pyplot as plt\n",
    "import nltk\n",
    "from nltk import word_tokenize\n",
    "from nltk.corpus import stopwords, wordnet\n",
    "import re\n",
    "import string\n",
    "from spellchecker import SpellChecker\n",
    "from collections import Counter\n",
    "from sklearn.feature_extraction.text import CountVectorizer, TfidfVectorizer\n",
    "import spacy"
   ]
  },
  {
   "cell_type": "code",
   "execution_count": 2,
   "metadata": {},
   "outputs": [],
   "source": [
    "#Install pyspellchecker module, if does not exists, \n",
    "#this module is a Pure Python Spell Checking based on Peter Norvig’s blog post on setting up a simple spell checking algorithm.\n",
    "\n",
    "#!pip install pyspellchecker"
   ]
  },
  {
   "cell_type": "code",
   "execution_count": 25,
   "metadata": {},
   "outputs": [
    {
     "name": "stderr",
     "output_type": "stream",
     "text": [
      "\n",
      "Usage:   \n",
      "  pip <command> [options]\n",
      "\n",
      "no such option: -m\n"
     ]
    }
   ],
   "source": [
    "#install Spacy library for advanced natural language processing, this will be used to perform lemmatization\n",
    "#!pip install spacy\n",
    "!pip -m spacy download en_core_web_sm"
   ]
  },
  {
   "cell_type": "markdown",
   "metadata": {},
   "source": [
    "### Data Load"
   ]
  },
  {
   "cell_type": "code",
   "execution_count": 4,
   "metadata": {},
   "outputs": [],
   "source": [
    "path = r'..\\Data\\01_Clean_Review_Data.json'\n",
    "Review_DF = pd.read_json(path)"
   ]
  },
  {
   "cell_type": "code",
   "execution_count": 5,
   "metadata": {},
   "outputs": [
    {
     "data": {
      "text/html": [
       "<div>\n",
       "<style scoped>\n",
       "    .dataframe tbody tr th:only-of-type {\n",
       "        vertical-align: middle;\n",
       "    }\n",
       "\n",
       "    .dataframe tbody tr th {\n",
       "        vertical-align: top;\n",
       "    }\n",
       "\n",
       "    .dataframe thead th {\n",
       "        text-align: right;\n",
       "    }\n",
       "</style>\n",
       "<table border=\"1\" class=\"dataframe\">\n",
       "  <thead>\n",
       "    <tr style=\"text-align: right;\">\n",
       "      <th></th>\n",
       "      <th>User_ID</th>\n",
       "      <th>Product_ID</th>\n",
       "      <th>User_Name</th>\n",
       "      <th>Rating_Helpfulness</th>\n",
       "      <th>Text_Review</th>\n",
       "      <th>Ratings</th>\n",
       "      <th>Review_Summary</th>\n",
       "      <th>Review_Date</th>\n",
       "    </tr>\n",
       "  </thead>\n",
       "  <tbody>\n",
       "    <tr>\n",
       "      <th>0</th>\n",
       "      <td>A30TL5EWN6DFXT</td>\n",
       "      <td>120401325X</td>\n",
       "      <td>christina</td>\n",
       "      <td>[0, 0]</td>\n",
       "      <td>They look good and stick good! I just don't li...</td>\n",
       "      <td>4</td>\n",
       "      <td>Looks Good</td>\n",
       "      <td>1400630400000</td>\n",
       "    </tr>\n",
       "    <tr>\n",
       "      <th>1</th>\n",
       "      <td>ASY55RVNIL0UD</td>\n",
       "      <td>120401325X</td>\n",
       "      <td>emily l.</td>\n",
       "      <td>[0, 0]</td>\n",
       "      <td>These stickers work like the review says they ...</td>\n",
       "      <td>5</td>\n",
       "      <td>Really great product.</td>\n",
       "      <td>1389657600000</td>\n",
       "    </tr>\n",
       "    <tr>\n",
       "      <th>2</th>\n",
       "      <td>A2TMXE2AFO7ONB</td>\n",
       "      <td>120401325X</td>\n",
       "      <td>Erica</td>\n",
       "      <td>[0, 0]</td>\n",
       "      <td>These are awesome and make my phone look so st...</td>\n",
       "      <td>5</td>\n",
       "      <td>LOVE LOVE LOVE</td>\n",
       "      <td>1403740800000</td>\n",
       "    </tr>\n",
       "    <tr>\n",
       "      <th>3</th>\n",
       "      <td>AWJ0WZQYMYFQ4</td>\n",
       "      <td>120401325X</td>\n",
       "      <td>JM</td>\n",
       "      <td>[4, 4]</td>\n",
       "      <td>Item arrived in great time and was in perfect ...</td>\n",
       "      <td>4</td>\n",
       "      <td>Cute!</td>\n",
       "      <td>1382313600000</td>\n",
       "    </tr>\n",
       "    <tr>\n",
       "      <th>4</th>\n",
       "      <td>ATX7CZYFXI1KW</td>\n",
       "      <td>120401325X</td>\n",
       "      <td>patrice m rogoza</td>\n",
       "      <td>[2, 3]</td>\n",
       "      <td>awesome! stays on, and looks great. can be use...</td>\n",
       "      <td>5</td>\n",
       "      <td>leopard home button sticker for iphone 4s</td>\n",
       "      <td>1359849600000</td>\n",
       "    </tr>\n",
       "  </tbody>\n",
       "</table>\n",
       "</div>"
      ],
      "text/plain": [
       "          User_ID  Product_ID         User_Name Rating_Helpfulness  \\\n",
       "0  A30TL5EWN6DFXT  120401325X         christina             [0, 0]   \n",
       "1   ASY55RVNIL0UD  120401325X          emily l.             [0, 0]   \n",
       "2  A2TMXE2AFO7ONB  120401325X             Erica             [0, 0]   \n",
       "3   AWJ0WZQYMYFQ4  120401325X                JM             [4, 4]   \n",
       "4   ATX7CZYFXI1KW  120401325X  patrice m rogoza             [2, 3]   \n",
       "\n",
       "                                         Text_Review  Ratings  \\\n",
       "0  They look good and stick good! I just don't li...        4   \n",
       "1  These stickers work like the review says they ...        5   \n",
       "2  These are awesome and make my phone look so st...        5   \n",
       "3  Item arrived in great time and was in perfect ...        4   \n",
       "4  awesome! stays on, and looks great. can be use...        5   \n",
       "\n",
       "                              Review_Summary    Review_Date  \n",
       "0                                 Looks Good  1400630400000  \n",
       "1                      Really great product.  1389657600000  \n",
       "2                             LOVE LOVE LOVE  1403740800000  \n",
       "3                                      Cute!  1382313600000  \n",
       "4  leopard home button sticker for iphone 4s  1359849600000  "
      ]
     },
     "execution_count": 5,
     "metadata": {},
     "output_type": "execute_result"
    }
   ],
   "source": [
    "Review_DF.head()"
   ]
  },
  {
   "cell_type": "code",
   "execution_count": 6,
   "metadata": {},
   "outputs": [],
   "source": [
    "Review_DF['Review_Date'] = pd.to_datetime(Review_DF['Review_Date'])"
   ]
  },
  {
   "cell_type": "code",
   "execution_count": 7,
   "metadata": {},
   "outputs": [
    {
     "data": {
      "text/plain": [
       "0         They look good and stick good! I just don't li...\n",
       "1         These stickers work like the review says they ...\n",
       "2         These are awesome and make my phone look so st...\n",
       "3         Item arrived in great time and was in perfect ...\n",
       "4         awesome! stays on, and looks great. can be use...\n",
       "                                ...                        \n",
       "194434    Works great just like my original one. I reall...\n",
       "194435    Great product. Great packaging. High quality a...\n",
       "194436    This is a great cable, just as good as the mor...\n",
       "194437    I really like it becasue it works well with my...\n",
       "194438    product as described, I have wasted a lot of m...\n",
       "Name: Text_Review, Length: 194439, dtype: object"
      ]
     },
     "execution_count": 7,
     "metadata": {},
     "output_type": "execute_result"
    }
   ],
   "source": [
    "Review_DF['Text_Review']"
   ]
  },
  {
   "cell_type": "markdown",
   "metadata": {},
   "source": [
    "## Preprocessing - Text Normalization\n",
    "\n",
    "Text Normalization(Text wrangling or cleansing) is a process of transforming text into a form that can be used by NLP and analytics systems and applications as input. It can consist of various steps like:-\n",
    "* Tokenization \n",
    "* Cleaning text \n",
    "* Removing Special Characters\n",
    "* Correcting spelling \n",
    "* Removing stopwords, punctuations or unwanted tokens\n",
    "* Case conversion \n",
    "* Stemming\n",
    "* Lemmatization."
   ]
  },
  {
   "cell_type": "markdown",
   "metadata": {},
   "source": [
    "#### 1: Tokenization\n",
    "\n",
    "Tokenization is the process of transforming a string or document into smaller chunks, which we call tokens. This is usually one step in the process of preparing a text for natural language processing. \n",
    "\n",
    "**Sentence Tokenization** is a process of converting text corpus into sentences which is the first level of tokens. This is also called Sentence Segmentation because we try to segment the text into meaningful sentences.\n",
    "\n",
    "**Word Tokenization** is a process of splitting sentences into words."
   ]
  },
  {
   "cell_type": "code",
   "execution_count": 8,
   "metadata": {},
   "outputs": [],
   "source": [
    "#Defined Tokenization fuction\n",
    "# The following function will take any sentence and convert it into word tokens\n",
    "# Then strip leading and trailing spaces\n",
    "def Tokenize_Text(text):\n",
    "    word_tokens = word_tokenize(text)\n",
    "    tokens = [token.strip() for token in word_tokens]\n",
    "    return tokens"
   ]
  },
  {
   "cell_type": "markdown",
   "metadata": {},
   "source": [
    "#### 2: Removing Special Characters\n",
    "One important task in text normalization involves removing unnecessary and special characters. These may be special symbols or punctuations that occurs in sentences. <br>\n",
    "Special Characters and symbols are usually non-alphanumeric characters or even occaionally numeric characters(depending on the problem) which adds extra noise to unstructured text data and does not add much significance while analyzing text and untilzing it for feature extraction. [Link](https://towardsdatascience.com/a-practitioners-guide-to-natural-language-processing-part-i-processing-understanding-text-9f4abfd13e72)"
   ]
  },
  {
   "cell_type": "code",
   "execution_count": 9,
   "metadata": {},
   "outputs": [],
   "source": [
    "#Defining function to remove special characters keeping only apha characters\n",
    "def Remove_Special_Characters(text):\n",
    "    text = text.strip()\n",
    "    pattern = '[^a-zA-z]'\n",
    "    filtered_text = re.sub(pattern, ' ', text) #Replace matches with spaces\n",
    "    return filtered_text"
   ]
  },
  {
   "cell_type": "markdown",
   "metadata": {},
   "source": [
    "#### 3: Removing Stop Words\n",
    "Stopwords are the words that has little or no significance especially when consturcting meaningful features from text. They are removed from the text so that we are left with words having maximum significance. <br>\n",
    "They are usually words that have maximum frequency if you aggregate any corpus of text based on singular tokens. <br>\n",
    "Ex:- a, the, of and so on."
   ]
  },
  {
   "cell_type": "code",
   "execution_count": 10,
   "metadata": {},
   "outputs": [],
   "source": [
    "#If nltk stopwords does not exist, uncomment and run\n",
    "#nltk.download('stopwords') "
   ]
  },
  {
   "cell_type": "code",
   "execution_count": 11,
   "metadata": {},
   "outputs": [],
   "source": [
    "#In Python, searching through set is much faster than list.\n",
    "stopword_set = set(stopwords.words(\"english\"))\n",
    "\n",
    "#Defining a function to remove stopwords\n",
    "def Remove_Stopwords(tokens):\n",
    "    filtered_tokens = [token for token in tokens if token not in stopword_set]\n",
    "    return filtered_tokens"
   ]
  },
  {
   "cell_type": "markdown",
   "metadata": {},
   "source": [
    "#### 4: Correcting Words\n",
    "Incorrect spellings are very normal and also one of the main challeges faced in Text Normalization. The definition of incorrect here covers words that have spelling mistakes as well as words with several letters repeated that do not contribute much to its overall significance.\n",
    "##### 4.1 Correcting Repeating Characters"
   ]
  },
  {
   "cell_type": "code",
   "execution_count": 12,
   "metadata": {},
   "outputs": [],
   "source": [
    "#If got LookupError(nltk stopwords does not exist), uncomment and run\n",
    "#nltk.download('wordnet') "
   ]
  },
  {
   "cell_type": "code",
   "execution_count": 13,
   "metadata": {},
   "outputs": [],
   "source": [
    "from nltk.corpus import wordnet\n",
    "\n",
    "# Define function to remove repeated characters\n",
    "def Remove_Repeated_Characters(tokens):\n",
    "    repeat_pattern = re.compile(r'(\\w*)(\\w)\\2(\\w*)')\n",
    "    match_substitution = r'\\1\\2\\3'\n",
    "    def replace(old_word):\n",
    "        if(wordnet.synsets(old_word)):\n",
    "            return old_word\n",
    "        new_word = repeat_pattern.sub(match_substitution, old_word) # substitutes a wrong spelling like \"Hellooooo\" to \"Hello\"\n",
    "        return replace(new_word) if new_word != old_word else new_word\n",
    "\n",
    "    correct_tokens = [replace(word) for word in tokens]\n",
    "    return correct_tokens"
   ]
  },
  {
   "cell_type": "markdown",
   "metadata": {},
   "source": [
    "##### 4.2 Correcting Spellings \n",
    "[How to Write Spelling Corrector](https://norvig.com/spell-correct.html)"
   ]
  },
  {
   "cell_type": "code",
   "execution_count": 14,
   "metadata": {},
   "outputs": [],
   "source": [
    "#Generate a word vocabulary, which will be used as a reference to check the spelling using a file containing severl books from \n",
    "#Gutenberg corpus and also list of most frequent words from wiktionary and British National Corpus. You can download it from\n",
    "# http://norvig.com/big.txt\n",
    "\n",
    "def tokens(text):\n",
    "    return re.findall('[a-z]+', text.lower())\n",
    "\n",
    "path = '../Raw_Data/big.txt'\n",
    "\n",
    "with open(path) as file:\n",
    "    doc = file.read()\n",
    "\n",
    "words = tokens(doc)\n",
    "word_counts = Counter(words)"
   ]
  },
  {
   "cell_type": "code",
   "execution_count": 15,
   "metadata": {},
   "outputs": [],
   "source": [
    "# Define functions that compute sets of words that are one and two edits away from input word.\n",
    "def edits1(word):\n",
    "    \"All edits that are one edit away from `word`.\"\n",
    "    letters    = 'abcdefghijklmnopqrstuvwxyz'\n",
    "    splits     = [(word[:i], word[i:])    for i in range(len(word) + 1)]\n",
    "    deletes    = [L + R[1:]               for L, R in splits if R]\n",
    "    transposes = [L + R[1] + R[0] + R[2:] for L, R in splits if len(R)>1]\n",
    "    replaces   = [L + c + R[1:]           for L, R in splits if R for c in letters]\n",
    "    inserts    = [L + c + R               for L, R in splits for c in letters]\n",
    "    return set(deletes + transposes + replaces + inserts)\n",
    "\n",
    "def edits2(word): \n",
    "    \"All edits that are two edits away from `word`.\"\n",
    "    return (e2 for e1 in edits1(word) for e2 in edits1(e1))"
   ]
  },
  {
   "cell_type": "code",
   "execution_count": 16,
   "metadata": {},
   "outputs": [],
   "source": [
    "# Define function that returns a subset of words from our candidate set of words obtained from \n",
    "# the edit functions, based on whether they occur in our vocabulary dictionary word_counts.\n",
    "# This gives us a list of valid words from our set of candidate words.\n",
    "def known(words): \n",
    "    \"The subset of `words` that appear in the dictionary of WORD_COUNTS.\"\n",
    "    return set(w for w in words if w in word_counts)"
   ]
  },
  {
   "cell_type": "code",
   "execution_count": 31,
   "metadata": {},
   "outputs": [],
   "source": [
    "# Define function to correct words\n",
    "def Correct_Words(words):\n",
    "    # Get the best correct spellings for the input words\n",
    "    def candidates(word): \n",
    "        # Generate possible spelling corrections for word.\n",
    "        # Priority is for edit distance 0, then 1, then 2, else defaults to the input word itself.\n",
    "        candidates = known([word]) or known(edits1(word)) or known(edits2(word)) or [word]\n",
    "        return candidates\n",
    "    \n",
    "    corrected_words = [max(candidates(word), key=word_counts.get) for word in words]\n",
    "    return corrected_words"
   ]
  },
  {
   "cell_type": "markdown",
   "metadata": {},
   "source": [
    "#### 5: Lemmatization \n",
    "[Lemmatization vs Stemming](https://blog.bitext.com/what-is-the-difference-between-stemming-and-lemmatization/)\n",
    "\n",
    "It is process of removing affixes from the word to get that into its base form. The base form of the word is also called as the root word and will always be present in the dictionay. "
   ]
  },
  {
   "cell_type": "code",
   "execution_count": 26,
   "metadata": {
    "scrolled": true
   },
   "outputs": [],
   "source": [
    "#You may get OSError:[E050] Can't find model 'en_core_web_sm'\n",
    "#Open anaconda prompt and run \"python -m spacy download en_core_web_sm\"\n",
    "nlp = spacy.load(\"en_core_web_sm\")"
   ]
  },
  {
   "cell_type": "code",
   "execution_count": 33,
   "metadata": {},
   "outputs": [],
   "source": [
    "#Defining function for lemmatization\n",
    "def Lemmatize_Tokens(tokens):\n",
    "    doc = ' '.join(tokens)\n",
    "    Lemmatized_tokens = [token.lemma_ for token in nlp(doc)]\n",
    "    return Lemmatized_tokens"
   ]
  },
  {
   "cell_type": "markdown",
   "metadata": {},
   "source": [
    "#### 7: Text Normalization"
   ]
  },
  {
   "cell_type": "code",
   "execution_count": 28,
   "metadata": {},
   "outputs": [],
   "source": [
    "def Normalize_Text_Corpus(corpus):\n",
    "    normalized_corpus = []\n",
    "    for text in corpus:\n",
    "        text = text.lower()\n",
    "        text = Remove_Special_Characters(text)\n",
    "        tokens = Tokenize_Text(text)\n",
    "        tokens = Remove_Stopwords(tokens)\n",
    "        tokens = Remove_Repeated_Characters(tokens)\n",
    "        tokens = Correct_Words(tokens)\n",
    "        tokens = Lemmatize_Tokens(tokens)\n",
    "        text = ' '.join(tokens)\n",
    "        normalized_corpus.append(text)\n",
    "    return normalized_corpus"
   ]
  },
  {
   "cell_type": "code",
   "execution_count": null,
   "metadata": {},
   "outputs": [],
   "source": [
    "Normalized_Reviews = Normalize_Text_Corpus(Review_DF.Text_Review)"
   ]
  },
  {
   "cell_type": "code",
   "execution_count": null,
   "metadata": {},
   "outputs": [],
   "source": [
    "Review_DF['Normalized_Reviews'] = Normalized_Reviews"
   ]
  },
  {
   "cell_type": "markdown",
   "metadata": {},
   "source": [
    "-------------------------------------------------------------------------------------------------------------------------------\n",
    "## Feature Engineering \n",
    "It is process of creating features for machine learning models from Raw Text Data.[Link](https://towardsdatascience.com/text-analysis-feature-engineering-with-nlp-502d6ea9225d#:~:text=NLP%20is%20often%20applied%20for,model%20from%20raw%20text%20data.)\n",
    "* Bag of Words"
   ]
  },
  {
   "cell_type": "markdown",
   "metadata": {},
   "source": [
    "#### 1: Bag of Words Model\n",
    "Bag of words is a very simple and basic method to finding topics in a text. For bag of words you need to tokenize the sentences and the count the occurence of each word. <br> The more frequent a word or token is, the more central or important it might be to the text. Bag of words can be a great way to determine the significant words in a text, based on the number of times they are used. <br> Documents are describe by the word occurence and while completely ignoring the relative position information of the words in the document.\n",
    "\n",
    "**Vectorization** It is a general process of converting text documents into numerical feature vectors. \n",
    "\n",
    "**Corpus:** Set of large and structured set of text that are used to do statistical analysis and hypothesis testing, checking occurrences or validating linguistic rules within a specific language territory."
   ]
  },
  {
   "cell_type": "code",
   "execution_count": null,
   "metadata": {},
   "outputs": [],
   "source": [
    "#Defining the fuction to generate bag of words, which take text corpus as input.\n",
    "#Count Vectorizer, implements both tokenization and occurence counting in a single class\n",
    "def Bag_of_words(corpus):\n",
    "    vectorizer = CountVectorizer()\n",
    "    features = vectorizer.fit_transfor(corpus)\n",
    "    return vertorizer, features"
   ]
  },
  {
   "attachments": {
    "image.png": {
     "image/png": "[encoded data removed]"
    }
   },
   "cell_type": "markdown",
   "metadata": {},
   "source": [
    "#### 2: TF-IDF Model\n",
    "In TF-IDF model, TF stands for Token(Term) Frequency and IDF stands for Inverse document frequency.\n",
    "![image.png](attachment:image.png)"
   ]
  },
  {
   "cell_type": "code",
   "execution_count": null,
   "metadata": {},
   "outputs": [],
   "source": [
    "#Defining the function to compute tfidf based feature vectors for documents.\n",
    "def tfidf(corpus):\n",
    "    vectorizer = TfidfVectorizer()\n",
    "    features = vectorizer.fit_transform(corpus)\n",
    "    return vectorizer, features"
   ]
  },
  {
   "cell_type": "code",
   "execution_count": null,
   "metadata": {},
   "outputs": [],
   "source": []
  }
 ],
 "metadata": {
  "kernelspec": {
   "display_name": "Python 3",
   "language": "python",
   "name": "python3"
  },
  "language_info": {
   "codemirror_mode": {
    "name": "ipython",
    "version": 3
   },
   "file_extension": ".py",
   "mimetype": "text/x-python",
   "name": "python",
   "nbconvert_exporter": "python",
   "pygments_lexer": "ipython3",
   "version": "3.8.5"
  }
 },
 "nbformat": 4,
 "nbformat_minor": 4
}
