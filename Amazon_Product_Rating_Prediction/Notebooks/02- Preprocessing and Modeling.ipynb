{
 "cells": [
  {
   "cell_type": "markdown",
   "metadata": {},
   "source": [
    "### Imports"
   ]
  },
  {
   "cell_type": "code",
   "execution_count": 1,
   "metadata": {},
   "outputs": [],
   "source": [
    "import pandas as pd\n",
    "import numpy as np\n",
    "import matplotlib.pyplot as plt\n",
    "\n",
    "import nltk\n",
    "from nltk import word_tokenize\n",
    "from nltk.corpus import stopwords, wordnet\n",
    "\n",
    "import re\n",
    "import spacy\n",
    "\n",
    "from collections import Counter\n",
    "from sklearn.feature_extraction.text import CountVectorizer, TfidfVectorizer\n",
    "from sklearn.model_selection import train_test_split"
   ]
  },
  {
   "cell_type": "code",
   "execution_count": 2,
   "metadata": {},
   "outputs": [],
   "source": [
    "#Install pyspellchecker module, if does not exists, \n",
    "#this module is a Pure Python Spell Checking based on Peter Norvig’s blog post on setting up a simple spell checking algorithm.\n",
    "\n",
    "#!pip install pyspellchecker"
   ]
  },
  {
   "cell_type": "code",
   "execution_count": 3,
   "metadata": {
    "scrolled": true
   },
   "outputs": [],
   "source": [
    "#install Spacy library for advanced natural language processing, this will be used to perform lemmatization\n",
    "#!pip install spacy"
   ]
  },
  {
   "cell_type": "markdown",
   "metadata": {},
   "source": [
    "### Data Load"
   ]
  },
  {
   "cell_type": "code",
   "execution_count": 4,
   "metadata": {},
   "outputs": [],
   "source": [
    "path = r'..\\Data\\01_Clean_Review_Data.json'\n",
    "Review_DF = pd.read_json(path)"
   ]
  },
  {
   "cell_type": "code",
   "execution_count": 5,
   "metadata": {},
   "outputs": [],
   "source": [
    "Review_DF['Review_Date'] = pd.to_datetime(Review_DF['Review_Date'])"
   ]
  },
  {
   "cell_type": "code",
   "execution_count": 6,
   "metadata": {},
   "outputs": [
    {
     "data": {
      "text/html": [
       "<div>\n",
       "<style scoped>\n",
       "    .dataframe tbody tr th:only-of-type {\n",
       "        vertical-align: middle;\n",
       "    }\n",
       "\n",
       "    .dataframe tbody tr th {\n",
       "        vertical-align: top;\n",
       "    }\n",
       "\n",
       "    .dataframe thead th {\n",
       "        text-align: right;\n",
       "    }\n",
       "</style>\n",
       "<table border=\"1\" class=\"dataframe\">\n",
       "  <thead>\n",
       "    <tr style=\"text-align: right;\">\n",
       "      <th></th>\n",
       "      <th>User_ID</th>\n",
       "      <th>Product_ID</th>\n",
       "      <th>User_Name</th>\n",
       "      <th>Rating_Helpfulness</th>\n",
       "      <th>Text_Review</th>\n",
       "      <th>Ratings</th>\n",
       "      <th>Review_Summary</th>\n",
       "      <th>Review_Timestamp_Unix</th>\n",
       "      <th>Review_Date</th>\n",
       "    </tr>\n",
       "  </thead>\n",
       "  <tbody>\n",
       "    <tr>\n",
       "      <th>131660</th>\n",
       "      <td>A3RV1L35IPTV61</td>\n",
       "      <td>B009SK5B3O</td>\n",
       "      <td>abushaheed</td>\n",
       "      <td>[1, 1]</td>\n",
       "      <td>It feels solid and so far it's getting the job...</td>\n",
       "      <td>4</td>\n",
       "      <td>It's what it is</td>\n",
       "      <td>1379808000</td>\n",
       "      <td>2013-09-22</td>\n",
       "    </tr>\n",
       "    <tr>\n",
       "      <th>10959</th>\n",
       "      <td>A24Y4T8OCYTDYQ</td>\n",
       "      <td>B002GICEXK</td>\n",
       "      <td>Siphandone</td>\n",
       "      <td>[0, 0]</td>\n",
       "      <td>It's a bad and used battery even though it was...</td>\n",
       "      <td>1</td>\n",
       "      <td>Bad and used battery</td>\n",
       "      <td>1312761600</td>\n",
       "      <td>2011-08-08</td>\n",
       "    </tr>\n",
       "    <tr>\n",
       "      <th>25016</th>\n",
       "      <td>A2EOGNVR0WUNMD</td>\n",
       "      <td>B00404UR3C</td>\n",
       "      <td>K. Ray</td>\n",
       "      <td>[0, 0]</td>\n",
       "      <td>With these Screen Protectors, three issues are...</td>\n",
       "      <td>5</td>\n",
       "      <td>Nice screen protector</td>\n",
       "      <td>1346457600</td>\n",
       "      <td>2012-09-01</td>\n",
       "    </tr>\n",
       "    <tr>\n",
       "      <th>184052</th>\n",
       "      <td>A25FWNLV27N3W3</td>\n",
       "      <td>B00GCQMZVS</td>\n",
       "      <td>CCot</td>\n",
       "      <td>[0, 0]</td>\n",
       "      <td>It doesn't live up to the Lifeproof name. Its ...</td>\n",
       "      <td>3</td>\n",
       "      <td>Doesn't live up to Lifeproof name.</td>\n",
       "      <td>1388620800</td>\n",
       "      <td>2014-01-02</td>\n",
       "    </tr>\n",
       "    <tr>\n",
       "      <th>16828</th>\n",
       "      <td>A27ODY4C2RMOQ7</td>\n",
       "      <td>B003MS83KG</td>\n",
       "      <td>JB</td>\n",
       "      <td>[0, 0]</td>\n",
       "      <td>This screen replacement did not fit correctly,...</td>\n",
       "      <td>1</td>\n",
       "      <td>Doesn't fit, and is defective</td>\n",
       "      <td>1372118400</td>\n",
       "      <td>2013-06-25</td>\n",
       "    </tr>\n",
       "  </tbody>\n",
       "</table>\n",
       "</div>"
      ],
      "text/plain": [
       "               User_ID  Product_ID   User_Name Rating_Helpfulness  \\\n",
       "131660  A3RV1L35IPTV61  B009SK5B3O  abushaheed             [1, 1]   \n",
       "10959   A24Y4T8OCYTDYQ  B002GICEXK  Siphandone             [0, 0]   \n",
       "25016   A2EOGNVR0WUNMD  B00404UR3C      K. Ray             [0, 0]   \n",
       "184052  A25FWNLV27N3W3  B00GCQMZVS        CCot             [0, 0]   \n",
       "16828   A27ODY4C2RMOQ7  B003MS83KG          JB             [0, 0]   \n",
       "\n",
       "                                              Text_Review  Ratings  \\\n",
       "131660  It feels solid and so far it's getting the job...        4   \n",
       "10959   It's a bad and used battery even though it was...        1   \n",
       "25016   With these Screen Protectors, three issues are...        5   \n",
       "184052  It doesn't live up to the Lifeproof name. Its ...        3   \n",
       "16828   This screen replacement did not fit correctly,...        1   \n",
       "\n",
       "                            Review_Summary  Review_Timestamp_Unix Review_Date  \n",
       "131660                     It's what it is             1379808000  2013-09-22  \n",
       "10959                 Bad and used battery             1312761600  2011-08-08  \n",
       "25016                Nice screen protector             1346457600  2012-09-01  \n",
       "184052  Doesn't live up to Lifeproof name.             1388620800  2014-01-02  \n",
       "16828        Doesn't fit, and is defective             1372118400  2013-06-25  "
      ]
     },
     "execution_count": 6,
     "metadata": {},
     "output_type": "execute_result"
    }
   ],
   "source": [
    "Review_DF.head()"
   ]
  },
  {
   "cell_type": "markdown",
   "metadata": {},
   "source": [
    "## Preprocessing - Text Normalization\n",
    "\n",
    "Text Normalization(Text wrangling or cleansing) is a process of transforming text into a form that can be used by NLP and analytics systems and applications as input. It can consist of various steps like:-\n",
    "* Tokenization \n",
    "* Cleaning text \n",
    "* Removing Special Characters\n",
    "* Correcting spelling \n",
    "* Removing stopwords, punctuations or unwanted tokens\n",
    "* Case conversion \n",
    "* Stemming\n",
    "* Lemmatization."
   ]
  },
  {
   "cell_type": "markdown",
   "metadata": {},
   "source": [
    "#### 1: Tokenization\n",
    "\n",
    "Tokenization is the process of transforming a string or document into smaller chunks, which we call tokens. This is usually one step in the process of preparing a text for natural language processing. \n",
    "\n",
    "**Sentence Tokenization** is a process of converting text corpus into sentences which is the first level of tokens. This is also called Sentence Segmentation because we try to segment the text into meaningful sentences.\n",
    "\n",
    "**Word Tokenization** is a process of splitting sentences into words."
   ]
  },
  {
   "cell_type": "code",
   "execution_count": 7,
   "metadata": {},
   "outputs": [],
   "source": [
    "# Defined Tokenization fuction\n",
    "# The following function will take any sentence and convert it into word tokens\n",
    "# Then strip leading and trailing spaces\n",
    "\n",
    "def Tokenize_Text(text):\n",
    "    word_tokens = word_tokenize(text)\n",
    "    tokens = [token.strip() for token in word_tokens]\n",
    "    return tokens"
   ]
  },
  {
   "cell_type": "markdown",
   "metadata": {},
   "source": [
    "#### 2: Removing Special Characters\n",
    "One important task in text normalization involves removing unnecessary and special characters. These may be special symbols or punctuations that occurs in sentences. <br>\n",
    "Special Characters and symbols are usually non-alphanumeric characters or even occaionally numeric characters(depending on the problem) which adds extra noise to unstructured text data and does not add much significance while analyzing text and untilzing it for feature extraction. [Link](https://towardsdatascience.com/a-practitioners-guide-to-natural-language-processing-part-i-processing-understanding-text-9f4abfd13e72)"
   ]
  },
  {
   "cell_type": "code",
   "execution_count": 8,
   "metadata": {},
   "outputs": [],
   "source": [
    "import re\n",
    "\n",
    "# Defined function will strip leading and trailing spaces \n",
    "# Looks for special characters, replace with space\n",
    "# returning only apha characters\n",
    "\n",
    "def Remove_Special_Characters(text):\n",
    "    text = text.strip()\n",
    "    pattern = '[^a-zA-z]'\n",
    "    filtered_text = re.sub(pattern, ' ', text) #Replace matches with spaces\n",
    "    return filtered_text"
   ]
  },
  {
   "cell_type": "markdown",
   "metadata": {},
   "source": [
    "#### 3: Removing Stop Words\n",
    "Stopwords are the words that has little or no significance especially when consturcting meaningful features from text. They are removed from the text so that we are left with words having maximum significance. <br>\n",
    "They are usually words that have maximum frequency if you aggregate any corpus of text based on singular tokens. <br>\n",
    "Ex:- a, the, of and so on."
   ]
  },
  {
   "cell_type": "code",
   "execution_count": 9,
   "metadata": {},
   "outputs": [],
   "source": [
    "#If nltk stopwords does not exist, uncomment and run\n",
    "#nltk.download('stopwords') "
   ]
  },
  {
   "cell_type": "code",
   "execution_count": 10,
   "metadata": {},
   "outputs": [],
   "source": [
    "from nltk.corpus import stopwords\n",
    "\n",
    "#In Python, searching through set is much faster than list.\n",
    "stopword_set = set(stopwords.words(\"english\"))\n",
    "\n",
    "# Defined function will romove remove stopwords\n",
    "# Here, words not in stopword corpus will be kept\n",
    "\n",
    "def Remove_Stopwords(tokens):\n",
    "    filtered_tokens = [token for token in tokens if token not in stopword_set]\n",
    "    return filtered_tokens"
   ]
  },
  {
   "cell_type": "markdown",
   "metadata": {},
   "source": [
    "#### 4: Correcting Words\n",
    "Incorrect spellings are very normal and also one of the main challeges faced in Text Normalization. The definition of incorrect here covers words that have spelling mistakes as well as words with several letters repeated that do not contribute much to its overall significance.\n",
    "##### 4.1 Correcting Repeating Characters"
   ]
  },
  {
   "cell_type": "code",
   "execution_count": 11,
   "metadata": {},
   "outputs": [],
   "source": [
    "#If got LookupError(nltk stopwords does not exist), uncomment and run\n",
    "#nltk.download('wordnet') "
   ]
  },
  {
   "cell_type": "code",
   "execution_count": 12,
   "metadata": {},
   "outputs": [],
   "source": [
    "from nltk.corpus import wordnet\n",
    "\n",
    "# Defined function to remove repeated characters\n",
    "\n",
    "def Remove_Repeated_Characters(tokens):\n",
    "    repeat_pattern = re.compile(r'(\\w*)(\\w)\\2(\\w*)') #Regex object to look for repeated charaters\n",
    "    match_substitution = r'\\1\\2\\3'\n",
    "    def replace(old_word):\n",
    "        if(wordnet.synsets(old_word)):\n",
    "            return old_word\n",
    "        new_word = repeat_pattern.sub(match_substitution, old_word) # substitutes a wrong spelling like \"Hellooooo\" to \"Hello\"\n",
    "        return replace(new_word) if new_word != old_word else new_word # Replaces repeating characters, till there are none left\n",
    "\n",
    "    correct_tokens = [replace(word) for word in tokens]\n",
    "    return correct_tokens"
   ]
  },
  {
   "cell_type": "markdown",
   "metadata": {},
   "source": [
    "##### 4.2 Correcting Spellings \n",
    "[How to Write Spelling Corrector](https://norvig.com/spell-correct.html)"
   ]
  },
  {
   "cell_type": "code",
   "execution_count": 13,
   "metadata": {},
   "outputs": [],
   "source": [
    "from collections import Counter\n",
    "\n",
    "#Generate a word vocabulary, which will be used as a reference to check the spelling using a file containing severl books from \n",
    "#Gutenberg corpus and also list of most frequent words from wiktionary and British National Corpus. You can download it from\n",
    "# http://norvig.com/big.txt\n",
    "\n",
    "def tokens(text):\n",
    "    return re.findall('[a-z]+', text.lower())\n",
    "\n",
    "path = '../Raw_Data/big.txt'\n",
    "\n",
    "with open(path) as file:\n",
    "    document = file.read()\n",
    "\n",
    "words = tokens(document)\n",
    "word_counts = Counter(words)"
   ]
  },
  {
   "cell_type": "code",
   "execution_count": 14,
   "metadata": {},
   "outputs": [],
   "source": [
    "# Define functions that compute sets of words that are one and two edits away from input word.\n",
    "def edits1(word):\n",
    "    \"All edits that are one edit away from `word`.\"\n",
    "    letters    = 'abcdefghijklmnopqrstuvwxyz'\n",
    "    splits     = [(word[:i], word[i:])    for i in range(len(word) + 1)]\n",
    "    deletes    = [L + R[1:]               for L, R in splits if R]\n",
    "    transposes = [L + R[1] + R[0] + R[2:] for L, R in splits if len(R)>1]\n",
    "    replaces   = [L + c + R[1:]           for L, R in splits if R for c in letters]\n",
    "    inserts    = [L + c + R               for L, R in splits for c in letters]\n",
    "    return set(deletes + transposes + replaces + inserts)\n",
    "\n",
    "def edits2(word): \n",
    "    \"All edits that are two edits away from `word`.\"\n",
    "    return (e2 for e1 in edits1(word) for e2 in edits1(e1))"
   ]
  },
  {
   "cell_type": "code",
   "execution_count": 15,
   "metadata": {},
   "outputs": [],
   "source": [
    "# Defining function that returns a subset of words from our candidate set of words obtained from \n",
    "# the edit functions, based on whether they occur in our vocabulary dictionary word_counts.\n",
    "# This gives us a list of valid words from our set of candidate words.\n",
    "\n",
    "def known(words): \n",
    "    \"The subset of `words` that appear in the dictionary of word_counts.\"\n",
    "    return set(w for w in words if w in word_counts)"
   ]
  },
  {
   "cell_type": "code",
   "execution_count": 16,
   "metadata": {},
   "outputs": [],
   "source": [
    "# Define function to correct words\n",
    "def Correct_Words(words):\n",
    "    # Get the best correct spellings for the input words\n",
    "    def candidates(word): \n",
    "        # Generate possible spelling corrections for word.\n",
    "        # Priority is for edit distance 0, then 1, then 2, else defaults to the input word itself.\n",
    "        candidates = known([word]) or known(edits1(word)) or known(edits2(word)) or [word]\n",
    "        return candidates\n",
    "    \n",
    "    corrected_words = [max(candidates(word), key=word_counts.get) for word in words]\n",
    "    return corrected_words"
   ]
  },
  {
   "cell_type": "markdown",
   "metadata": {},
   "source": [
    "#### 5: Lemmatization \n",
    "[Lemmatization vs Stemming](https://blog.bitext.com/what-is-the-difference-between-stemming-and-lemmatization/)\n",
    "\n",
    "It is process of removing affixes from the word to get that into its base form. The base form of the word is also called as the root word and will always be present in the dictionay. "
   ]
  },
  {
   "cell_type": "code",
   "execution_count": 17,
   "metadata": {
    "scrolled": true
   },
   "outputs": [],
   "source": [
    "# You may get OSError:[E050] Can't find model 'en_core_web_sm'\n",
    "# Open anaconda prompt and run \"python -m spacy download en_core_web_sm\"\n",
    "nlp = spacy.load(\"en_core_web_sm\")"
   ]
  },
  {
   "cell_type": "code",
   "execution_count": 18,
   "metadata": {},
   "outputs": [],
   "source": [
    "# Defined function for lemmatization\n",
    "\n",
    "def Lemmatize_Tokens(tokens):\n",
    "    doc = ' '.join(tokens) # Creates a string doc seperated with spaces \n",
    "    Lemmatized_tokens = [token.lemma_ for token in nlp(doc)] # looks for lemma for each word\n",
    "    return Lemmatized_tokens"
   ]
  },
  {
   "cell_type": "markdown",
   "metadata": {},
   "source": [
    "#### 7: Text Normalization"
   ]
  },
  {
   "cell_type": "code",
   "execution_count": 19,
   "metadata": {},
   "outputs": [],
   "source": [
    "def Normalize_Text_Corpus(corpus):\n",
    "    normalized_corpus = []\n",
    "    for text in corpus:\n",
    "        text = text.lower()\n",
    "        text = Remove_Special_Characters(text)\n",
    "        tokens = Tokenize_Text(text)\n",
    "        tokens = Remove_Stopwords(tokens)\n",
    "        tokens = Remove_Repeated_Characters(tokens)\n",
    "        tokens = Correct_Words(tokens)\n",
    "        tokens = Lemmatize_Tokens(tokens)\n",
    "        text = ' '.join(tokens)\n",
    "        normalized_corpus.append(text)\n",
    "    return normalized_corpus"
   ]
  },
  {
   "cell_type": "code",
   "execution_count": 20,
   "metadata": {
    "scrolled": true
   },
   "outputs": [],
   "source": [
    "Normalized_Reviews = Normalize_Text_Corpus(Review_DF.Text_Review)"
   ]
  },
  {
   "cell_type": "code",
   "execution_count": 21,
   "metadata": {},
   "outputs": [],
   "source": [
    "Review_DF = Review_DF.assign(Normalized_Reviews = Normalized_Reviews)"
   ]
  },
  {
   "cell_type": "code",
   "execution_count": 22,
   "metadata": {},
   "outputs": [],
   "source": [
    "# Saving Normalized Reviews Data Set\n",
    "path = '../Data/Normalized_Dataset.csv'\n",
    "Review_DF.to_csv(path)"
   ]
  },
  {
   "cell_type": "markdown",
   "metadata": {},
   "source": [
    "-------------------------------------------------------------------------------------------------------------------------------\n",
    "## Feature Engineering \n",
    "It is process of creating features for machine learning models from Raw Text Data.[Link](https://towardsdatascience.com/text-analysis-feature-engineering-with-nlp-502d6ea9225d#:~:text=NLP%20is%20often%20applied%20for,model%20from%20raw%20text%20data.)\n",
    "* Bag of Words\n",
    "* TF-IDF \n",
    "* Average Word Vectors\n",
    "* TF-IDF Weighted Average Word Vectors"
   ]
  },
  {
   "cell_type": "markdown",
   "metadata": {},
   "source": [
    "#### 1: Bag of Words Model\n",
    "Bag of words is a very simple and basic method to finding topics in a text. For bag of words you need to tokenize the sentences and the count the occurence of each word. <br> The more frequent a word or token is, the more central or important it might be to the text. Bag of words can be a great way to determine the significant words in a text, based on the number of times they are used. <br> Documents are describe by the word occurence and while completely ignoring the relative position information of the words in the document.\n",
    "\n",
    "**Vectorization** It is a general process of converting text documents into numerical feature vectors. \n",
    "\n",
    "**Corpus:** Set of large and structured set of text that are used to do statistical analysis and hypothesis testing, checking occurrences or validating linguistic rules within a specific language territory."
   ]
  },
  {
   "cell_type": "code",
   "execution_count": 23,
   "metadata": {},
   "outputs": [],
   "source": [
    "#Defining the fuction to generate bag of words, which take text corpus as input.\n",
    "#Count Vectorizer, implements both tokenization and occurence counting in a single class\n",
    "\n",
    "def Bag_of_Words(corpus):\n",
    "    vectorizer = CountVectorizer()\n",
    "    features = vectorizer.fit_transform(corpus)\n",
    "    return vectorizer, features"
   ]
  },
  {
   "attachments": {
    "image.png": {
     "image/png": "[encoded data removed]"
    }
   },
   "cell_type": "markdown",
   "metadata": {},
   "source": [
    "#### 2: TF-IDF Model\n",
    "In TF-IDF model, TF stands for Token(Term) Frequency and IDF stands for Inverse document frequency.\n",
    "![image.png](attachment:image.png)"
   ]
  },
  {
   "cell_type": "code",
   "execution_count": 24,
   "metadata": {},
   "outputs": [],
   "source": [
    "#Defining the function to compute tfidf based feature vectors for documents.\n",
    "\n",
    "def tfidf(corpus):\n",
    "    vectorizer = TfidfVectorizer()\n",
    "    features = vectorizer.fit_transform(corpus)\n",
    "    return vectorizer, features"
   ]
  },
  {
   "cell_type": "markdown",
   "metadata": {},
   "source": [
    "#### 3: Average Word Vector"
   ]
  },
  {
   "cell_type": "code",
   "execution_count": 25,
   "metadata": {},
   "outputs": [],
   "source": [
    "# Define function to average word vectors for a text document\n",
    "\n",
    "def Average_Word_Vectors(sentence, model, vocabulary, num_features):\n",
    "    \n",
    "    feature_vector = np.zeros((num_features),dtype=\"float64\")\n",
    "    nwords = 0.\n",
    "    \n",
    "    for word in sentence:\n",
    "        if word in vocabulary: \n",
    "            nwords = nwords + 1.\n",
    "            feature_vector = np.add(feature_vector, model.wv[word])\n",
    "\n",
    "    \n",
    "    if nwords:\n",
    "        feature_vector = np.divide(feature_vector, nwords)\n",
    "    return feature_vector"
   ]
  },
  {
   "cell_type": "code",
   "execution_count": 26,
   "metadata": {},
   "outputs": [],
   "source": [
    "# Generalize above function for a corpus of documents  \n",
    "\n",
    "def Average_Word_Vectorizer(corpus, model, num_features):\n",
    "    vocabulary = set(model.wv.index2word)\n",
    "    #print(vocabulary)\n",
    "    features = [Average_Word_Vectors(sentence, model, vocabulary, num_features) for sentence in corpus]\n",
    "    return np.array(features)"
   ]
  },
  {
   "cell_type": "markdown",
   "metadata": {},
   "source": [
    "#### 4: TF-IDF Weighted Average word Vectors"
   ]
  },
  {
   "cell_type": "code",
   "execution_count": 27,
   "metadata": {},
   "outputs": [],
   "source": [
    "# Define function to compute tfidf weighted averaged word vector for a document\n",
    "\n",
    "def tfidf_wtd_avg_word_vectors(words, tfidf_vector, tfidf_vocabulary, model, num_features):\n",
    "    \n",
    "    word_tfidfs = [tfidf_vector[0, tfidf_vocabulary.get(word)] \n",
    "                   if tfidf_vocabulary.get(word) \n",
    "                   else 0 for word in words]    \n",
    "    word_tfidf_map = {word:tfidf_val for word, tfidf_val in zip(words, word_tfidfs)}\n",
    "    \n",
    "    feature_vector = np.zeros((num_features,),dtype=\"float64\")\n",
    "    vocabulary = set(model.wv.index2word)\n",
    "    wts = 0.\n",
    "    for word in words:\n",
    "        if word in vocabulary: \n",
    "            word_vector = model.wv[word]\n",
    "            weighted_word_vector = word_tfidf_map[word] * word_vector\n",
    "            wts = wts + word_tfidf_map[word]\n",
    "            feature_vector = np.add(feature_vector, weighted_word_vector)\n",
    "    if wts:\n",
    "        feature_vector = np.divide(feature_vector, wts)\n",
    "        \n",
    "    return feature_vector"
   ]
  },
  {
   "cell_type": "code",
   "execution_count": 28,
   "metadata": {},
   "outputs": [],
   "source": [
    "# Generalize above function for a corpus of documents\n",
    "\n",
    "def tfidf_weighted_averaged_word_vectorizer(corpus, tfidf_vectors, \n",
    "                                   tfidf_vocabulary, model, num_features):\n",
    "                                       \n",
    "    docs_tfidfs = [(doc, doc_tfidf) \n",
    "                   for doc, doc_tfidf \n",
    "                   in zip(corpus, tfidf_vectors)]\n",
    "    features = [tfidf_wtd_avg_word_vectors(tokenized_sentence, tfidf, tfidf_vocabulary,\n",
    "                                   model, num_features)\n",
    "                    for tokenized_sentence, tfidf in docs_tfidfs]\n",
    "    return np.array(features)"
   ]
  },
  {
   "cell_type": "markdown",
   "metadata": {},
   "source": [
    "-------------------------------------------------------------------------------------------------------------------------------\n",
    "## Train Test Split"
   ]
  },
  {
   "cell_type": "code",
   "execution_count": 29,
   "metadata": {},
   "outputs": [
    {
     "name": "stdout",
     "output_type": "stream",
     "text": [
      "Shape of train_X:  (12000,)\n",
      "Shape of train_y:  (12000,)\n",
      "Shape of test_X:  (3000,)\n",
      "Shape of test_y:  (3000,)\n"
     ]
    }
   ],
   "source": [
    "# Splitting the dataset into training and testing set. \n",
    "# As we have imbalanced data, with mostly products rated 5, we will use stratified split.\n",
    "\n",
    "X = Review_DF['Normalized_Reviews']\n",
    "y = Review_DF['Ratings']\n",
    "\n",
    "train_X, test_X, train_y, test_y = train_test_split(X, y, test_size = 0.2, random_state = 7, stratify = y)\n",
    "\n",
    "print(\"Shape of train_X: \", train_X.shape)\n",
    "print(\"Shape of train_y: \", train_y.shape)\n",
    "print(\"Shape of test_X: \", test_X.shape)\n",
    "print(\"Shape of test_y: \", test_y.shape)"
   ]
  },
  {
   "cell_type": "markdown",
   "metadata": {},
   "source": [
    "-------------------------------------------------------------------------------------------------------------------------------\n",
    "## Feature Extraction for train and test splits\n"
   ]
  },
  {
   "cell_type": "code",
   "execution_count": 30,
   "metadata": {},
   "outputs": [],
   "source": [
    "# Define function to display feature names\n",
    "\n",
    "def display_features(features, feature_names):\n",
    "    df = pd.DataFrame(data=features,\n",
    "                      columns=feature_names)\n",
    "    print (df)"
   ]
  },
  {
   "cell_type": "markdown",
   "metadata": {},
   "source": [
    "#### 1: Bag of words"
   ]
  },
  {
   "cell_type": "code",
   "execution_count": 31,
   "metadata": {},
   "outputs": [],
   "source": [
    "# bag of words features\n",
    "\n",
    "feature_set = []\n",
    "bow_Vectorizer, bow_train_features = Bag_of_Words(train_X) #Generating Feature vector and bow_vectorizer\n",
    "bow_test_features = bow_Vectorizer.transform(test_X)  \n",
    "feature_set.append(('Bag of words features', bow_train_features, bow_test_features))"
   ]
  },
  {
   "cell_type": "code",
   "execution_count": 32,
   "metadata": {
    "scrolled": true
   },
   "outputs": [
    {
     "name": "stdout",
     "output_type": "stream",
     "text": [
      "['ab', 'abacus', 'abandon', 'abbreviate', 'abbreviation', 'abc', 'abe', 'abelkin', 'ability', 'able', 'abolish', 'about', 'abrasion', 'abreast', 'abroad', 'absence', 'absent', 'absolute', 'absolutely', 'absolutism', 'absorb', 'absorbent', 'absorbing', 'absorption', 'abstract', 'absurd', 'abundance', 'abuse', 'abusive', 'abut', 'abysmal', 'ac', 'acadia', 'accelerate', 'accelerometer', 'accent', 'accentuate', 'accept', 'acceptability', 'acceptable', 'access', 'accessed', 'accessible', 'accessory', 'accident', 'accidental', 'accidentally', 'accidently', 'accommodate', 'accommodation', 'accompany', 'accomplish', 'accomplished', 'accord', 'accordance', 'according', 'accordingly', 'account', 'accumulate', 'accumulation', 'accuracy', 'accurate', 'accurately', 'accuse', 'accustom', 'accustomed', 'ace', 'acescase', 'aceserie', 'acesiblecamera', 'acesorie', 'acesoriesthis', 'acesorize', 'acesoryenjoy', 'ache', 'achieve', 'achieveable', 'acid', 'acknowledge', 'acomodate', 'acomodatingcon', 'acoustically', 'acquaint', 'acquaintance', 'acquire', 'acre', 'acronym', 'across', 'acrylic', 'act', 'acting', 'action', 'actionscon', 'activate', 'active', 'activedisplay', 'actively', 'activitie', 'activity', 'actor', 'actual', 'actually', 'actuate', 'acute', 'acutely', 'acuteness', 'ad', 'adapt', 'adaptable', 'adaptar', 'adapted', 'adapteris', 'adapterthe', 'add', 'addendum', 'addict', 'addicted', 'adding', 'addition', 'additional', 'address', 'adduct', 'adelaide', 'adept', 'adequate', 'adequately', 'adhere', 'adhesion', 'adhesive', 'adhesiveness', 'adjacent', 'adjudicate', 'adjust', 'adjustability', 'adjustable', 'adjustablequality', 'adjusted', 'adjusting', 'adjustment', 'administrator', 'admirable', 'admirably', 'admiral', 'admire', 'admission', 'admit', 'admittedly', 'admonish', 'adolescent', 'adopt', 'adoption', 'adorable', 'adore', 'adornment', 'adrenalin', 'adroit', 'adult', 'adustable', 'advance', 'advanced', 'advantage', 'advent', 'adventure', 'adventurous', 'adverse', 'advertise', 'advertised', 'advertisedvery', 'advertisement', 'advertising', 'advice', 'advisable', 'advise', 'adviser', 'advocate', 'aerial', 'aerodynamic', 'aerphone', 'aesthetic', 'aesthetically', 'aestheticsoveral', 'afar', 'affair', 'affect', 'affected', 'affection', 'affectionately', 'affiliation', 'afflict', 'afford', 'aficionado', 'afore', 'aforementione', 'aforementioned', 'aforordable', 'afraid', 'africa', 'african', 'aft', 'after', 'aftermarket', 'afternoon', 'afterthought', 'afterward', 'afterwards', 'again', 'against', 'againthe', 'againupdate', 'age', 'aged', 'agent', 'aggravate', 'aggravation', 'aggressive', 'ago', 'agonize', 'agonizing', 'agony', 'agorilapodfor', 'agra', 'agree', 'agreement', 'agrifin', 'ah', 'ahahah', 'ahead', 'aid', 'aim', 'air', 'airbender', 'airbuble', 'aircondition', 'aircurve', 'airline', 'airplane', 'airport', 'airstash', 'ajawbone', 'ak', 'akin', 'al', 'ala', 'alarm', 'alarming', 'alas', 'alaska', 'alba', 'albeit', 'album', 'alcatel', 'alcohol', 'aleratec', 'alert', 'ali', 'alien', 'alight', 'align', 'alike', 'aline', 'alive', 'alkaline', 'all', 'allen', 'allergic', 'alleviate', 'alley', 'alliance', 'alligator', 'allot', 'allotment', 'allow', 'allowance', 'allows', 'allude', 'ally', 'almost', 'alone', 'along', 'alongside', 'aloud', 'alpatronix', 'alphabet', 'already', 'alreadyprosit', 'alright', 'also', 'altar', 'alter', 'alteration', 'alternate', 'alternative', 'alternatively', 'alternativetech', 'although', 'altogether', 'aluframe', 'aluminium', 'alveolus', 'always', 'am', 'amateur', 'amaze', 'amazed', 'amazement', 'amazing', 'amazingly', 'amazingphone', 'amazon', 'amazonbasic', 'amber', 'ambiguous', 'amble', 'ambulance', 'amen', 'amenable', 'amend', 'amenity', 'america', 'american', 'amiability', 'amidst', 'amiss', 'ammeter', 'among', 'amongst', 'amos', 'amount', 'amp', 'amphipod', 'ample', 'amplifi', 'amplification', 'amplifier', 'amplify', 'amply', 'ampmah', 'ampsport', 'amputation', 'amuse', 'amused', 'amusement', 'amusing', 'amzdeal', 'an', 'ana', 'anal', 'analogy', 'analysis', 'analyze', 'anamazonbasic', 'ancestry', 'anchor', 'ancient', 'and', 'andboth', 'andincase', 'andjabra', 'andlightweight', 'andmake', 'andnetflix', 'andoterbox', 'andover', 'andplantronic', 'andringke', 'andro', 'androidandroid', 'androidforum', 'androidifie', 'androidis', 'andy', 'anecdote', 'anel', 'angel', 'angele', 'anger', 'angle', 'anglican', 'angling', 'angry', 'anicarpus', 'animal', 'animalslousy', 'animate', 'animated', 'animation', 'ankerdirect', 'anna', 'anne', 'annex', 'announce', 'announcement', 'annoy', 'annoyance', 'annoyed', 'annoying', 'annual', 'ano', 'anoloclip', 'anonymous', 'anoterbox', 'another', 'anotherone', 'answer', 'answering', 'ant', 'ante', 'antenna', 'antennae', 'anti', 'anticipate', 'anticipating', 'anticipation', 'antidote', 'antiglare', 'antiquated', 'antique', 'antonline', 'anxiety', 'anxious', 'anxiously', 'any', 'anybody', 'anyhow', 'anymore', 'anyone', 'anyplace', 'anyproblem', 'anything', 'anyway', 'anywhere', 'anywherecon', 'aoterbox', 'apart', 'apartment', 'apathy', 'aperture', 'apex', 'apiece', 'aplecare', 'aplicationcon', 'apocalypse', 'apocalyptic', 'apologetic', 'apologize', 'apology', 'apostrophe', 'apowergen', 'appalled', 'appalling', 'apparatus', 'apparent', 'apparently', 'appeal', 'appealing', 'appear', 'appearance', 'appeared', 'apple', 'appliance', 'applicable', 'application', 'applied', 'apply', 'applying', 'appointment', 'appraisal', 'appreciable', 'appreciate', 'appreciated', 'apprehension', 'apprehensive', 'approach', 'appropriate', 'appropriately', 'approval', 'approve', 'approximately', 'apraksin', 'apreciablecal', 'april', 'apron', 'apsbatery', 'apspandora', 'apt', 'apunusable', 'aquarium', 'ar', 'arabia', 'arable', 'arbat', 'arc', 'arcade', 'arch', 'archie', 'architect', 'arctic', 'ardor', 'area', 'aren', 'arena', 'argentina', 'argue', 'arguing', 'argument', 'arise', 'arises', 'arizona', 'arm', 'armband', 'armed', 'armor', 'armorbox', 'armorsuit', 'armour', 'armoursuit', 'armoutsuit', 'armstrong', 'army', 'around', 'aroundcase', 'aroundyour', 'arrange', 'arrangement', 'array', 'arrest', 'arrival', 'arrive', 'arrived', 'arrives', 'arriving', 'arrow', 'arsenal', 'arson', 'art', 'artery', 'arthritic', 'arthritis', 'article', 'articulate', 'articulated', 'articulating', 'articulation', 'artifact', 'artificial', 'artist', 'artistic', 'as', 'asandisk', 'asesmenthe', 'ash', 'ashame', 'ashamed', 'ashore', 'asia', 'aside', 'ask', 'asleep', 'asmotorola', 'asp', 'aspect', 'aspen', 'aspirin', 'ass', 'assassin', 'assault', 'assemble', 'assembled', 'assembling', 'assembly', 'assert', 'assess', 'assessment', 'asset', 'assign', 'assignment', 'assist', 'assistance', 'assistant', 'associate', 'association', 'assortment', 'assume', 'assuming', 'assumption', 'assurance', 'assure', 'assured', 'assuring', 'astonishing', 'astounded', 'astounding', 'astray', 'astute', 'at', 'atachached', 'ate', 'athlete', 'athletic', 'atlanta', 'atlas', 'atmosphere', 'atom', 'atractivecon', 'atractivehasn', 'atrixpro', 'atrocious', 'attach', 'attache', 'attached', 'attaching', 'attachment', 'attack', 'attempt', 'attempting', 'attend', 'attendant', 'attention', 'attentive', 'attenuate', 'attic', 'attire', 'attitude', 'attorney', 'attract', 'attracted', 'attraction', 'attractive', 'attractively', 'attractiveness', 'attribute', 'atunecast', 'au', 'auction', 'audacity', 'audible', 'audience', 'audiobok', 'audiohm', 'audiophile', 'audiophyle', 'audit', 'auditory', 'aug', 'augment', 'august', 'aunt', 'auntie', 'auricle', 'auricular', 'aussi', 'australia', 'austro', 'authentic', 'authenticity', 'author', 'authorization', 'authorize', 'authorized', 'auto', 'autobright', 'autofocus', 'autograph', 'automatic', 'automatically', 'automobile', 'autonomous', 'aux', 'avail', 'availability', 'available', 'avec', 'avenue', 'average', 'avert', 'aviation', 'avoid', 'avoiding', 'avrcpoperate', 'await', 'awake', 'awaken', 'award', 'aware', 'awareness', 'away', 'awe', 'awesome', 'awesomely', 'awesomene', 'awesomepros', 'awful', 'awfully', 'awhile', 'awhiledoesn', 'awkward', 'awkwardly', 'awkwardness', 'axillary', 'ay', 'ba', 'babe', 'babel', 'baby', 'babybought', 'babylon', 'back', 'backbeat', 'backbiter', 'backcon', 'backcover', 'backflip', 'background', 'backing', 'backlight', 'backlit', 'backordered', 'backpack', 'backpacker', 'backpacking', 'backplate', 'backseat', 'backside', 'backtrack', 'backward', 'backwards', 'bacon', 'bacteria', 'bad', 'badge', 'badly', 'baffling', 'baflingly', 'bag', 'baggy', 'bah', 'bahama', 'bake', 'baked', 'baker', 'balance', 'balanced', 'balcony', 'balisctic', 'balk', 'balkan', 'ball', 'ballet', 'ballistic', 'balloon', 'ballot', 'ballpark', 'ballpoint', 'bamboo', 'band', 'banded', 'bandit', 'bandwagon', 'bandwidth', 'bane', 'banetech', 'bang', 'bank', 'banker', 'banking', 'bankwith', 'banner', 'bar', 'barbara', 'barbecue', 'barber', 'barclay', 'bare', 'barebone', 'barebonelg', 'barely', 'bargain', 'barge', 'baritone', 'bark', 'barley', 'barn', 'barrel', 'barrier', 'barring', 'basbomz', 'base', 'baseball', 'baseband', 'basement', 'basic', 'basically', 'basin', 'basis', 'basket', 'basketball', 'basnoise', 'bass', 'bat', 'batch', 'batcopter', 'bateriesand', 'baterybuilt', 'baterybut', 'baterycan', 'baterycome', 'bateryinitial', 'bateryinstead', 'baterylife', 'bateryou', 'baterythe', 'baterytldr', 'bateryuniversity', 'bath', 'bathe', 'bathroom', 'bathtub', 'batman', 'batmobile', 'batphone', 'battalion', 'batterie', 'battery', 'battle', 'bay', 'bc', 'be', 'beach', 'beachbuoy', 'beacon', 'bead', 'beak', 'beam', 'beamed', 'bean', 'beanbag', 'bear', 'bearable', 'beard', 'beast', 'beastly', 'beat', 'beaten', 'beating', 'beautiful', 'beautifully', 'beauty', 'beaux', 'became', 'because', 'becausethis', 'become', 'becomes', 'bed', 'bedroom', 'bedside', 'bedtime', 'bee', 'beecher', 'beef', 'been', 'beethoven', 'beetle', 'befall', 'befit', 'before', 'beforehand', 'beg', 'beggar', 'begged', 'begging', 'begin', 'beginner', 'beginning', 'begins', 'begrudgingly', 'behalf', 'behave', 'behaved', 'behavior', 'behaviour', 'beheld', 'behemoth', 'behind', 'behold', 'beige', 'being', 'belie', 'belief', 'believable', 'believe', 'believer', 'bell', 'belle', 'belly', 'belong', 'belonging', 'beloved', 'below', 'belt', 'ben', 'bench', 'benchmark', 'bend', 'bended', 'bending', 'beneath', 'beneficial', 'benefit', 'bent', 'bentbut', 'berg', 'beside', 'besides', 'bestdealusa', 'bestskinever', 'bestskinsever', 'bet', 'bethink', 'betray', 'better', 'between', 'betwenthe', 'beverage', 'beware', 'beyerdynamic', 'beyond', 'beyzacase', 'bias', 'bicep', 'bicycle', 'bicycling', 'bicyclist', 'bid', 'bidding', 'bien', 'big', 'biglow', 'bike', 'bill', 'billfold', 'billion', 'bin', 'binary', 'bind', 'binder', 'biography', 'bionicat', 'bird', 'birthday', 'birugear', 'bishop', 'bit', 'bite', 'biting', 'bitter', 'bl', 'black', 'blackberry', 'blackbrand', 'blacken', 'blackest', 'blackfit', 'blackfor', 'blackguard', 'blackharder', 'blackhtp', 'blackimpact', 'blackjack', 'blackproduct', 'blacksince', 'blackthe', 'blacktop', 'blackverdict', 'blackwhich', 'blade', 'blame', 'blaming', 'bland', 'blandly', 'blank', 'blasphemy', 'blast', 'blaze', 'blazing', 'blazon', 'blee', 'bleed', 'bleeding', 'blemish', 'blend', 'bless', 'blessing', 'blewout', 'blind', 'blinding', 'blindstampe', 'blink', 'blinking', 'blister', 'bloated', 'bloatware', 'bloatwarerote', 'block', 'blockade', 'blocking', 'blonde', 'blood', 'blot', 'blotch', 'blotched', 'blotted', 'blow', 'blown', 'blue', 'bluebridge', 'bluebud', 'bluefox', 'blueoth', 'blueparot', 'blueprint', 'blueriger', 'bluetoth', 'bluetothed', 'bluetothkeyboard', 'bluetothle', 'bluetouth', 'bluetrek', 'bluetrip', 'bluewhich', 'bluezime', 'bluish', 'blunt', 'blur', 'blurriness', 'blutoth', 'board', 'boast', 'boasting', 'boat', 'bob', 'bobtronic', 'bode', 'bodily', 'body', 'bodybuilder', 'bodyguard', 'bodysuit', 'boil', 'boklethis', 'bold', 'boldly', 'bolster', 'bolt', 'bomb', 'bombproof', 'bond', 'bone', 'boned', 'bonesfor', 'bonus', 'bony', 'book', 'bookcase', 'booking', 'booklet', 'bookshelf', 'bookstore', 'boom', 'booming', 'boost', 'boot', 'booth', 'border', 'bordering', 'bore', 'bored', 'boredom', 'boring', 'borrow', 'borrowing', 'boss', 'bosse', 'bosterwhich', 'boston', 'both', 'bother', 'bothersome', 'botloader', 'botomwhere', 'bottle', 'bottom', 'bottomless', 'bough', 'bought', 'boughtiogear', 'bounce', 'bound', 'bounding', 'bounty', 'bout', 'bow', 'bowel', 'bowie', 'bowl', 'box', 'boxer', 'boxing', 'boxrate', 'boxwave', 'boxweave', 'boy', 'boycott', 'boyfriend', 'brace', 'bracelet', 'bracket', 'bracketron', 'brag', 'braid', 'braided', 'brain', 'brake', 'branch', 'brand', 'branding', 'brass', 'brave', 'bravo', 'brazen', 'brazil', 'brazilian', 'breach', 'breadth', 'break', 'breakage', 'breakdown', 'breaker', 'breakfast', 'breakgod', 'breaking', 'breakthrough', 'breakup', 'breast', 'breath', 'breathable', 'breathe', 'breathing', 'breathtaking', 'breathtakingly', 'breed', 'breeze', 'brick', 'bricklike', 'bridge', 'bridle', 'brief', 'briefcase', 'briefcaselove', 'briefly', 'bright', 'brighten', 'brightly', 'brightmisc', 'brightness', 'brilliance', 'brilliant', 'brilliantly', 'bring', 'bringing', 'brisk', 'briskness', 'british', 'briton', 'brittle', 'broad', 'broadband', 'broadcast', 'broadcasting', 'broadcom', 'broadway', 'brochure', 'broke', 'broken', 'bronze', 'brook', 'broomstick', 'brother', 'brought', 'brow', 'browe', 'brown', 'brownish', 'browse', 'browserealy', 'browsergogle', 'browsing', 'browswer', 'brubeck', 'bruce', 'bruise', 'brunt', 'brush', 'brushing', 'brutal', 'brutally', 'brute', 'bu', 'bubble', 'bubbling', 'bublegum', 'bublesdon', 'bubleshock', 'bubleworld', 'buck', 'buckaroo', 'bucket', 'buckle', 'bud', 'budge', 'budget', 'budsgod', 'buena', 'buff', 'buffalo', 'buffoonery', 'bug', 'bugdroid', 'buggy', 'build', 'builder', 'building', 'bulb', 'bulbous', 'bulge', 'bulging', 'bulk', 'bulkier', 'bulkiest', 'bulky', 'bulkycheapslip', 'bulkycon', 'bulkyne', 'bulkytwo', 'bull', 'bullet', 'bulletproof', 'bump', 'bumperle', 'bumperupdate', 'bumping', 'bunch', 'bundle', 'bunker', 'bunt', 'burden', 'burgess', 'burgle', 'burgundy', 'burn', 'burning', 'burr', 'burri', 'burst', 'bury', 'burying', 'bus', 'bush', 'bushy', 'busineshigh', 'business', 'businessman', 'bust', 'busy', 'but', 'butler', 'butoncon', 'butonspade', 'butonsthe', 'butonwork', 'butt', 'butter', 'butterfly', 'buttock', 'button', 'buttoning', 'butts', 'buy', 'buyacesory', 'buyer', 'buying', 'buyworld', 'buzkil', 'buzz', 'buzzing', 'by', 'bye', 'bystander', 'bytracfone', 'ca', 'cab', 'cabby', 'cabin', 'cabinet', 'cable', 'cablebotom', 'cablebox', 'cablefeature', 'cablehad', 'cablele', 'cablemicro', 'cablepro', 'cablescon', 'cablesthough', 'cablewhose', 'cablework', 'cablewould', 'cabman', 'cabochon', 'cactus', 'cadet', 'cake', 'calcify', 'calcium', 'calculate', 'calculated', 'calculation', 'calcutta', 'caldron', 'caleche', 'calendar', 'calibre', 'calidad', 'california', 'calingwhen', 'call', 'called', 'caller', 'calling', 'calm', 'calomel', 'calorie', 'calsbluetothremovable', 'calvin', 'camarena', 'camcorder', 'came', 'camel', 'camelcamelcamel', 'camera', 'cameraconclusion', 'camewith', 'camoflage', 'camp', 'campaign', 'campground', 'camping', 'can', 'canada', 'canadian', 'canal', 'cancel', 'cancelationcompetitive', 'cancelingcon', 'cancellation', 'cancer', 'candid', 'candidate', 'candle', 'candor', 'candy', 'candycrush', 'candyshel', 'canned', 'canning', 'canon', 'canopy', 'canvas', 'cap', 'capabilitie', 'capability', 'capable', 'capacious', 'capacitative', 'capacitie', 'capacity', 'capacityha', 'capacityoxa', 'caper', 'capital', 'capless', 'caprice', 'capsule', 'captain', 'captivate', 'captive', 'captor', 'capture', 'car', 'carabineer', 'caravan', 'carbon', 'carbonate', 'card', 'cardboard', 'cardiac', 'cardsand', 'cardsandisk', 'care', 'cared', 'career', 'careful', 'carefully', 'carefulness', 'carefulthis', 'careless', 'carelessness', 'carer', 'cargador', 'cargo', 'caribbean', 'carlo', 'carnival', 'carolina', 'carpal', 'carpenter', 'carpet', 'carpeted', 'carpus', 'carrel', 'carriage', 'carrier', 'carrot', 'carry', 'carrying', 'cart', 'cartoon', 'cartridge', 'carve', 'carved', 'cascade', 'case', 'caseate', 'casecrown', 'caseheadphone', 'casehowever', 'caselace', 'casemhard', 'caseology', 'caseous', 'caserecomend', 'casesone', 'casethey', 'casewhen', 'casewhich', 'casework', 'cash', 'cassel', 'cassette', 'cassock', 'cast', 'castle', 'castor', 'casual', 'casually', 'cat', 'catch', 'catcher', 'catching', 'categorically', 'categorie', 'category', 'cattle', 'cause', 'causing', 'caustic', 'cautery', 'caution', 'cautionpul', 'cautious', 'cautiously', 'cava', 'cavali', 'cavalier', 'cave', 'cavern', 'cavity', 'ce', 'cease', 'ceiling', 'celcasesusa', 'celebrate', 'celebration', 'celebrity', 'celhelmet', 'cell', 'cellar', 'cellphone', 'cellular', 'celshop', 'cement', 'censor', 'cent', 'center', 'centered', 'centimetre', 'central', 'centrifugal', 'century', 'certain', 'certainly', 'certificate', 'certifiedimension', 'cf', 'cfhnote', 'ch', 'chain', 'chair', 'chairlift', 'chalk', 'chalkboard', 'chalked', 'challenge', 'challenging', 'chamber', 'champ', 'champagne', 'champion', 'chance', 'changable', 'change', 'changeable', 'changeover', 'channel', 'channing', 'chapter', 'character', 'characteristic', 'charcoal', 'charge', 'chargecon', 'charged', 'chargefrom', 'chargeiphone', 'chargeralbe', 'chargerand', 'chargerbecause', 'chargereplacement', 'chargerfirst', 'chargerha', 'chargerhtp', 'chargerinstead', 'chargeroranker', 'chargersrelatively', 'chargerthank', 'chargerthat', 'chargertravel', 'chargerwork', 'chargerworke', 'chargesome', 'chargestay', 'chargesync', 'chargethe', 'chargevarious', 'charging', 'chargingnearly', 'chargingsince', 'chargingspeaker', 'charing', 'charitable', 'charitie', 'charlie', 'charm', 'charming', 'charon', 'charpie', 'chart', 'charter', 'chartruse', 'chase', 'chasing', 'chat', 'cheap', 'cheapcon', 'cheaper', 'cheapest', 'cheaply', 'cheapness', 'cheapskate', 'cheapthe', 'cheat', 'check', 'check_up_on_it', 'checkerboard', 'checking', 'cheek', 'cheer', 'cheese', 'cheetah', 'chemical', 'chemist', 'chemistry', 'cherry', 'chess', 'chest', 'chew', 'cheyenne', 'chicago', 'chicagoland', 'chicken', 'chief', 'chiefly', 'chihuahua', 'child', 'childhood', 'childish', 'chill', 'chilly', 'chime', 'chin', 'china', 'chinathis', 'chinause', 'chinese', 'chink', 'chip', 'chirping', 'chocolate', 'choetech', 'choice', 'choir', 'choke', 'choose', 'choosing', 'chop', 'chopstick', 'chord', 'chorus', 'chris', 'christian', 'christma', 'christmas', 'chromearive', 'chromecast', 'chromic', 'chronic', 'chronological', 'chubbiness', 'chubby', 'chuck', 'chuckle', 'chum', 'chunky', 'church', 'cigarette', 'cinderblock', 'cinema', 'circle', 'circuit', 'circular', 'circulate', 'circulation', 'circumstance', 'cite', 'citizen', 'city', 'civic', 'civilization', 'claim', 'clair', 'clamor', 'clamp', 'clamshell', 'clap', 'clarification', 'clarify', 'clarinet', 'clarity', 'claritycomfortable', 'claritycon', 'clark', 'clash', 'clasicwas', 'clasp', 'class', 'classic', 'classical', 'classroom', 'clatter', 'claustrophobic', 'clayton', 'cle', 'clean', 'cleaner', 'cleaning', 'cleanliness', 'cleanly', 'cleanse', 'clear', 'clearance', 'clearer', 'clearinghouse', 'clearly', 'clearness', 'clearversion', 'clearview', 'clever', 'cleverly', 'click', 'clickable', 'clicked', 'client', 'cliff', 'climate', 'climb', 'climbing', 'clinch', 'clinching', 'cling', 'clinging', 'clinically', 'clink', 'clinking', 'clip', 'clipped', 'clips', 'clock', 'clorox', 'close', 'closeable', 'closed', 'closedbut', 'closedcon', 'closely', 'closequad', 'closet', 'closing', 'closure', 'clot', 'cloth', 'clothe', 'clothespin', 'clothing', 'clothinstruction', 'clothscren', 'cloud', 'cloudless', 'cloudy', 'club', 'clue', 'clump', 'clumsiness', 'clumsy', 'clung', 'clunki', 'clunkine', 'clunkyconclusionwhile', 'cluster', 'clutch', 'clutzly', 'cm', 'cm_cr', 'cm_cr_rdp_perm', 'cm_cr_ryp_prd_tl_hst', 'co', 'coach', 'coal', 'coalescence', 'coarse', 'coast', 'coat', 'coated', 'coating', 'coax', 'coburg', 'cockblocke', 'cockpit', 'cocktail', 'cocoa', 'cod', 'code', 'coffee', 'coffin', 'coherent', 'cohesively', 'coil', 'coin', 'coincidence', 'colapsible', 'colapsibleplug', 'cold', 'coldly', 'coli', 'colic', 'collaborate', 'collapsable', 'collapse', 'collapsible', 'collar', 'collarbone', 'colleague', 'collect', 'collecting', 'collection', 'collector', 'college', 'collision', 'colombia', 'colon', 'colony', 'color', 'colorcon', 'colored', 'coloring', 'colorupdate', 'colossal', 'colour', 'coloured', 'colourful', 'colrecomend', 'columbia', 'column', 'com', 'coma', 'coman', 'comandone', 'comb', 'combat', 'combination', 'combine', 'combined', 'come', 'comedy', 'comes', 'comfort', 'comfortability', 'comfortable', 'comfortablethe', 'comfortableunlike', 'comfortably', 'comic', 'comical', 'coming', 'comma', 'command', 'commence', 'commend', 'commendable', 'comment', 'comments', 'commercial', 'commission', 'commissioner', 'commit', 'commitment', 'commodity', 'common', 'commonly', 'commune', 'communicate', 'communication', 'communicative', 'communist', 'community', 'commute', 'commuted', 'commuting', 'comoftrbale', 'compact', 'compactly', 'compactness', 'companion', 'company', 'comparable', 'comparative', 'comparatively', 'compare', 'comparing', 'comparison', 'compartment', 'compass', 'compatability', 'compatible', 'compatiblescosche', 'compel', 'compensate', 'compensation', 'compete', 'competent', 'competition', 'competitive', 'competitor', 'complain', 'complaining', 'complaint', 'complement', 'complementary', 'complete', 'completeist', 'completely', 'completion', 'complex', 'compliance', 'complicate', 'complicated', 'complication', 'compliment', 'complimentary', 'complimented', 'comply', 'component', 'compose', 'composing', 'composite', 'composition', 'compound', 'comprehend', 'comprehensive', 'compress', 'compressed', 'compression', 'comprise', 'compromise', 'compute', 'computer', 'computercon', 'computerconcern', 'computing', 'con', 'concave', 'conceal', 'concealing', 'conceivable', 'conceived', 'concentrate', 'concentrated', 'concentric', 'concept', 'concern', 'concerned', 'concert', 'concise', 'conclude', 'conclusion', 'conclusionbee', 'conclusionspro', 'conclusionthis', 'concrete', 'concurrently', 'conde', 'condemn', 'condensation', 'condense', 'condition', 'conditioning', 'conditionshorible', 'conduce', 'conduct', 'conductivity', 'conductor', 'cone', 'conectedear', 'conectionsexcelent', 'conectionwhen', 'conectivityfm', 'conectorspecs', 'confer', 'conference', 'conferencing', 'confess', 'confidant', 'confidence', 'confident', 'confidently', 'configurable', 'configuration', 'configure', 'confine', 'confirm', 'confirmation', 'confirmationonce', 'confiscate', 'conflict', 'conflicting', 'conform', 'confuse', 'confused', 'confusing', 'confusion', 'conglomeration', 'conjunction', 'connect', 'connected', 'connection', 'connective', 'conscience', 'conscientious', 'conscious', 'consconection', 'conscript', 'consecutive', 'consequence', 'consequently', 'conservative', 'conserve', 'consider', 'considerable', 'considerably', 'considerate', 'consideration', 'considering', 'considerpowergen', 'consist', 'consistency', 'consistent', 'consistently', 'consmuch', 'consolation', 'console', 'consolidate', 'consolidated', 'consonant', 'consortium', 'conspicuous', 'conspiracy', 'conspire', 'constable', 'constant', 'constantly', 'consthese', 'constraint', 'constrict', 'constricting', 'construct', 'construction', 'constructionthe', 'constructive', 'consult', 'consulting', 'consume', 'consumer', 'consuming', 'consumption', 'contact', 'contain', 'container', 'contamination', 'contemporary', 'contend', 'content', 'contention', 'contest', 'contestant', 'context', 'continual', 'continually', 'continuation', 'continue', 'continued', 'continuity', 'continuous', 'continuously', 'contortion', 'contour', 'contract', 'contracting', 'contraction', 'contractor', 'contradict', 'contrary', 'contrast', 'contre', 'contribute', 'control', 'controller', 'controlling', 'controlone', 'controlsconvenientconsound', 'convenience', 'convenient', 'conveniently', 'convention', 'conventional', 'conversation', 'conversational', 'converse', 'conversing', 'conversion', 'conversionthe', 'convert', 'converted', 'convertible', 'convey', 'convient', 'convince', 'convinced', 'convincing', 'convulsive', 'cook', 'cooker', 'cooking', 'cool', 'coolest', 'cooling', 'coolly', 'cooper', 'cooperate', 'cooperative', 'coordinate', 'coordinating', 'cop', 'copper', 'copy', 'coral', 'cord', 'corded', 'cordial', 'cordon', 'core', 'corn', 'corner', 'corporate', 'corporation', 'correct', 'correcting', 'correction', 'corrective', 'correctly', 'correspond', 'correspondence', 'corrosive', 'corrupt', 'cos', 'cosmetic', 'cosmetically', 'cosmeticslok', 'cosmopolitan', 'cost', 'coster', 'costing', 'costly', 'costo', 'costume', 'cot', 'cotton', 'couch', 'cough', 'coughed', 'could', 'couldmake', 'couldn', 'counsel', 'count', 'countdown', 'counter', 'counterfeit', 'counterintuitive', 'counterpart', 'counterproductive', 'countertop', 'counting', 'countless', 'country', 'countryman', 'county', 'couple', 'couplecablejive', 'coupon', 'courant', 'courier', 'course', 'court', 'courteous', 'courtesy', 'cousin', 'couture', 'cover', 'coverage', 'coveralow', 'covered', 'covering', 'covers', 'covert', 'covet', 'coxinha', 'crab', 'crack', 'cracked', 'cracking', 'crackle', 'crackling', 'cradle', 'cradlepoint', 'craft', 'craftsmanship', 'craig', 'craigslist', 'cramp', 'crank', 'crapshoot', 'crash', 'crashed', 'crave', 'crawl', 'crazy', 'creak', 'cream', 'crease', 'create', 'creation', 'creative', 'creativity', 'creator', 'creature', 'credit', 'creditcard', 'creep', 'crew', 'cricket', 'crime', 'criminal', 'crimson', 'cringe', 'cripple', 'crippled', 'crippling', 'crisis', 'crisp', 'crisply', 'crispy', 'cristal', 'criterion', 'critic', 'critical', 'criticism', 'criticize', 'critique', 'crocodile', 'croix', 'crook', 'crooked', 'crop', 'cross', 'crossbar', 'crosse', 'crossing', 'crossover', 'crossword', 'crow', 'crowd', 'crowded', 'crowder', 'crowdsourced', 'crown', 'crucial', 'crude', 'cruel', 'cruise', 'cruiser', 'crumble', 'crunch', 'crush', 'crushed', 'crutch', 'cruzerlite', 'cry', 'crystal', 'crystallize', 'cualqui', 'cub', 'cuba', 'cubbyhole', 'cuff', 'culprit', 'cult', 'cumbersome', 'cunningly', 'cup', 'cupcake', 'curate', 'curb', 'cure', 'curiosity', 'curious', 'curiously', 'curl', 'curling', 'curly', 'curmudgeon', 'current', 'currently', 'curse', 'curvature', 'curve', 'curved', 'cushion', 'cushioned', 'custom', 'customary', 'customer', 'customise', 'customizable', 'customization', 'customize', 'customizing', 'cut', 'cutaway', 'cutis', 'cutlet', 'cutomize', 'cutting', 'cy', 'cyanogenmod', 'cyberpower', 'cycle', 'cycling', 'cyclop', 'cygwin', 'cylinder', 'cylindrical', 'cyst', 'czech', 'da', 'dad', 'daddy', 'dagger', 'daily', 'dainty', 'daisy', 'dam', 'damage', 'damagethe', 'damaging', 'damn', 'damned', 'damp', 'dance', 'dancing', 'dandy', 'danger', 'dangerous', 'dangerously', 'dangle', 'daniel', 'dare', 'daresay', 'dark', 'darken', 'darkness', 'darling', 'dart', 'das', 'dash', 'dashboard', 'data', 'database', 'date', 'dated', 'datum', 'daub', 'daughter', 'davidson', 'davout', 'davy', 'dawn', 'day', 'daylight', 'daytime', 'dazzle', 'dbluetoth', 'dbmbluetoth', 'de', 'deactivate', 'deactivated', 'dead', 'deadafter', 'deadline', 'deadspot', 'deaf', 'deal', 'dealbreaker', 'dealer', 'dealership', 'dealing', 'dealproslong', 'dealt', 'dear', 'death', 'deathly', 'debatable', 'debate', 'debit', 'debris', 'debs', 'debt', 'dec', 'decade', 'decease', 'deceive', 'december', 'decency', 'decent', 'decently', 'deceptive', 'decide', 'decidedly', 'decision', 'deck', 'declare', 'decline', 'decorate', 'decorating', 'decoration', 'decorative', 'decrease', 'decrepit', 'dedicate', 'dedicated', 'deduce', 'deductible', 'deduction', 'deed', 'deep', 'deeply', 'deer', 'def', 'default', 'defeat', 'defect', 'defective', 'defence', 'defend', 'defender', 'defendercase', 'defendercover', 'defenectly', 'defenetley', 'defense', 'deference', 'deferential', 'defiantly', 'deficiency', 'deficient', 'deficit', 'defile', 'define', 'definite', 'definitely', 'definitelygiven', 'definition', 'deform', 'deformity', 'defy', 'degenerate', 'degeneration', 'degenerative', 'degradation', 'degrade', 'degraded', 'degrading', 'degree', 'degregorio', 'dehydrate', 'deity', 'del', 'delay', 'delegate', 'delete', 'deletion', 'deleveryrealy', 'deliberate', 'delicate', 'delicious', 'delight', 'delighted', 'delightful', 'deliver', 'deliverance', 'deliveredhowever', 'delivery', 'delude', 'deluge', 'delusion', 'dem', 'demand', 'demanding', 'democracy', 'demon', 'demonstrate', 'demonstration', 'den', 'dendomondo', 'denial', 'denis', 'denote', 'dense', 'densely', 'density', 'deny', 'denying', 'deodorant', 'depackaging', 'depart', 'department', 'depend', 'dependability', 'dependable', 'dependent', 'depending', 'depends', 'depict', 'depicted', 'deplete', 'deploy', 'deposit', 'deposition', 'depot', 'depress', 'depressed', 'depth', 'deputation', 'derby', 'dere', 'derision', 'derive', 'des', 'descend', 'descent', 'describe', 'description', 'descriptionpurchase', 'descriptive', 'desert', 'deserve', 'design', 'designate', 'designation', 'designcon', 'designed', 'designer', 'designgreat', 'designing', 'designprice', 'designthere', 'designwise', 'desirable', 'desire', 'desk', 'desktop', 'desolate', 'desoldere', 'despair', 'desperate', 'desperately', 'desperation', 'despise', 'despite', 'destination', 'destroy', 'destructive', 'detach', 'detachable', 'detached', 'detaching', 'detail', 'detailed', 'detailing', 'detailscolor', 'detailsthe', 'detect', 'detection', 'detector', 'deter', 'deteriorate', 'determination', 'determine', 'determined', 'deterred', 'detest', 'detestable', 'detour', 'detract', 'detriment', 'detrimental', 'detritus', 'detroit', 'devastating', 'devaughn', 'develop', 'developed', 'developer', 'development', 'device', 'devicecon', 'devicefolde', 'deviceitself', 'devicene', 'deviceplay', 'devicesare', 'devicesbatery', 'devicescharge', 'devicescon', 'devicesport', 'devicesthis', 'devicewear', 'devil', 'devilish', 'devise', 'devised', 'devote', 'devoted', 'devotion', 'devouring', 'dew', 'dexter', 'dexterity', 'di', 'diable', 'diagnose', 'diagnostic', 'diagonal', 'diagram', 'dial', 'dialingcon', 'dialogue', 'dialpad', 'diameter', 'diamond', 'diana', 'diaphragm', 'diary', 'dice', 'dichlorite', 'dictate', 'dictation', 'dictionary', 'did', 'didgerido', 'didn', 'die', 'died', 'diego', 'dies', 'difcultly', 'differ', 'difference', 'differences', 'different', 'differentiate', 'differentiation', 'differently', 'difficult', 'difficulty', 'diffuse', 'dig', 'digest', 'digit', 'digital', 'digitizer', 'digiwaker', 'dilemma', 'diligent', 'diluted', 'dim', 'dimension', 'dimincal', 'diminish', 'diminished', 'diminishing', 'diminutive', 'dimmler', 'dimple', 'din', 'dine', 'dingy', 'dining', 'dinner', 'dinosaur', 'dinosour', 'dint', 'dip', 'diploe', 'direct', 'direction', 'directly', 'director', 'directory', 'dirt', 'dirtcon', 'dirty', 'dis', 'disability', 'disable', 'disabled', 'disadvantage', 'disagree', 'disapomite', 'disappear', 'disappoint', 'disappointed', 'disappointing', 'disappointment', 'disassemble', 'disassembly', 'disaster', 'disastrous', 'disbelieve', 'disc', 'discard', 'discern', 'discernible', 'discharge', 'discharging', 'disclaimer', 'disclose', 'disclosure', 'disco', 'discoloration', 'discolour', 'discomfort', 'disconcert', 'disconnect', 'disconnected', 'disconnection', 'discontent', 'discontinue', 'discontinued', 'discount', 'discourage', 'discover', 'discoverable', 'discovery', 'discreet', 'discrepancy', 'discrete', 'discuss', 'discussion', 'disdain', 'disengage', 'disengaged', 'disgrace', 'disgruntle', 'disguise', 'disguised', 'disgust', 'disgusted', 'disgusting', 'dish', 'dishearten', 'dishonest', 'disingenuous', 'disintegrate', 'disk', 'dislike', 'disliked', 'dislocate', 'dislodge', 'dismal', 'dismay', 'dismiss', 'dismount', 'dismounted', 'disneyland', 'dispatch', 'displace', 'display', 'displaymate', 'displease', 'displeased', 'displeasure', 'disposal', 'dispose', 'dispute', 'disregard', 'disrupt', 'dissatisfaction', 'dissatisfied', 'dissatisfy', 'dissect', 'dissimilar', 'dissipate', 'dissipation', 'dissolve', 'distance', 'distant', 'distinct', 'distinction', 'distinctive', 'distinguish', 'distinguished', 'distort', 'distorted', 'distortion', 'distract', 'distracted', 'distracting', 'distraction', 'distress', 'distressed', 'distressful', 'distribute', 'distribution', 'distributor', 'district', 'distronic', 'disturb', 'disturbance', 'disuse', 'ditch', 'ditching', 'ditztronic', 'divan', 'dive', 'diver', 'diverse', 'divide', 'diving', 'division', 'dix', 'diztrnoic', 'diztronic', 'diztroniclove', 'dizziness', 'do', 'doc', 'dock', 'dockable', 'docket', 'docketing', 'docoler', 'doctor', 'document', 'documentation', 'dodge', 'doe', 'doesn', 'doff', 'dog', 'dogcatcher', 'dogma', 'doing', 'doll', 'dollar', 'dolphin', 'dome', 'domestic', 'dominate', 'dominican', 'domo', 'don', 'donate', 'donation', 'done', 'doneonly', 'door', 'doorstop', 'doorway', 'dootie', 'dosage', 'dose', 'dot', 'dotted', 'double', 'doubles', 'doubly', 'doubt', 'doubtful', 'dough', 'doughnut', 'dovey', 'down', 'downclocke', 'downfall', 'downgrade', 'downhill', 'download', 'downloadable', 'downloadgod', 'downloading', 'downright', 'downscale', 'downside', 'downsize', 'downstairs', 'downstream', 'downstreaming', 'downthe', 'downtime', 'downtown', 'downward', 'dozen', 'dpskbatery', 'dr', 'drab', 'draft', 'drag', 'dragon', 'dragoon', 'dragslip', 'drain', 'drainage', 'draining', 'drake', 'drama', 'dramatic', 'dramatically', 'drape', 'drastic', 'draw', 'drawback', 'drawer', 'drawing', 'drawsomething', 'drawstre', 'dread', 'dreadfully', 'dream', 'dreamed', 'dreamwirele', 'dresden', 'dress', 'dresser', 'dressing', 'drew', 'drift', 'drill', 'drink', 'drip', 'drive', 'driver', 'drivermode', 'driverscharge', 'driving', 'droidforum', 'droidog', 'droit', 'dron', 'droop', 'drop', 'dropbox', 'droplet', 'dropped', 'dropping', 'drown', 'drowning', 'drum', 'drunk', 'drunken', 'dry', 'dslreport', 'du', 'dual', 'dualpro', 'dub', 'dubious', 'duc', 'duct', 'due', 'duel', 'duet', 'duke', 'dull', 'dumb', 'dumbly', 'dumbphone', 'dummy', 'dump', 'dumping', 'dung', 'duplicate', 'dura', 'durabale', 'durabilityi', 'durabilty', 'durableslimprotect', 'duracel', 'duration', 'during', 'dursble', 'dust', 'dustprof', 'dusty', 'dutch', 'dutifully', 'duty', 'dwarf', 'dweller', 'dwelling', 'dwelt', 'dwindle', 'dwyer', 'dye', 'dying', 'dynamic', 'dzitronic', 'each', 'eachport', 'eachpre', 'eager', 'eagle', 'eagleblod', 'ear', 'earache', 'earbud', 'earbug', 'eardrum', 'earhok', 'earl', 'earle', 'early', 'earlybirdsaving', 'earn', 'earpad', 'earpeice', 'earphone', 'earpiece', 'earpiecemagnet', 'earplug', 'earpod', 'earshape', 'earshot', 'earspeaker', 'earth', 'earthen', 'earthquake', 'earwave', 'earwrap', 'ease', 'easier', 'easiest', 'easily', 'easilycon', 'easing', 'east', 'eastern', 'easy', 'easybuton', 'easyjabra', 'easypak', 'easytether', 'eat', 'ebook', 'eccentric', 'echo', 'eclipse', 'economic', 'economical', 'economically', 'economics', 'economy', 'ecorox', 'ecosystem', 'ecoxbt', 'ecoxgear', 'ecstatic', 'ecuador', 'ed', 'edge', 'edgesdue', 'edit', 'edith', 'editing', 'edition', 'editor', 'educational', 'eerie', 'effect', 'effected', 'effecting', 'effective', 'effectively', 'effectiveness', 'efficiency', 'efficient', 'efficiently', 'effort', 'effortless', 'effortlessly', 'efortleslylike', 'eg', 'egcbm', 'egg', 'ego', 'egress', 'eh', 'eight', 'eighteen', 'eighth', 'eighty', 'either', 'eitheranker', 'eitherhave', 'el', 'elaborate', 'elastic', 'elasticity', 'elate', 'elbow', 'elder', 'elderly', 'elect', 'election', 'elector', 'electric', 'electrical', 'electricity', 'electromagnetic', 'electromaster', 'electron', 'electronic', 'electronics', 'elegance', 'elegant', 'elegantly', 'element', 'elephant', 'elevate', 'elevated', 'elevator', 'eleven', 'eligible', 'eliminate', 'elimination', 'elite', 'elitetech', 'elkin', 'elliptical', 'ellis', 'elongate', 'else', 'elsewhere', 'elson', 'ely', 'em', 'email', 'embark', 'embarrassed', 'embarrassing', 'embarrassment', 'embed', 'embellish', 'emblem', 'embody', 'emboss', 'embossed', 'embrace', 'emerge', 'emergence', 'emergencie', 'emergency', 'emit', 'emotional', 'emperor', 'emphasis', 'emphasize', 'emphatic', 'empire', 'employ', 'employee', 'employment', 'empow', 'empower', 'empty', 'emulate', 'emulation', 'emulator', 'en', 'enable', 'enables', 'enabling', 'encapsulate', 'encase', 'encircle', 'enclose', 'enclosure', 'encompass', 'encounter', 'encountering', 'encourage', 'encumber', 'end', 'endear', 'ended', 'ending', 'endless', 'endo', 'endomondo', 'endow', 'ends', 'endurance', 'endure', 'energie', 'energy', 'enerpak', 'enfant', 'enforce', 'enforcement', 'engage', 'engaged', 'engagement', 'engine', 'engineer', 'engineered', 'engineering', 'english', 'engrave', 'enhance', 'enhanced', 'enhancement', 'enjoy', 'enjoyable', 'enjoyment', 'enlarge', 'enlarged', 'enlighten', 'enormous', 'enough', 'ensue', 'ensure', 'entangle', 'enter', 'entering', 'enterprise', 'entertain', 'entertainment', 'enthusiasm', 'enthusiast', 'enthusiastic', 'entire', 'entirecradle', 'entirely', 'entirextra', 'entity', 'entrust', 'entry', 'entryway', 'enunciation', 'envelope', 'enviou', 'envious', 'environment', 'environmental', 'envision', 'envy', 'epic', 'epoch', 'equal', 'equality', 'equalizer', 'equally', 'equals', 'equation', 'equator', 'equifax', 'equip', 'equipment', 'equipped', 'equipping', 'equivalent', 'er', 'era', 'erase', 'erb', 'erect', 'ergonomicaly', 'eric', 'erie', 'erntrega', 'err', 'errand', 'erratic', 'erroneous', 'error', 'erza', 'es', 'escape', 'esp', 'espacio', 'espcicaly', 'especially', 'esq', 'essay', 'essence', 'essential', 'essentially', 'est', 'establish', 'estate', 'esteem', 'estimate', 'estimation', 'et', 'etc', 'etcetera', 'eternity', 'ether', 'ethernet', 'ethical', 'ety', 'etyblu', 'eugene', 'europe', 'european', 'evacuate', 'evaluate', 'evaluation', 'evaporate', 'eve', 'evecase', 'even', 'evening', 'evenly', 'event', 'eventhough', 'eventual', 'eventually', 'ever', 'everett', 'evergreen', 'evertime', 'every', 'everybody', 'everyday', 'everyone', 'everyoneworth', 'everysingle', 'everything', 'everythingyou', 'everytime', 'everywhere', 'evidence', 'evident', 'evidently', 'evil', 'evofrom', 'evolution', 'evolutionary', 'evolve', 'evoveral', 'ex', 'exact', 'exactly', 'exaggerate', 'exaggerated', 'exaggeration', 'examination', 'examine', 'example', 'examplealso', 'exceed', 'exceedingly', 'exceeds', 'excelentand', 'excelentbuild', 'excelentgrace', 'excelentpowergen', 'excelentvoyagerserie', 'excellence', 'excellency', 'excellent', 'except', 'exception', 'exceptional', 'exceptionally', 'excess', 'excessive', 'excessively', 'exchange', 'exchangeable', 'exchangeablecon', 'excite', 'excited', 'excitement', 'exciting', 'exclude', 'excluding', 'exclusive', 'exclusively', 'excrement', 'excuse', 'execute', 'execution', 'executive', 'exelente', 'exercise', 'exert', 'exhaust', 'exhausted', 'exhaustive', 'exhibit', 'exist', 'existence', 'exit', 'exorbitant', 'expand', 'expandable', 'expanse', 'expansion', 'expansionthe', 'expect', 'expectancy', 'expectation', 'expected', 'expectedgreat', 'expecting', 'expedite', 'expedition', 'expel', 'expend', 'expendable', 'expense', 'expensive', 'experience', 'experienced', 'experiment', 'experimental', 'experimentation', 'expert', 'expertise', 'expire', 'explain', 'explanation', 'explanatory', 'explicitly', 'explode', 'exploit', 'exploration', 'explore', 'explorer', 'explosion', 'exponential', 'exponentially', 'export', 'expose', 'exposition', 'exposure', 'express', 'expression', 'expressive', 'expressly', 'exquisite', 'ext', 'extend', 'extended', 'extendible', 'extension', 'extensive', 'extensively', 'extent', 'exterior', 'exteriorsome', 'external', 'externally', 'extinct', 'extortion', 'extra', 'extract', 'extraneous', 'extraordinarily', 'extraordinary', 'extrapolate', 'extreme', 'extremeguard', 'extremely', 'extremity', 'exude', 'exyno', 'eye', 'eyecandi', 'eyed', 'eyeglass', 'eyelid', 'eyesight', 'eyesore', 'fabric', 'fabulous', 'face', 'facebok', 'faceboking', 'facedown', 'faceted', 'facial', 'facilitate', 'facility', 'facing', 'fact', 'facto', 'factor', 'factorthe', 'factory', 'fad', 'fade', 'faded', 'fading', 'fahgetaboutit', 'fail', 'failed', 'fails', 'failsafe', 'failure', 'faint', 'faintly', 'fair', 'fairly', 'fairness', 'faith', 'faithful', 'faithfully', 'fall', 'fallen', 'falling', 'false', 'falsely', 'falter', 'familiar', 'familiarity', 'family', 'famous', 'fan', 'fanboy', 'fancy', 'fanny', 'fantastic', 'fantastically', 'far', 'farce', 'fardisclaimer', 'fare', 'farm', 'farmer', 'farming', 'farpaire', 'farth', 'fascia', 'fascinate', 'fashion', 'fashionable', 'fashioned', 'fashioning', 'fashionista', 'fast', 'fastboxdelivery', 'fasten', 'fasterthe', 'fastwindow', 'fat', 'fatal', 'fate', 'father', 'fathom', 'fatigue', 'fatigued', 'fatten', 'fattest', 'fatty', 'fauce', 'fault', 'faulty', 'faut', 'favor', 'favorable', 'favorably', 'favorite', 'fear', 'feared', 'fearless', 'fearlessly', 'feasible', 'feat', 'feather', 'feature', 'featurecon', 'feb', 'february', 'fedbackslim', 'fee', 'feeble', 'feed', 'feedback', 'feel', 'feeling', 'feels', 'feet', 'fell', 'felling', 'fellow', 'felo', 'felt', 'female', 'feminine', 'fence', 'fertile', 'festival', 'fetch', 'fetched', 'few', 'ff', 'fiance', 'fiancee', 'fiat', 'fibermesh', 'fibre', 'fibro', 'fibroid', 'fibrous', 'fiddle', 'fidelity', 'fidget', 'fiducial', 'field', 'fieldruner', 'fiercely', 'fiery', 'fiew', 'fifteen', 'fifth', 'fifty', 'fig', 'fight', 'fighting', 'figure', 'figured', 'filament', 'file', 'filename', 'filing', 'fill', 'filling', 'film', 'filmmaker', 'filter', 'filthy', 'final', 'finalist', 'finally', 'finance', 'financial', 'financially', 'find', 'findable', 'finder', 'finding', 'fine', 'finecon', 'finely', 'finer', 'finesse', 'fineupdate', 'finger', 'fingered', 'fingering', 'fingernail', 'fingerprint', 'fingerprinter', 'fingerprinting', 'fingertip', 'finicky', 'finish', 'finishcon', 'finishdoes', 'finished', 'finishing', 'finite', 'fir', 'fire', 'firefighter', 'firefox', 'firelight', 'fireplace', 'fireside', 'firetruck', 'firewood', 'firing', 'firm', 'firmly', 'firmware', 'first', 'firstly', 'fiscal', 'fish', 'fishing', 'fist', 'fit', 'fitbit', 'fitgreat', 'fitness', 'fitpolished', 'fits', 'fitting', 'five', 'fiver', 'fix', 'fixing', 'fixity', 'fixture', 'flabby', 'flaberghast', 'flag', 'flagship', 'flair', 'flake', 'flame', 'flaming', 'flap', 'flapping', 'flare', 'flash', 'flashed', 'flashing', 'flashlight', 'flashlighta', 'flashlighthis', 'flashlightrelatively', 'flashnote', 'flat', 'flatten', 'flavor', 'flaw', 'flay', 'flea', 'fleck', 'flee', 'fleecy', 'flesh', 'fleshy', 'flew', 'flex', 'flexed', 'flexibility', 'flexible', 'flexibly', 'flexsmart', 'flick', 'flicked', 'flicker', 'flickering', 'flight', 'flimsy', 'flinging', 'flipaclip', 'flipbok', 'flipcover', 'flipstand', 'fliptronik', 'float', 'flog', 'flogging', 'flood', 'floor', 'flooring', 'flop', 'floppy', 'florida', 'flounder', 'flourescent', 'flout', 'flow', 'flower', 'flows', 'fluctuated', 'fluff', 'fluid', 'fluidity', 'fluorescence', 'flurry', 'flush', 'flushed', 'flutter', 'fluttered', 'fly', 'flying', 'fo', 'foam', 'focus', 'focused', 'foe', 'fog', 'fogginess', 'foggy', 'foi', 'foil', 'fold', 'folded', 'foldersconclusion', 'folding', 'folio', 'folk', 'follow', 'follower', 'following', 'fomyfomy', 'fond', 'fonepad', 'font', 'food', 'fool', 'foolish', 'foolishly', 'foolproof', 'foot', 'football', 'footboard', 'footing', 'footprint', 'footstep', 'for', 'forbid', 'force', 'forced', 'forceful', 'ford', 'fore', 'forearm', 'forecast', 'forecasting', 'forefront', 'forehead', 'foreign', 'foremost', 'foresee', 'foreseeable', 'foresight', 'forever', 'forewarn', 'forge', 'forger', 'forgery', 'forget', 'forgetful', 'forgettable', 'forgetting', 'forgive', 'forgiven', 'forgiving', 'forgo', 'forgot', 'foritself', 'fork', 'form', 'formal', 'formalbut', 'formaldehyde', 'format', 'formatbelkin', 'former', 'formerly', 'formula', 'forperipheral', 'forseable', 'fort', 'forth', 'forthcoming', 'fortification', 'fortuitously', 'fortunate', 'fortunately', 'fortune', 'forty', 'forum', 'forward', 'forwarding', 'forwardmost', 'foster', 'fotprintit', 'foul', 'found', 'foundation', 'founding', 'foundry', 'four', 'fourteen', 'fourth', 'fowl', 'fraction', 'fractionaly', 'fragile', 'fragility', 'fragmentation', 'fragrance', 'frail', 'frailty', 'frame', 'framer', 'france', 'francisco', 'frankly', 'frantically', 'fraser', 'fraud', 'fray', 'freak', 'freakish', 'fredompop', 'free', 'freedom', 'freeing', 'freely', 'freeze', 'freezing', 'frehand', 'french', 'frequency', 'frequent', 'frequently', 'fresh', 'freshly', 'fret', 'friable', 'friction', 'friday', 'fried', 'friend', 'friendliness', 'friendly', 'fringe', 'fro', 'frog', 'from', 'front', 'frontal', 'frontier', 'frost', 'frosted', 'frosty', 'frothy', 'frown', 'froze', 'frozen', 'fruit', 'frustrate', 'frustrated', 'frustration', 'fry', 'ft', 'ftp', 'fuctionality', 'fuel', 'fulbright', 'fulfil', 'fulfill', 'full', 'fuller', 'fullness', 'fully', 'fulscren', 'fumble', 'fumbled', 'fumbling', 'fun', 'function', 'functional', 'functionality', 'functionalitysmoth', 'functionate', 'functionating', 'functioncon', 'functionjabra', 'fund', 'fundamental', 'funeral', 'funny', 'fur', 'furniture', 'furthermore', 'fury', 'fuse', 'fusion', 'fuss', 'fussing', 'fussy', 'futile', 'future', 'futuristic', 'fuzerune', 'ga', 'gadgetry', 'gage', 'gain', 'gaining', 'gait', 'gal', 'galaxy', 'galere', 'gallery', 'galling', 'gallop', 'galvanise', 'gamble', 'game', 'gamecard', 'gamechanger', 'gamepad', 'gamestop', 'gametel', 'gamut', 'gap', 'gape', 'garage', 'garden', 'gardener', 'garment', 'gas', 'gash', 'gasoline', 'gasp', 'gastro', 'gate', 'gateway', 'gather', 'gathering', 'gauge', 'gauzy', 'gave', 'gaze', 'gazillion', 'gear', 'gee', 'gekbench', 'gekdome', 'gem', 'gen', 'gene', 'general', 'generally', 'generate', 'generation', 'generous', 'generously', 'genet', 'genetic', 'genii', 'genius', 'gentile', 'gentle', 'gentleman', 'gently', 'genuine', 'genuinely', 'geocaching', 'germ', 'german', 'germany', 'gesture', 'get', 'gets', 'getting', 'ghost', 'ghostarmor', 'ghostly', 'ghzbluetoth', 'giant', 'giddy', 'gift', 'gifted', 'gig', 'gigabit', 'gigabyte', 'gigantic', 'giggler', 'gihugic', 'gimick', 'gimicky', 'gimmick', 'ginger', 'gingerbread', 'girl', 'girlfriend', 'girth', 'gist', 'git', 'give', 'giveaway', 'given', 'gives', 'giving', 'gizmo', 'gizmoco', 'glaci', 'glad', 'glade', 'gladly', 'glamour', 'glance', 'glare', 'glaring', 'glass', 'glide', 'glimmer', 'glisten', 'gliterflex', 'glitter', 'global', 'gloomy', 'glorify', 'glorious', 'glory', 'gloss', 'glossy', 'glove', 'glow', 'glowing', 'glue', 'glued', 'go', 'goal', 'gobble', 'god', 'godagain', 'godcity', 'godhad', 'godproscharge', 'godson', 'goes', 'goglephone', 'going', 'gold', 'goldbox', 'golden', 'goldfish', 'golf', 'goliath', 'gone', 'gonehope', 'gong', 'good', 'goodby', 'goodness', 'goose', 'gooseneck', 'gophone', 'gopronote', 'gordon', 'gorge', 'gorgeous', 'gorilagadget', 'gorilamobile', 'gorilla', 'gosle', 'gospel', 'got', 'gotten', 'gouge', 'governor', 'gower', 'gr', 'grab', 'grace', 'gracefulness', 'gracious', 'graciously', 'grade', 'gradually', 'grady', 'graft', 'grafting', 'grain', 'gram', 'grammar', 'grand', 'grandchild', 'granddad', 'granddaughter', 'grandfather', 'grandkid', 'grandson', 'granite', 'grant', 'granularity', 'granulation', 'grape', 'graph', 'graphic', 'grasp', 'grass', 'grate', 'grateful', 'grave', 'gravel', 'gravely', 'gravity', 'gravityportable', 'gray', 'grayish', 'grayscale', 'grease', 'greasy', 'great', 'greatcoat', 'greatest', 'greatly', 'greatness', 'greatprotection', 'greatshield', 'greatwith', 'greediness', 'green', 'greet', 'greeting', 'grew', 'grewsome', 'grey', 'greyish', 'grid', 'grief', 'grievance', 'griffe', 'grim', 'grime', 'grin', 'grind', 'grinder', 'grinding', 'grip', 'gripability', 'gripcon', 'gripine', 'grippe', 'gripping', 'gripyne', 'grit', 'gritty', 'grizzle', 'grm', 'groan', 'grocer', 'grommet', 'groom', 'groomed', 'groove', 'grooved', 'gross', 'grossly', 'grotesque', 'ground', 'groundbreaking', 'groundless', 'group', 'grove', 'grow', 'growl', 'grown', 'grudge', 'grudging', 'grumble', 'gtxlthk', 'guarantee', 'guard', 'guardian', 'guess', 'guessing', 'guesswork', 'guest', 'guidance', 'guide', 'guideline', 'guiding', 'guilty', 'guinea', 'guise', 'guitar', 'gulf', 'gum', 'gumma', 'gun', 'gunmetal', 'gush', 'gust', 'gut', 'guy', 'ha', 'habit', 'habitually', 'hack', 'hacking', 'hadconsin', 'hadn', 'hahahahaha', 'hahathe', 'hair', 'haire', 'haired', 'hairstyle', 'half', 'halfway', 'hall', 'halo', 'halt', 'halve', 'hamburg', 'hamburguer', 'hamlet', 'hammer', 'hamper', 'hand', 'handbill', 'handbook', 'handed', 'handedthe', 'handful', 'handheld', 'handhelditem', 'handheldsthat', 'handiest', 'handle', 'handlebar', 'handling', 'hands', 'handshake', 'handsome', 'handsphone', 'handstil', 'handwrite', 'handwriting', 'handwritten', 'handy', 'hang', 'hanging', 'hangout', 'haojetso', 'haphazard', 'happen', 'happened', 'happens', 'happier', 'happily', 'happiness', 'happy', 'hard', 'hardcover', 'harderoveral', 'hardihood', 'hardly', 'hardness', 'hardscape', 'hardship', 'hardtack', 'hardware', 'hardwareaestheticaly', 'hardwaredespite', 'hardwarethe', 'hardy', 'harley', 'harm', 'harmful', 'harmony', 'harness', 'harp', 'harris', 'harsh', 'hasn', 'haste', 'hastily', 'hat', 'hata', 'hatchet', 'hate', 'hated', 'haul', 'havana', 'have', 'haveaple', 'haveinternet', 'haven', 'having', 'havingsome', 'havoc', 'hawaii', 'hawaiian', 'hawker', 'hay', 'haywire', 'hazard', 'hazardous', 'haze', 'haziness', 'he', 'head', 'headache', 'headband', 'headbandcomfortableturn', 'headbandsound', 'headgear', 'headhone', 'headlamp', 'headline', 'headphone', 'headphonesblueant', 'headphonescon', 'headpiece', 'headset', 'headsetat', 'headsetflat', 'headsethen', 'headseti', 'headsetlast', 'headsetscontrol', 'headsetslot', 'headsetso', 'headsetusb', 'headsret', 'headstrong', 'heal', 'healing', 'health', 'healthy', 'heap', 'heaphone', 'hear', 'heard', 'hearing', 'hearphone', 'heart', 'heartbreaking', 'heartburn', 'hearted', 'heartfelt', 'heartily', 'hearty', 'heat', 'heated', 'heating', 'heave', 'heaven', 'heavenly', 'heavier', 'heavily', 'heavy', 'hee', 'heed', 'heh', 'hehehonestly', 'height', 'held', 'helena', 'helicopter', 'hell', 'hello', 'helmet', 'help', 'helped', 'helper', 'helpful', 'helping', 'helps', 'hemorage', 'hemp', 'hempen', 'hence', 'her', 'herbert', 'herd', 'here', 'heritage', 'hero', 'heroine', 'hers', 'herself', 'hesdphone', 'hesitate', 'hesitation', 'hetty', 'hew', 'hey', 'hi', 'hiccup', 'hid', 'hidden', 'hide', 'hideous', 'hiding', 'high', 'higher', 'highest', 'highlight', 'highlighting', 'highly', 'highlyrecomend', 'highness', 'highway', 'hilarious', 'hilariously', 'hill', 'hillock', 'hilly', 'him', 'himself', 'hind', 'hinder', 'hindrance', 'hinge', 'hint', 'hip', 'hire', 'his', 'hiss', 'historical', 'history', 'hit', 'hlcrio', 'hm', 'ho', 'hobby', 'hockey', 'hodgkin', 'hofs', 'hog', 'hoist', 'hold', 'holder', 'holderthat', 'holding', 'holds', 'holdthe', 'hole', 'holiday', 'hollow', 'hollywood', 'holy', 'homage', 'home', 'homemade', 'homeowner', 'homepage', 'homeschole', 'homescren', 'homework', 'homeysoft', 'honest', 'honestly', 'honesty', 'honey', 'honeycomb', 'honor', 'honoring', 'hood', 'hoodwinking', 'hoofs', 'hook', 'hooked', 'hoop', 'hop', 'hope', 'hoped', 'hopeful', 'hopefully', 'hoping', 'horiblenot', 'horizon', 'horizontal', 'horizontally', 'horn', 'horner', 'horrendous', 'horrible', 'horribly', 'horrid', 'horror', 'horse', 'hospital', 'host', 'hostess', 'hostile', 'hot', 'hotdog', 'hotel', 'hothouse', 'hotmail', 'hotspot', 'hound', 'hour', 'houreficiency', 'hoursbatery', 'hoursbep', 'hoursdriver', 'hoursmusic', 'hourstalk', 'hoursthe', 'house', 'household', 'housethe', 'housing', 'houston', 'hover', 'how', 'however', 'howl', 'hpctufso', 'htm', 'html', 'http', 'hub', 'huddle', 'hue', 'hug', 'huge', 'hughes', 'hull', 'hum', 'human', 'humble', 'humerus', 'humid', 'humidity', 'humming', 'humor', 'hump', 'hunchback', 'hundred', 'hung', 'hunger', 'hungry', 'hunt', 'hunter', 'hunting', 'hurricane', 'hurry', 'hurt', 'husband', 'husky', 'hut', 'hybridandglas', 'hybridthe', 'hydra', 'hygienic', 'hyp', 'hyper', 'hyperion', 'hypersensitive', 'hypersensitivity', 'hypothetical', 'iblasom', 'ice', 'icel', 'ich', 'icipio', 'icolkit', 'icon', 'icy', 'idea', 'ideal', 'ideally', 'identical', 'identically', 'identicalmediabridge', 'identification', 'identify', 'idiot', 'idiotic', 'idle', 'idly', 'if', 'ignore', 'iheartradio', 'ii', 'iii', 'ill', 'illegal', 'illinois', 'illuminate', 'illuminated', 'illumination', 'illusion', 'illustrate', 'illustration', 'iluminator', 'ilya', 'ilyin', 'image', 'imaginable', 'imagination', 'imagine', 'imbedded', 'imersive', 'imitation', 'imlay', 'immaculate', 'immature', 'immeasurable', 'immeasurably', 'immediate', 'immediately', 'immensely', 'immersion', 'imminent', 'immortal', 'immune', 'imp', 'impact', 'impaction', 'impair', 'impaired', 'impart', 'impartial', 'impatient', 'impede', 'impenetrable', 'imperative', 'imperceptible', 'imperfect', 'imperfection', 'imperial', 'imperious', 'impersonal', 'impersonationof', 'implacable', 'implement', 'implementation', 'implicate', 'implicit', 'implie', 'imply', 'import', 'importance', 'important', 'importantly', 'impose', 'impossible', 'impresions_se', 'impress', 'impressed', 'impression', 'impressive', 'imprint', 'impromptu', 'improperly', 'improve', 'improved', 'improvement', 'improves', 'improvise', 'impulse', 'impute', 'imradestluy', 'in', 'inability', 'inaccessibility', 'inaccessible', 'inaccurate', 'inactive', 'inadequate', 'inadvertently', 'inappropriate', 'inarguably', 'inateck', 'inaudible', 'inbetwen', 'incentive', 'inception', 'inch', 'incharger', 'inchespower', 'inchscren', 'incident', 'incidental', 'incise', 'incised', 'incision', 'incline', 'inclined', 'include', 'included', 'includedbut', 'includedcon', 'includingbelkin', 'inclusion', 'inclusive', 'incognito', 'income', 'incomparably', 'incompatibility', 'incompatible', 'incompetence', 'incompetent', 'incomplete', 'incomprehensible', 'inconsequential', 'inconsistency', 'inconsistent', 'inconspicous', 'inconvenience', 'inconvenient', 'inconvience', 'incorporate', 'incorporated', 'incorrect', 'incorrectly', 'increase', 'increasingly', 'incredible', 'incredibly', 'incredicharge', 'incredisonic', 'increditcharge', 'increment', 'incremental', 'incurable', 'indecipherable', 'indeed', 'indefinitely', 'indentation', 'independent', 'independently', 'indestructible', 'index', 'india', 'indiana', 'indicate', 'indicating', 'indication', 'indicative', 'indicator', 'indict', 'indigo', 'indispensable', 'indistinguishable', 'individual', 'individually', 'indolent', 'indoor', 'induce', 'induction', 'induration', 'industrial', 'industrious', 'industry', 'ineffective', 'inefficiency', 'inevitable', 'inevitably', 'inexpensively', 'inexpensiveprotectivealow', 'inexperience', 'infamous', 'infancy', 'infective', 'infer', 'inferior', 'infiniap', 'infinite', 'infinitely', 'infinitesimal', 'infinity', 'inflame', 'inflammable', 'inflate', 'inflated', 'inflict', 'inflow', 'influence', 'infogod', 'inform', 'informal', 'information', 'informativedecent', 'informed', 'infotainment', 'infrastructure', 'infrequent', 'infrequently', 'infringe', 'infuriate', 'ing', 'ingenious', 'ingress', 'inhale', 'inherent', 'inherently', 'inherit', 'inhibit', 'initial', 'initialize', 'initially', 'initiate', 'injection', 'injury', 'ink', 'inkstand', 'inland', 'innard', 'inner', 'innovation', 'innovative', 'innumerable', 'innyard', 'inoperable', 'inopportune', 'input', 'inquire', 'inquiry', 'insane', 'insanely', 'insect', 'inseparable', 'insert', 'inserting', 'insertion', 'inside', 'insidious', 'insight', 'insignia', 'insignificant', 'insist', 'insomnia', 'inspect', 'inspection', 'inspire', 'inspiring', 'instagram', 'instal', 'instalafter', 'instaledupdate', 'install', 'installation', 'installed', 'installing', 'instance', 'instant', 'instantaneously', 'instantly', 'instapark', 'instead', 'insteadgot', 'instep', 'instinct', 'instinctively', 'institute', 'instruct', 'instruction', 'instructionspro', 'instructionswould', 'instrument', 'instrumental', 'instrumentation', 'insufficient', 'insulate', 'insulated', 'insult', 'insulting', 'insurance', 'insure', 'intact', 'intake', 'integral', 'integrate', 'integrated', 'integration', 'integrity', 'intelligent', 'intelligently', 'intelligibility', 'intend', 'intended', 'intending', 'intense', 'intensely', 'intensity', 'intensive', 'intent', 'intention', 'intentional', 'intentionally', 'intently', 'inter', 'interact', 'interaction', 'interactive', 'intercept', 'interchange', 'interchangeable', 'interconnect', 'interest', 'interested', 'interesting', 'interface', 'interfacemultiple', 'interfere', 'interference', 'interim', 'interior', 'interlock', 'interlocutor', 'intermediate', 'intermittent', 'intermittently', 'internal', 'internally', 'international', 'internet', 'interpret', 'interpretation', 'interrupt', 'interrupted', 'interruption', 'interstate', 'interval', 'interview', 'interwebs', 'intima', 'intimate', 'intimidate', 'into', 'intocircuit', 'intolerable', 'intothe', 'intoxicating', 'intra', 'intractable', 'intrigue', 'introduce', 'introduction', 'introspect', 'intrude', 'intrusion', 'intuition', 'inure', 'invalidate', 'invaluable', 'invariably', 'invasion', 'invent', 'invention', 'invert', 'inverted', 'invest', 'investigate', 'investigation', 'investment', 'invincible', 'invishield', 'invisible', 'invisibleshield', 'invisisheid', 'invisishied', 'invisishield', 'invitation', 'invite', 'inviting', 'invivibleshield', 'invoke', 'involve', 'involved', 'inward', 'inwhiteorblack', 'iogel', 'iomega', 'ion', 'ipadmini', 'ipadport', 'ipadthis', 'ipadwork', 'iphonealthough', 'iphonish', 'iridescent', 'iris', 'irish', 'iron', 'ironclad', 'ironic', 'ironically', 'irony', 'irregularity', 'irrelevant', 'irremediable', 'irreplaceable', 'irresistible', 'irrigation', 'irritable', 'irritate', 'irritated', 'irritating', 'irritation', 'isa', 'island', 'ism', 'isn', 'iso', 'isolate', 'isolated', 'isolation', 'isopropyl', 'issue', 'ist', 'isueable', 'isuesget', 'isuethird', 'it', 'itching', 'itchy', 'ite', 'item', 'itemkind', 'itemthat', 'itfoldable', 'iting', 'itlok', 'itnback', 'its', 'itself', 'itselflightweightcan', 'iv', 'ivory', 'ix', 'jabber', 'jack', 'jacket', 'jackson', 'jacque', 'jadmphaxqw', 'jagged', 'jail', 'jailbreak', 'jailbreake', 'jailbroken', 'jajajajafit', 'jam', 'jame', 'jammed', 'jan', 'jane', 'january', 'japan', 'japanese', 'jar', 'jarring', 'jaunty', 'javascript', 'jaw', 'jawbone', 'jay', 'jaybird', 'jazz', 'jealous', 'jean', 'jelly', 'jellyfish', 'jelybean', 'jena', 'jerk', 'jerked', 'jerky', 'jest', 'jester', 'jesus', 'jet', 'jetpack', 'jewel', 'jigsaw', 'jim', 'jimmy', 'jingle', 'jitterbug', 'job', 'jobsite', 'joe', 'john', 'join', 'joint', 'jointly', 'joke', 'joking', 'jolly', 'jolt', 'jones', 'jose', 'jostle', 'jot', 'journey', 'joy', 'joyiqi', 'joystick', 'jr', 'juan', 'judge', 'judgement', 'judging', 'judgment', 'juice', 'juicepak', 'jukebox', 'julia', 'julian', 'julie', 'july', 'jump', 'jumper', 'jumping', 'junction', 'june', 'jungle', 'junior', 'just', 'justice', 'justified', 'justify', 'justo', 'jutting', 'kalisch', 'kaliteli', 'kaluga', 'kansa', 'karay', 'karendeal', 'katflexible', 'katinkas', 'kayaking', 'kayscase', 'kazan', 'ke', 'keen', 'keener', 'keenly', 'keep', 'keeper', 'keeping', 'keeps', 'ken', 'kensington', 'kent', 'keperfeb', 'kept', 'kersey', 'kesinlikle', 'kettle', 'key', 'keyboard', 'keyboardslow', 'keychain', 'keyfob', 'keyhole', 'keypad', 'keystroke', 'keystrokes', 'keyword', 'khzsignal', 'kick', 'kicking', 'kickstand', 'kickstandle', 'kickstarter', 'kid', 'kill', 'killer', 'killing', 'kilobyte', 'kilogram', 'kind', 'kindle', 'kindly', 'kindness', 'king', 'kingdom', 'kinivo', 'kinvio', 'kirk', 'kirsten', 'kismetwirele', 'kiss', 'kit', 'kitchen', 'kitty', 'klutzy', 'kneeling', 'knew', 'knife', 'knight', 'knit', 'knive', 'knob', 'knock', 'knocked', 'knockoff', 'knoll', 'knot', 'knotted', 'know', 'knowing', 'knowledge', 'known', 'knox', 'koko', 'kolya', 'kuz', 'kyocera', 'kyrzykstan', 'la', 'lab', 'label', 'labor', 'laborer', 'labradodle', 'lace', 'laceseler', 'lack', 'lacking', 'lackluster', 'lad', 'ladder', 'laden', 'lady', 'lag', 'laggard', 'lake', 'lambskin', 'lame', 'lamentable', 'lamina', 'laminate', 'lamp', 'lance', 'land', 'landfill', 'landing', 'landscape', 'lane', 'language', 'lanoline', 'lantern', 'lap', 'lapdock', 'lapse', 'laptopmate', 'laptopso', 'large', 'largely', 'larger', 'largerincredicharge', 'largish', 'las', 'lascar', 'laser', 'lash', 'last', 'lastly', 'latch', 'late', 'lately', 'later', 'lateral', 'latest', 'lathe', 'latitude', 'latter', 'laugh', 'laughably', 'launch', 'launched', 'laura', 'lavender', 'law', 'lawless', 'lawn', 'lawnmower', 'lawsuit', 'lawton', 'lay', 'layer', 'laying', 'layout', 'laziness', 'lazy', 'lb', 'le', 'lead', 'leaden', 'leader', 'leadership', 'leaf', 'league', 'leak', 'leakage', 'lean', 'leap', 'learn', 'learner', 'learning', 'lease', 'leash', 'least', 'leastfour', 'leather', 'leatherback', 'leatherette', 'leatherish', 'leave', 'leaves', 'leaving', 'lecture', 'ledge', 'lee', 'left', 'leftover', 'leg', 'legacy', 'legal', 'legally', 'legend', 'legendary', 'legible', 'legitimate', 'leisurely', 'leland', 'lemon', 'len', 'lend', 'length', 'lengthen', 'lengthened', 'lengthpro', 'lengthwise', 'lengthy', 'lens', 'lense', 'lent', 'leon', 'leopard', 'leopardprint', 'les', 'less', 'lessen', 'lesser', 'lesson', 'lest', 'let', 'lets', 'letter', 'letting', 'level', 'leveled', 'lever', 'li', 'liability', 'liable', 'liar', 'liberally', 'liberate', 'liberating', 'library', 'lice', 'licence', 'license', 'licensed', 'lick', 'lid', 'lie', 'lieu', 'life', 'life_prof', 'lifecase', 'lifecharge', 'lifechat', 'lifecon', 'lifehacker', 'lifeless', 'lifepriceclear', 'lifeprof', 'lifesaver', 'lifesmother', 'lifespan', 'lifestyle', 'lifetime', 'lift', 'lifting', 'ligament', 'light', 'lighted', 'lighter', 'lightest', 'lighthorse', 'lighting', 'lightly', 'lightne', 'lightness', 'lightning', 'lightprotect', 'lightscon', 'lightsurounde', 'lightweight', 'lightweighthinfit', 'lightweightwarning', 'like', 'likebodyguardz', 'likebut', 'liked', 'likedatex', 'likekind', 'likelihood', 'likely', 'likemicrosoft', 'likeoveral', 'likeplantronic', 'likeplease', 'likewise', 'liking', 'limb', 'limber', 'lime', 'limefuel', 'limit', 'limitation', 'limited', 'limitedsample', 'limiting', 'limitless', 'line', 'lineage', 'linear', 'lineclear', 'lined', 'linegogle', 'linen', 'liner', 'linethis', 'linger', 'lingo', 'lining', 'link', 'linoleum', 'linsey', 'linstock', 'lint', 'lip', 'lipped', 'lipping', 'lipstick', 'liquid', 'liquidaux', 'lisa', 'list', 'listed', 'listen', 'listenable', 'listened', 'listener', 'listening', 'listing', 'lit', 'litelringtune', 'literal', 'literally', 'literary', 'literate', 'literature', 'lithium', 'litlepricey', 'litter', 'little', 'live', 'liveaction', 'liver', 'living', 'll', 'lo', 'load', 'loaded', 'loading', 'loathe', 'lobby', 'local', 'localise', 'locally', 'locate', 'locating', 'location', 'lock', 'locke', 'locked', 'locking', 'lockscren', 'lockup', 'lodge', 'log', 'logging', 'logic', 'logical', 'login', 'logitech', 'logoand', 'lokingbut', 'lokingeasy', 'lokinglok', 'loksmoth', 'loldefinitely', 'loltwo', 'lone', 'lonely', 'long', 'longevity', 'longshot', 'longtime', 'look', 'looked', 'looking', 'lookout', 'looks', 'loop', 'loose', 'loosely', 'loosen', 'loosened', 'looseness', 'looter', 'lopsided', 'lord', 'los', 'lose', 'losing', 'loss', 'lost', 'lot', 'lotion', 'lottery', 'loud', 'louder', 'loudest', 'loudly', 'loudspeaker', 'louis', 'lounge', 'louse', 'love', 'lovecuteadorablevery', 'loved', 'lovely', 'lover', 'loves', 'low', 'lowcheck', 'lower', 'lowered', 'lowerpriceusa', 'lowest', 'lowly', 'loyal', 'loyalist', 'loyalty', 'ltesamsung', 'lubricant', 'lucia', 'lucid', 'luck', 'luckily', 'lucky', 'luggage', 'lui', 'luke', 'lumbo', 'luminous', 'lump', 'lunatic', 'lunch', 'lupus', 'lure', 'lurk', 'luster', 'lustrous', 'luxepave', 'luxurious', 'luxury', 'ly', 'lydia', 'lymph', 'lynch', 'lyric', 'lysol', 'ma', 'mac', 'macdonald', 'machine', 'machinery', 'mack', 'mackintosh', 'mad', 'madden', 'made', 'madeningly', 'madesome', 'madewhile', 'madrid', 'madura', 'magazine', 'magellan', 'magic', 'magical', 'magically', 'magicbox', 'magician', 'magnet', 'magnetic', 'magnetically', 'magnetize', 'magnification', 'magnificent', 'magnify', 'magnifying', 'magnitude', 'magnum', 'mahbatery', 'mahcharge', 'mahportable', 'maid', 'maiden', 'mail', 'mailbox', 'main', 'mainframe', 'mainly', 'mainstream', 'maintain', 'maintenance', 'major', 'majority', 'make', 'maker', 'makes', 'makeshift', 'making', 'mal', 'male', 'malfunction', 'malfunctioning', 'malice', 'mall', 'malo', 'malta', 'mamma', 'man', 'manage', 'manageable', 'management', 'manager', 'mandatory', 'maneuver', 'mange', 'manhandle', 'manhattan', 'mania', 'manila', 'manipulate', 'manipulation', 'mankind', 'manly', 'manned', 'manner', 'manor', 'manpower', 'manual', 'manualfirst', 'manufacture', 'manufactured', 'manufacturer', 'manufacturerpayment', 'manufacturing', 'manure', 'many', 'map', 'mapmyfitne', 'mapping', 'mapqu', 'mapquest', 'marathon', 'marble', 'march', 'margin', 'marginal', 'marimbas', 'marina', 'marine', 'maritime', 'mark', 'marked', 'markedly', 'marker', 'market', 'marketable', 'marketing', 'marketingpayment', 'marketplace', 'marking', 'marque', 'marred', 'marriage', 'marrow', 'marry', 'martial', 'marulab', 'marvelous', 'marvelously', 'mary', 'maryland', 'masculine', 'mash', 'mask', 'mass', 'massachusett', 'massage', 'masse', 'massive', 'mast', 'master', 'masterpiece', 'mat', 'match', 'matched', 'matchingfrieq', 'mate', 'material', 'materialcon', 'materialgod', 'materialwhat', 'mathematical', 'matrix', 'matt', 'matted', 'matter', 'mattress', 'mature', 'maturity', 'mavra', 'mawr', 'max', 'maxbost', 'maximize', 'maximized', 'maximum', 'may', 'maybe', 'mayor', 'mb', 'mcferin', 'md', 'me', 'meadowlark', 'meager', 'meal', 'mean', 'meaning', 'meaningful', 'meaningless', 'meanly', 'means', 'meantime', 'meanwhile', 'measure', 'measured', 'measurement', 'meat', 'meatus', 'mechanic', 'mechanical', 'mechanism', 'mechanized', 'med', 'media', 'mediabridge', 'mediaeval', 'medial', 'mediamonkey', 'medical', 'medieval', 'mediocre', 'medium', 'meet', 'meeting', 'meg', 'megabit', 'megafile', 'megapixel', 'megapixelcamera', 'megapixil', 'megapixle', 'melisopalynology', 'melody', 'melon', 'melt', 'melted', 'member', 'membership', 'membrane', 'meme', 'memory', 'mental', 'mentally', 'mention', 'mentioned', 'mentioning', 'mentionvery', 'menu', 'menuchoice', 'merchandise', 'merchant', 'mercilessly', 'mercury', 'mercy', 'mere', 'merely', 'merge', 'merged', 'merger', 'merit', 'merrier', 'merry', 'mesh', 'mesmerizing', 'mess', 'message', 'messenger', 'metal', 'metallic', 'mete', 'method', 'methodology', 'meticulously', 'metier', 'metropc', 'metropcs', 'metropolis', 'metropolitan', 'mexican', 'mexico', 'mi', 'michael', 'micro', 'microchip', 'microfiber', 'microklear', 'micrometer', 'micropack', 'microphone', 'microphonemodular', 'microplug', 'microprocessor', 'microscopic', 'microsdcon', 'microsdhc', 'microsim', 'microsoft', 'microstubz', 'microsurgery', 'microusb', 'microwave', 'mid', 'midday', 'middle', 'middling', 'midge', 'midian', 'midnight', 'midrange', 'midst', 'midway', 'might', 'mighty', 'migrate', 'mike', 'mild', 'mildly', 'mile', 'mileage', 'miliamp', 'miliary', 'military', 'militaryshield', 'milk', 'milktoast', 'mill', 'milliampere', 'millimetre', 'million', 'millionaire', 'mimi', 'mimic', 'min', 'minbackground', 'mind', 'mindblowe', 'minded', 'mindedly', 'mine', 'minesweeper', 'mingle', 'miniature', 'minijack', 'minim', 'minimal', 'minimalist', 'minimalistic', 'minimize', 'minimum', 'miniscule', 'minisuite', 'minithis', 'minor', 'minority', 'minscren', 'mint', 'minuit', 'minus', 'minuscule', 'minute', 'minutely', 'minutesand', 'minutesport', 'mio', 'miracast', 'miracle', 'mirror', 'misadjuste', 'misalign', 'miscellaneous', 'misdirectedok', 'miserable', 'mishandle', 'misinterpret', 'misjudged', 'mislabele', 'mislead', 'misleading', 'misplace', 'misplaced', 'misrepresent', 'miss', 'missed', 'misshapen', 'missing', 'mission', 'misspell', 'misspelled', 'mist', 'mistake', 'mistaken', 'mistouch', 'misty', 'misunderstand', 'misunderstanding', 'mitigate', 'mitka', 'mitsubishi', 'mivizu', 'mix', 'mixed', 'mixture', 'mm', 'mo', 'mobile', 'mobilepro', 'mobilestore', 'mobility', 'mochiato', 'mode', 'modecon', 'modefrequency', 'model', 'modelsnedle', 'modeoveral', 'moderate', 'moderately', 'modern', 'modest', 'modestly', 'modification', 'modify', 'module', 'moine', 'moist', 'moisten', 'moisture', 'molasse', 'mold', 'molded', 'mole', 'moleskin', 'moment', 'momentarily', 'momentary', 'mon', 'monarch', 'monday', 'money', 'moneyupdate', 'monitor', 'monitoring', 'monkey', 'monochrome', 'monogram', 'monolithic', 'monopoly', 'monoprice', 'monster', 'montana', 'month', 'monthly', 'monthsdoublju', 'mood', 'moon', 'moonlight', 'moonshine', 'mop', 'moral', 'morally', 'morcar', 'more', 'morecube', 'moremotorola', 'moreover', 'moresamsung', 'moreupdate', 'morning', 'morphin', 'mortar', 'mortgage', 'mortier', 'mortification', 'mortify', 'mosaic', 'moscow', 'moss', 'most', 'mostly', 'mother', 'motherboard', 'motherland', 'motion', 'motionless', 'motivation', 'motive', 'motoactv', 'motoblur', 'motolola', 'motor', 'motorcycle', 'motorist', 'motorokr', 'motorola', 'motorolas', 'motorway', 'motospeak', 'motrola', 'motto', 'mound', 'mount', 'mountable', 'mountain', 'mountsince', 'mountwater', 'mouse', 'mousepad', 'mouth', 'mouthpiece', 'movable', 'move', 'moved', 'movement', 'movementsanyhow', 'moves', 'movie', 'mow', 'mowing', 'mr', 'mrs', 'ms', 'mt', 'mtscanot', 'much', 'muchmore', 'mucous', 'mucus', 'mud', 'muddle', 'muddy', 'muffle', 'muffled', 'mug', 'muir', 'multi', 'multicolor', 'multicore', 'multifunction', 'multifunctional', 'multilayer', 'multimedia', 'multimeter', 'multipiece', 'multiple', 'multiply', 'multipoint', 'multiport', 'multipurpose', 'multitask', 'multitaske', 'multitasking', 'multitouch', 'multitude', 'mumble', 'mumbling', 'mummy', 'munch', 'munching', 'mundane', 'mundi', 'munition', 'murat', 'murder', 'murky', 'murphy', 'musbconsidere', 'muscle', 'musculo', 'muse', 'music', 'musical', 'musician', 'musicskip', 'musicwhat', 'muss', 'must', 'mustache', 'mustard', 'muster', 'mute', 'mutiny', 'mutter', 'muzzle', 'my', 'myaltec', 'myblueant', 'mycotic', 'myetymotic', 'myfavcel', 'myipad', 'myiphone', 'mylimeade', 'mymarware', 'mypolaroid', 'mypowergen', 'myriad', 'mysamsung', 'mysenheiser', 'mysterious', 'mysteriously', 'mystery', 'mystic', 'mystical', 'myth', 'mytouchtc', 'myverizon', 'na', 'nag', 'nail', 'naive', 'naively', 'naked', 'name', 'namely', 'nameplate', 'namesake', 'nanopaod', 'nanopod', 'nanosim', 'nap', 'napkin', 'narrative', 'narrow', 'nasal', 'nashville', 'nasi', 'naso', 'nasty', 'natal', 'natalie', 'nation', 'national', 'native', 'natural', 'naturally', 'nature', 'navagational', 'navigable', 'navigation', 'navigationist', 'navigator', 'navvy', 'navy', 'naztech', 'ncjvr', 'nd', 'near', 'nearby', 'nearly', 'nearsighte', 'neat', 'neatly', 'necessarily', 'necessary', 'necessitate', 'necessity', 'neck', 'neckband', 'necklace', 'neckstrap', 'need', 'needed', 'needing', 'needless', 'needlessly', 'needs', 'needy', 'negative', 'negativeshow', 'neglect', 'negligible', 'negotiate', 'neighbor', 'neighborhood', 'neither', 'neo', 'neohybrid', 'neoprene', 'nephew', 'nephews', 'nerve', 'nervous', 'nervously', 'nervousness', 'ness', 'nest', 'net', 'netbok', 'netflix', 'nether', 'network', 'networking', 'networldoverstock', 'neuro', 'neuropathic', 'neutral', 'nevada', 'never', 'neverthe', 'nevertheless', 'new', 'newampen', 'newark', 'newby', 'newcomer', 'newdelta', 'newer', 'newerjabra', 'newest', 'newkindle', 'newly', 'news', 'newscast', 'newsstand', 'newton', 'newtrent', 'next', 'nextlauncher', 'nexus', 'nexusamsung', 'nexusone', 'nfcfor', 'nfcno', 'nfcthese', 'ni', 'nice', 'nicely', 'nicephone', 'nicer', 'nicespigen', 'nicest', 'niche', 'nicholsonraynicholsonsreviews', 'nick', 'nickel', 'niece', 'nieman', 'nigh', 'night', 'nightly', 'nightmare', 'nightstand', 'nighttime', 'nikita', 'nimble', 'nina', 'nine', 'ninety', 'nipper', 'nipple', 'nissan', 'nitpick', 'nitpicker', 'nitric', 'nl', 'nm', 'no', 'noacesorysplash', 'nobility', 'noble', 'nobody', 'nod', 'nodular', 'noise', 'noiseasasin', 'noisecon', 'noisethank', 'noisethis', 'noisy', 'nokias', 'noma', 'nominal', 'non', 'noncapacitive', 'none', 'nonetheless', 'nonsense', 'nonskid', 'nonstop', 'nontraditional', 'nook', 'noon', 'norm', 'normal', 'normally', 'north', 'northeast', 'northern', 'northwest', 'norway', 'nose', 'not', 'notable', 'notably', 'notch', 'note', 'notebook', 'noted', 'notepad', 'notepaper', 'nothing', 'notice', 'noticeable', 'noticeably', 'noticed', 'noticedthat', 'noticing', 'notifie', 'notify', 'notorious', 'notoriously', 'notstay', 'notwithstanding', 'nov', 'nova', 'novel', 'novelty', 'november', 'novice', 'novo', 'now', 'nowadays', 'nowhere', 'nowthis', 'nt', 'nuclear', 'nudging', 'nuisance', 'numb', 'number', 'numbered', 'numbering', 'numerical', 'numerous', 'nurse', 'nut', 'nutrition', 'nuts', 'nutshell', 'ny', 'oak', 'oasis', 'obey', 'object', 'objectionable', 'objective', 'objectsthis', 'obligation', 'oblige', 'oblivion', 'obnoxious', 'obscure', 'obscurely', 'obscurity', 'observation', 'observationsfit', 'observe', 'obsess', 'obsessed', 'obsessive', 'obsolete', 'obstacle', 'obstruct', 'obstructed', 'obstructedthe', 'obstruction', 'obtain', 'obvious', 'obviously', 'occasion', 'occasional', 'occasionally', 'occupant', 'occupation', 'occupie', 'occupy', 'occur', 'occurrence', 'occurring', 'ocean', 'oceanic', 'ocsaionaly', 'oct', 'october', 'octopus', 'ocurance', 'odd', 'oddball', 'oddly', 'odor', 'odyssey', 'oe', 'of', 'off', 'offensive', 'offer', 'offering', 'office', 'official', 'officially', 'offload', 'offset', 'often', 'oftentime', 'oh', 'oh_aui_detailpage_o', 'oh_details_o', 'ohio', 'oho', 'oil', 'oily', 'ointment', 'ok', 'okay', 'old', 'olderduracel', 'ole', 'oleate', 'oleophobic', 'olin', 'olive', 'olmutz', 'om', 'omaha', 'omigosh', 'omit', 'omne', 'on', 'once', 'oncome', 'oncoming', 'one', 'oneconsnone', 'onedrive', 'onehapy', 'onehtc', 'onerous', 'onestepahead', 'onetmeyersbronx', 'oneuniversal', 'online', 'only', 'onlytok', 'onscren', 'onset', 'ont', 'onto', 'onya', 'oo', 'ooh', 'ooze', 'op', 'opaque', 'open', 'opening', 'openly', 'openmic', 'openofice', 'opensource', 'opera', 'operability', 'operable', 'operate', 'operated', 'operating', 'operation', 'operational', 'operationgreat', 'operative', 'operator', 'opinion', 'opinionate', 'opportunity', 'oppose', 'opposed', 'opposite', 'oppression', 'opt', 'optic', 'optical', 'optimally', 'optimism', 'optimistic', 'optimization', 'optimize', 'option', 'optional', 'optionbig', 'optionslok', 'or', 'oral', 'orange', 'orb', 'orchestra', 'ordeal', 'order', 'ordered', 'ordering', 'orderly', 'ordinary', 'org', 'organ', 'organic', 'organization', 'organize', 'organized', 'organizer', 'orient', 'orientation', 'orifice', 'origami', 'origin', 'original', 'originally', 'originated', 'oringaly', 'orklipsch', 'os', 'ostensibly', 'osteo', 'osteoarthritis', 'ostrowski', 'otebox', 'oterbein', 'oterbox', 'oterboxe', 'oteroterbox', 'other', 'otherbox', 'otherexternal', 'othersbulky', 'otherseler', 'othershave', 'otherwise', 'ou', 'ought', 'ounce', 'ounceshipe', 'ounceshow', 'ouncesome', 'our', 'ousting', 'out', 'outback', 'outbound', 'outcast', 'outcome', 'outdate', 'outdated', 'outdo', 'outdoing', 'outdone', 'outdoor', 'outer', 'outerbox', 'outershel', 'outfeature', 'outfit', 'outfits', 'outing', 'outlast', 'outlaw', 'outlet', 'outline', 'outlook', 'outnumber', 'outperform', 'outpost', 'output', 'outputbasicaly', 'outrage', 'outrageous', 'outre', 'outright', 'outside', 'outsource', 'outstanding', 'outstandinglas', 'outward', 'outweigh', 'outweighs', 'oval', 'over', 'overagemy', 'overalgreat', 'overalhardware', 'overall', 'overbear', 'overbearing', 'overboard', 'overbuilt', 'overcast', 'overcharge', 'overcoat', 'overcome', 'overcompensate', 'overcomprese', 'overdriven', 'overextend', 'overflow', 'overgrown', 'overhang', 'overhanging', 'overhaul', 'overhead', 'overhear', 'overheard', 'overhearing', 'overhung', 'overinflate', 'overjoy', 'overlap', 'overlay', 'overlie', 'overload', 'overlook', 'overlying', 'overnight', 'overnighte', 'overpackaged', 'overpower', 'overpowered', 'overprice', 'overpriced', 'overprocese', 'overreach', 'override', 'overrule', 'oversaturate', 'oversea', 'overseas', 'overseen', 'oversharpened', 'oversight', 'oversized', 'overstate', 'overstatement', 'overstock', 'overtaking', 'overtop', 'overview', 'overwhelm', 'overwhelming', 'owe', 'owl', 'own', 'owner', 'ownership', 'owning', 'ownwith', 'ox', 'oxidize', 'oxygen', 'oz', 'ozone', 'pa', 'pace', 'pacheco', 'pacific', 'pack', 'package', 'packagewith', 'packagingthe', 'packbatery', 'packdesign', 'packed', 'packedbefore', 'packedwith', 'packet', 'packing', 'packscheap', 'packsfrom', 'packthis', 'pad', 'padded', 'padlock', 'page', 'pageboy', 'pageplus', 'pago', 'paid', 'pain', 'paine', 'painful', 'painfully', 'painless', 'painpoint', 'paint', 'paintball', 'paintbrush', 'painting', 'pair', 'pairingconect', 'pairs', 'pal', 'palate', 'pale', 'paler', 'palm', 'palmar', 'palmpilot', 'pamphlet', 'panama', 'panasonic', 'pancake', 'pandoraone', 'pane', 'panel', 'panic', 'panorama', 'papa', 'papal', 'paper', 'paperback', 'paperclip', 'paperweight', 'paperwhite', 'paperwork', 'par', 'para', 'parade', 'parading', 'paradise', 'paradol', 'paradoxical', 'paragraph', 'parallel', 'paralyzed', 'parameter', 'paramount', 'paranoid', 'pardon', 'pare', 'parent', 'paring', 'paris', 'parish', 'park', 'parking', 'parlour', 'parma', 'parrot', 'part', 'partial', 'partially', 'particle', 'particular', 'particularly', 'parting', 'partition', 'partly', 'partner', 'partnership', 'party', 'pas', 'pasedvoice', 'pass', 'passage', 'passed', 'passenger', 'passive', 'passively', 'passport', 'password', 'past', 'paste', 'pasteur', 'pasthrough', 'pastime', 'paswordonce', 'patch', 'patchwork', 'patent', 'patentee', 'path', 'pathetic', 'pathetically', 'patience', 'patient', 'patriot', 'patriotic', 'patter', 'pattern', 'patty', 'patuoxu', 'pause', 'pavement', 'pavilion', 'paw', 'pawn', 'pay', 'payable', 'payment', 'pdp_new_dp_reviewit', 'pe', 'peace', 'peaceful', 'peacetime', 'peacock', 'peak', 'peal', 'pearl', 'pebble', 'peche', 'pectoral', 'peculiar', 'pedestal', 'pedometer', 'peel', 'peeled', 'peeling', 'peep', 'peeped', 'peer', 'peg', 'peggy', 'pellet', 'pelvis', 'pen', 'penalize', 'pencil', 'pende', 'penetration', 'penguin', 'penis', 'penn', 'penny', 'pentalobe', 'penthouse', 'penultimate', 'penza', 'people', 'pepper', 'per', 'perceive', 'percent', 'percentage', 'percentagewould', 'perceptible', 'perception', 'perch', 'perfect', 'perfectamente', 'perfection', 'perfectionist', 'perfectly', 'perfectlyb', 'perfectoutline', 'perfectvolume', 'perforate', 'perforated', 'perforating', 'perforation', 'perform', 'performance', 'performer', 'performing', 'perfume', 'perhaps', 'peri', 'perimiter', 'period', 'periodic', 'periodically', 'peripheral', 'periwinkle', 'permanent', 'permanently', 'permeate', 'permit', 'peroneal', 'perpendicular', 'perpetually', 'perplex', 'perplexed', 'persist', 'persistence', 'person', 'personal', 'personality', 'personalization', 'personalize', 'personalized', 'personally', 'perspective', 'perspiration', 'persuade', 'pervious', 'pet', 'peter', 'petere', 'petered', 'petite', 'petition', 'petitioning', 'petty', 'pew', 'phantom', 'phase', 'phenomena', 'phenomenally', 'phenomenon', 'phil', 'philip', 'philippine', 'philosophy', 'phobic', 'phoenix', 'phone', 'phoneand', 'phonebook', 'phonebut', 'phonecal', 'phonecase', 'phonecompare', 'phonecon', 'phonefit', 'phonefor', 'phonefourten', 'phoneget', 'phonehalo', 'phonelow', 'phonenerd', 'phoneotherwise', 'phoneoveral', 'phoneprotection', 'phonequality', 'phonescren', 'phonesuite', 'phoneupdate', 'phoneyou', 'photo', 'photogenic', 'photograph', 'photographer', 'photographic', 'photography', 'photojojo', 'photoshop', 'photospower', 'physical', 'physically', 'piano', 'pick', 'picket', 'picking', 'picnic', 'pictbridge', 'pictogram', 'picture', 'pictured', 'pie', 'piece', 'piecescon', 'piecewindsockmanualpaire', 'pier', 'pierce', 'pierre', 'pig', 'piggyback', 'pigment', 'pigtail', 'pile', 'pill', 'pillow', 'pilot', 'pin', 'pinch', 'pink', 'pinkish', 'pinnacle', 'pioneer', 'pip', 'pipe', 'pirate', 'pirie', 'pistol', 'pit', 'pitch', 'pitcher', 'pitching', 'piti', 'pitiful', 'pity', 'pixelated', 'pixelation', 'pixelskin', 'place', 'placement', 'placing', 'plague', 'plaid', 'plain', 'plait', 'plan', 'planatronic', 'plane', 'planet', 'plank', 'planner', 'planning', 'plant', 'plantation', 'plantinumtel', 'plantroic', 'plantronic', 'plaster', 'plastic', 'plasticize', 'plate', 'plateau', 'platform', 'platino', 'platinumtel', 'platonic', 'plausible', 'play', 'playback', 'playbackand', 'playbackthe', 'playbook', 'playdecent', 'player', 'playercon', 'playertrue', 'playful', 'playground', 'playing', 'playingtrue', 'playlist', 'playstore', 'plea', 'pleasant', 'pleasantly', 'please', 'pleased', 'pleasing', 'pleasure', 'pledge', 'pledged', 'plentiful', 'plenty', 'plethoric', 'plexiglass', 'plextonium', 'plexus', 'pliable', 'plot', 'plover', 'plow', 'plug', 'plugged', 'plugging', 'plugwonderful', 'plum', 'plumber', 'plume', 'plunge', 'plunie', 'plural', 'plus', 'plush', 'ply', 'pm', 'pmb', 'pobox', 'pocektability', 'pock', 'pocket', 'pocketability', 'pocketable', 'pocketbook', 'pocketcon', 'pocketenergy', 'pocketoveral', 'podcast', 'podprop', 'poetic', 'point', 'pointed', 'pointer', 'pointing', 'poison', 'poke', 'poker', 'poking', 'poland', 'polarize', 'polarized', 'pole', 'police', 'policy', 'polish', 'polished', 'polite', 'politely', 'politically', 'polk', 'polkadot', 'poll', 'pollen', 'poloroid', 'poly', 'polycarb', 'polycarbonate', 'polycarbonite', 'polycom', 'polymer', 'polypus', 'polyurethane', 'pompous', 'pond', 'pontiac', 'pony', 'ponytail', 'pool', 'poor', 'poorhouse', 'poorly', 'pop', 'popping', 'poppy', 'popular', 'popularity', 'population', 'porcelain', 'porch', 'port', 'portabilityetronic', 'portabilitysemi', 'portable', 'portagrip', 'portal', 'porter', 'portion', 'porto', 'portrait', 'portraitsare', 'portray', 'portswork', 'pose', 'position', 'positive', 'positively', 'possess', 'possesse', 'possession', 'possibility', 'possible', 'possibly', 'post', 'postage', 'postal', 'postcard', 'poster', 'posting', 'postpone', 'postyou', 'pot', 'potato', 'potential', 'potentially', 'pothole', 'pottery', 'pouch', 'pouchspec', 'pound', 'pour', 'powder', 'poweplant', 'power', 'poweramp', 'powerbank', 'powerbolt', 'powerbot', 'powercube', 'powerfast', 'powerful', 'powergen', 'powergrid', 'powerjolt', 'powermat', 'powerpack', 'powerpak', 'powerplant', 'powerpoint', 'powershel', 'powerskin', 'powersleve', 'powerstrip', 'powersuportusa', 'powertip', 'powervault', 'pox', 'pp', 'practical', 'practically', 'practice', 'practicing', 'praise', 'pratzen', 'pray', 'prayer', 'pre', 'preach', 'precarious', 'precaution', 'precede', 'precedent', 'precious', 'precise', 'precisely', 'precision', 'preclude', 'precursor', 'predecessor', 'predicament', 'predict', 'predictable', 'prediction', 'preface', 'prefect', 'prefer', 'preferable', 'preferably', 'preference', 'preferred', 'preferthe', 'prefix', 'preinstal', 'preliminary', 'premium', 'preparation', 'prepare', 'prepared', 'preparedness', 'presadequate', 'presbotom', 'presence', 'present', 'presentable', 'presentation', 'presently', 'preserve', 'presingnegative', 'presother', 'presoveral', 'press', 'pressed', 'pressure', 'preston', 'presumably', 'presume', 'presumptuous', 'pretend', 'pretended', 'pretension', 'prettier', 'prettiest', 'pretty', 'prevalent', 'prevent', 'prevention', 'previous', 'previously', 'prey', 'preying', 'price', 'priceand', 'pricecomfortable', 'pricecon', 'pricegreat', 'priceless', 'pricepoint', 'prick', 'pricking', 'pride', 'pried', 'prim', 'primarily', 'primary', 'prime', 'primitive', 'prince', 'princess', 'principal', 'principle', 'print', 'printer', 'printing', 'printout', 'prior', 'prioritize', 'priority', 'prison', 'privacy', 'private', 'privilege', 'prize', 'pro', 'probability', 'probable', 'probably', 'probe', 'problem', 'problematical', 'problemwhat', 'procedure', 'proceed', 'procesorhd', 'procesorthe', 'process', 'processing', 'processor', 'proclaim', 'proclipusa', 'produce', 'producer', 'product', 'production', 'productive', 'productivity', 'productsnice', 'productsvery', 'prof', 'professional', 'professionally', 'professor', 'proficient', 'profile', 'profileboxwave', 'profit', 'profuse', 'profusely', 'program', 'programable', 'programme', 'programming', 'programpayment', 'progress', 'progressing', 'prohibit', 'prohibitive', 'project', 'projection', 'proliferate', 'prolong', 'prolonged', 'prominent', 'prominently', 'prominentpiece', 'promiscuous', 'promise', 'promised', 'promo', 'promote', 'promotion', 'prompt', 'promptly', 'prone', 'pronounce', 'pronounced', 'proof', 'prop', 'proper', 'properly', 'property', 'proportion', 'propos', 'propose', 'proposition', 'proprietary', 'prosabout', 'prosarive', 'prosbaterybatery', 'proscren', 'prospect', 'prosper', 'prosthese', 'protect', 'protected', 'protecting', 'protectingyour', 'protection', 'protectionbecause', 'protectioncon', 'protectiongreat', 'protectionhold', 'protective', 'protectivefilm', 'protector', 'protectorcon', 'protectorinvisibleshield', 'protectorscon', 'protectorslint', 'protectorwhile', 'protectsher', 'protege', 'protein', 'protestant', 'protocol', 'prototype', 'protrude', 'protrusion', 'proud', 'proudly', 'prove', 'proved', 'provide', 'provided', 'provider', 'providing', 'province', 'provision', 'proximal', 'proximity', 'prudent', 'prying', 'pseudo', 'psvita', 'psychology', 'pub', 'public', 'publication', 'publicistpayment', 'publicity', 'publicize', 'publish', 'pucker', 'puff', 'puffed', 'puffy', 'pull', 'pulled', 'pulp', 'pulse', 'pump', 'pumped', 'punch', 'punctuation', 'punishment', 'puppy', 'purchase', 'purchased', 'purchaser', 'purchasing', 'pure', 'puregear', 'puregla', 'purely', 'purest', 'purge', 'purification', 'purity', 'purple', 'purplish', 'purport', 'purpose', 'purposefully', 'purposely', 'purse', 'pursue', 'pursuit', 'pus', 'push', 'pushable', 'pushbuton', 'pushed', 'put', 'putting', 'putty', 'puzzle', 'puzzled', 'puzzling', 'pwh', 'qmadix', 'quadcore', 'quadfire', 'qualcom', 'qualified', 'qualify', 'qualifying', 'quality', 'qualityheadset', 'qualityvery', 'qualitywel', 'qualm', 'quand', 'quantifiable', 'quantity', 'quarante', 'quarter', 'quasi', 'que', 'queen', 'query', 'quest', 'question', 'questionable', 'queue', 'quick', 'quicker', 'quickest', 'quickfire', 'quickly', 'quicklycon', 'quickmemo', 'quickness', 'quickofice', 'quickstart', 'quicktime', 'quiet', 'quietcomfort', 'quietly', 'quincy', 'quire', 'quit', 'quite', 'quote', 'ra', 'rabbit', 'race', 'racing', 'rack', 'racquetball', 'radiate', 'radiation', 'radical', 'radio', 'radioshack', 'radius', 'raft', 'rag', 'rage', 'ragged', 'raging', 'rail', 'rain', 'rainbow', 'rainbowe', 'raindrop', 'rainproof', 'rainstorm', 'rainy', 'raise', 'raising', 'rake', 'ralanicholson', 'rally', 'ram', 'rampart', 'ran', 'random', 'rang', 'range', 'rangebatery', 'rangenearly', 'rangethis', 'rank', 'rapi', 'rapid', 'rapidaverage', 'rapidconect', 'rapidly', 'rapier', 'rapped', 'rapture', 'rare', 'rarely', 'rasher', 'raspberry', 'rat', 'ratchet', 'rate', 'ratedamcase', 'ratedec', 'rather', 'ratification', 'ratify', 'rating', 'ratio', 'rational', 'rattle', 'rave', 'raven', 'raving', 'raw', 'ray', 'rayovac', 'razor', 'rd', 're', 'reach', 'reached', 'react', 'reaction', 'reactivate', 'reactive', 'read', 'readable', 'reader', 'readily', 'reading', 'readjust', 'readjusting', 'ready', 'real', 'realise', 'realistic', 'realistically', 'reality', 'realize', 'really', 'realm', 'reap', 'reappear', 'rear', 'rearrange', 'reason', 'reasonable', 'reasonably', 'reasoning', 'reassemble', 'reassure', 'rebate', 'rebelrom', 'rebound', 'rec', 'recalibration', 'recall', 'recede', 'receipt', 'receive', 'received', 'receiver', 'receives', 'receiving', 'recent', 'recently', 'receptacle', 'recepticle', 'reception', 'receptive', 'receptor', 'recess', 'recforge', 'rechareable', 'rechargable', 'rechargeable', 'rechargeablebluetothcome', 'recharger', 'recharging', 'recipe', 'recipient', 'recite', 'reckless', 'recline', 'recognise', 'recognition', 'recognize', 'recognized', 'recognizing', 'recollect', 'recomendable', 'recomendado', 'recomendar', 'recomendthis', 'recommence', 'recommend', 'recommendation', 'recompense', 'reconciliation', 'reconect', 'reconecte', 'reconecting', 'reconfigure', 'reconfiguring', 'reconsider', 'record', 'recorded', 'recorder', 'recording', 'recourse', 'recover', 'recovered', 'recreational', 'rectangular', 'rectify', 'recuperate', 'recur', 'recyclable', 'recycle', 'red', 'reddish', 'redeem', 'redoubt', 'reduce', 'reduction', 'redundancy', 'redundant', 'reed', 'reef', 'refer', 'referable', 'reference', 'referred', 'refill', 'refine', 'refined', 'refinement', 'reflect', 'reflection', 'reflectivity', 'reflex', 'reflexe', 'reflexive', 'reform', 'refractory', 'refrain', 'refresh', 'refreshing', 'refund', 'refundidn', 'refurbish', 'refurbished', 'refuse', 'refusing', 'regal', 'regard', 'regardless', 'regardsfrom', 'regiment', 'region', 'register', 'registerable', 'registration', 'regret', 'regretfully', 'regular', 'regularly', 'regulate', 'regulation', 'regulatory', 'rehabilitation', 'reign', 'reinforce', 'reinforcement', 'reinstate', 'reiterate', 'reject', 'rejoice', 'relabele', 'relate', 'related', 'relation', 'relationship', 'relative', 'relatively', 'relax', 'relaxation', 'relaxed', 'relay', 'release', 'releasing', 'relevant', 'reliability', 'reliable', 'reliance', 'relic', 'relief', 'relieve', 'relit', 'reload', 'reluctance', 'reluctant', 'reluctantly', 'rely', 'remain', 'remainder', 'remained', 'remainingtwo', 'remains', 'remainsfour', 'remainsthre', 'remainsugestion', 'remark', 'remarkable', 'remarkably', 'remedied', 'remedy', 'remember', 'remembering', 'remind', 'reminder', 'reminiscence', 'remit', 'remorse', 'remote', 'remount', 'removable', 'removal', 'removalbatery', 'remove', 'removed', 'removing', 'rename', 'rend', 'render', 'rendering', 'renew', 'renewal', 'renowned', 'rent', 'rental', 'renting', 'reopen', 'rep', 'repacke', 'repair', 'repay', 'repeat', 'repeatedly', 'repel', 'repetitively', 'replace', 'replaceable', 'replacedthe', 'replacement', 'replacescren', 'replacing', 'replenish', 'reply', 'replying', 'report', 'reportedly', 'reporting', 'reposition', 'represent', 'representation', 'representative', 'reproduce', 'reproduction', 'republic', 'repurchase', 'reputable', 'reputation', 'request', 'require', 'required', 'requiredoesnt', 'requirement', 'requisite', 'reread', 'rescue', 'research', 'researchand', 'resect', 'resemblance', 'resemble', 'resent', 'reservation', 'reserve', 'reside', 'residence', 'resident', 'residual', 'residue', 'resign', 'resin', 'resist', 'resistance', 'resistant', 'resistantdificult', 'resolute', 'resolution', 'resolve', 'resonance', 'resonant', 'resort', 'resource', 'respect', 'respectable', 'respected', 'respective', 'respectively', 'respond', 'responded', 'response', 'responsibility', 'responsible', 'responsive', 'responsiveness', 'rest', 'restaurant', 'restful', 'resting', 'restless', 'restore', 'restraint', 'restrict', 'restriction', 'restrictive', 'restroom', 'result', 'resume', 'retail', 'retailer', 'retailing', 'retain', 'retainer', 'retaining', 'retarded', 'retell', 'retention', 'reticent', 'retina', 'retire', 'retired', 'retrackable', 'retract', 'retractability', 'retractable', 'retractablity', 'retractible', 'retracting', 'retraction', 'retreat', 'retrieve', 'retro', 'retune', 'return', 'returning', 'reusebale', 'rev', 'reveal', 'revel', 'reveler', 'reverse', 'reversible', 'revert', 'review', 'reviewease', 'reviewgreat', 'reviewing', 'reviewladie', 'reviewsvery', 'revise', 'revision', 'revive', 'revoke', 'revolutionalize', 'revolutionary', 'revolve', 'reward', 'rewrite', 'rhetoric', 'rhine', 'rhinestone', 'rib', 'ribbon', 'rice', 'rich', 'richard', 'richardsoctober', 'richly', 'richness', 'rickshaw', 'rico', 'rid', 'ridden', 'ride', 'ridemate', 'rider', 'ridge', 'ridiculous', 'ridiculously', 'riding', 'ridulious', 'rifle', 'rig', 'rigging', 'right', 'rightly', 'rightnow', 'rigid', 'rigidity', 'rigor', 'rim', 'ring', 'ringing', 'ringtone', 'ringtune', 'rinse', 'rinsing', 'rioting', 'rip', 'ripe', 'ripon', 'rise', 'risk', 'riskdamage', 'risky', 'rival', 'river', 'rivet', 'road', 'roadside', 'roadster', 'roam', 'roaming', 'roar', 'roast', 'roasted', 'rob', 'robbery', 'robbing', 'roberbeat', 'robert', 'robin', 'robotic', 'robust', 'robustness', 'rock', 'rocket', 'rocketbut', 'rocketfish', 'rocking', 'rocky', 'rod', 'rode', 'roger', 'rogue', 'rohscompatibility', 'rohswaranty', 'roi', 'role', 'roll', 'roller', 'rolling', 'roof', 'room', 'roommate', 'roomy', 'root', 'rooted', 'rope', 'rose', 'ross', 'rosy', 'rotatable', 'rotate', 'rotating', 'rotation', 'rottweiler', 'rou', 'rough', 'roughen', 'rougher', 'roughly', 'roughness', 'round', 'rounded', 'rouse', 'route', 'routine', 'roverbeat', 'row', 'rowdy', 'royal', 'rphje', 'rub', 'rubbed', 'rubber', 'rubberize', 'rubberized', 'rubbing', 'rubbish', 'rubble', 'rubereasier', 'ruberize', 'ruble', 'ruby', 'rude', 'rudimentary', 'rue', 'ruffle', 'rug', 'rugby', 'rugge', 'rugged', 'ruggedize', 'ruggedness', 'ruin', 'ruining', 'rule', 'ruler', 'rum', 'rummage', 'rumor', 'run', 'rung', 'runkeper', 'runner', 'running', 'runtastic', 'rupture', 'rural', 'rush', 'rushed', 'russia', 'rustic', 'rustle', 'ryder', 'sa', 'saber', 'sable', 'sabotage', 'sac', 'sack', 'sacramento', 'sacrifice', 'sad', 'saddle', 'sadly', 'safe', 'safeguard', 'safely', 'safety', 'safiano', 'sage', 'said', 'sake', 'salary', 'sale', 'salesfolk', 'salesman', 'salicylic', 'salt', 'salut', 'salute', 'sam', 'samaritan', 'samasung', 'same', 'sample', 'samrtphone', 'samson', 'samsumg', 'samsung', 'samsungandroid', 'samurai', 'san', 'sand', 'sandbag', 'sandpaper', 'sandstone', 'sandwich', 'sandy', 'sane', 'sang', 'sank', 'santa', 'santo', 'sap', 'sappy', 'sarah', 'sarcasm', 'sarcastic', 'sarco', 'sat', 'satan', 'satechi', 'satellite', 'satin', 'satisfaction', 'satisfactorily', 'satisfactory', 'satisfie', 'satisfied', 'satisfy', 'satisfying', 'saturate', 'saturday', 'savage', 'save', 'saved', 'savemore', 'saving', 'savior', 'saw', 'say', 'saying', 'sbseting', 'scala', 'scale', 'scan', 'scar', 'scarcely', 'scarcity', 'scare', 'scared', 'scatter', 'scenario', 'scene', 'sceptic', 'schedule', 'schelling', 'scheme', 'schon', 'school', 'science', 'scientific', 'scientist', 'scissor', 'scoop', 'scorch', 'score', 'scotch', 'scott', 'scour', 'scout', 'scramble', 'scrap', 'scrape', 'scraping', 'scratch', 'scratchconsbuton', 'scratched', 'scratchesfor', 'scratching', 'scream', 'screechy', 'screen', 'screening', 'screnblaze', 'screncase', 'screncasting', 'screncon', 'screnfel', 'screnprotector', 'scrensaver', 'scrensexcelent', 'screnshot', 'screnslightly', 'screnthe', 'screw', 'screwdriver', 'scribble', 'script', 'scrolingfaster', 'scrub', 'scruff', 'scrupulously', 'scrutinize', 'scuffle', 'sculcandy', 'scut', 'sd', 'sdsdq', 'se', 'sea', 'seaboard', 'seahawk', 'seal', 'sealing', 'seam', 'seaman', 'seamlesly', 'seaport', 'sear', 'search', 'searching', 'seasickness', 'season', 'seasonal', 'seat', 'seatbelt', 'seated', 'seating', 'seattle', 'secession', 'second', 'secondary', 'secondly', 'secondsone', 'secret', 'secretly', 'secsecond', 'section', 'sector', 'secure', 'secured', 'securely', 'securing', 'security', 'sedan', 'see', 'seed', 'seeing', 'seek', 'seem', 'seemed', 'seeming', 'seemingly', 'seems', 'seen', 'segment', 'seize', 'seizing', 'seldom', 'select', 'selecting', 'selection', 'self', 'sell', 'seller', 'selling', 'semantic', 'semi', 'semlesly', 'send', 'sending', 'senheiser', 'senior', 'senor', 'sensation', 'sense', 'senseless', 'sensible', 'sensibly', 'sensing', 'sensitive', 'sensitivemisc', 'sensitivity', 'sensory', 'sentence', 'separable', 'separate', 'separately', 'separation', 'sept', 'september', 'septic', 'sequence', 'sequentially', 'sequoia', 'serie', 'series', 'seriestrie', 'serious', 'seriously', 'serve', 'served', 'server', 'service', 'serviceable', 'servicecon', 'sesame', 'session', 'set', 'setback', 'setting', 'settle', 'setupsetup', 'setupthis', 'seven', 'seventy', 'several', 'severe', 'severely', 'severity', 'sevi', 'sew', 'sewing', 'sex', 'sg', 'sgorilapod', 'shabby', 'shade', 'shading', 'shadow', 'shady', 'shaft', 'shake', 'shakos', 'shall', 'shallow', 'shalt', 'shame', 'shampoo', 'shan', 'shanghai', 'shantung', 'shape', 'shaped', 'shaping', 'share', 'sharing', 'sharp', 'sharper', 'sharply', 'sharpness', 'shatter', 'shatterproof', 'shave', 'shaven', 'shaving', 'she', 'sheath', 'sheathe', 'shed', 'shedding', 'sheen', 'sheer', 'sheet', 'sheetrock', 'shelf', 'shell', 'shellac', 'shelter', 'shenanigan', 'shepherd', 'sherman', 'sherry', 'shield', 'shift', 'shifting', 'shilling', 'shine', 'shiny', 'ship', 'shipboard', 'shipingonce', 'shipment', 'shipper', 'shipping', 'shirt', 'shiver', 'shock', 'shocked', 'shocking', 'shockprof', 'shod', 'shoe', 'shoot', 'shooting', 'shootout', 'shop', 'shopping', 'shopworn', 'shore', 'short', 'shortage', 'shortatractivene', 'shortcoming', 'shortcut', 'shorten', 'shorter', 'shortest', 'shortfall', 'shortly', 'shortness', 'shot', 'shotgun', 'should', 'shoulder', 'shouldn', 'shout', 'shove', 'show', 'showcase', 'shower', 'showering', 'showing', 'shown', 'shownthe', 'showroom', 'showstopper', 'shre', 'shrill', 'shrink', 'shrivel', 'shrivelling', 'shuffle', 'shunundo', 'shut', 'shutdown', 'shutsdown', 'shutter', 'shutting', 'shy', 'si', 'sic', 'sick', 'sickle', 'sickness', 'sidarta', 'side', 'sided', 'sidekick', 'sidewalk', 'sideway', 'sideways', 'sigh', 'sight', 'sighted', 'sightseeing', 'sign', 'signal', 'signature', 'significant', 'significantly', 'significantlyjust', 'signifie', 'signifying', 'signing', 'sila', 'silence', 'silent', 'silently', 'silhouette', 'silicon', 'silicone', 'silicony', 'silk', 'sill', 'silly', 'silver', 'silverfish', 'silverish', 'silvery', 'similar', 'similarity', 'similarly', 'similarmediabridge', 'similarsanyo', 'simple', 'simplicity', 'simplifie', 'simplify', 'simplistic', 'simply', 'simplyvibe', 'simulated', 'simultaneous', 'simultaneously', 'sin', 'since', 'sincere', 'sincerely', 'sincronizar', 'sing', 'singapore', 'singe', 'singer', 'singing', 'single', 'singleness', 'singly', 'singsong', 'singular', 'sink', 'sinner', 'sinus', 'sip', 'siquiera', 'sir', 'sire', 'siriusxm', 'sister', 'sit', 'site', 'sitecon', 'sitting', 'situate', 'situation', 'six', 'sixty', 'size', 'sized', 'skateboard', 'skeleton', 'skeptically', 'skepticism', 'sketch', 'sketchbook', 'ski', 'skill', 'skilled', 'skin', 'skinned', 'skinny', 'skinomi', 'skinomis', 'skip', 'skirt', 'skivia', 'skull', 'sky', 'skydrive', 'skypeing', 'skyrocket', 'skywholesale', 'slab', 'slack', 'slacken', 'slam', 'slamming', 'slander', 'slap', 'slash', 'slate', 'sle', 'sledge', 'sleek', 'sleeker', 'sleep', 'sleeper', 'sleepless', 'sleeve', 'slekbok', 'slend', 'slender', 'slept', 'slew', 'slice', 'slid', 'slide', 'slideout', 'slideshow', 'slight', 'slightest', 'slightly', 'slim', 'slimarmor', 'slimline', 'slimmest', 'slimprotect', 'slimtalk', 'slip', 'sliperi', 'sliperyit', 'sliperyoveral', 'slipoveral', 'slipper', 'slippere', 'slipperiness', 'slippery', 'slipping', 'slips', 'slit', 'slogan', 'slop', 'slope', 'slot', 'slough', 'slow', 'slowdown', 'slower', 'slowly', 'slowness', 'slur', 'smack', 'smalhard', 'small', 'smaller', 'smallest', 'smallish', 'smart', 'smarthphone', 'smartly', 'smartphone', 'smartphonesbut', 'smartwatch', 'smartwatche', 'smash', 'smear', 'smell', 'smile', 'smith', 'smoke', 'smoker', 'smoking', 'smolder', 'smoldering', 'smooth', 'smoothed', 'smoother', 'smoothing', 'smoothly', 'smoothness', 'smother', 'smudge', 'sn', 'snack', 'snail', 'snake', 'snap', 'snapchat', 'snapdragon', 'snapedthe', 'snapping', 'snapshot', 'snatch', 'snazzy', 'sneer', 'sneering', 'sniff', 'snip', 'snivel', 'snorkeled', 'snorkeling', 'snow', 'snowball', 'snowboard', 'snowboarding', 'snowprof', 'snowstorm', 'snowy', 'snuff', 'snuffing', 'snug', 'snuggery', 'snuggle', 'snugly', 'snugne', 'snugness', 'so', 'soak', 'soaking', 'soap', 'soar', 'sob', 'soccer', 'social', 'socialist', 'socially', 'society', 'sock', 'socket', 'soda', 'sodium', 'sofa', 'soft', 'soften', 'softly', 'softness', 'software', 'soil', 'sol', 'solace', 'solar', 'solder', 'soldier', 'sole', 'solely', 'solicit', 'solicitation', 'solid', 'solidconsi', 'solidity', 'solitary', 'solo', 'solstice', 'solution', 'solutionfinaly', 'solvable', 'solve', 'solvent', 'some', 'somealso', 'someap', 'somebody', 'someday', 'somehow', 'somekind', 'someone', 'somesuch', 'something', 'sometime', 'sometimes', 'somewhat', 'somewhere', 'son', 'song', 'sonicorbstudio', 'sonya', 'soon', 'soothe', 'sophie', 'sophisticated', 'sophistication', 'sophomore', 'sore', 'sorely', 'sorrow', 'sorry', 'sort', 'soul', 'sound', 'soundbendy', 'soundblade', 'soundbot', 'soundbrick', 'soundcard', 'sounding', 'soundly', 'soundmater', 'soundness', 'soundock', 'soundtrack', 'soup', 'sour', 'source', 'south', 'southeast', 'southeasternacesory', 'southern', 'space', 'spacious', 'span', 'spanish', 'spare', 'sparesamsung', 'sparing', 'sparingly', 'sparkle', 'spasm', 'spastic', 'spattered', 'speak', 'speaker', 'speakerand', 'speakerphone', 'speakerphonefor', 'speakertechnology', 'speaking', 'special', 'specially', 'specific', 'specifically', 'specification', 'specify', 'speciman', 'speck', 'speckle', 'speckled', 'specsoveral', 'spectacular', 'spectrum', 'speculate', 'spedwise', 'speech', 'speed', 'speedily', 'speedometer', 'speedy', 'spell', 'spend', 'spending', 'spherical', 'spice', 'spider', 'spiderman', 'spiderpodium', 'spill', 'spin', 'spinal', 'spine', 'spinning', 'spiral', 'spirit', 'spit', 'spite', 'splash', 'splashing', 'splendid', 'splint', 'split', 'splitter', 'splitting', 'spoil', 'spoiled', 'spoilsport', 'spokane', 'spoke', 'spoken', 'sponge', 'spongy', 'spontaneous', 'spontaneously', 'spool', 'sporadic', 'sporadically', 'sport', 'sporting', 'spot', 'spotless', 'spotlight', 'spouse', 'spracht', 'spray', 'spread', 'spreadsheet', 'spree', 'spring', 'sprinkle', 'sprintcon', 'sprintzone', 'spruce', 'sprung', 'spur', 'spy', 'spzwo', 'square', 'squared', 'squarely', 'squeaky', 'squeamish', 'squeegee', 'squeeze', 'squegieing', 'squire', 'squish', 'squishy', 'squishycon', 'srsbtm', 'sssssss', 'sssssssssss', 'ssssssssssssssssssssssssssssss', 'st', 'stab', 'stability', 'stabilization', 'stabilizationthe', 'stabilize', 'stabilizer', 'stable', 'stack', 'stadium', 'staff', 'stage', 'staggering', 'stain', 'staining', 'stair', 'stairway', 'stalk', 'stall', 'stamp', 'stand', 'standalone', 'standalonenavigon', 'standard', 'standardgalaxy', 'standardize', 'standardized', 'standbecause', 'standing', 'standout', 'standpoint', 'star', 'starbuck', 'stare', 'stark', 'starry', 'starscon', 'starshave', 'starspro', 'starsthis', 'start', 'startechnolusion', 'started', 'starting', 'startle', 'starve', 'state', 'statebotom', 'stately', 'statement', 'stateside', 'static', 'staticaly', 'station', 'stationary', 'status', 'statuscon', 'statusthistravel', 'statute', 'stay', 'stayed', 'stayhear', 'staying', 'steadily', 'steady', 'steal', 'stealth', 'steam', 'steamed', 'steaming', 'steampunk', 'steamship', 'steel', 'steely', 'steep', 'steer', 'steffen', 'steiheil', 'steinheil', 'steinhiel', 'stem', 'step', 'stepson', 'stern', 'sterno', 'steroid', 'steve', 'stick', 'sticki', 'sticking', 'stickler', 'sticky', 'stiff', 'stiffen', 'stiffly', 'stiffness', 'stile', 'still', 'stimulate', 'stink', 'stint', 'stitch', 'stitching', 'stock', 'stocking', 'stole', 'stone', 'stonethat', 'stoop', 'stop', 'stoppage', 'stopped', 'stopping', 'storage', 'storageand', 'store', 'storebaterypre', 'stored', 'storm', 'stormcruiser', 'stormtroper', 'story', 'stout', 'stouter', 'stove', 'stowaway', 'straight', 'straightalk', 'straighten', 'straightforward', 'strain', 'strait', 'strand', 'strange', 'strangely', 'strap', 'strapped', 'strategically', 'strategy', 'stratosphere', 'stray', 'streak', 'stream', 'streaming', 'streamline', 'streamlined', 'street', 'strength', 'stress', 'stretch', 'stretchable', 'stretchcon', 'stretchiness', 'stretching', 'stretpa', 'strict', 'strictly', 'stride', 'strident', 'strike', 'string', 'strip', 'stripe', 'striped', 'stripedthe', 'stroke', 'stroll', 'strong', 'stronger', 'strongly', 'structural', 'structurally', 'structure', 'struggle', 'struggling', 'stubborn', 'stubbornly', 'stubby', 'stuck', 'stud', 'student', 'studied', 'studio', 'study', 'stuff', 'stumble', 'stump', 'stun', 'stunning', 'stupid', 'stupidity', 'stupidly', 'sturdily', 'sturdiness', 'sturdy', 'sturdycon', 'stutter', 'stuttering', 'stwirele', 'sty', 'style', 'stylecon', 'stylish', 'stylus', 'stylusand', 'styluse', 'stylusfor', 'stylusin', 'stylusis', 'styluspen', 'sub', 'subdue', 'subject', 'subjective', 'sublimate', 'submerge', 'submit', 'subpixel', 'subscribe', 'subscription', 'subsequent', 'subsequently', 'subsidize', 'substance', 'substandard', 'substantial', 'substantially', 'substitute', 'substrate', 'subtitle', 'subtle', 'subtlety', 'subtly', 'subtract', 'suburb', 'suburban', 'subversion', 'subvert', 'subway', 'subwoofer', 'succeed', 'success', 'successful', 'successfully', 'succession', 'successor', 'succumb', 'such', 'suck', 'suction', 'sudan', 'sudden', 'suddenly', 'sue', 'suffer', 'suffering', 'suffice', 'sufficient', 'sufficiently', 'suffocate', 'sugar', 'suggest', 'suggested', 'suggestion', 'suggestive', 'suicide', 'suit', 'suitable', 'suitcase', 'suite', 'suited', 'sulk', 'sum', 'sumarythe', 'summarize', 'summary', 'summed', 'summer', 'summertime', 'summon', 'sun', 'sunblock', 'sunday', 'sundown', 'sunglass', 'suniecustomer', 'sunielaptopmate', 'sunlight', 'sunny', 'sunroof', 'sunshade', 'sunshine', 'sunshinewifi', 'sup', 'super', 'superb', 'superbe', 'superbowl', 'supercharge', 'supercheap', 'supercomputer', 'superficially', 'superglue', 'superior', 'superlative', 'superlegera', 'superlong', 'supermarket', 'supershieldz', 'superstar', 'superstore', 'supertoth', 'supervise', 'supervision', 'supervisor', 'supine', 'suportanyway', 'suportoveral', 'supper', 'supple', 'supplement', 'supplied', 'supplier', 'supply', 'support', 'supporter', 'suppose', 'supposed', 'supposedly', 'suppress', 'suppression', 'suppurative', 'supreme', 'supurbly', 'sure', 'surely', 'suretype', 'surf', 'surface', 'surfacepro', 'surfacescon', 'surfboard', 'surge', 'surgeon', 'surgery', 'surgical', 'surging', 'surly', 'surpass', 'surplus', 'surprise', 'surprised', 'surprising', 'surprisingly', 'surrender', 'surrey', 'surround', 'surrounding', 'survey', 'survivalist', 'survive', 'survivor', 'susceptible', 'suspect', 'suspecting', 'suspend', 'suspicion', 'suspicious', 'sustain', 'sustainable', 'swag', 'swallow', 'swamp', 'swap', 'swarovski', 'sway', 'swear', 'swearing', 'sweat', 'sweating', 'sweatprof', 'sweatshirt', 'swede', 'sweep', 'sweet', 'sweetness', 'swell', 'swelling', 'swerve', 'swiftly', 'swim', 'swimmer', 'swimming', 'swing', 'swishing', 'swiss', 'switch', 'switched', 'swoop', 'swore', 'sycosis', 'syllable', 'symbol', 'symmetrical', 'symmetry', 'symphonic', 'symptom', 'synchronization', 'synchronize', 'syncingthe', 'syndrome', 'synthesis', 'syrian', 'system', 'systematically', 'sytlus', 'ta', 'tabe', 'table', 'tablet', 'tabletop', 'tabletsample', 'tack', 'tackifie', 'tackiness', 'tackle', 'tact', 'tactic', 'tactical', 'tactile', 'tafa', 'tag', 'tail', 'tailgate', 'tailor', 'take', 'takeaway', 'taken', 'takes', 'taking', 'takingpicture', 'tale', 'talented', 'talk', 'talking', 'tall', 'tambien', 'tambov', 'tammany', 'tangible', 'tangle', 'tangled', 'tank', 'tankclear', 'tap', 'tape', 'tapering', 'tapping', 'tar', 'target', 'tarsus', 'tartar', 'task', 'taskbar', 'taste', 'taut', 'tavel', 'tavsiye', 'tax', 'taxis', 'taylor', 'te', 'tea', 'teach', 'teacher', 'team', 'teamlaptopmate', 'tear', 'teaspoon', 'techarmor', 'techmate', 'technical', 'technically', 'technique', 'technogek', 'technological', 'technology', 'technomage', 'technophobe', 'techskin', 'techsmart', 'tecrnowaday', 'tedious', 'teenage', 'teenager', 'telemarketer', 'telephone', 'telescope', 'telescoping', 'television', 'tell', 'telling', 'telltale', 'temp', 'temper', 'temperament', 'temperate', 'temperature', 'tempered', 'temple', 'temporarily', 'temporary', 'tempt', 'temptation', 'tempting', 'ten', 'tend', 'tendency', 'tender', 'tendon', 'tends', 'teno', 'tens', 'tension', 'tent', 'tenth', 'tenure', 'term', 'terminal', 'terminate', 'terrain', 'terrible', 'terribly', 'terrific', 'terrified', 'terrify', 'territory', 'terse', 'test', 'testament', 'tested', 'testify', 'testimony', 'testing', 'testingtesting', 'testosterone', 'tetanus', 'tether', 'tethered', 'texas', 'text', 'textile', 'texts', 'texture', 'textureprevente', 'tfdatauser', 'th', 'than', 'thank', 'thankful', 'thanks', 'thanksgive', 'thanksssssss', 'thankyou', 'that', 'thatwante', 'thatwil', 'thatyou', 'thaw', 'thdaux', 'the', 'theamazon', 'theamazonbasic', 'theariza', 'theasyac', 'theater', 'theatre', 'thebelkin', 'theblack', 'thebolse', 'thebumper', 'thecal', 'thechunkine', 'theduracel', 'theft', 'thegla', 'thegogle', 'thegogrove', 'theiflash', 'theincipio', 'theincredicharge', 'theiphone', 'their', 'theirpurpose', 'theitorch', 'thejabra', 'thejkase', 'thekdlink', 'thekindle', 'thelago', 'thelarger', 'theme', 'themediabridge', 'themonoprice', 'themonster', 'themotorola', 'themycharge', 'then', 'thenatal', 'thenikon', 'theninstale', 'theological', 'theoretical', 'theoriongadget', 'theory', 'theoterbox', 'theparot', 'theperson', 'thephuby', 'theplan', 'thepowerad', 'thepowermat', 'thepowerpak', 'there', 'thereafter', 'thereby', 'therefore', 'therein', 'thereof', 'thereon', 'thereoveral', 'theringke', 'thermal', 'thermometer', 'thermoplastic', 'thesamsung', 'thescion', 'thescren', 'these', 'thesendy', 'thesescren', 'thesilverhil', 'thetaotronic', 'thetargus', 'thetran', 'theultra', 'theunit', 'thevolume', 'theworld', 'thexpow', 'thexpower', 'they', 'thezetron', 'thick', 'thickcamera', 'thicker', 'thickness', 'thief', 'thieve', 'thigh', 'thin', 'thing', 'thingsright', 'think', 'thinker', 'thinking', 'thinkpad', 'thinner', 'thinness', 'third', 'thirdly', 'thirteen', 'thirty', 'this', 'thisampen', 'thisaudio', 'thisdoe', 'thisesentialy', 'thismotorola', 'thisoxa', 'thisphone', 'thispigen', 'thispowerad', 'thistand', 'thnaksemie', 'thoma', 'thorax', 'thorough', 'thoroughly', 'those', 'thou', 'though', 'thought', 'thoughtful', 'thoughtfully', 'thoughts', 'thoughtsthe', 'thousand', 'thrash', 'thread', 'threaten', 'three', 'threw', 'thrill', 'thrilled', 'thrive', 'throttle', 'throughcon', 'throughout', 'throw', 'throwaway', 'throwback', 'throwing', 'thud', 'thumb', 'thumbnail', 'thumbprint', 'thumbscrew', 'thumping', 'thunder', 'thunderbolt', 'thursday', 'thus', 'thushighlighte', 'ti', 'tibia', 'tic', 'tick', 'ticket', 'tickle', 'tide', 'tidy', 'tie', 'tier', 'tiffany', 'tight', 'tighten', 'tightened', 'tightening', 'tighter', 'tightly', 'tightness', 'tightstrongnot', 'til', 'tile', 'till', 'tiller', 'tilsit', 'tilt', 'tilting', 'time', 'timecon', 'timed', 'timeframe', 'timeline', 'timely', 'timeout', 'timerequire', 'timesand', 'timescon', 'timesmal', 'timesoveral', 'timesuse', 'timeupdatei', 'timidly', 'timing', 'timothy', 'tin', 'tinder', 'tinge', 'tingle', 'tingling', 'tinker', 'tint', 'tiny', 'tip', 'tipsy', 'tire', 'tired', 'tireless', 'tiresome', 'tis', 'tissue', 'titanic', 'title', 'tm', 'to', 'toacomplish', 'toast', 'today', 'todiztronic', 'todrope', 'toe', 'together', 'toilet', 'tokyo', 'told', 'tolerable', 'tolerance', 'tolerate', 'toll', 'toller', 'tom', 'tomato', 'tomorrow', 'ton', 'tone', 'toned', 'tongue', 'tonic', 'tonight', 'tonsumarize', 'tony', 'too', 'took', 'tool', 'tooth', 'toothpick', 'top', 'topcon', 'topic', 'topmost', 'topped', 'torch', 'torchlight', 'tore', 'torment', 'torn', 'tornado', 'torrent', 'tortoise', 'torture', 'toshiba', 'tosmudge', 'toss', 'tossing', 'total', 'totally', 'touch', 'touchflo', 'touchfor', 'touching', 'touchpadcon', 'touchpan', 'touchscreen', 'touchstone', 'touchwiz', 'tough', 'tour', 'tournament', 'tout', 'tow', 'toward', 'towards', 'towel', 'towelete', 'tower', 'town', 'toxic', 'toy', 'toying', 'tpuboxwave', 'tr', 'trace', 'tracfone', 'track', 'trackball', 'trackcontrol', 'trackpad', 'tracphone', 'traction', 'trade', 'trademark', 'tradeoff', 'trading', 'tradition', 'traditional', 'traditionally', 'traffic', 'tragedy', 'tragic', 'trail', 'trailer', 'train', 'trainer', 'training', 'traitor', 'tramp', 'tranducer', 'trans', 'transaction', 'transatlantic', 'transcend', 'transcriber', 'transducer', 'transfer', 'transferability', 'transferable', 'transferring', 'transform', 'transformation', 'transformer', 'transit', 'transition', 'transitory', 'translate', 'translation', 'translucent', 'transmission', 'transmit', 'transmitercon', 'transparent', 'transponder', 'transport', 'transportanywhere', 'transporting', 'trap', 'trapper', 'trash', 'trauma', 'travel', 'traveler', 'traveling', 'travelinghome', 'travelling', 'travelmat', 'travelocity', 'travels', 'tray', 'tread', 'treadmill', 'treasure', 'treasured', 'treat', 'treatment', 'treaty', 'treble', 'tree', 'tremendous', 'trend', 'trent', 'trentdual', 'trentium', 'treopro', 'trepak', 'tress', 'tresse', 'trexcel', 'trial', 'triangle', 'tribute', 'trick', 'trickle', 'tricky', 'tried', 'triedcon', 'triedhigh', 'trifle', 'trigger', 'trill', 'trim', 'trinidad', 'trip', 'triple', 'tripped', 'tripping', 'triumph', 'trivial', 'troop', 'trooper', 'trophie', 'trouble', 'troubleshoot', 'troubleshooting', 'troublesome', 'trough', 'truce', 'truck', 'true', 'truer', 'truevolume', 'truly', 'trumpet', 'trunk', 'trust', 'trusting', 'trustworthy', 'trusty', 'truth', 'truthfully', 'try', 'trying', 'tsar', 'tt', 'tu', 'tub', 'tube', 'tuck', 'tucking', 'tug', 'tugging', 'tumble', 'tumbler', 'tumeric', 'tune', 'tunebelt', 'tuned', 'tunica', 'tuning', 'tunnel', 'turbocharge', 'turf', 'turk', 'turkish', 'turn', 'turnaround', 'turned', 'turner', 'turning', 'turnoff', 'turns', 'turquoise', 'turtle', 'tushin', 'tutor', 'tutorial', 'tutoring', 'twelve', 'twenty', 'twice', 'twin', 'twinkle', 'twist', 'twisted', 'twisting', 'twitch', 'twitching', 'twiterdone', 'twitter', 'two', 'twoenelop', 'twofold', 'txt', 'ty', 'tying', 'type', 'typewriting', 'typical', 'typically', 'ugh', 'uglier', 'ugly', 'ukshvc', 'ulcer', 'ulm', 'ulna', 'ultimate', 'ultimately', 'ultra', 'ultrapixel', 'ultraprof', 'ultraprovider', 'ultraslim', 'un', 'unable', 'unacceptable', 'unaffected', 'unarmed', 'unattended', 'unattractive', 'unauthorized', 'unavailableyou', 'unavoidable', 'unaware', 'unbearable', 'unbelievable', 'unbelievably', 'unbelieveable', 'unbiased', 'unbreakable', 'unbroken', 'uncalled', 'uncertain', 'uncertainty', 'unchangeable', 'unchanged', 'unchanging', 'uncle', 'uncleanable', 'unclear', 'uncomfortable', 'uncommon', 'uncommonly', 'uncomplicated', 'unconditione', 'unconditioned', 'unconnected', 'unconscionable', 'unconsciously', 'uncoordinate', 'uncover', 'uncovered', 'uncoveredcute', 'undecided', 'under', 'underarmor', 'undercharge', 'underclothe', 'undercut', 'undercutingthe', 'undergo', 'underground', 'underlie', 'underlying', 'undermine', 'underneath', 'underpowere', 'underpowered', 'underpriced', 'undersized', 'understand', 'understandable', 'understanding', 'understatement', 'undertake', 'underwater', 'underway', 'underwhelme', 'underwhelming', 'undesirable', 'undo', 'undone', 'undoubtedly', 'undue', 'uneasy', 'unequal', 'unequivocal', 'uneven', 'unevenly', 'uneventful', 'unexpected', 'unexpectedly', 'unexpose', 'unfair', 'unfamiliar', 'unfeigned', 'unfinished', 'unfixable', 'unfold', 'unfordable', 'unforeseen', 'unfortunate', 'unfortunately', 'unfounded', 'ungainly', 'unhappy', 'unhealthy', 'unheard', 'unhindered', 'unhinge', 'unhooked', 'unicorn', 'unified', 'uniform', 'unify', 'unilateral', 'unimpededcon', 'uninhibite', 'uninstale', 'uninstaled', 'uninstaling', 'unintelligible', 'unintended', 'unintentional', 'unintentionally', 'uninterrupted', 'unintuitive', 'union', 'unionthe', 'unique', 'unit', 'unite', 'united', 'unites', 'universal', 'universally', 'university', 'unjust', 'unknown', 'unless', 'unlike', 'unlikely', 'unlimited', 'unload', 'unloaded', 'unloading', 'unlock', 'unlocked', 'unmanageably', 'unnamed', 'unnatural', 'unnaturalness', 'unnecessarily', 'unnecessary', 'unnoticed', 'unobtrusive', 'unobtrusively', 'unofficial', 'unofficially', 'unopened', 'unpack', 'unpacked', 'unpaid', 'unparalleled', 'unpleasant', 'unquestionably', 'unreal', 'unrealistically', 'unreasonable', 'unreasonably', 'unrecognizable', 'unresilient', 'unsatisfactory', 'unscratchable', 'unscrupulous', 'unseat', 'unseen', 'unsenthe', 'unsheathe', 'unsheathed', 'unsightly', 'unspare', 'unstable', 'unsteady', 'unsuccessful', 'untextured', 'until', 'untimely', 'unto', 'unused', 'unusual', 'unusually', 'unvexed', 'unwanted', 'unwieldily', 'unwieldy', 'unwrapped', 'up', 'update', 'updateafter', 'updatedampen', 'updateoterbox', 'updatereplacement', 'updateshortly', 'updatethe', 'updatethere', 'updatethis', 'upgradable', 'upgrade', 'uphill', 'uphold', 'upholder', 'upholstered', 'upland', 'upon', 'upper', 'upright', 'upset', 'upsetting', 'upside', 'upstairs', 'upward', 'upwards', 'urban', 'urbanity', 'urea', 'urethane', 'urge', 'urgent', 'us', 'usabilityit', 'usage', 'use', 'used', 'usedthe', 'usedwith', 'usefirstly', 'useful', 'usefulcord', 'usefulness', 'usefulsince', 'useless', 'user', 'uses', 'usethe', 'usethin', 'using', 'usual', 'usually', 'utah', 'utf', 'utilitarian', 'utility', 'utilize', 'utmost', 'utstarcom', 'utter', 'utterly', 'va', 'vacant', 'vacation', 'vacuum', 'vagrancy', 'vagrant', 'vague', 'vain', 'valentine', 'valet', 'valid', 'valkyrie', 'valley', 'valour', 'valuable', 'value', 'van', 'vanilla', 'vanish', 'vanity', 'vantage', 'vaporware', 'variable', 'variance', 'variant', 'variation', 'varied', 'variety', 'various', 'varnish', 'vary', 'vas', 'vase', 'vaseline', 'vast', 'vault', 'vaultskin', 've', 'vegetable', 'vehicle', 'veil', 'vein', 'velcro', 'velocity', 'velvet', 'velveteen', 'velvety', 'vendor', 'venerable', 'venezuela', 'venice', 'vent', 'venter', 'ventilate', 'ventilator', 'venture', 'venue', 'venus', 'ver', 'vera', 'verb', 'verbal', 'verbatim', 'verdict', 'verge', 'verified', 'verify', 'verifying', 'verily', 'veritable', 'verlust', 'vermont', 'versa', 'versatile', 'versatility', 'verse', 'verses', 'version', 'versionhapy', 'versus', 'vertex', 'vertical', 'vertically', 'very', 'verydisapoint', 'vest', 'vested', 'veteran', 'veto', 'vi', 'via', 'viable', 'vibrate', 'vibrated', 'vibration', 'vice', 'vicinity', 'victim', 'victor', 'victory', 'victse', 'video', 'videographer', 'vie', 'vienna', 'view', 'viewer', 'viewing', 'viewpoint', 'vigor', 'vigorous', 'vigorously', 'villa', 'vine', 'vinegar', 'violent', 'violently', 'violet', 'violin', 'virgin', 'virginia', 'virtual', 'virtually', 'virtue', 'virus', 'vise', 'visibility', 'visible', 'vision', 'visit', 'visitor', 'vista', 'visual', 'visualization', 'vital', 'viva', 'vive', 'vivid', 'vividness', 'vocal', 'vocalizer', 'voice', 'voiceasist', 'voicemail', 'voicethe', 'void', 'voila', 'vol', 'volatile', 'volkswagen', 'volleyball', 'voltage', 'volume', 'volumeplay', 'volumeswitche', 'voluminous', 'volunteer', 'voritystore', 'vote', 'vow', 'vowed', 'voyage', 'vs', 'vulnerable', 'vznavigator', 'wa', 'wad', 'wade', 'wag', 'wage', 'wagon', 'waist', 'waiste', 'wait', 'waiter', 'waiting', 'wake', 'wakelock', 'waken', 'wakethat', 'waking', 'waletno', 'walgren', 'walk', 'walked', 'walker', 'walking', 'wall', 'wallet', 'wallpaper', 'walpaperceramicspainte', 'walsgosh', 'walsrefrigeratorstexture', 'walt', 'walyworld', 'wan', 'wand', 'wander', 'wane', 'wannabe', 'want', 'wanted', 'wanting', 'wants', 'war', 'warantycompatibility', 'warantycon', 'warantyit', 'warantylight', 'warantynote', 'warantyquick', 'ward', 'wardrobe', 'wardrop', 'ware', 'warehouse', 'warfare', 'warm', 'warming', 'warmly', 'warmth', 'warn', 'warning', 'warp', 'warped', 'warrant', 'warranty', 'warren', 'warrior', 'wart', 'wary', 'wasconducte', 'wasexcelent', 'wash', 'washable', 'washed', 'washing', 'wast', 'wastage', 'waste', 'wasteful', 'wat', 'watch', 'watching', 'water', 'watering', 'waterproof', 'waterproofing', 'watery', 'watt', 'wave', 'waved', 'wavering', 'wavy', 'wax', 'way', 'wayne', 'wayward', 'we', 'weak', 'weaken', 'weakness', 'wealth', 'weapon', 'wear', 'wearer', 'wearing', 'wearwrist', 'weary', 'weather', 'weave', 'web', 'webinar', 'webpage', 'webster', 'websurfe', 'webtreo', 'wedding', 'wedge', 'wednesday', 'wee', 'weed', 'weedy', 'week', 'weekend', 'weekly', 'weeper', 'weigh', 'weighing', 'weighs', 'weight', 'weightdoesn', 'weightfit', 'weightiest', 'weightnice', 'weighty', 'weird', 'welcome', 'weld', 'welded', 'well', 'welphone', 'welprotect', 'welquick', 'welsimple', 'welthis', 'welugly', 'wen', 'went', 'werden', 'werebulky', 'weren', 'west', 'westbury', 'wet', 'wetspot', 'wh', 'what', 'whatever', 'whatnot', 'whatsap', 'whatsoever', 'whatsoeverhtc', 'wheel', 'wheeler', 'wheelhouse', 'when', 'whence', 'whenever', 'where', 'whereas', 'whereby', 'wherever', 'whether', 'whethercharge', 'whew', 'which', 'whichever', 'whilst', 'whim', 'whine', 'whip', 'whisky', 'whisper', 'whistle', 'whit', 'white', 'whiteboard', 'whiter', 'whitethis', 'whitewater', 'whitish', 'whiztag', 'who', 'whoever', 'whoknow', 'whole', 'wholeheartedly', 'wholethe', 'whom', 'whomever', 'whose', 'why', 'wicked', 'wicker', 'wide', 'widely', 'widen', 'wider', 'widescren', 'widespread', 'widest', 'width', 'wierele', 'wife', 'wight', 'wiki', 'wikipedia', 'wild', 'wilderness', 'wildest', 'wildlife', 'wildly', 'will', 'william', 'willing', 'willingness', 'wilmot', 'wilratle', 'wilson', 'wiltravel', 'win', 'wind', 'windbreaker', 'windnoise', 'window', 'windows', 'windscreen', 'windsheild', 'windshield', 'windshild', 'windsor', 'windy', 'wine', 'winfield', 'wing', 'winner', 'winning', 'winter', 'wipe', 'wiping', 'wire', 'wirecuter', 'wired', 'wirelesfinest', 'wirelesly', 'wirelesphone', 'wiring', 'wisconsin', 'wise', 'wisely', 'wiseman', 'wiser', 'wish', 'wished', 'wishlist', 'wit', 'witch', 'with', 'withcon', 'withhold', 'withholding', 'within', 'without', 'withstand', 'withstood', 'withthis', 'witness', 'witty', 'wive', 'wizard', 'wm', 'wo', 'wobbly', 'wodbridge', 'wogue', 'woke', 'wolrab', 'woman', 'wonder', 'wonderful', 'wonderfully', 'wonderfulycon', 'wood', 'wooden', 'woodworke', 'word', 'wording', 'wordplay', 'wordseven', 'wore', 'work', 'workability', 'workaround', 'workbag', 'workbench', 'workbeter', 'workday', 'worked', 'worker', 'workflow', 'workhouse', 'working', 'workman', 'workmanship', 'workout', 'workplace', 'works', 'worksbut', 'workshop', 'worksince', 'world', 'worldly', 'worldwide', 'worn', 'worried', 'worry', 'worse', 'worsedon', 'worst', 'worth', 'worthless', 'worthwhile', 'worthy', 'would', 'wouldn', 'wouldrecomend', 'wound', 'woven', 'wrangle', 'wrangled', 'wrap', 'wraparound', 'wrapping', 'wreck', 'wrecker', 'wrecking', 'wrest', 'wrestle', 'wretch', 'wretched', 'wriggle', 'wriggling', 'wring', 'wrinkle', 'wrist', 'write', 'writer', 'writethe', 'writing', 'writingnice', 'wrong', 'www', 'wxhxd', 'wyome', 'xepwo', 'xperiaserie', 'xtremeand', 'xtremeguard', 'xx', 'xxx', 'yakjuxw', 'yakov', 'yankee', 'yard', 'yea', 'yeah', 'year', 'yearly', 'yell', 'yelled', 'yellow', 'yellowing', 'yellowish', 'yep', 'yer', 'yes', 'yesbluetoth', 'yesterday', 'yet', 'yeterli', 'yield', 'yielding', 'yingyang', 'yogurtland', 'york', 'yospacepayment', 'you', 'youbuyer', 'youcon', 'youdont', 'youfrancois', 'youhave', 'young', 'youngster', 'your', 'youth', 'youthful', 'yrmvby', 'yurbuds', 'yuri', 'zen', 'zero', 'zerolemomn', 'zerolemon', 'zip', 'ziplock', 'zis', 'zone', 'zukyju']\n"
     ]
    }
   ],
   "source": [
    "#Printing Feature Names\n",
    "\n",
    "feature_names = bow_Vectorizer.get_feature_names()\n",
    "print(feature_names)"
   ]
  },
  {
   "cell_type": "code",
   "execution_count": 33,
   "metadata": {},
   "outputs": [
    {
     "name": "stdout",
     "output_type": "stream",
     "text": [
      "   ab  abacus  abandon  abbreviate  abbreviation  abc  abe  abelkin  ability  \\\n",
      "0   0       0        0           0             0    0    0        0        0   \n",
      "1   0       0        0           0             0    0    0        0        0   \n",
      "2   0       0        0           0             0    0    0        0        0   \n",
      "3   0       0        0           0             0    0    0        0        0   \n",
      "4   0       0        0           0             0    0    0        0        0   \n",
      "\n",
      "   able  ...  yuri  zen  zero  zerolemomn  zerolemon  zip  ziplock  zis  zone  \\\n",
      "0     0  ...     0    0     0           0          0    0        0    0     0   \n",
      "1     0  ...     0    0     0           0          0    0        0    0     0   \n",
      "2     1  ...     0    0     0           0          0    0        0    0     0   \n",
      "3     0  ...     0    0     0           0          0    0        0    0     0   \n",
      "4     0  ...     0    0     0           0          0    0        0    0     0   \n",
      "\n",
      "   zukyju  \n",
      "0       0  \n",
      "1       0  \n",
      "2       0  \n",
      "3       0  \n",
      "4       0  \n",
      "\n",
      "[5 rows x 10957 columns]\n"
     ]
    }
   ],
   "source": [
    "# Converting Features array to matrix\n",
    "\n",
    "bow_features_mat = bow_train_features.todense()\n",
    "\n",
    "# Printing first 5 rows Features and vectors Dataframe\n",
    "display_features(bow_features_mat[0:5], feature_names)"
   ]
  },
  {
   "cell_type": "markdown",
   "metadata": {},
   "source": [
    "#### 2: TF-IDF "
   ]
  },
  {
   "cell_type": "code",
   "execution_count": 34,
   "metadata": {},
   "outputs": [],
   "source": [
    "# tfidf features\n",
    "\n",
    "tfidf_vectorizer, tfidf_train_features = tfidf(train_X)  \n",
    "tfidf_test_features = tfidf_vectorizer.transform(test_X)\n",
    "feature_set.append(('Tfidf features', tfidf_train_features, tfidf_test_features))"
   ]
  },
  {
   "cell_type": "code",
   "execution_count": 35,
   "metadata": {},
   "outputs": [
    {
     "name": "stdout",
     "output_type": "stream",
     "text": [
      "['ab', 'abacus', 'abandon', 'abbreviate', 'abbreviation', 'abc', 'abe', 'abelkin', 'ability', 'able', 'abolish', 'about', 'abrasion', 'abreast', 'abroad', 'absence', 'absent', 'absolute', 'absolutely', 'absolutism', 'absorb', 'absorbent', 'absorbing', 'absorption', 'abstract', 'absurd', 'abundance', 'abuse', 'abusive', 'abut', 'abysmal', 'ac', 'acadia', 'accelerate', 'accelerometer', 'accent', 'accentuate', 'accept', 'acceptability', 'acceptable', 'access', 'accessed', 'accessible', 'accessory', 'accident', 'accidental', 'accidentally', 'accidently', 'accommodate', 'accommodation', 'accompany', 'accomplish', 'accomplished', 'accord', 'accordance', 'according', 'accordingly', 'account', 'accumulate', 'accumulation', 'accuracy', 'accurate', 'accurately', 'accuse', 'accustom', 'accustomed', 'ace', 'acescase', 'aceserie', 'acesiblecamera', 'acesorie', 'acesoriesthis', 'acesorize', 'acesoryenjoy', 'ache', 'achieve', 'achieveable', 'acid', 'acknowledge', 'acomodate', 'acomodatingcon', 'acoustically', 'acquaint', 'acquaintance', 'acquire', 'acre', 'acronym', 'across', 'acrylic', 'act', 'acting', 'action', 'actionscon', 'activate', 'active', 'activedisplay', 'actively', 'activitie', 'activity', 'actor', 'actual', 'actually', 'actuate', 'acute', 'acutely', 'acuteness', 'ad', 'adapt', 'adaptable', 'adaptar', 'adapted', 'adapteris', 'adapterthe', 'add', 'addendum', 'addict', 'addicted', 'adding', 'addition', 'additional', 'address', 'adduct', 'adelaide', 'adept', 'adequate', 'adequately', 'adhere', 'adhesion', 'adhesive', 'adhesiveness', 'adjacent', 'adjudicate', 'adjust', 'adjustability', 'adjustable', 'adjustablequality', 'adjusted', 'adjusting', 'adjustment', 'administrator', 'admirable', 'admirably', 'admiral', 'admire', 'admission', 'admit', 'admittedly', 'admonish', 'adolescent', 'adopt', 'adoption', 'adorable', 'adore', 'adornment', 'adrenalin', 'adroit', 'adult', 'adustable', 'advance', 'advanced', 'advantage', 'advent', 'adventure', 'adventurous', 'adverse', 'advertise', 'advertised', 'advertisedvery', 'advertisement', 'advertising', 'advice', 'advisable', 'advise', 'adviser', 'advocate', 'aerial', 'aerodynamic', 'aerphone', 'aesthetic', 'aesthetically', 'aestheticsoveral', 'afar', 'affair', 'affect', 'affected', 'affection', 'affectionately', 'affiliation', 'afflict', 'afford', 'aficionado', 'afore', 'aforementione', 'aforementioned', 'aforordable', 'afraid', 'africa', 'african', 'aft', 'after', 'aftermarket', 'afternoon', 'afterthought', 'afterward', 'afterwards', 'again', 'against', 'againthe', 'againupdate', 'age', 'aged', 'agent', 'aggravate', 'aggravation', 'aggressive', 'ago', 'agonize', 'agonizing', 'agony', 'agorilapodfor', 'agra', 'agree', 'agreement', 'agrifin', 'ah', 'ahahah', 'ahead', 'aid', 'aim', 'air', 'airbender', 'airbuble', 'aircondition', 'aircurve', 'airline', 'airplane', 'airport', 'airstash', 'ajawbone', 'ak', 'akin', 'al', 'ala', 'alarm', 'alarming', 'alas', 'alaska', 'alba', 'albeit', 'album', 'alcatel', 'alcohol', 'aleratec', 'alert', 'ali', 'alien', 'alight', 'align', 'alike', 'aline', 'alive', 'alkaline', 'all', 'allen', 'allergic', 'alleviate', 'alley', 'alliance', 'alligator', 'allot', 'allotment', 'allow', 'allowance', 'allows', 'allude', 'ally', 'almost', 'alone', 'along', 'alongside', 'aloud', 'alpatronix', 'alphabet', 'already', 'alreadyprosit', 'alright', 'also', 'altar', 'alter', 'alteration', 'alternate', 'alternative', 'alternatively', 'alternativetech', 'although', 'altogether', 'aluframe', 'aluminium', 'alveolus', 'always', 'am', 'amateur', 'amaze', 'amazed', 'amazement', 'amazing', 'amazingly', 'amazingphone', 'amazon', 'amazonbasic', 'amber', 'ambiguous', 'amble', 'ambulance', 'amen', 'amenable', 'amend', 'amenity', 'america', 'american', 'amiability', 'amidst', 'amiss', 'ammeter', 'among', 'amongst', 'amos', 'amount', 'amp', 'amphipod', 'ample', 'amplifi', 'amplification', 'amplifier', 'amplify', 'amply', 'ampmah', 'ampsport', 'amputation', 'amuse', 'amused', 'amusement', 'amusing', 'amzdeal', 'an', 'ana', 'anal', 'analogy', 'analysis', 'analyze', 'anamazonbasic', 'ancestry', 'anchor', 'ancient', 'and', 'andboth', 'andincase', 'andjabra', 'andlightweight', 'andmake', 'andnetflix', 'andoterbox', 'andover', 'andplantronic', 'andringke', 'andro', 'androidandroid', 'androidforum', 'androidifie', 'androidis', 'andy', 'anecdote', 'anel', 'angel', 'angele', 'anger', 'angle', 'anglican', 'angling', 'angry', 'anicarpus', 'animal', 'animalslousy', 'animate', 'animated', 'animation', 'ankerdirect', 'anna', 'anne', 'annex', 'announce', 'announcement', 'annoy', 'annoyance', 'annoyed', 'annoying', 'annual', 'ano', 'anoloclip', 'anonymous', 'anoterbox', 'another', 'anotherone', 'answer', 'answering', 'ant', 'ante', 'antenna', 'antennae', 'anti', 'anticipate', 'anticipating', 'anticipation', 'antidote', 'antiglare', 'antiquated', 'antique', 'antonline', 'anxiety', 'anxious', 'anxiously', 'any', 'anybody', 'anyhow', 'anymore', 'anyone', 'anyplace', 'anyproblem', 'anything', 'anyway', 'anywhere', 'anywherecon', 'aoterbox', 'apart', 'apartment', 'apathy', 'aperture', 'apex', 'apiece', 'aplecare', 'aplicationcon', 'apocalypse', 'apocalyptic', 'apologetic', 'apologize', 'apology', 'apostrophe', 'apowergen', 'appalled', 'appalling', 'apparatus', 'apparent', 'apparently', 'appeal', 'appealing', 'appear', 'appearance', 'appeared', 'apple', 'appliance', 'applicable', 'application', 'applied', 'apply', 'applying', 'appointment', 'appraisal', 'appreciable', 'appreciate', 'appreciated', 'apprehension', 'apprehensive', 'approach', 'appropriate', 'appropriately', 'approval', 'approve', 'approximately', 'apraksin', 'apreciablecal', 'april', 'apron', 'apsbatery', 'apspandora', 'apt', 'apunusable', 'aquarium', 'ar', 'arabia', 'arable', 'arbat', 'arc', 'arcade', 'arch', 'archie', 'architect', 'arctic', 'ardor', 'area', 'aren', 'arena', 'argentina', 'argue', 'arguing', 'argument', 'arise', 'arises', 'arizona', 'arm', 'armband', 'armed', 'armor', 'armorbox', 'armorsuit', 'armour', 'armoursuit', 'armoutsuit', 'armstrong', 'army', 'around', 'aroundcase', 'aroundyour', 'arrange', 'arrangement', 'array', 'arrest', 'arrival', 'arrive', 'arrived', 'arrives', 'arriving', 'arrow', 'arsenal', 'arson', 'art', 'artery', 'arthritic', 'arthritis', 'article', 'articulate', 'articulated', 'articulating', 'articulation', 'artifact', 'artificial', 'artist', 'artistic', 'as', 'asandisk', 'asesmenthe', 'ash', 'ashame', 'ashamed', 'ashore', 'asia', 'aside', 'ask', 'asleep', 'asmotorola', 'asp', 'aspect', 'aspen', 'aspirin', 'ass', 'assassin', 'assault', 'assemble', 'assembled', 'assembling', 'assembly', 'assert', 'assess', 'assessment', 'asset', 'assign', 'assignment', 'assist', 'assistance', 'assistant', 'associate', 'association', 'assortment', 'assume', 'assuming', 'assumption', 'assurance', 'assure', 'assured', 'assuring', 'astonishing', 'astounded', 'astounding', 'astray', 'astute', 'at', 'atachached', 'ate', 'athlete', 'athletic', 'atlanta', 'atlas', 'atmosphere', 'atom', 'atractivecon', 'atractivehasn', 'atrixpro', 'atrocious', 'attach', 'attache', 'attached', 'attaching', 'attachment', 'attack', 'attempt', 'attempting', 'attend', 'attendant', 'attention', 'attentive', 'attenuate', 'attic', 'attire', 'attitude', 'attorney', 'attract', 'attracted', 'attraction', 'attractive', 'attractively', 'attractiveness', 'attribute', 'atunecast', 'au', 'auction', 'audacity', 'audible', 'audience', 'audiobok', 'audiohm', 'audiophile', 'audiophyle', 'audit', 'auditory', 'aug', 'augment', 'august', 'aunt', 'auntie', 'auricle', 'auricular', 'aussi', 'australia', 'austro', 'authentic', 'authenticity', 'author', 'authorization', 'authorize', 'authorized', 'auto', 'autobright', 'autofocus', 'autograph', 'automatic', 'automatically', 'automobile', 'autonomous', 'aux', 'avail', 'availability', 'available', 'avec', 'avenue', 'average', 'avert', 'aviation', 'avoid', 'avoiding', 'avrcpoperate', 'await', 'awake', 'awaken', 'award', 'aware', 'awareness', 'away', 'awe', 'awesome', 'awesomely', 'awesomene', 'awesomepros', 'awful', 'awfully', 'awhile', 'awhiledoesn', 'awkward', 'awkwardly', 'awkwardness', 'axillary', 'ay', 'ba', 'babe', 'babel', 'baby', 'babybought', 'babylon', 'back', 'backbeat', 'backbiter', 'backcon', 'backcover', 'backflip', 'background', 'backing', 'backlight', 'backlit', 'backordered', 'backpack', 'backpacker', 'backpacking', 'backplate', 'backseat', 'backside', 'backtrack', 'backward', 'backwards', 'bacon', 'bacteria', 'bad', 'badge', 'badly', 'baffling', 'baflingly', 'bag', 'baggy', 'bah', 'bahama', 'bake', 'baked', 'baker', 'balance', 'balanced', 'balcony', 'balisctic', 'balk', 'balkan', 'ball', 'ballet', 'ballistic', 'balloon', 'ballot', 'ballpark', 'ballpoint', 'bamboo', 'band', 'banded', 'bandit', 'bandwagon', 'bandwidth', 'bane', 'banetech', 'bang', 'bank', 'banker', 'banking', 'bankwith', 'banner', 'bar', 'barbara', 'barbecue', 'barber', 'barclay', 'bare', 'barebone', 'barebonelg', 'barely', 'bargain', 'barge', 'baritone', 'bark', 'barley', 'barn', 'barrel', 'barrier', 'barring', 'basbomz', 'base', 'baseball', 'baseband', 'basement', 'basic', 'basically', 'basin', 'basis', 'basket', 'basketball', 'basnoise', 'bass', 'bat', 'batch', 'batcopter', 'bateriesand', 'baterybuilt', 'baterybut', 'baterycan', 'baterycome', 'bateryinitial', 'bateryinstead', 'baterylife', 'bateryou', 'baterythe', 'baterytldr', 'bateryuniversity', 'bath', 'bathe', 'bathroom', 'bathtub', 'batman', 'batmobile', 'batphone', 'battalion', 'batterie', 'battery', 'battle', 'bay', 'bc', 'be', 'beach', 'beachbuoy', 'beacon', 'bead', 'beak', 'beam', 'beamed', 'bean', 'beanbag', 'bear', 'bearable', 'beard', 'beast', 'beastly', 'beat', 'beaten', 'beating', 'beautiful', 'beautifully', 'beauty', 'beaux', 'became', 'because', 'becausethis', 'become', 'becomes', 'bed', 'bedroom', 'bedside', 'bedtime', 'bee', 'beecher', 'beef', 'been', 'beethoven', 'beetle', 'befall', 'befit', 'before', 'beforehand', 'beg', 'beggar', 'begged', 'begging', 'begin', 'beginner', 'beginning', 'begins', 'begrudgingly', 'behalf', 'behave', 'behaved', 'behavior', 'behaviour', 'beheld', 'behemoth', 'behind', 'behold', 'beige', 'being', 'belie', 'belief', 'believable', 'believe', 'believer', 'bell', 'belle', 'belly', 'belong', 'belonging', 'beloved', 'below', 'belt', 'ben', 'bench', 'benchmark', 'bend', 'bended', 'bending', 'beneath', 'beneficial', 'benefit', 'bent', 'bentbut', 'berg', 'beside', 'besides', 'bestdealusa', 'bestskinever', 'bestskinsever', 'bet', 'bethink', 'betray', 'better', 'between', 'betwenthe', 'beverage', 'beware', 'beyerdynamic', 'beyond', 'beyzacase', 'bias', 'bicep', 'bicycle', 'bicycling', 'bicyclist', 'bid', 'bidding', 'bien', 'big', 'biglow', 'bike', 'bill', 'billfold', 'billion', 'bin', 'binary', 'bind', 'binder', 'biography', 'bionicat', 'bird', 'birthday', 'birugear', 'bishop', 'bit', 'bite', 'biting', 'bitter', 'bl', 'black', 'blackberry', 'blackbrand', 'blacken', 'blackest', 'blackfit', 'blackfor', 'blackguard', 'blackharder', 'blackhtp', 'blackimpact', 'blackjack', 'blackproduct', 'blacksince', 'blackthe', 'blacktop', 'blackverdict', 'blackwhich', 'blade', 'blame', 'blaming', 'bland', 'blandly', 'blank', 'blasphemy', 'blast', 'blaze', 'blazing', 'blazon', 'blee', 'bleed', 'bleeding', 'blemish', 'blend', 'bless', 'blessing', 'blewout', 'blind', 'blinding', 'blindstampe', 'blink', 'blinking', 'blister', 'bloated', 'bloatware', 'bloatwarerote', 'block', 'blockade', 'blocking', 'blonde', 'blood', 'blot', 'blotch', 'blotched', 'blotted', 'blow', 'blown', 'blue', 'bluebridge', 'bluebud', 'bluefox', 'blueoth', 'blueparot', 'blueprint', 'blueriger', 'bluetoth', 'bluetothed', 'bluetothkeyboard', 'bluetothle', 'bluetouth', 'bluetrek', 'bluetrip', 'bluewhich', 'bluezime', 'bluish', 'blunt', 'blur', 'blurriness', 'blutoth', 'board', 'boast', 'boasting', 'boat', 'bob', 'bobtronic', 'bode', 'bodily', 'body', 'bodybuilder', 'bodyguard', 'bodysuit', 'boil', 'boklethis', 'bold', 'boldly', 'bolster', 'bolt', 'bomb', 'bombproof', 'bond', 'bone', 'boned', 'bonesfor', 'bonus', 'bony', 'book', 'bookcase', 'booking', 'booklet', 'bookshelf', 'bookstore', 'boom', 'booming', 'boost', 'boot', 'booth', 'border', 'bordering', 'bore', 'bored', 'boredom', 'boring', 'borrow', 'borrowing', 'boss', 'bosse', 'bosterwhich', 'boston', 'both', 'bother', 'bothersome', 'botloader', 'botomwhere', 'bottle', 'bottom', 'bottomless', 'bough', 'bought', 'boughtiogear', 'bounce', 'bound', 'bounding', 'bounty', 'bout', 'bow', 'bowel', 'bowie', 'bowl', 'box', 'boxer', 'boxing', 'boxrate', 'boxwave', 'boxweave', 'boy', 'boycott', 'boyfriend', 'brace', 'bracelet', 'bracket', 'bracketron', 'brag', 'braid', 'braided', 'brain', 'brake', 'branch', 'brand', 'branding', 'brass', 'brave', 'bravo', 'brazen', 'brazil', 'brazilian', 'breach', 'breadth', 'break', 'breakage', 'breakdown', 'breaker', 'breakfast', 'breakgod', 'breaking', 'breakthrough', 'breakup', 'breast', 'breath', 'breathable', 'breathe', 'breathing', 'breathtaking', 'breathtakingly', 'breed', 'breeze', 'brick', 'bricklike', 'bridge', 'bridle', 'brief', 'briefcase', 'briefcaselove', 'briefly', 'bright', 'brighten', 'brightly', 'brightmisc', 'brightness', 'brilliance', 'brilliant', 'brilliantly', 'bring', 'bringing', 'brisk', 'briskness', 'british', 'briton', 'brittle', 'broad', 'broadband', 'broadcast', 'broadcasting', 'broadcom', 'broadway', 'brochure', 'broke', 'broken', 'bronze', 'brook', 'broomstick', 'brother', 'brought', 'brow', 'browe', 'brown', 'brownish', 'browse', 'browserealy', 'browsergogle', 'browsing', 'browswer', 'brubeck', 'bruce', 'bruise', 'brunt', 'brush', 'brushing', 'brutal', 'brutally', 'brute', 'bu', 'bubble', 'bubbling', 'bublegum', 'bublesdon', 'bubleshock', 'bubleworld', 'buck', 'buckaroo', 'bucket', 'buckle', 'bud', 'budge', 'budget', 'budsgod', 'buena', 'buff', 'buffalo', 'buffoonery', 'bug', 'bugdroid', 'buggy', 'build', 'builder', 'building', 'bulb', 'bulbous', 'bulge', 'bulging', 'bulk', 'bulkier', 'bulkiest', 'bulky', 'bulkycheapslip', 'bulkycon', 'bulkyne', 'bulkytwo', 'bull', 'bullet', 'bulletproof', 'bump', 'bumperle', 'bumperupdate', 'bumping', 'bunch', 'bundle', 'bunker', 'bunt', 'burden', 'burgess', 'burgle', 'burgundy', 'burn', 'burning', 'burr', 'burri', 'burst', 'bury', 'burying', 'bus', 'bush', 'bushy', 'busineshigh', 'business', 'businessman', 'bust', 'busy', 'but', 'butler', 'butoncon', 'butonspade', 'butonsthe', 'butonwork', 'butt', 'butter', 'butterfly', 'buttock', 'button', 'buttoning', 'butts', 'buy', 'buyacesory', 'buyer', 'buying', 'buyworld', 'buzkil', 'buzz', 'buzzing', 'by', 'bye', 'bystander', 'bytracfone', 'ca', 'cab', 'cabby', 'cabin', 'cabinet', 'cable', 'cablebotom', 'cablebox', 'cablefeature', 'cablehad', 'cablele', 'cablemicro', 'cablepro', 'cablescon', 'cablesthough', 'cablewhose', 'cablework', 'cablewould', 'cabman', 'cabochon', 'cactus', 'cadet', 'cake', 'calcify', 'calcium', 'calculate', 'calculated', 'calculation', 'calcutta', 'caldron', 'caleche', 'calendar', 'calibre', 'calidad', 'california', 'calingwhen', 'call', 'called', 'caller', 'calling', 'calm', 'calomel', 'calorie', 'calsbluetothremovable', 'calvin', 'camarena', 'camcorder', 'came', 'camel', 'camelcamelcamel', 'camera', 'cameraconclusion', 'camewith', 'camoflage', 'camp', 'campaign', 'campground', 'camping', 'can', 'canada', 'canadian', 'canal', 'cancel', 'cancelationcompetitive', 'cancelingcon', 'cancellation', 'cancer', 'candid', 'candidate', 'candle', 'candor', 'candy', 'candycrush', 'candyshel', 'canned', 'canning', 'canon', 'canopy', 'canvas', 'cap', 'capabilitie', 'capability', 'capable', 'capacious', 'capacitative', 'capacitie', 'capacity', 'capacityha', 'capacityoxa', 'caper', 'capital', 'capless', 'caprice', 'capsule', 'captain', 'captivate', 'captive', 'captor', 'capture', 'car', 'carabineer', 'caravan', 'carbon', 'carbonate', 'card', 'cardboard', 'cardiac', 'cardsand', 'cardsandisk', 'care', 'cared', 'career', 'careful', 'carefully', 'carefulness', 'carefulthis', 'careless', 'carelessness', 'carer', 'cargador', 'cargo', 'caribbean', 'carlo', 'carnival', 'carolina', 'carpal', 'carpenter', 'carpet', 'carpeted', 'carpus', 'carrel', 'carriage', 'carrier', 'carrot', 'carry', 'carrying', 'cart', 'cartoon', 'cartridge', 'carve', 'carved', 'cascade', 'case', 'caseate', 'casecrown', 'caseheadphone', 'casehowever', 'caselace', 'casemhard', 'caseology', 'caseous', 'caserecomend', 'casesone', 'casethey', 'casewhen', 'casewhich', 'casework', 'cash', 'cassel', 'cassette', 'cassock', 'cast', 'castle', 'castor', 'casual', 'casually', 'cat', 'catch', 'catcher', 'catching', 'categorically', 'categorie', 'category', 'cattle', 'cause', 'causing', 'caustic', 'cautery', 'caution', 'cautionpul', 'cautious', 'cautiously', 'cava', 'cavali', 'cavalier', 'cave', 'cavern', 'cavity', 'ce', 'cease', 'ceiling', 'celcasesusa', 'celebrate', 'celebration', 'celebrity', 'celhelmet', 'cell', 'cellar', 'cellphone', 'cellular', 'celshop', 'cement', 'censor', 'cent', 'center', 'centered', 'centimetre', 'central', 'centrifugal', 'century', 'certain', 'certainly', 'certificate', 'certifiedimension', 'cf', 'cfhnote', 'ch', 'chain', 'chair', 'chairlift', 'chalk', 'chalkboard', 'chalked', 'challenge', 'challenging', 'chamber', 'champ', 'champagne', 'champion', 'chance', 'changable', 'change', 'changeable', 'changeover', 'channel', 'channing', 'chapter', 'character', 'characteristic', 'charcoal', 'charge', 'chargecon', 'charged', 'chargefrom', 'chargeiphone', 'chargeralbe', 'chargerand', 'chargerbecause', 'chargereplacement', 'chargerfirst', 'chargerha', 'chargerhtp', 'chargerinstead', 'chargeroranker', 'chargersrelatively', 'chargerthank', 'chargerthat', 'chargertravel', 'chargerwork', 'chargerworke', 'chargesome', 'chargestay', 'chargesync', 'chargethe', 'chargevarious', 'charging', 'chargingnearly', 'chargingsince', 'chargingspeaker', 'charing', 'charitable', 'charitie', 'charlie', 'charm', 'charming', 'charon', 'charpie', 'chart', 'charter', 'chartruse', 'chase', 'chasing', 'chat', 'cheap', 'cheapcon', 'cheaper', 'cheapest', 'cheaply', 'cheapness', 'cheapskate', 'cheapthe', 'cheat', 'check', 'check_up_on_it', 'checkerboard', 'checking', 'cheek', 'cheer', 'cheese', 'cheetah', 'chemical', 'chemist', 'chemistry', 'cherry', 'chess', 'chest', 'chew', 'cheyenne', 'chicago', 'chicagoland', 'chicken', 'chief', 'chiefly', 'chihuahua', 'child', 'childhood', 'childish', 'chill', 'chilly', 'chime', 'chin', 'china', 'chinathis', 'chinause', 'chinese', 'chink', 'chip', 'chirping', 'chocolate', 'choetech', 'choice', 'choir', 'choke', 'choose', 'choosing', 'chop', 'chopstick', 'chord', 'chorus', 'chris', 'christian', 'christma', 'christmas', 'chromearive', 'chromecast', 'chromic', 'chronic', 'chronological', 'chubbiness', 'chubby', 'chuck', 'chuckle', 'chum', 'chunky', 'church', 'cigarette', 'cinderblock', 'cinema', 'circle', 'circuit', 'circular', 'circulate', 'circulation', 'circumstance', 'cite', 'citizen', 'city', 'civic', 'civilization', 'claim', 'clair', 'clamor', 'clamp', 'clamshell', 'clap', 'clarification', 'clarify', 'clarinet', 'clarity', 'claritycomfortable', 'claritycon', 'clark', 'clash', 'clasicwas', 'clasp', 'class', 'classic', 'classical', 'classroom', 'clatter', 'claustrophobic', 'clayton', 'cle', 'clean', 'cleaner', 'cleaning', 'cleanliness', 'cleanly', 'cleanse', 'clear', 'clearance', 'clearer', 'clearinghouse', 'clearly', 'clearness', 'clearversion', 'clearview', 'clever', 'cleverly', 'click', 'clickable', 'clicked', 'client', 'cliff', 'climate', 'climb', 'climbing', 'clinch', 'clinching', 'cling', 'clinging', 'clinically', 'clink', 'clinking', 'clip', 'clipped', 'clips', 'clock', 'clorox', 'close', 'closeable', 'closed', 'closedbut', 'closedcon', 'closely', 'closequad', 'closet', 'closing', 'closure', 'clot', 'cloth', 'clothe', 'clothespin', 'clothing', 'clothinstruction', 'clothscren', 'cloud', 'cloudless', 'cloudy', 'club', 'clue', 'clump', 'clumsiness', 'clumsy', 'clung', 'clunki', 'clunkine', 'clunkyconclusionwhile', 'cluster', 'clutch', 'clutzly', 'cm', 'cm_cr', 'cm_cr_rdp_perm', 'cm_cr_ryp_prd_tl_hst', 'co', 'coach', 'coal', 'coalescence', 'coarse', 'coast', 'coat', 'coated', 'coating', 'coax', 'coburg', 'cockblocke', 'cockpit', 'cocktail', 'cocoa', 'cod', 'code', 'coffee', 'coffin', 'coherent', 'cohesively', 'coil', 'coin', 'coincidence', 'colapsible', 'colapsibleplug', 'cold', 'coldly', 'coli', 'colic', 'collaborate', 'collapsable', 'collapse', 'collapsible', 'collar', 'collarbone', 'colleague', 'collect', 'collecting', 'collection', 'collector', 'college', 'collision', 'colombia', 'colon', 'colony', 'color', 'colorcon', 'colored', 'coloring', 'colorupdate', 'colossal', 'colour', 'coloured', 'colourful', 'colrecomend', 'columbia', 'column', 'com', 'coma', 'coman', 'comandone', 'comb', 'combat', 'combination', 'combine', 'combined', 'come', 'comedy', 'comes', 'comfort', 'comfortability', 'comfortable', 'comfortablethe', 'comfortableunlike', 'comfortably', 'comic', 'comical', 'coming', 'comma', 'command', 'commence', 'commend', 'commendable', 'comment', 'comments', 'commercial', 'commission', 'commissioner', 'commit', 'commitment', 'commodity', 'common', 'commonly', 'commune', 'communicate', 'communication', 'communicative', 'communist', 'community', 'commute', 'commuted', 'commuting', 'comoftrbale', 'compact', 'compactly', 'compactness', 'companion', 'company', 'comparable', 'comparative', 'comparatively', 'compare', 'comparing', 'comparison', 'compartment', 'compass', 'compatability', 'compatible', 'compatiblescosche', 'compel', 'compensate', 'compensation', 'compete', 'competent', 'competition', 'competitive', 'competitor', 'complain', 'complaining', 'complaint', 'complement', 'complementary', 'complete', 'completeist', 'completely', 'completion', 'complex', 'compliance', 'complicate', 'complicated', 'complication', 'compliment', 'complimentary', 'complimented', 'comply', 'component', 'compose', 'composing', 'composite', 'composition', 'compound', 'comprehend', 'comprehensive', 'compress', 'compressed', 'compression', 'comprise', 'compromise', 'compute', 'computer', 'computercon', 'computerconcern', 'computing', 'con', 'concave', 'conceal', 'concealing', 'conceivable', 'conceived', 'concentrate', 'concentrated', 'concentric', 'concept', 'concern', 'concerned', 'concert', 'concise', 'conclude', 'conclusion', 'conclusionbee', 'conclusionspro', 'conclusionthis', 'concrete', 'concurrently', 'conde', 'condemn', 'condensation', 'condense', 'condition', 'conditioning', 'conditionshorible', 'conduce', 'conduct', 'conductivity', 'conductor', 'cone', 'conectedear', 'conectionsexcelent', 'conectionwhen', 'conectivityfm', 'conectorspecs', 'confer', 'conference', 'conferencing', 'confess', 'confidant', 'confidence', 'confident', 'confidently', 'configurable', 'configuration', 'configure', 'confine', 'confirm', 'confirmation', 'confirmationonce', 'confiscate', 'conflict', 'conflicting', 'conform', 'confuse', 'confused', 'confusing', 'confusion', 'conglomeration', 'conjunction', 'connect', 'connected', 'connection', 'connective', 'conscience', 'conscientious', 'conscious', 'consconection', 'conscript', 'consecutive', 'consequence', 'consequently', 'conservative', 'conserve', 'consider', 'considerable', 'considerably', 'considerate', 'consideration', 'considering', 'considerpowergen', 'consist', 'consistency', 'consistent', 'consistently', 'consmuch', 'consolation', 'console', 'consolidate', 'consolidated', 'consonant', 'consortium', 'conspicuous', 'conspiracy', 'conspire', 'constable', 'constant', 'constantly', 'consthese', 'constraint', 'constrict', 'constricting', 'construct', 'construction', 'constructionthe', 'constructive', 'consult', 'consulting', 'consume', 'consumer', 'consuming', 'consumption', 'contact', 'contain', 'container', 'contamination', 'contemporary', 'contend', 'content', 'contention', 'contest', 'contestant', 'context', 'continual', 'continually', 'continuation', 'continue', 'continued', 'continuity', 'continuous', 'continuously', 'contortion', 'contour', 'contract', 'contracting', 'contraction', 'contractor', 'contradict', 'contrary', 'contrast', 'contre', 'contribute', 'control', 'controller', 'controlling', 'controlone', 'controlsconvenientconsound', 'convenience', 'convenient', 'conveniently', 'convention', 'conventional', 'conversation', 'conversational', 'converse', 'conversing', 'conversion', 'conversionthe', 'convert', 'converted', 'convertible', 'convey', 'convient', 'convince', 'convinced', 'convincing', 'convulsive', 'cook', 'cooker', 'cooking', 'cool', 'coolest', 'cooling', 'coolly', 'cooper', 'cooperate', 'cooperative', 'coordinate', 'coordinating', 'cop', 'copper', 'copy', 'coral', 'cord', 'corded', 'cordial', 'cordon', 'core', 'corn', 'corner', 'corporate', 'corporation', 'correct', 'correcting', 'correction', 'corrective', 'correctly', 'correspond', 'correspondence', 'corrosive', 'corrupt', 'cos', 'cosmetic', 'cosmetically', 'cosmeticslok', 'cosmopolitan', 'cost', 'coster', 'costing', 'costly', 'costo', 'costume', 'cot', 'cotton', 'couch', 'cough', 'coughed', 'could', 'couldmake', 'couldn', 'counsel', 'count', 'countdown', 'counter', 'counterfeit', 'counterintuitive', 'counterpart', 'counterproductive', 'countertop', 'counting', 'countless', 'country', 'countryman', 'county', 'couple', 'couplecablejive', 'coupon', 'courant', 'courier', 'course', 'court', 'courteous', 'courtesy', 'cousin', 'couture', 'cover', 'coverage', 'coveralow', 'covered', 'covering', 'covers', 'covert', 'covet', 'coxinha', 'crab', 'crack', 'cracked', 'cracking', 'crackle', 'crackling', 'cradle', 'cradlepoint', 'craft', 'craftsmanship', 'craig', 'craigslist', 'cramp', 'crank', 'crapshoot', 'crash', 'crashed', 'crave', 'crawl', 'crazy', 'creak', 'cream', 'crease', 'create', 'creation', 'creative', 'creativity', 'creator', 'creature', 'credit', 'creditcard', 'creep', 'crew', 'cricket', 'crime', 'criminal', 'crimson', 'cringe', 'cripple', 'crippled', 'crippling', 'crisis', 'crisp', 'crisply', 'crispy', 'cristal', 'criterion', 'critic', 'critical', 'criticism', 'criticize', 'critique', 'crocodile', 'croix', 'crook', 'crooked', 'crop', 'cross', 'crossbar', 'crosse', 'crossing', 'crossover', 'crossword', 'crow', 'crowd', 'crowded', 'crowder', 'crowdsourced', 'crown', 'crucial', 'crude', 'cruel', 'cruise', 'cruiser', 'crumble', 'crunch', 'crush', 'crushed', 'crutch', 'cruzerlite', 'cry', 'crystal', 'crystallize', 'cualqui', 'cub', 'cuba', 'cubbyhole', 'cuff', 'culprit', 'cult', 'cumbersome', 'cunningly', 'cup', 'cupcake', 'curate', 'curb', 'cure', 'curiosity', 'curious', 'curiously', 'curl', 'curling', 'curly', 'curmudgeon', 'current', 'currently', 'curse', 'curvature', 'curve', 'curved', 'cushion', 'cushioned', 'custom', 'customary', 'customer', 'customise', 'customizable', 'customization', 'customize', 'customizing', 'cut', 'cutaway', 'cutis', 'cutlet', 'cutomize', 'cutting', 'cy', 'cyanogenmod', 'cyberpower', 'cycle', 'cycling', 'cyclop', 'cygwin', 'cylinder', 'cylindrical', 'cyst', 'czech', 'da', 'dad', 'daddy', 'dagger', 'daily', 'dainty', 'daisy', 'dam', 'damage', 'damagethe', 'damaging', 'damn', 'damned', 'damp', 'dance', 'dancing', 'dandy', 'danger', 'dangerous', 'dangerously', 'dangle', 'daniel', 'dare', 'daresay', 'dark', 'darken', 'darkness', 'darling', 'dart', 'das', 'dash', 'dashboard', 'data', 'database', 'date', 'dated', 'datum', 'daub', 'daughter', 'davidson', 'davout', 'davy', 'dawn', 'day', 'daylight', 'daytime', 'dazzle', 'dbluetoth', 'dbmbluetoth', 'de', 'deactivate', 'deactivated', 'dead', 'deadafter', 'deadline', 'deadspot', 'deaf', 'deal', 'dealbreaker', 'dealer', 'dealership', 'dealing', 'dealproslong', 'dealt', 'dear', 'death', 'deathly', 'debatable', 'debate', 'debit', 'debris', 'debs', 'debt', 'dec', 'decade', 'decease', 'deceive', 'december', 'decency', 'decent', 'decently', 'deceptive', 'decide', 'decidedly', 'decision', 'deck', 'declare', 'decline', 'decorate', 'decorating', 'decoration', 'decorative', 'decrease', 'decrepit', 'dedicate', 'dedicated', 'deduce', 'deductible', 'deduction', 'deed', 'deep', 'deeply', 'deer', 'def', 'default', 'defeat', 'defect', 'defective', 'defence', 'defend', 'defender', 'defendercase', 'defendercover', 'defenectly', 'defenetley', 'defense', 'deference', 'deferential', 'defiantly', 'deficiency', 'deficient', 'deficit', 'defile', 'define', 'definite', 'definitely', 'definitelygiven', 'definition', 'deform', 'deformity', 'defy', 'degenerate', 'degeneration', 'degenerative', 'degradation', 'degrade', 'degraded', 'degrading', 'degree', 'degregorio', 'dehydrate', 'deity', 'del', 'delay', 'delegate', 'delete', 'deletion', 'deleveryrealy', 'deliberate', 'delicate', 'delicious', 'delight', 'delighted', 'delightful', 'deliver', 'deliverance', 'deliveredhowever', 'delivery', 'delude', 'deluge', 'delusion', 'dem', 'demand', 'demanding', 'democracy', 'demon', 'demonstrate', 'demonstration', 'den', 'dendomondo', 'denial', 'denis', 'denote', 'dense', 'densely', 'density', 'deny', 'denying', 'deodorant', 'depackaging', 'depart', 'department', 'depend', 'dependability', 'dependable', 'dependent', 'depending', 'depends', 'depict', 'depicted', 'deplete', 'deploy', 'deposit', 'deposition', 'depot', 'depress', 'depressed', 'depth', 'deputation', 'derby', 'dere', 'derision', 'derive', 'des', 'descend', 'descent', 'describe', 'description', 'descriptionpurchase', 'descriptive', 'desert', 'deserve', 'design', 'designate', 'designation', 'designcon', 'designed', 'designer', 'designgreat', 'designing', 'designprice', 'designthere', 'designwise', 'desirable', 'desire', 'desk', 'desktop', 'desolate', 'desoldere', 'despair', 'desperate', 'desperately', 'desperation', 'despise', 'despite', 'destination', 'destroy', 'destructive', 'detach', 'detachable', 'detached', 'detaching', 'detail', 'detailed', 'detailing', 'detailscolor', 'detailsthe', 'detect', 'detection', 'detector', 'deter', 'deteriorate', 'determination', 'determine', 'determined', 'deterred', 'detest', 'detestable', 'detour', 'detract', 'detriment', 'detrimental', 'detritus', 'detroit', 'devastating', 'devaughn', 'develop', 'developed', 'developer', 'development', 'device', 'devicecon', 'devicefolde', 'deviceitself', 'devicene', 'deviceplay', 'devicesare', 'devicesbatery', 'devicescharge', 'devicescon', 'devicesport', 'devicesthis', 'devicewear', 'devil', 'devilish', 'devise', 'devised', 'devote', 'devoted', 'devotion', 'devouring', 'dew', 'dexter', 'dexterity', 'di', 'diable', 'diagnose', 'diagnostic', 'diagonal', 'diagram', 'dial', 'dialingcon', 'dialogue', 'dialpad', 'diameter', 'diamond', 'diana', 'diaphragm', 'diary', 'dice', 'dichlorite', 'dictate', 'dictation', 'dictionary', 'did', 'didgerido', 'didn', 'die', 'died', 'diego', 'dies', 'difcultly', 'differ', 'difference', 'differences', 'different', 'differentiate', 'differentiation', 'differently', 'difficult', 'difficulty', 'diffuse', 'dig', 'digest', 'digit', 'digital', 'digitizer', 'digiwaker', 'dilemma', 'diligent', 'diluted', 'dim', 'dimension', 'dimincal', 'diminish', 'diminished', 'diminishing', 'diminutive', 'dimmler', 'dimple', 'din', 'dine', 'dingy', 'dining', 'dinner', 'dinosaur', 'dinosour', 'dint', 'dip', 'diploe', 'direct', 'direction', 'directly', 'director', 'directory', 'dirt', 'dirtcon', 'dirty', 'dis', 'disability', 'disable', 'disabled', 'disadvantage', 'disagree', 'disapomite', 'disappear', 'disappoint', 'disappointed', 'disappointing', 'disappointment', 'disassemble', 'disassembly', 'disaster', 'disastrous', 'disbelieve', 'disc', 'discard', 'discern', 'discernible', 'discharge', 'discharging', 'disclaimer', 'disclose', 'disclosure', 'disco', 'discoloration', 'discolour', 'discomfort', 'disconcert', 'disconnect', 'disconnected', 'disconnection', 'discontent', 'discontinue', 'discontinued', 'discount', 'discourage', 'discover', 'discoverable', 'discovery', 'discreet', 'discrepancy', 'discrete', 'discuss', 'discussion', 'disdain', 'disengage', 'disengaged', 'disgrace', 'disgruntle', 'disguise', 'disguised', 'disgust', 'disgusted', 'disgusting', 'dish', 'dishearten', 'dishonest', 'disingenuous', 'disintegrate', 'disk', 'dislike', 'disliked', 'dislocate', 'dislodge', 'dismal', 'dismay', 'dismiss', 'dismount', 'dismounted', 'disneyland', 'dispatch', 'displace', 'display', 'displaymate', 'displease', 'displeased', 'displeasure', 'disposal', 'dispose', 'dispute', 'disregard', 'disrupt', 'dissatisfaction', 'dissatisfied', 'dissatisfy', 'dissect', 'dissimilar', 'dissipate', 'dissipation', 'dissolve', 'distance', 'distant', 'distinct', 'distinction', 'distinctive', 'distinguish', 'distinguished', 'distort', 'distorted', 'distortion', 'distract', 'distracted', 'distracting', 'distraction', 'distress', 'distressed', 'distressful', 'distribute', 'distribution', 'distributor', 'district', 'distronic', 'disturb', 'disturbance', 'disuse', 'ditch', 'ditching', 'ditztronic', 'divan', 'dive', 'diver', 'diverse', 'divide', 'diving', 'division', 'dix', 'diztrnoic', 'diztronic', 'diztroniclove', 'dizziness', 'do', 'doc', 'dock', 'dockable', 'docket', 'docketing', 'docoler', 'doctor', 'document', 'documentation', 'dodge', 'doe', 'doesn', 'doff', 'dog', 'dogcatcher', 'dogma', 'doing', 'doll', 'dollar', 'dolphin', 'dome', 'domestic', 'dominate', 'dominican', 'domo', 'don', 'donate', 'donation', 'done', 'doneonly', 'door', 'doorstop', 'doorway', 'dootie', 'dosage', 'dose', 'dot', 'dotted', 'double', 'doubles', 'doubly', 'doubt', 'doubtful', 'dough', 'doughnut', 'dovey', 'down', 'downclocke', 'downfall', 'downgrade', 'downhill', 'download', 'downloadable', 'downloadgod', 'downloading', 'downright', 'downscale', 'downside', 'downsize', 'downstairs', 'downstream', 'downstreaming', 'downthe', 'downtime', 'downtown', 'downward', 'dozen', 'dpskbatery', 'dr', 'drab', 'draft', 'drag', 'dragon', 'dragoon', 'dragslip', 'drain', 'drainage', 'draining', 'drake', 'drama', 'dramatic', 'dramatically', 'drape', 'drastic', 'draw', 'drawback', 'drawer', 'drawing', 'drawsomething', 'drawstre', 'dread', 'dreadfully', 'dream', 'dreamed', 'dreamwirele', 'dresden', 'dress', 'dresser', 'dressing', 'drew', 'drift', 'drill', 'drink', 'drip', 'drive', 'driver', 'drivermode', 'driverscharge', 'driving', 'droidforum', 'droidog', 'droit', 'dron', 'droop', 'drop', 'dropbox', 'droplet', 'dropped', 'dropping', 'drown', 'drowning', 'drum', 'drunk', 'drunken', 'dry', 'dslreport', 'du', 'dual', 'dualpro', 'dub', 'dubious', 'duc', 'duct', 'due', 'duel', 'duet', 'duke', 'dull', 'dumb', 'dumbly', 'dumbphone', 'dummy', 'dump', 'dumping', 'dung', 'duplicate', 'dura', 'durabale', 'durabilityi', 'durabilty', 'durableslimprotect', 'duracel', 'duration', 'during', 'dursble', 'dust', 'dustprof', 'dusty', 'dutch', 'dutifully', 'duty', 'dwarf', 'dweller', 'dwelling', 'dwelt', 'dwindle', 'dwyer', 'dye', 'dying', 'dynamic', 'dzitronic', 'each', 'eachport', 'eachpre', 'eager', 'eagle', 'eagleblod', 'ear', 'earache', 'earbud', 'earbug', 'eardrum', 'earhok', 'earl', 'earle', 'early', 'earlybirdsaving', 'earn', 'earpad', 'earpeice', 'earphone', 'earpiece', 'earpiecemagnet', 'earplug', 'earpod', 'earshape', 'earshot', 'earspeaker', 'earth', 'earthen', 'earthquake', 'earwave', 'earwrap', 'ease', 'easier', 'easiest', 'easily', 'easilycon', 'easing', 'east', 'eastern', 'easy', 'easybuton', 'easyjabra', 'easypak', 'easytether', 'eat', 'ebook', 'eccentric', 'echo', 'eclipse', 'economic', 'economical', 'economically', 'economics', 'economy', 'ecorox', 'ecosystem', 'ecoxbt', 'ecoxgear', 'ecstatic', 'ecuador', 'ed', 'edge', 'edgesdue', 'edit', 'edith', 'editing', 'edition', 'editor', 'educational', 'eerie', 'effect', 'effected', 'effecting', 'effective', 'effectively', 'effectiveness', 'efficiency', 'efficient', 'efficiently', 'effort', 'effortless', 'effortlessly', 'efortleslylike', 'eg', 'egcbm', 'egg', 'ego', 'egress', 'eh', 'eight', 'eighteen', 'eighth', 'eighty', 'either', 'eitheranker', 'eitherhave', 'el', 'elaborate', 'elastic', 'elasticity', 'elate', 'elbow', 'elder', 'elderly', 'elect', 'election', 'elector', 'electric', 'electrical', 'electricity', 'electromagnetic', 'electromaster', 'electron', 'electronic', 'electronics', 'elegance', 'elegant', 'elegantly', 'element', 'elephant', 'elevate', 'elevated', 'elevator', 'eleven', 'eligible', 'eliminate', 'elimination', 'elite', 'elitetech', 'elkin', 'elliptical', 'ellis', 'elongate', 'else', 'elsewhere', 'elson', 'ely', 'em', 'email', 'embark', 'embarrassed', 'embarrassing', 'embarrassment', 'embed', 'embellish', 'emblem', 'embody', 'emboss', 'embossed', 'embrace', 'emerge', 'emergence', 'emergencie', 'emergency', 'emit', 'emotional', 'emperor', 'emphasis', 'emphasize', 'emphatic', 'empire', 'employ', 'employee', 'employment', 'empow', 'empower', 'empty', 'emulate', 'emulation', 'emulator', 'en', 'enable', 'enables', 'enabling', 'encapsulate', 'encase', 'encircle', 'enclose', 'enclosure', 'encompass', 'encounter', 'encountering', 'encourage', 'encumber', 'end', 'endear', 'ended', 'ending', 'endless', 'endo', 'endomondo', 'endow', 'ends', 'endurance', 'endure', 'energie', 'energy', 'enerpak', 'enfant', 'enforce', 'enforcement', 'engage', 'engaged', 'engagement', 'engine', 'engineer', 'engineered', 'engineering', 'english', 'engrave', 'enhance', 'enhanced', 'enhancement', 'enjoy', 'enjoyable', 'enjoyment', 'enlarge', 'enlarged', 'enlighten', 'enormous', 'enough', 'ensue', 'ensure', 'entangle', 'enter', 'entering', 'enterprise', 'entertain', 'entertainment', 'enthusiasm', 'enthusiast', 'enthusiastic', 'entire', 'entirecradle', 'entirely', 'entirextra', 'entity', 'entrust', 'entry', 'entryway', 'enunciation', 'envelope', 'enviou', 'envious', 'environment', 'environmental', 'envision', 'envy', 'epic', 'epoch', 'equal', 'equality', 'equalizer', 'equally', 'equals', 'equation', 'equator', 'equifax', 'equip', 'equipment', 'equipped', 'equipping', 'equivalent', 'er', 'era', 'erase', 'erb', 'erect', 'ergonomicaly', 'eric', 'erie', 'erntrega', 'err', 'errand', 'erratic', 'erroneous', 'error', 'erza', 'es', 'escape', 'esp', 'espacio', 'espcicaly', 'especially', 'esq', 'essay', 'essence', 'essential', 'essentially', 'est', 'establish', 'estate', 'esteem', 'estimate', 'estimation', 'et', 'etc', 'etcetera', 'eternity', 'ether', 'ethernet', 'ethical', 'ety', 'etyblu', 'eugene', 'europe', 'european', 'evacuate', 'evaluate', 'evaluation', 'evaporate', 'eve', 'evecase', 'even', 'evening', 'evenly', 'event', 'eventhough', 'eventual', 'eventually', 'ever', 'everett', 'evergreen', 'evertime', 'every', 'everybody', 'everyday', 'everyone', 'everyoneworth', 'everysingle', 'everything', 'everythingyou', 'everytime', 'everywhere', 'evidence', 'evident', 'evidently', 'evil', 'evofrom', 'evolution', 'evolutionary', 'evolve', 'evoveral', 'ex', 'exact', 'exactly', 'exaggerate', 'exaggerated', 'exaggeration', 'examination', 'examine', 'example', 'examplealso', 'exceed', 'exceedingly', 'exceeds', 'excelentand', 'excelentbuild', 'excelentgrace', 'excelentpowergen', 'excelentvoyagerserie', 'excellence', 'excellency', 'excellent', 'except', 'exception', 'exceptional', 'exceptionally', 'excess', 'excessive', 'excessively', 'exchange', 'exchangeable', 'exchangeablecon', 'excite', 'excited', 'excitement', 'exciting', 'exclude', 'excluding', 'exclusive', 'exclusively', 'excrement', 'excuse', 'execute', 'execution', 'executive', 'exelente', 'exercise', 'exert', 'exhaust', 'exhausted', 'exhaustive', 'exhibit', 'exist', 'existence', 'exit', 'exorbitant', 'expand', 'expandable', 'expanse', 'expansion', 'expansionthe', 'expect', 'expectancy', 'expectation', 'expected', 'expectedgreat', 'expecting', 'expedite', 'expedition', 'expel', 'expend', 'expendable', 'expense', 'expensive', 'experience', 'experienced', 'experiment', 'experimental', 'experimentation', 'expert', 'expertise', 'expire', 'explain', 'explanation', 'explanatory', 'explicitly', 'explode', 'exploit', 'exploration', 'explore', 'explorer', 'explosion', 'exponential', 'exponentially', 'export', 'expose', 'exposition', 'exposure', 'express', 'expression', 'expressive', 'expressly', 'exquisite', 'ext', 'extend', 'extended', 'extendible', 'extension', 'extensive', 'extensively', 'extent', 'exterior', 'exteriorsome', 'external', 'externally', 'extinct', 'extortion', 'extra', 'extract', 'extraneous', 'extraordinarily', 'extraordinary', 'extrapolate', 'extreme', 'extremeguard', 'extremely', 'extremity', 'exude', 'exyno', 'eye', 'eyecandi', 'eyed', 'eyeglass', 'eyelid', 'eyesight', 'eyesore', 'fabric', 'fabulous', 'face', 'facebok', 'faceboking', 'facedown', 'faceted', 'facial', 'facilitate', 'facility', 'facing', 'fact', 'facto', 'factor', 'factorthe', 'factory', 'fad', 'fade', 'faded', 'fading', 'fahgetaboutit', 'fail', 'failed', 'fails', 'failsafe', 'failure', 'faint', 'faintly', 'fair', 'fairly', 'fairness', 'faith', 'faithful', 'faithfully', 'fall', 'fallen', 'falling', 'false', 'falsely', 'falter', 'familiar', 'familiarity', 'family', 'famous', 'fan', 'fanboy', 'fancy', 'fanny', 'fantastic', 'fantastically', 'far', 'farce', 'fardisclaimer', 'fare', 'farm', 'farmer', 'farming', 'farpaire', 'farth', 'fascia', 'fascinate', 'fashion', 'fashionable', 'fashioned', 'fashioning', 'fashionista', 'fast', 'fastboxdelivery', 'fasten', 'fasterthe', 'fastwindow', 'fat', 'fatal', 'fate', 'father', 'fathom', 'fatigue', 'fatigued', 'fatten', 'fattest', 'fatty', 'fauce', 'fault', 'faulty', 'faut', 'favor', 'favorable', 'favorably', 'favorite', 'fear', 'feared', 'fearless', 'fearlessly', 'feasible', 'feat', 'feather', 'feature', 'featurecon', 'feb', 'february', 'fedbackslim', 'fee', 'feeble', 'feed', 'feedback', 'feel', 'feeling', 'feels', 'feet', 'fell', 'felling', 'fellow', 'felo', 'felt', 'female', 'feminine', 'fence', 'fertile', 'festival', 'fetch', 'fetched', 'few', 'ff', 'fiance', 'fiancee', 'fiat', 'fibermesh', 'fibre', 'fibro', 'fibroid', 'fibrous', 'fiddle', 'fidelity', 'fidget', 'fiducial', 'field', 'fieldruner', 'fiercely', 'fiery', 'fiew', 'fifteen', 'fifth', 'fifty', 'fig', 'fight', 'fighting', 'figure', 'figured', 'filament', 'file', 'filename', 'filing', 'fill', 'filling', 'film', 'filmmaker', 'filter', 'filthy', 'final', 'finalist', 'finally', 'finance', 'financial', 'financially', 'find', 'findable', 'finder', 'finding', 'fine', 'finecon', 'finely', 'finer', 'finesse', 'fineupdate', 'finger', 'fingered', 'fingering', 'fingernail', 'fingerprint', 'fingerprinter', 'fingerprinting', 'fingertip', 'finicky', 'finish', 'finishcon', 'finishdoes', 'finished', 'finishing', 'finite', 'fir', 'fire', 'firefighter', 'firefox', 'firelight', 'fireplace', 'fireside', 'firetruck', 'firewood', 'firing', 'firm', 'firmly', 'firmware', 'first', 'firstly', 'fiscal', 'fish', 'fishing', 'fist', 'fit', 'fitbit', 'fitgreat', 'fitness', 'fitpolished', 'fits', 'fitting', 'five', 'fiver', 'fix', 'fixing', 'fixity', 'fixture', 'flabby', 'flaberghast', 'flag', 'flagship', 'flair', 'flake', 'flame', 'flaming', 'flap', 'flapping', 'flare', 'flash', 'flashed', 'flashing', 'flashlight', 'flashlighta', 'flashlighthis', 'flashlightrelatively', 'flashnote', 'flat', 'flatten', 'flavor', 'flaw', 'flay', 'flea', 'fleck', 'flee', 'fleecy', 'flesh', 'fleshy', 'flew', 'flex', 'flexed', 'flexibility', 'flexible', 'flexibly', 'flexsmart', 'flick', 'flicked', 'flicker', 'flickering', 'flight', 'flimsy', 'flinging', 'flipaclip', 'flipbok', 'flipcover', 'flipstand', 'fliptronik', 'float', 'flog', 'flogging', 'flood', 'floor', 'flooring', 'flop', 'floppy', 'florida', 'flounder', 'flourescent', 'flout', 'flow', 'flower', 'flows', 'fluctuated', 'fluff', 'fluid', 'fluidity', 'fluorescence', 'flurry', 'flush', 'flushed', 'flutter', 'fluttered', 'fly', 'flying', 'fo', 'foam', 'focus', 'focused', 'foe', 'fog', 'fogginess', 'foggy', 'foi', 'foil', 'fold', 'folded', 'foldersconclusion', 'folding', 'folio', 'folk', 'follow', 'follower', 'following', 'fomyfomy', 'fond', 'fonepad', 'font', 'food', 'fool', 'foolish', 'foolishly', 'foolproof', 'foot', 'football', 'footboard', 'footing', 'footprint', 'footstep', 'for', 'forbid', 'force', 'forced', 'forceful', 'ford', 'fore', 'forearm', 'forecast', 'forecasting', 'forefront', 'forehead', 'foreign', 'foremost', 'foresee', 'foreseeable', 'foresight', 'forever', 'forewarn', 'forge', 'forger', 'forgery', 'forget', 'forgetful', 'forgettable', 'forgetting', 'forgive', 'forgiven', 'forgiving', 'forgo', 'forgot', 'foritself', 'fork', 'form', 'formal', 'formalbut', 'formaldehyde', 'format', 'formatbelkin', 'former', 'formerly', 'formula', 'forperipheral', 'forseable', 'fort', 'forth', 'forthcoming', 'fortification', 'fortuitously', 'fortunate', 'fortunately', 'fortune', 'forty', 'forum', 'forward', 'forwarding', 'forwardmost', 'foster', 'fotprintit', 'foul', 'found', 'foundation', 'founding', 'foundry', 'four', 'fourteen', 'fourth', 'fowl', 'fraction', 'fractionaly', 'fragile', 'fragility', 'fragmentation', 'fragrance', 'frail', 'frailty', 'frame', 'framer', 'france', 'francisco', 'frankly', 'frantically', 'fraser', 'fraud', 'fray', 'freak', 'freakish', 'fredompop', 'free', 'freedom', 'freeing', 'freely', 'freeze', 'freezing', 'frehand', 'french', 'frequency', 'frequent', 'frequently', 'fresh', 'freshly', 'fret', 'friable', 'friction', 'friday', 'fried', 'friend', 'friendliness', 'friendly', 'fringe', 'fro', 'frog', 'from', 'front', 'frontal', 'frontier', 'frost', 'frosted', 'frosty', 'frothy', 'frown', 'froze', 'frozen', 'fruit', 'frustrate', 'frustrated', 'frustration', 'fry', 'ft', 'ftp', 'fuctionality', 'fuel', 'fulbright', 'fulfil', 'fulfill', 'full', 'fuller', 'fullness', 'fully', 'fulscren', 'fumble', 'fumbled', 'fumbling', 'fun', 'function', 'functional', 'functionality', 'functionalitysmoth', 'functionate', 'functionating', 'functioncon', 'functionjabra', 'fund', 'fundamental', 'funeral', 'funny', 'fur', 'furniture', 'furthermore', 'fury', 'fuse', 'fusion', 'fuss', 'fussing', 'fussy', 'futile', 'future', 'futuristic', 'fuzerune', 'ga', 'gadgetry', 'gage', 'gain', 'gaining', 'gait', 'gal', 'galaxy', 'galere', 'gallery', 'galling', 'gallop', 'galvanise', 'gamble', 'game', 'gamecard', 'gamechanger', 'gamepad', 'gamestop', 'gametel', 'gamut', 'gap', 'gape', 'garage', 'garden', 'gardener', 'garment', 'gas', 'gash', 'gasoline', 'gasp', 'gastro', 'gate', 'gateway', 'gather', 'gathering', 'gauge', 'gauzy', 'gave', 'gaze', 'gazillion', 'gear', 'gee', 'gekbench', 'gekdome', 'gem', 'gen', 'gene', 'general', 'generally', 'generate', 'generation', 'generous', 'generously', 'genet', 'genetic', 'genii', 'genius', 'gentile', 'gentle', 'gentleman', 'gently', 'genuine', 'genuinely', 'geocaching', 'germ', 'german', 'germany', 'gesture', 'get', 'gets', 'getting', 'ghost', 'ghostarmor', 'ghostly', 'ghzbluetoth', 'giant', 'giddy', 'gift', 'gifted', 'gig', 'gigabit', 'gigabyte', 'gigantic', 'giggler', 'gihugic', 'gimick', 'gimicky', 'gimmick', 'ginger', 'gingerbread', 'girl', 'girlfriend', 'girth', 'gist', 'git', 'give', 'giveaway', 'given', 'gives', 'giving', 'gizmo', 'gizmoco', 'glaci', 'glad', 'glade', 'gladly', 'glamour', 'glance', 'glare', 'glaring', 'glass', 'glide', 'glimmer', 'glisten', 'gliterflex', 'glitter', 'global', 'gloomy', 'glorify', 'glorious', 'glory', 'gloss', 'glossy', 'glove', 'glow', 'glowing', 'glue', 'glued', 'go', 'goal', 'gobble', 'god', 'godagain', 'godcity', 'godhad', 'godproscharge', 'godson', 'goes', 'goglephone', 'going', 'gold', 'goldbox', 'golden', 'goldfish', 'golf', 'goliath', 'gone', 'gonehope', 'gong', 'good', 'goodby', 'goodness', 'goose', 'gooseneck', 'gophone', 'gopronote', 'gordon', 'gorge', 'gorgeous', 'gorilagadget', 'gorilamobile', 'gorilla', 'gosle', 'gospel', 'got', 'gotten', 'gouge', 'governor', 'gower', 'gr', 'grab', 'grace', 'gracefulness', 'gracious', 'graciously', 'grade', 'gradually', 'grady', 'graft', 'grafting', 'grain', 'gram', 'grammar', 'grand', 'grandchild', 'granddad', 'granddaughter', 'grandfather', 'grandkid', 'grandson', 'granite', 'grant', 'granularity', 'granulation', 'grape', 'graph', 'graphic', 'grasp', 'grass', 'grate', 'grateful', 'grave', 'gravel', 'gravely', 'gravity', 'gravityportable', 'gray', 'grayish', 'grayscale', 'grease', 'greasy', 'great', 'greatcoat', 'greatest', 'greatly', 'greatness', 'greatprotection', 'greatshield', 'greatwith', 'greediness', 'green', 'greet', 'greeting', 'grew', 'grewsome', 'grey', 'greyish', 'grid', 'grief', 'grievance', 'griffe', 'grim', 'grime', 'grin', 'grind', 'grinder', 'grinding', 'grip', 'gripability', 'gripcon', 'gripine', 'grippe', 'gripping', 'gripyne', 'grit', 'gritty', 'grizzle', 'grm', 'groan', 'grocer', 'grommet', 'groom', 'groomed', 'groove', 'grooved', 'gross', 'grossly', 'grotesque', 'ground', 'groundbreaking', 'groundless', 'group', 'grove', 'grow', 'growl', 'grown', 'grudge', 'grudging', 'grumble', 'gtxlthk', 'guarantee', 'guard', 'guardian', 'guess', 'guessing', 'guesswork', 'guest', 'guidance', 'guide', 'guideline', 'guiding', 'guilty', 'guinea', 'guise', 'guitar', 'gulf', 'gum', 'gumma', 'gun', 'gunmetal', 'gush', 'gust', 'gut', 'guy', 'ha', 'habit', 'habitually', 'hack', 'hacking', 'hadconsin', 'hadn', 'hahahahaha', 'hahathe', 'hair', 'haire', 'haired', 'hairstyle', 'half', 'halfway', 'hall', 'halo', 'halt', 'halve', 'hamburg', 'hamburguer', 'hamlet', 'hammer', 'hamper', 'hand', 'handbill', 'handbook', 'handed', 'handedthe', 'handful', 'handheld', 'handhelditem', 'handheldsthat', 'handiest', 'handle', 'handlebar', 'handling', 'hands', 'handshake', 'handsome', 'handsphone', 'handstil', 'handwrite', 'handwriting', 'handwritten', 'handy', 'hang', 'hanging', 'hangout', 'haojetso', 'haphazard', 'happen', 'happened', 'happens', 'happier', 'happily', 'happiness', 'happy', 'hard', 'hardcover', 'harderoveral', 'hardihood', 'hardly', 'hardness', 'hardscape', 'hardship', 'hardtack', 'hardware', 'hardwareaestheticaly', 'hardwaredespite', 'hardwarethe', 'hardy', 'harley', 'harm', 'harmful', 'harmony', 'harness', 'harp', 'harris', 'harsh', 'hasn', 'haste', 'hastily', 'hat', 'hata', 'hatchet', 'hate', 'hated', 'haul', 'havana', 'have', 'haveaple', 'haveinternet', 'haven', 'having', 'havingsome', 'havoc', 'hawaii', 'hawaiian', 'hawker', 'hay', 'haywire', 'hazard', 'hazardous', 'haze', 'haziness', 'he', 'head', 'headache', 'headband', 'headbandcomfortableturn', 'headbandsound', 'headgear', 'headhone', 'headlamp', 'headline', 'headphone', 'headphonesblueant', 'headphonescon', 'headpiece', 'headset', 'headsetat', 'headsetflat', 'headsethen', 'headseti', 'headsetlast', 'headsetscontrol', 'headsetslot', 'headsetso', 'headsetusb', 'headsret', 'headstrong', 'heal', 'healing', 'health', 'healthy', 'heap', 'heaphone', 'hear', 'heard', 'hearing', 'hearphone', 'heart', 'heartbreaking', 'heartburn', 'hearted', 'heartfelt', 'heartily', 'hearty', 'heat', 'heated', 'heating', 'heave', 'heaven', 'heavenly', 'heavier', 'heavily', 'heavy', 'hee', 'heed', 'heh', 'hehehonestly', 'height', 'held', 'helena', 'helicopter', 'hell', 'hello', 'helmet', 'help', 'helped', 'helper', 'helpful', 'helping', 'helps', 'hemorage', 'hemp', 'hempen', 'hence', 'her', 'herbert', 'herd', 'here', 'heritage', 'hero', 'heroine', 'hers', 'herself', 'hesdphone', 'hesitate', 'hesitation', 'hetty', 'hew', 'hey', 'hi', 'hiccup', 'hid', 'hidden', 'hide', 'hideous', 'hiding', 'high', 'higher', 'highest', 'highlight', 'highlighting', 'highly', 'highlyrecomend', 'highness', 'highway', 'hilarious', 'hilariously', 'hill', 'hillock', 'hilly', 'him', 'himself', 'hind', 'hinder', 'hindrance', 'hinge', 'hint', 'hip', 'hire', 'his', 'hiss', 'historical', 'history', 'hit', 'hlcrio', 'hm', 'ho', 'hobby', 'hockey', 'hodgkin', 'hofs', 'hog', 'hoist', 'hold', 'holder', 'holderthat', 'holding', 'holds', 'holdthe', 'hole', 'holiday', 'hollow', 'hollywood', 'holy', 'homage', 'home', 'homemade', 'homeowner', 'homepage', 'homeschole', 'homescren', 'homework', 'homeysoft', 'honest', 'honestly', 'honesty', 'honey', 'honeycomb', 'honor', 'honoring', 'hood', 'hoodwinking', 'hoofs', 'hook', 'hooked', 'hoop', 'hop', 'hope', 'hoped', 'hopeful', 'hopefully', 'hoping', 'horiblenot', 'horizon', 'horizontal', 'horizontally', 'horn', 'horner', 'horrendous', 'horrible', 'horribly', 'horrid', 'horror', 'horse', 'hospital', 'host', 'hostess', 'hostile', 'hot', 'hotdog', 'hotel', 'hothouse', 'hotmail', 'hotspot', 'hound', 'hour', 'houreficiency', 'hoursbatery', 'hoursbep', 'hoursdriver', 'hoursmusic', 'hourstalk', 'hoursthe', 'house', 'household', 'housethe', 'housing', 'houston', 'hover', 'how', 'however', 'howl', 'hpctufso', 'htm', 'html', 'http', 'hub', 'huddle', 'hue', 'hug', 'huge', 'hughes', 'hull', 'hum', 'human', 'humble', 'humerus', 'humid', 'humidity', 'humming', 'humor', 'hump', 'hunchback', 'hundred', 'hung', 'hunger', 'hungry', 'hunt', 'hunter', 'hunting', 'hurricane', 'hurry', 'hurt', 'husband', 'husky', 'hut', 'hybridandglas', 'hybridthe', 'hydra', 'hygienic', 'hyp', 'hyper', 'hyperion', 'hypersensitive', 'hypersensitivity', 'hypothetical', 'iblasom', 'ice', 'icel', 'ich', 'icipio', 'icolkit', 'icon', 'icy', 'idea', 'ideal', 'ideally', 'identical', 'identically', 'identicalmediabridge', 'identification', 'identify', 'idiot', 'idiotic', 'idle', 'idly', 'if', 'ignore', 'iheartradio', 'ii', 'iii', 'ill', 'illegal', 'illinois', 'illuminate', 'illuminated', 'illumination', 'illusion', 'illustrate', 'illustration', 'iluminator', 'ilya', 'ilyin', 'image', 'imaginable', 'imagination', 'imagine', 'imbedded', 'imersive', 'imitation', 'imlay', 'immaculate', 'immature', 'immeasurable', 'immeasurably', 'immediate', 'immediately', 'immensely', 'immersion', 'imminent', 'immortal', 'immune', 'imp', 'impact', 'impaction', 'impair', 'impaired', 'impart', 'impartial', 'impatient', 'impede', 'impenetrable', 'imperative', 'imperceptible', 'imperfect', 'imperfection', 'imperial', 'imperious', 'impersonal', 'impersonationof', 'implacable', 'implement', 'implementation', 'implicate', 'implicit', 'implie', 'imply', 'import', 'importance', 'important', 'importantly', 'impose', 'impossible', 'impresions_se', 'impress', 'impressed', 'impression', 'impressive', 'imprint', 'impromptu', 'improperly', 'improve', 'improved', 'improvement', 'improves', 'improvise', 'impulse', 'impute', 'imradestluy', 'in', 'inability', 'inaccessibility', 'inaccessible', 'inaccurate', 'inactive', 'inadequate', 'inadvertently', 'inappropriate', 'inarguably', 'inateck', 'inaudible', 'inbetwen', 'incentive', 'inception', 'inch', 'incharger', 'inchespower', 'inchscren', 'incident', 'incidental', 'incise', 'incised', 'incision', 'incline', 'inclined', 'include', 'included', 'includedbut', 'includedcon', 'includingbelkin', 'inclusion', 'inclusive', 'incognito', 'income', 'incomparably', 'incompatibility', 'incompatible', 'incompetence', 'incompetent', 'incomplete', 'incomprehensible', 'inconsequential', 'inconsistency', 'inconsistent', 'inconspicous', 'inconvenience', 'inconvenient', 'inconvience', 'incorporate', 'incorporated', 'incorrect', 'incorrectly', 'increase', 'increasingly', 'incredible', 'incredibly', 'incredicharge', 'incredisonic', 'increditcharge', 'increment', 'incremental', 'incurable', 'indecipherable', 'indeed', 'indefinitely', 'indentation', 'independent', 'independently', 'indestructible', 'index', 'india', 'indiana', 'indicate', 'indicating', 'indication', 'indicative', 'indicator', 'indict', 'indigo', 'indispensable', 'indistinguishable', 'individual', 'individually', 'indolent', 'indoor', 'induce', 'induction', 'induration', 'industrial', 'industrious', 'industry', 'ineffective', 'inefficiency', 'inevitable', 'inevitably', 'inexpensively', 'inexpensiveprotectivealow', 'inexperience', 'infamous', 'infancy', 'infective', 'infer', 'inferior', 'infiniap', 'infinite', 'infinitely', 'infinitesimal', 'infinity', 'inflame', 'inflammable', 'inflate', 'inflated', 'inflict', 'inflow', 'influence', 'infogod', 'inform', 'informal', 'information', 'informativedecent', 'informed', 'infotainment', 'infrastructure', 'infrequent', 'infrequently', 'infringe', 'infuriate', 'ing', 'ingenious', 'ingress', 'inhale', 'inherent', 'inherently', 'inherit', 'inhibit', 'initial', 'initialize', 'initially', 'initiate', 'injection', 'injury', 'ink', 'inkstand', 'inland', 'innard', 'inner', 'innovation', 'innovative', 'innumerable', 'innyard', 'inoperable', 'inopportune', 'input', 'inquire', 'inquiry', 'insane', 'insanely', 'insect', 'inseparable', 'insert', 'inserting', 'insertion', 'inside', 'insidious', 'insight', 'insignia', 'insignificant', 'insist', 'insomnia', 'inspect', 'inspection', 'inspire', 'inspiring', 'instagram', 'instal', 'instalafter', 'instaledupdate', 'install', 'installation', 'installed', 'installing', 'instance', 'instant', 'instantaneously', 'instantly', 'instapark', 'instead', 'insteadgot', 'instep', 'instinct', 'instinctively', 'institute', 'instruct', 'instruction', 'instructionspro', 'instructionswould', 'instrument', 'instrumental', 'instrumentation', 'insufficient', 'insulate', 'insulated', 'insult', 'insulting', 'insurance', 'insure', 'intact', 'intake', 'integral', 'integrate', 'integrated', 'integration', 'integrity', 'intelligent', 'intelligently', 'intelligibility', 'intend', 'intended', 'intending', 'intense', 'intensely', 'intensity', 'intensive', 'intent', 'intention', 'intentional', 'intentionally', 'intently', 'inter', 'interact', 'interaction', 'interactive', 'intercept', 'interchange', 'interchangeable', 'interconnect', 'interest', 'interested', 'interesting', 'interface', 'interfacemultiple', 'interfere', 'interference', 'interim', 'interior', 'interlock', 'interlocutor', 'intermediate', 'intermittent', 'intermittently', 'internal', 'internally', 'international', 'internet', 'interpret', 'interpretation', 'interrupt', 'interrupted', 'interruption', 'interstate', 'interval', 'interview', 'interwebs', 'intima', 'intimate', 'intimidate', 'into', 'intocircuit', 'intolerable', 'intothe', 'intoxicating', 'intra', 'intractable', 'intrigue', 'introduce', 'introduction', 'introspect', 'intrude', 'intrusion', 'intuition', 'inure', 'invalidate', 'invaluable', 'invariably', 'invasion', 'invent', 'invention', 'invert', 'inverted', 'invest', 'investigate', 'investigation', 'investment', 'invincible', 'invishield', 'invisible', 'invisibleshield', 'invisisheid', 'invisishied', 'invisishield', 'invitation', 'invite', 'inviting', 'invivibleshield', 'invoke', 'involve', 'involved', 'inward', 'inwhiteorblack', 'iogel', 'iomega', 'ion', 'ipadmini', 'ipadport', 'ipadthis', 'ipadwork', 'iphonealthough', 'iphonish', 'iridescent', 'iris', 'irish', 'iron', 'ironclad', 'ironic', 'ironically', 'irony', 'irregularity', 'irrelevant', 'irremediable', 'irreplaceable', 'irresistible', 'irrigation', 'irritable', 'irritate', 'irritated', 'irritating', 'irritation', 'isa', 'island', 'ism', 'isn', 'iso', 'isolate', 'isolated', 'isolation', 'isopropyl', 'issue', 'ist', 'isueable', 'isuesget', 'isuethird', 'it', 'itching', 'itchy', 'ite', 'item', 'itemkind', 'itemthat', 'itfoldable', 'iting', 'itlok', 'itnback', 'its', 'itself', 'itselflightweightcan', 'iv', 'ivory', 'ix', 'jabber', 'jack', 'jacket', 'jackson', 'jacque', 'jadmphaxqw', 'jagged', 'jail', 'jailbreak', 'jailbreake', 'jailbroken', 'jajajajafit', 'jam', 'jame', 'jammed', 'jan', 'jane', 'january', 'japan', 'japanese', 'jar', 'jarring', 'jaunty', 'javascript', 'jaw', 'jawbone', 'jay', 'jaybird', 'jazz', 'jealous', 'jean', 'jelly', 'jellyfish', 'jelybean', 'jena', 'jerk', 'jerked', 'jerky', 'jest', 'jester', 'jesus', 'jet', 'jetpack', 'jewel', 'jigsaw', 'jim', 'jimmy', 'jingle', 'jitterbug', 'job', 'jobsite', 'joe', 'john', 'join', 'joint', 'jointly', 'joke', 'joking', 'jolly', 'jolt', 'jones', 'jose', 'jostle', 'jot', 'journey', 'joy', 'joyiqi', 'joystick', 'jr', 'juan', 'judge', 'judgement', 'judging', 'judgment', 'juice', 'juicepak', 'jukebox', 'julia', 'julian', 'julie', 'july', 'jump', 'jumper', 'jumping', 'junction', 'june', 'jungle', 'junior', 'just', 'justice', 'justified', 'justify', 'justo', 'jutting', 'kalisch', 'kaliteli', 'kaluga', 'kansa', 'karay', 'karendeal', 'katflexible', 'katinkas', 'kayaking', 'kayscase', 'kazan', 'ke', 'keen', 'keener', 'keenly', 'keep', 'keeper', 'keeping', 'keeps', 'ken', 'kensington', 'kent', 'keperfeb', 'kept', 'kersey', 'kesinlikle', 'kettle', 'key', 'keyboard', 'keyboardslow', 'keychain', 'keyfob', 'keyhole', 'keypad', 'keystroke', 'keystrokes', 'keyword', 'khzsignal', 'kick', 'kicking', 'kickstand', 'kickstandle', 'kickstarter', 'kid', 'kill', 'killer', 'killing', 'kilobyte', 'kilogram', 'kind', 'kindle', 'kindly', 'kindness', 'king', 'kingdom', 'kinivo', 'kinvio', 'kirk', 'kirsten', 'kismetwirele', 'kiss', 'kit', 'kitchen', 'kitty', 'klutzy', 'kneeling', 'knew', 'knife', 'knight', 'knit', 'knive', 'knob', 'knock', 'knocked', 'knockoff', 'knoll', 'knot', 'knotted', 'know', 'knowing', 'knowledge', 'known', 'knox', 'koko', 'kolya', 'kuz', 'kyocera', 'kyrzykstan', 'la', 'lab', 'label', 'labor', 'laborer', 'labradodle', 'lace', 'laceseler', 'lack', 'lacking', 'lackluster', 'lad', 'ladder', 'laden', 'lady', 'lag', 'laggard', 'lake', 'lambskin', 'lame', 'lamentable', 'lamina', 'laminate', 'lamp', 'lance', 'land', 'landfill', 'landing', 'landscape', 'lane', 'language', 'lanoline', 'lantern', 'lap', 'lapdock', 'lapse', 'laptopmate', 'laptopso', 'large', 'largely', 'larger', 'largerincredicharge', 'largish', 'las', 'lascar', 'laser', 'lash', 'last', 'lastly', 'latch', 'late', 'lately', 'later', 'lateral', 'latest', 'lathe', 'latitude', 'latter', 'laugh', 'laughably', 'launch', 'launched', 'laura', 'lavender', 'law', 'lawless', 'lawn', 'lawnmower', 'lawsuit', 'lawton', 'lay', 'layer', 'laying', 'layout', 'laziness', 'lazy', 'lb', 'le', 'lead', 'leaden', 'leader', 'leadership', 'leaf', 'league', 'leak', 'leakage', 'lean', 'leap', 'learn', 'learner', 'learning', 'lease', 'leash', 'least', 'leastfour', 'leather', 'leatherback', 'leatherette', 'leatherish', 'leave', 'leaves', 'leaving', 'lecture', 'ledge', 'lee', 'left', 'leftover', 'leg', 'legacy', 'legal', 'legally', 'legend', 'legendary', 'legible', 'legitimate', 'leisurely', 'leland', 'lemon', 'len', 'lend', 'length', 'lengthen', 'lengthened', 'lengthpro', 'lengthwise', 'lengthy', 'lens', 'lense', 'lent', 'leon', 'leopard', 'leopardprint', 'les', 'less', 'lessen', 'lesser', 'lesson', 'lest', 'let', 'lets', 'letter', 'letting', 'level', 'leveled', 'lever', 'li', 'liability', 'liable', 'liar', 'liberally', 'liberate', 'liberating', 'library', 'lice', 'licence', 'license', 'licensed', 'lick', 'lid', 'lie', 'lieu', 'life', 'life_prof', 'lifecase', 'lifecharge', 'lifechat', 'lifecon', 'lifehacker', 'lifeless', 'lifepriceclear', 'lifeprof', 'lifesaver', 'lifesmother', 'lifespan', 'lifestyle', 'lifetime', 'lift', 'lifting', 'ligament', 'light', 'lighted', 'lighter', 'lightest', 'lighthorse', 'lighting', 'lightly', 'lightne', 'lightness', 'lightning', 'lightprotect', 'lightscon', 'lightsurounde', 'lightweight', 'lightweighthinfit', 'lightweightwarning', 'like', 'likebodyguardz', 'likebut', 'liked', 'likedatex', 'likekind', 'likelihood', 'likely', 'likemicrosoft', 'likeoveral', 'likeplantronic', 'likeplease', 'likewise', 'liking', 'limb', 'limber', 'lime', 'limefuel', 'limit', 'limitation', 'limited', 'limitedsample', 'limiting', 'limitless', 'line', 'lineage', 'linear', 'lineclear', 'lined', 'linegogle', 'linen', 'liner', 'linethis', 'linger', 'lingo', 'lining', 'link', 'linoleum', 'linsey', 'linstock', 'lint', 'lip', 'lipped', 'lipping', 'lipstick', 'liquid', 'liquidaux', 'lisa', 'list', 'listed', 'listen', 'listenable', 'listened', 'listener', 'listening', 'listing', 'lit', 'litelringtune', 'literal', 'literally', 'literary', 'literate', 'literature', 'lithium', 'litlepricey', 'litter', 'little', 'live', 'liveaction', 'liver', 'living', 'll', 'lo', 'load', 'loaded', 'loading', 'loathe', 'lobby', 'local', 'localise', 'locally', 'locate', 'locating', 'location', 'lock', 'locke', 'locked', 'locking', 'lockscren', 'lockup', 'lodge', 'log', 'logging', 'logic', 'logical', 'login', 'logitech', 'logoand', 'lokingbut', 'lokingeasy', 'lokinglok', 'loksmoth', 'loldefinitely', 'loltwo', 'lone', 'lonely', 'long', 'longevity', 'longshot', 'longtime', 'look', 'looked', 'looking', 'lookout', 'looks', 'loop', 'loose', 'loosely', 'loosen', 'loosened', 'looseness', 'looter', 'lopsided', 'lord', 'los', 'lose', 'losing', 'loss', 'lost', 'lot', 'lotion', 'lottery', 'loud', 'louder', 'loudest', 'loudly', 'loudspeaker', 'louis', 'lounge', 'louse', 'love', 'lovecuteadorablevery', 'loved', 'lovely', 'lover', 'loves', 'low', 'lowcheck', 'lower', 'lowered', 'lowerpriceusa', 'lowest', 'lowly', 'loyal', 'loyalist', 'loyalty', 'ltesamsung', 'lubricant', 'lucia', 'lucid', 'luck', 'luckily', 'lucky', 'luggage', 'lui', 'luke', 'lumbo', 'luminous', 'lump', 'lunatic', 'lunch', 'lupus', 'lure', 'lurk', 'luster', 'lustrous', 'luxepave', 'luxurious', 'luxury', 'ly', 'lydia', 'lymph', 'lynch', 'lyric', 'lysol', 'ma', 'mac', 'macdonald', 'machine', 'machinery', 'mack', 'mackintosh', 'mad', 'madden', 'made', 'madeningly', 'madesome', 'madewhile', 'madrid', 'madura', 'magazine', 'magellan', 'magic', 'magical', 'magically', 'magicbox', 'magician', 'magnet', 'magnetic', 'magnetically', 'magnetize', 'magnification', 'magnificent', 'magnify', 'magnifying', 'magnitude', 'magnum', 'mahbatery', 'mahcharge', 'mahportable', 'maid', 'maiden', 'mail', 'mailbox', 'main', 'mainframe', 'mainly', 'mainstream', 'maintain', 'maintenance', 'major', 'majority', 'make', 'maker', 'makes', 'makeshift', 'making', 'mal', 'male', 'malfunction', 'malfunctioning', 'malice', 'mall', 'malo', 'malta', 'mamma', 'man', 'manage', 'manageable', 'management', 'manager', 'mandatory', 'maneuver', 'mange', 'manhandle', 'manhattan', 'mania', 'manila', 'manipulate', 'manipulation', 'mankind', 'manly', 'manned', 'manner', 'manor', 'manpower', 'manual', 'manualfirst', 'manufacture', 'manufactured', 'manufacturer', 'manufacturerpayment', 'manufacturing', 'manure', 'many', 'map', 'mapmyfitne', 'mapping', 'mapqu', 'mapquest', 'marathon', 'marble', 'march', 'margin', 'marginal', 'marimbas', 'marina', 'marine', 'maritime', 'mark', 'marked', 'markedly', 'marker', 'market', 'marketable', 'marketing', 'marketingpayment', 'marketplace', 'marking', 'marque', 'marred', 'marriage', 'marrow', 'marry', 'martial', 'marulab', 'marvelous', 'marvelously', 'mary', 'maryland', 'masculine', 'mash', 'mask', 'mass', 'massachusett', 'massage', 'masse', 'massive', 'mast', 'master', 'masterpiece', 'mat', 'match', 'matched', 'matchingfrieq', 'mate', 'material', 'materialcon', 'materialgod', 'materialwhat', 'mathematical', 'matrix', 'matt', 'matted', 'matter', 'mattress', 'mature', 'maturity', 'mavra', 'mawr', 'max', 'maxbost', 'maximize', 'maximized', 'maximum', 'may', 'maybe', 'mayor', 'mb', 'mcferin', 'md', 'me', 'meadowlark', 'meager', 'meal', 'mean', 'meaning', 'meaningful', 'meaningless', 'meanly', 'means', 'meantime', 'meanwhile', 'measure', 'measured', 'measurement', 'meat', 'meatus', 'mechanic', 'mechanical', 'mechanism', 'mechanized', 'med', 'media', 'mediabridge', 'mediaeval', 'medial', 'mediamonkey', 'medical', 'medieval', 'mediocre', 'medium', 'meet', 'meeting', 'meg', 'megabit', 'megafile', 'megapixel', 'megapixelcamera', 'megapixil', 'megapixle', 'melisopalynology', 'melody', 'melon', 'melt', 'melted', 'member', 'membership', 'membrane', 'meme', 'memory', 'mental', 'mentally', 'mention', 'mentioned', 'mentioning', 'mentionvery', 'menu', 'menuchoice', 'merchandise', 'merchant', 'mercilessly', 'mercury', 'mercy', 'mere', 'merely', 'merge', 'merged', 'merger', 'merit', 'merrier', 'merry', 'mesh', 'mesmerizing', 'mess', 'message', 'messenger', 'metal', 'metallic', 'mete', 'method', 'methodology', 'meticulously', 'metier', 'metropc', 'metropcs', 'metropolis', 'metropolitan', 'mexican', 'mexico', 'mi', 'michael', 'micro', 'microchip', 'microfiber', 'microklear', 'micrometer', 'micropack', 'microphone', 'microphonemodular', 'microplug', 'microprocessor', 'microscopic', 'microsdcon', 'microsdhc', 'microsim', 'microsoft', 'microstubz', 'microsurgery', 'microusb', 'microwave', 'mid', 'midday', 'middle', 'middling', 'midge', 'midian', 'midnight', 'midrange', 'midst', 'midway', 'might', 'mighty', 'migrate', 'mike', 'mild', 'mildly', 'mile', 'mileage', 'miliamp', 'miliary', 'military', 'militaryshield', 'milk', 'milktoast', 'mill', 'milliampere', 'millimetre', 'million', 'millionaire', 'mimi', 'mimic', 'min', 'minbackground', 'mind', 'mindblowe', 'minded', 'mindedly', 'mine', 'minesweeper', 'mingle', 'miniature', 'minijack', 'minim', 'minimal', 'minimalist', 'minimalistic', 'minimize', 'minimum', 'miniscule', 'minisuite', 'minithis', 'minor', 'minority', 'minscren', 'mint', 'minuit', 'minus', 'minuscule', 'minute', 'minutely', 'minutesand', 'minutesport', 'mio', 'miracast', 'miracle', 'mirror', 'misadjuste', 'misalign', 'miscellaneous', 'misdirectedok', 'miserable', 'mishandle', 'misinterpret', 'misjudged', 'mislabele', 'mislead', 'misleading', 'misplace', 'misplaced', 'misrepresent', 'miss', 'missed', 'misshapen', 'missing', 'mission', 'misspell', 'misspelled', 'mist', 'mistake', 'mistaken', 'mistouch', 'misty', 'misunderstand', 'misunderstanding', 'mitigate', 'mitka', 'mitsubishi', 'mivizu', 'mix', 'mixed', 'mixture', 'mm', 'mo', 'mobile', 'mobilepro', 'mobilestore', 'mobility', 'mochiato', 'mode', 'modecon', 'modefrequency', 'model', 'modelsnedle', 'modeoveral', 'moderate', 'moderately', 'modern', 'modest', 'modestly', 'modification', 'modify', 'module', 'moine', 'moist', 'moisten', 'moisture', 'molasse', 'mold', 'molded', 'mole', 'moleskin', 'moment', 'momentarily', 'momentary', 'mon', 'monarch', 'monday', 'money', 'moneyupdate', 'monitor', 'monitoring', 'monkey', 'monochrome', 'monogram', 'monolithic', 'monopoly', 'monoprice', 'monster', 'montana', 'month', 'monthly', 'monthsdoublju', 'mood', 'moon', 'moonlight', 'moonshine', 'mop', 'moral', 'morally', 'morcar', 'more', 'morecube', 'moremotorola', 'moreover', 'moresamsung', 'moreupdate', 'morning', 'morphin', 'mortar', 'mortgage', 'mortier', 'mortification', 'mortify', 'mosaic', 'moscow', 'moss', 'most', 'mostly', 'mother', 'motherboard', 'motherland', 'motion', 'motionless', 'motivation', 'motive', 'motoactv', 'motoblur', 'motolola', 'motor', 'motorcycle', 'motorist', 'motorokr', 'motorola', 'motorolas', 'motorway', 'motospeak', 'motrola', 'motto', 'mound', 'mount', 'mountable', 'mountain', 'mountsince', 'mountwater', 'mouse', 'mousepad', 'mouth', 'mouthpiece', 'movable', 'move', 'moved', 'movement', 'movementsanyhow', 'moves', 'movie', 'mow', 'mowing', 'mr', 'mrs', 'ms', 'mt', 'mtscanot', 'much', 'muchmore', 'mucous', 'mucus', 'mud', 'muddle', 'muddy', 'muffle', 'muffled', 'mug', 'muir', 'multi', 'multicolor', 'multicore', 'multifunction', 'multifunctional', 'multilayer', 'multimedia', 'multimeter', 'multipiece', 'multiple', 'multiply', 'multipoint', 'multiport', 'multipurpose', 'multitask', 'multitaske', 'multitasking', 'multitouch', 'multitude', 'mumble', 'mumbling', 'mummy', 'munch', 'munching', 'mundane', 'mundi', 'munition', 'murat', 'murder', 'murky', 'murphy', 'musbconsidere', 'muscle', 'musculo', 'muse', 'music', 'musical', 'musician', 'musicskip', 'musicwhat', 'muss', 'must', 'mustache', 'mustard', 'muster', 'mute', 'mutiny', 'mutter', 'muzzle', 'my', 'myaltec', 'myblueant', 'mycotic', 'myetymotic', 'myfavcel', 'myipad', 'myiphone', 'mylimeade', 'mymarware', 'mypolaroid', 'mypowergen', 'myriad', 'mysamsung', 'mysenheiser', 'mysterious', 'mysteriously', 'mystery', 'mystic', 'mystical', 'myth', 'mytouchtc', 'myverizon', 'na', 'nag', 'nail', 'naive', 'naively', 'naked', 'name', 'namely', 'nameplate', 'namesake', 'nanopaod', 'nanopod', 'nanosim', 'nap', 'napkin', 'narrative', 'narrow', 'nasal', 'nashville', 'nasi', 'naso', 'nasty', 'natal', 'natalie', 'nation', 'national', 'native', 'natural', 'naturally', 'nature', 'navagational', 'navigable', 'navigation', 'navigationist', 'navigator', 'navvy', 'navy', 'naztech', 'ncjvr', 'nd', 'near', 'nearby', 'nearly', 'nearsighte', 'neat', 'neatly', 'necessarily', 'necessary', 'necessitate', 'necessity', 'neck', 'neckband', 'necklace', 'neckstrap', 'need', 'needed', 'needing', 'needless', 'needlessly', 'needs', 'needy', 'negative', 'negativeshow', 'neglect', 'negligible', 'negotiate', 'neighbor', 'neighborhood', 'neither', 'neo', 'neohybrid', 'neoprene', 'nephew', 'nephews', 'nerve', 'nervous', 'nervously', 'nervousness', 'ness', 'nest', 'net', 'netbok', 'netflix', 'nether', 'network', 'networking', 'networldoverstock', 'neuro', 'neuropathic', 'neutral', 'nevada', 'never', 'neverthe', 'nevertheless', 'new', 'newampen', 'newark', 'newby', 'newcomer', 'newdelta', 'newer', 'newerjabra', 'newest', 'newkindle', 'newly', 'news', 'newscast', 'newsstand', 'newton', 'newtrent', 'next', 'nextlauncher', 'nexus', 'nexusamsung', 'nexusone', 'nfcfor', 'nfcno', 'nfcthese', 'ni', 'nice', 'nicely', 'nicephone', 'nicer', 'nicespigen', 'nicest', 'niche', 'nicholsonraynicholsonsreviews', 'nick', 'nickel', 'niece', 'nieman', 'nigh', 'night', 'nightly', 'nightmare', 'nightstand', 'nighttime', 'nikita', 'nimble', 'nina', 'nine', 'ninety', 'nipper', 'nipple', 'nissan', 'nitpick', 'nitpicker', 'nitric', 'nl', 'nm', 'no', 'noacesorysplash', 'nobility', 'noble', 'nobody', 'nod', 'nodular', 'noise', 'noiseasasin', 'noisecon', 'noisethank', 'noisethis', 'noisy', 'nokias', 'noma', 'nominal', 'non', 'noncapacitive', 'none', 'nonetheless', 'nonsense', 'nonskid', 'nonstop', 'nontraditional', 'nook', 'noon', 'norm', 'normal', 'normally', 'north', 'northeast', 'northern', 'northwest', 'norway', 'nose', 'not', 'notable', 'notably', 'notch', 'note', 'notebook', 'noted', 'notepad', 'notepaper', 'nothing', 'notice', 'noticeable', 'noticeably', 'noticed', 'noticedthat', 'noticing', 'notifie', 'notify', 'notorious', 'notoriously', 'notstay', 'notwithstanding', 'nov', 'nova', 'novel', 'novelty', 'november', 'novice', 'novo', 'now', 'nowadays', 'nowhere', 'nowthis', 'nt', 'nuclear', 'nudging', 'nuisance', 'numb', 'number', 'numbered', 'numbering', 'numerical', 'numerous', 'nurse', 'nut', 'nutrition', 'nuts', 'nutshell', 'ny', 'oak', 'oasis', 'obey', 'object', 'objectionable', 'objective', 'objectsthis', 'obligation', 'oblige', 'oblivion', 'obnoxious', 'obscure', 'obscurely', 'obscurity', 'observation', 'observationsfit', 'observe', 'obsess', 'obsessed', 'obsessive', 'obsolete', 'obstacle', 'obstruct', 'obstructed', 'obstructedthe', 'obstruction', 'obtain', 'obvious', 'obviously', 'occasion', 'occasional', 'occasionally', 'occupant', 'occupation', 'occupie', 'occupy', 'occur', 'occurrence', 'occurring', 'ocean', 'oceanic', 'ocsaionaly', 'oct', 'october', 'octopus', 'ocurance', 'odd', 'oddball', 'oddly', 'odor', 'odyssey', 'oe', 'of', 'off', 'offensive', 'offer', 'offering', 'office', 'official', 'officially', 'offload', 'offset', 'often', 'oftentime', 'oh', 'oh_aui_detailpage_o', 'oh_details_o', 'ohio', 'oho', 'oil', 'oily', 'ointment', 'ok', 'okay', 'old', 'olderduracel', 'ole', 'oleate', 'oleophobic', 'olin', 'olive', 'olmutz', 'om', 'omaha', 'omigosh', 'omit', 'omne', 'on', 'once', 'oncome', 'oncoming', 'one', 'oneconsnone', 'onedrive', 'onehapy', 'onehtc', 'onerous', 'onestepahead', 'onetmeyersbronx', 'oneuniversal', 'online', 'only', 'onlytok', 'onscren', 'onset', 'ont', 'onto', 'onya', 'oo', 'ooh', 'ooze', 'op', 'opaque', 'open', 'opening', 'openly', 'openmic', 'openofice', 'opensource', 'opera', 'operability', 'operable', 'operate', 'operated', 'operating', 'operation', 'operational', 'operationgreat', 'operative', 'operator', 'opinion', 'opinionate', 'opportunity', 'oppose', 'opposed', 'opposite', 'oppression', 'opt', 'optic', 'optical', 'optimally', 'optimism', 'optimistic', 'optimization', 'optimize', 'option', 'optional', 'optionbig', 'optionslok', 'or', 'oral', 'orange', 'orb', 'orchestra', 'ordeal', 'order', 'ordered', 'ordering', 'orderly', 'ordinary', 'org', 'organ', 'organic', 'organization', 'organize', 'organized', 'organizer', 'orient', 'orientation', 'orifice', 'origami', 'origin', 'original', 'originally', 'originated', 'oringaly', 'orklipsch', 'os', 'ostensibly', 'osteo', 'osteoarthritis', 'ostrowski', 'otebox', 'oterbein', 'oterbox', 'oterboxe', 'oteroterbox', 'other', 'otherbox', 'otherexternal', 'othersbulky', 'otherseler', 'othershave', 'otherwise', 'ou', 'ought', 'ounce', 'ounceshipe', 'ounceshow', 'ouncesome', 'our', 'ousting', 'out', 'outback', 'outbound', 'outcast', 'outcome', 'outdate', 'outdated', 'outdo', 'outdoing', 'outdone', 'outdoor', 'outer', 'outerbox', 'outershel', 'outfeature', 'outfit', 'outfits', 'outing', 'outlast', 'outlaw', 'outlet', 'outline', 'outlook', 'outnumber', 'outperform', 'outpost', 'output', 'outputbasicaly', 'outrage', 'outrageous', 'outre', 'outright', 'outside', 'outsource', 'outstanding', 'outstandinglas', 'outward', 'outweigh', 'outweighs', 'oval', 'over', 'overagemy', 'overalgreat', 'overalhardware', 'overall', 'overbear', 'overbearing', 'overboard', 'overbuilt', 'overcast', 'overcharge', 'overcoat', 'overcome', 'overcompensate', 'overcomprese', 'overdriven', 'overextend', 'overflow', 'overgrown', 'overhang', 'overhanging', 'overhaul', 'overhead', 'overhear', 'overheard', 'overhearing', 'overhung', 'overinflate', 'overjoy', 'overlap', 'overlay', 'overlie', 'overload', 'overlook', 'overlying', 'overnight', 'overnighte', 'overpackaged', 'overpower', 'overpowered', 'overprice', 'overpriced', 'overprocese', 'overreach', 'override', 'overrule', 'oversaturate', 'oversea', 'overseas', 'overseen', 'oversharpened', 'oversight', 'oversized', 'overstate', 'overstatement', 'overstock', 'overtaking', 'overtop', 'overview', 'overwhelm', 'overwhelming', 'owe', 'owl', 'own', 'owner', 'ownership', 'owning', 'ownwith', 'ox', 'oxidize', 'oxygen', 'oz', 'ozone', 'pa', 'pace', 'pacheco', 'pacific', 'pack', 'package', 'packagewith', 'packagingthe', 'packbatery', 'packdesign', 'packed', 'packedbefore', 'packedwith', 'packet', 'packing', 'packscheap', 'packsfrom', 'packthis', 'pad', 'padded', 'padlock', 'page', 'pageboy', 'pageplus', 'pago', 'paid', 'pain', 'paine', 'painful', 'painfully', 'painless', 'painpoint', 'paint', 'paintball', 'paintbrush', 'painting', 'pair', 'pairingconect', 'pairs', 'pal', 'palate', 'pale', 'paler', 'palm', 'palmar', 'palmpilot', 'pamphlet', 'panama', 'panasonic', 'pancake', 'pandoraone', 'pane', 'panel', 'panic', 'panorama', 'papa', 'papal', 'paper', 'paperback', 'paperclip', 'paperweight', 'paperwhite', 'paperwork', 'par', 'para', 'parade', 'parading', 'paradise', 'paradol', 'paradoxical', 'paragraph', 'parallel', 'paralyzed', 'parameter', 'paramount', 'paranoid', 'pardon', 'pare', 'parent', 'paring', 'paris', 'parish', 'park', 'parking', 'parlour', 'parma', 'parrot', 'part', 'partial', 'partially', 'particle', 'particular', 'particularly', 'parting', 'partition', 'partly', 'partner', 'partnership', 'party', 'pas', 'pasedvoice', 'pass', 'passage', 'passed', 'passenger', 'passive', 'passively', 'passport', 'password', 'past', 'paste', 'pasteur', 'pasthrough', 'pastime', 'paswordonce', 'patch', 'patchwork', 'patent', 'patentee', 'path', 'pathetic', 'pathetically', 'patience', 'patient', 'patriot', 'patriotic', 'patter', 'pattern', 'patty', 'patuoxu', 'pause', 'pavement', 'pavilion', 'paw', 'pawn', 'pay', 'payable', 'payment', 'pdp_new_dp_reviewit', 'pe', 'peace', 'peaceful', 'peacetime', 'peacock', 'peak', 'peal', 'pearl', 'pebble', 'peche', 'pectoral', 'peculiar', 'pedestal', 'pedometer', 'peel', 'peeled', 'peeling', 'peep', 'peeped', 'peer', 'peg', 'peggy', 'pellet', 'pelvis', 'pen', 'penalize', 'pencil', 'pende', 'penetration', 'penguin', 'penis', 'penn', 'penny', 'pentalobe', 'penthouse', 'penultimate', 'penza', 'people', 'pepper', 'per', 'perceive', 'percent', 'percentage', 'percentagewould', 'perceptible', 'perception', 'perch', 'perfect', 'perfectamente', 'perfection', 'perfectionist', 'perfectly', 'perfectlyb', 'perfectoutline', 'perfectvolume', 'perforate', 'perforated', 'perforating', 'perforation', 'perform', 'performance', 'performer', 'performing', 'perfume', 'perhaps', 'peri', 'perimiter', 'period', 'periodic', 'periodically', 'peripheral', 'periwinkle', 'permanent', 'permanently', 'permeate', 'permit', 'peroneal', 'perpendicular', 'perpetually', 'perplex', 'perplexed', 'persist', 'persistence', 'person', 'personal', 'personality', 'personalization', 'personalize', 'personalized', 'personally', 'perspective', 'perspiration', 'persuade', 'pervious', 'pet', 'peter', 'petere', 'petered', 'petite', 'petition', 'petitioning', 'petty', 'pew', 'phantom', 'phase', 'phenomena', 'phenomenally', 'phenomenon', 'phil', 'philip', 'philippine', 'philosophy', 'phobic', 'phoenix', 'phone', 'phoneand', 'phonebook', 'phonebut', 'phonecal', 'phonecase', 'phonecompare', 'phonecon', 'phonefit', 'phonefor', 'phonefourten', 'phoneget', 'phonehalo', 'phonelow', 'phonenerd', 'phoneotherwise', 'phoneoveral', 'phoneprotection', 'phonequality', 'phonescren', 'phonesuite', 'phoneupdate', 'phoneyou', 'photo', 'photogenic', 'photograph', 'photographer', 'photographic', 'photography', 'photojojo', 'photoshop', 'photospower', 'physical', 'physically', 'piano', 'pick', 'picket', 'picking', 'picnic', 'pictbridge', 'pictogram', 'picture', 'pictured', 'pie', 'piece', 'piecescon', 'piecewindsockmanualpaire', 'pier', 'pierce', 'pierre', 'pig', 'piggyback', 'pigment', 'pigtail', 'pile', 'pill', 'pillow', 'pilot', 'pin', 'pinch', 'pink', 'pinkish', 'pinnacle', 'pioneer', 'pip', 'pipe', 'pirate', 'pirie', 'pistol', 'pit', 'pitch', 'pitcher', 'pitching', 'piti', 'pitiful', 'pity', 'pixelated', 'pixelation', 'pixelskin', 'place', 'placement', 'placing', 'plague', 'plaid', 'plain', 'plait', 'plan', 'planatronic', 'plane', 'planet', 'plank', 'planner', 'planning', 'plant', 'plantation', 'plantinumtel', 'plantroic', 'plantronic', 'plaster', 'plastic', 'plasticize', 'plate', 'plateau', 'platform', 'platino', 'platinumtel', 'platonic', 'plausible', 'play', 'playback', 'playbackand', 'playbackthe', 'playbook', 'playdecent', 'player', 'playercon', 'playertrue', 'playful', 'playground', 'playing', 'playingtrue', 'playlist', 'playstore', 'plea', 'pleasant', 'pleasantly', 'please', 'pleased', 'pleasing', 'pleasure', 'pledge', 'pledged', 'plentiful', 'plenty', 'plethoric', 'plexiglass', 'plextonium', 'plexus', 'pliable', 'plot', 'plover', 'plow', 'plug', 'plugged', 'plugging', 'plugwonderful', 'plum', 'plumber', 'plume', 'plunge', 'plunie', 'plural', 'plus', 'plush', 'ply', 'pm', 'pmb', 'pobox', 'pocektability', 'pock', 'pocket', 'pocketability', 'pocketable', 'pocketbook', 'pocketcon', 'pocketenergy', 'pocketoveral', 'podcast', 'podprop', 'poetic', 'point', 'pointed', 'pointer', 'pointing', 'poison', 'poke', 'poker', 'poking', 'poland', 'polarize', 'polarized', 'pole', 'police', 'policy', 'polish', 'polished', 'polite', 'politely', 'politically', 'polk', 'polkadot', 'poll', 'pollen', 'poloroid', 'poly', 'polycarb', 'polycarbonate', 'polycarbonite', 'polycom', 'polymer', 'polypus', 'polyurethane', 'pompous', 'pond', 'pontiac', 'pony', 'ponytail', 'pool', 'poor', 'poorhouse', 'poorly', 'pop', 'popping', 'poppy', 'popular', 'popularity', 'population', 'porcelain', 'porch', 'port', 'portabilityetronic', 'portabilitysemi', 'portable', 'portagrip', 'portal', 'porter', 'portion', 'porto', 'portrait', 'portraitsare', 'portray', 'portswork', 'pose', 'position', 'positive', 'positively', 'possess', 'possesse', 'possession', 'possibility', 'possible', 'possibly', 'post', 'postage', 'postal', 'postcard', 'poster', 'posting', 'postpone', 'postyou', 'pot', 'potato', 'potential', 'potentially', 'pothole', 'pottery', 'pouch', 'pouchspec', 'pound', 'pour', 'powder', 'poweplant', 'power', 'poweramp', 'powerbank', 'powerbolt', 'powerbot', 'powercube', 'powerfast', 'powerful', 'powergen', 'powergrid', 'powerjolt', 'powermat', 'powerpack', 'powerpak', 'powerplant', 'powerpoint', 'powershel', 'powerskin', 'powersleve', 'powerstrip', 'powersuportusa', 'powertip', 'powervault', 'pox', 'pp', 'practical', 'practically', 'practice', 'practicing', 'praise', 'pratzen', 'pray', 'prayer', 'pre', 'preach', 'precarious', 'precaution', 'precede', 'precedent', 'precious', 'precise', 'precisely', 'precision', 'preclude', 'precursor', 'predecessor', 'predicament', 'predict', 'predictable', 'prediction', 'preface', 'prefect', 'prefer', 'preferable', 'preferably', 'preference', 'preferred', 'preferthe', 'prefix', 'preinstal', 'preliminary', 'premium', 'preparation', 'prepare', 'prepared', 'preparedness', 'presadequate', 'presbotom', 'presence', 'present', 'presentable', 'presentation', 'presently', 'preserve', 'presingnegative', 'presother', 'presoveral', 'press', 'pressed', 'pressure', 'preston', 'presumably', 'presume', 'presumptuous', 'pretend', 'pretended', 'pretension', 'prettier', 'prettiest', 'pretty', 'prevalent', 'prevent', 'prevention', 'previous', 'previously', 'prey', 'preying', 'price', 'priceand', 'pricecomfortable', 'pricecon', 'pricegreat', 'priceless', 'pricepoint', 'prick', 'pricking', 'pride', 'pried', 'prim', 'primarily', 'primary', 'prime', 'primitive', 'prince', 'princess', 'principal', 'principle', 'print', 'printer', 'printing', 'printout', 'prior', 'prioritize', 'priority', 'prison', 'privacy', 'private', 'privilege', 'prize', 'pro', 'probability', 'probable', 'probably', 'probe', 'problem', 'problematical', 'problemwhat', 'procedure', 'proceed', 'procesorhd', 'procesorthe', 'process', 'processing', 'processor', 'proclaim', 'proclipusa', 'produce', 'producer', 'product', 'production', 'productive', 'productivity', 'productsnice', 'productsvery', 'prof', 'professional', 'professionally', 'professor', 'proficient', 'profile', 'profileboxwave', 'profit', 'profuse', 'profusely', 'program', 'programable', 'programme', 'programming', 'programpayment', 'progress', 'progressing', 'prohibit', 'prohibitive', 'project', 'projection', 'proliferate', 'prolong', 'prolonged', 'prominent', 'prominently', 'prominentpiece', 'promiscuous', 'promise', 'promised', 'promo', 'promote', 'promotion', 'prompt', 'promptly', 'prone', 'pronounce', 'pronounced', 'proof', 'prop', 'proper', 'properly', 'property', 'proportion', 'propos', 'propose', 'proposition', 'proprietary', 'prosabout', 'prosarive', 'prosbaterybatery', 'proscren', 'prospect', 'prosper', 'prosthese', 'protect', 'protected', 'protecting', 'protectingyour', 'protection', 'protectionbecause', 'protectioncon', 'protectiongreat', 'protectionhold', 'protective', 'protectivefilm', 'protector', 'protectorcon', 'protectorinvisibleshield', 'protectorscon', 'protectorslint', 'protectorwhile', 'protectsher', 'protege', 'protein', 'protestant', 'protocol', 'prototype', 'protrude', 'protrusion', 'proud', 'proudly', 'prove', 'proved', 'provide', 'provided', 'provider', 'providing', 'province', 'provision', 'proximal', 'proximity', 'prudent', 'prying', 'pseudo', 'psvita', 'psychology', 'pub', 'public', 'publication', 'publicistpayment', 'publicity', 'publicize', 'publish', 'pucker', 'puff', 'puffed', 'puffy', 'pull', 'pulled', 'pulp', 'pulse', 'pump', 'pumped', 'punch', 'punctuation', 'punishment', 'puppy', 'purchase', 'purchased', 'purchaser', 'purchasing', 'pure', 'puregear', 'puregla', 'purely', 'purest', 'purge', 'purification', 'purity', 'purple', 'purplish', 'purport', 'purpose', 'purposefully', 'purposely', 'purse', 'pursue', 'pursuit', 'pus', 'push', 'pushable', 'pushbuton', 'pushed', 'put', 'putting', 'putty', 'puzzle', 'puzzled', 'puzzling', 'pwh', 'qmadix', 'quadcore', 'quadfire', 'qualcom', 'qualified', 'qualify', 'qualifying', 'quality', 'qualityheadset', 'qualityvery', 'qualitywel', 'qualm', 'quand', 'quantifiable', 'quantity', 'quarante', 'quarter', 'quasi', 'que', 'queen', 'query', 'quest', 'question', 'questionable', 'queue', 'quick', 'quicker', 'quickest', 'quickfire', 'quickly', 'quicklycon', 'quickmemo', 'quickness', 'quickofice', 'quickstart', 'quicktime', 'quiet', 'quietcomfort', 'quietly', 'quincy', 'quire', 'quit', 'quite', 'quote', 'ra', 'rabbit', 'race', 'racing', 'rack', 'racquetball', 'radiate', 'radiation', 'radical', 'radio', 'radioshack', 'radius', 'raft', 'rag', 'rage', 'ragged', 'raging', 'rail', 'rain', 'rainbow', 'rainbowe', 'raindrop', 'rainproof', 'rainstorm', 'rainy', 'raise', 'raising', 'rake', 'ralanicholson', 'rally', 'ram', 'rampart', 'ran', 'random', 'rang', 'range', 'rangebatery', 'rangenearly', 'rangethis', 'rank', 'rapi', 'rapid', 'rapidaverage', 'rapidconect', 'rapidly', 'rapier', 'rapped', 'rapture', 'rare', 'rarely', 'rasher', 'raspberry', 'rat', 'ratchet', 'rate', 'ratedamcase', 'ratedec', 'rather', 'ratification', 'ratify', 'rating', 'ratio', 'rational', 'rattle', 'rave', 'raven', 'raving', 'raw', 'ray', 'rayovac', 'razor', 'rd', 're', 'reach', 'reached', 'react', 'reaction', 'reactivate', 'reactive', 'read', 'readable', 'reader', 'readily', 'reading', 'readjust', 'readjusting', 'ready', 'real', 'realise', 'realistic', 'realistically', 'reality', 'realize', 'really', 'realm', 'reap', 'reappear', 'rear', 'rearrange', 'reason', 'reasonable', 'reasonably', 'reasoning', 'reassemble', 'reassure', 'rebate', 'rebelrom', 'rebound', 'rec', 'recalibration', 'recall', 'recede', 'receipt', 'receive', 'received', 'receiver', 'receives', 'receiving', 'recent', 'recently', 'receptacle', 'recepticle', 'reception', 'receptive', 'receptor', 'recess', 'recforge', 'rechareable', 'rechargable', 'rechargeable', 'rechargeablebluetothcome', 'recharger', 'recharging', 'recipe', 'recipient', 'recite', 'reckless', 'recline', 'recognise', 'recognition', 'recognize', 'recognized', 'recognizing', 'recollect', 'recomendable', 'recomendado', 'recomendar', 'recomendthis', 'recommence', 'recommend', 'recommendation', 'recompense', 'reconciliation', 'reconect', 'reconecte', 'reconecting', 'reconfigure', 'reconfiguring', 'reconsider', 'record', 'recorded', 'recorder', 'recording', 'recourse', 'recover', 'recovered', 'recreational', 'rectangular', 'rectify', 'recuperate', 'recur', 'recyclable', 'recycle', 'red', 'reddish', 'redeem', 'redoubt', 'reduce', 'reduction', 'redundancy', 'redundant', 'reed', 'reef', 'refer', 'referable', 'reference', 'referred', 'refill', 'refine', 'refined', 'refinement', 'reflect', 'reflection', 'reflectivity', 'reflex', 'reflexe', 'reflexive', 'reform', 'refractory', 'refrain', 'refresh', 'refreshing', 'refund', 'refundidn', 'refurbish', 'refurbished', 'refuse', 'refusing', 'regal', 'regard', 'regardless', 'regardsfrom', 'regiment', 'region', 'register', 'registerable', 'registration', 'regret', 'regretfully', 'regular', 'regularly', 'regulate', 'regulation', 'regulatory', 'rehabilitation', 'reign', 'reinforce', 'reinforcement', 'reinstate', 'reiterate', 'reject', 'rejoice', 'relabele', 'relate', 'related', 'relation', 'relationship', 'relative', 'relatively', 'relax', 'relaxation', 'relaxed', 'relay', 'release', 'releasing', 'relevant', 'reliability', 'reliable', 'reliance', 'relic', 'relief', 'relieve', 'relit', 'reload', 'reluctance', 'reluctant', 'reluctantly', 'rely', 'remain', 'remainder', 'remained', 'remainingtwo', 'remains', 'remainsfour', 'remainsthre', 'remainsugestion', 'remark', 'remarkable', 'remarkably', 'remedied', 'remedy', 'remember', 'remembering', 'remind', 'reminder', 'reminiscence', 'remit', 'remorse', 'remote', 'remount', 'removable', 'removal', 'removalbatery', 'remove', 'removed', 'removing', 'rename', 'rend', 'render', 'rendering', 'renew', 'renewal', 'renowned', 'rent', 'rental', 'renting', 'reopen', 'rep', 'repacke', 'repair', 'repay', 'repeat', 'repeatedly', 'repel', 'repetitively', 'replace', 'replaceable', 'replacedthe', 'replacement', 'replacescren', 'replacing', 'replenish', 'reply', 'replying', 'report', 'reportedly', 'reporting', 'reposition', 'represent', 'representation', 'representative', 'reproduce', 'reproduction', 'republic', 'repurchase', 'reputable', 'reputation', 'request', 'require', 'required', 'requiredoesnt', 'requirement', 'requisite', 'reread', 'rescue', 'research', 'researchand', 'resect', 'resemblance', 'resemble', 'resent', 'reservation', 'reserve', 'reside', 'residence', 'resident', 'residual', 'residue', 'resign', 'resin', 'resist', 'resistance', 'resistant', 'resistantdificult', 'resolute', 'resolution', 'resolve', 'resonance', 'resonant', 'resort', 'resource', 'respect', 'respectable', 'respected', 'respective', 'respectively', 'respond', 'responded', 'response', 'responsibility', 'responsible', 'responsive', 'responsiveness', 'rest', 'restaurant', 'restful', 'resting', 'restless', 'restore', 'restraint', 'restrict', 'restriction', 'restrictive', 'restroom', 'result', 'resume', 'retail', 'retailer', 'retailing', 'retain', 'retainer', 'retaining', 'retarded', 'retell', 'retention', 'reticent', 'retina', 'retire', 'retired', 'retrackable', 'retract', 'retractability', 'retractable', 'retractablity', 'retractible', 'retracting', 'retraction', 'retreat', 'retrieve', 'retro', 'retune', 'return', 'returning', 'reusebale', 'rev', 'reveal', 'revel', 'reveler', 'reverse', 'reversible', 'revert', 'review', 'reviewease', 'reviewgreat', 'reviewing', 'reviewladie', 'reviewsvery', 'revise', 'revision', 'revive', 'revoke', 'revolutionalize', 'revolutionary', 'revolve', 'reward', 'rewrite', 'rhetoric', 'rhine', 'rhinestone', 'rib', 'ribbon', 'rice', 'rich', 'richard', 'richardsoctober', 'richly', 'richness', 'rickshaw', 'rico', 'rid', 'ridden', 'ride', 'ridemate', 'rider', 'ridge', 'ridiculous', 'ridiculously', 'riding', 'ridulious', 'rifle', 'rig', 'rigging', 'right', 'rightly', 'rightnow', 'rigid', 'rigidity', 'rigor', 'rim', 'ring', 'ringing', 'ringtone', 'ringtune', 'rinse', 'rinsing', 'rioting', 'rip', 'ripe', 'ripon', 'rise', 'risk', 'riskdamage', 'risky', 'rival', 'river', 'rivet', 'road', 'roadside', 'roadster', 'roam', 'roaming', 'roar', 'roast', 'roasted', 'rob', 'robbery', 'robbing', 'roberbeat', 'robert', 'robin', 'robotic', 'robust', 'robustness', 'rock', 'rocket', 'rocketbut', 'rocketfish', 'rocking', 'rocky', 'rod', 'rode', 'roger', 'rogue', 'rohscompatibility', 'rohswaranty', 'roi', 'role', 'roll', 'roller', 'rolling', 'roof', 'room', 'roommate', 'roomy', 'root', 'rooted', 'rope', 'rose', 'ross', 'rosy', 'rotatable', 'rotate', 'rotating', 'rotation', 'rottweiler', 'rou', 'rough', 'roughen', 'rougher', 'roughly', 'roughness', 'round', 'rounded', 'rouse', 'route', 'routine', 'roverbeat', 'row', 'rowdy', 'royal', 'rphje', 'rub', 'rubbed', 'rubber', 'rubberize', 'rubberized', 'rubbing', 'rubbish', 'rubble', 'rubereasier', 'ruberize', 'ruble', 'ruby', 'rude', 'rudimentary', 'rue', 'ruffle', 'rug', 'rugby', 'rugge', 'rugged', 'ruggedize', 'ruggedness', 'ruin', 'ruining', 'rule', 'ruler', 'rum', 'rummage', 'rumor', 'run', 'rung', 'runkeper', 'runner', 'running', 'runtastic', 'rupture', 'rural', 'rush', 'rushed', 'russia', 'rustic', 'rustle', 'ryder', 'sa', 'saber', 'sable', 'sabotage', 'sac', 'sack', 'sacramento', 'sacrifice', 'sad', 'saddle', 'sadly', 'safe', 'safeguard', 'safely', 'safety', 'safiano', 'sage', 'said', 'sake', 'salary', 'sale', 'salesfolk', 'salesman', 'salicylic', 'salt', 'salut', 'salute', 'sam', 'samaritan', 'samasung', 'same', 'sample', 'samrtphone', 'samson', 'samsumg', 'samsung', 'samsungandroid', 'samurai', 'san', 'sand', 'sandbag', 'sandpaper', 'sandstone', 'sandwich', 'sandy', 'sane', 'sang', 'sank', 'santa', 'santo', 'sap', 'sappy', 'sarah', 'sarcasm', 'sarcastic', 'sarco', 'sat', 'satan', 'satechi', 'satellite', 'satin', 'satisfaction', 'satisfactorily', 'satisfactory', 'satisfie', 'satisfied', 'satisfy', 'satisfying', 'saturate', 'saturday', 'savage', 'save', 'saved', 'savemore', 'saving', 'savior', 'saw', 'say', 'saying', 'sbseting', 'scala', 'scale', 'scan', 'scar', 'scarcely', 'scarcity', 'scare', 'scared', 'scatter', 'scenario', 'scene', 'sceptic', 'schedule', 'schelling', 'scheme', 'schon', 'school', 'science', 'scientific', 'scientist', 'scissor', 'scoop', 'scorch', 'score', 'scotch', 'scott', 'scour', 'scout', 'scramble', 'scrap', 'scrape', 'scraping', 'scratch', 'scratchconsbuton', 'scratched', 'scratchesfor', 'scratching', 'scream', 'screechy', 'screen', 'screening', 'screnblaze', 'screncase', 'screncasting', 'screncon', 'screnfel', 'screnprotector', 'scrensaver', 'scrensexcelent', 'screnshot', 'screnslightly', 'screnthe', 'screw', 'screwdriver', 'scribble', 'script', 'scrolingfaster', 'scrub', 'scruff', 'scrupulously', 'scrutinize', 'scuffle', 'sculcandy', 'scut', 'sd', 'sdsdq', 'se', 'sea', 'seaboard', 'seahawk', 'seal', 'sealing', 'seam', 'seaman', 'seamlesly', 'seaport', 'sear', 'search', 'searching', 'seasickness', 'season', 'seasonal', 'seat', 'seatbelt', 'seated', 'seating', 'seattle', 'secession', 'second', 'secondary', 'secondly', 'secondsone', 'secret', 'secretly', 'secsecond', 'section', 'sector', 'secure', 'secured', 'securely', 'securing', 'security', 'sedan', 'see', 'seed', 'seeing', 'seek', 'seem', 'seemed', 'seeming', 'seemingly', 'seems', 'seen', 'segment', 'seize', 'seizing', 'seldom', 'select', 'selecting', 'selection', 'self', 'sell', 'seller', 'selling', 'semantic', 'semi', 'semlesly', 'send', 'sending', 'senheiser', 'senior', 'senor', 'sensation', 'sense', 'senseless', 'sensible', 'sensibly', 'sensing', 'sensitive', 'sensitivemisc', 'sensitivity', 'sensory', 'sentence', 'separable', 'separate', 'separately', 'separation', 'sept', 'september', 'septic', 'sequence', 'sequentially', 'sequoia', 'serie', 'series', 'seriestrie', 'serious', 'seriously', 'serve', 'served', 'server', 'service', 'serviceable', 'servicecon', 'sesame', 'session', 'set', 'setback', 'setting', 'settle', 'setupsetup', 'setupthis', 'seven', 'seventy', 'several', 'severe', 'severely', 'severity', 'sevi', 'sew', 'sewing', 'sex', 'sg', 'sgorilapod', 'shabby', 'shade', 'shading', 'shadow', 'shady', 'shaft', 'shake', 'shakos', 'shall', 'shallow', 'shalt', 'shame', 'shampoo', 'shan', 'shanghai', 'shantung', 'shape', 'shaped', 'shaping', 'share', 'sharing', 'sharp', 'sharper', 'sharply', 'sharpness', 'shatter', 'shatterproof', 'shave', 'shaven', 'shaving', 'she', 'sheath', 'sheathe', 'shed', 'shedding', 'sheen', 'sheer', 'sheet', 'sheetrock', 'shelf', 'shell', 'shellac', 'shelter', 'shenanigan', 'shepherd', 'sherman', 'sherry', 'shield', 'shift', 'shifting', 'shilling', 'shine', 'shiny', 'ship', 'shipboard', 'shipingonce', 'shipment', 'shipper', 'shipping', 'shirt', 'shiver', 'shock', 'shocked', 'shocking', 'shockprof', 'shod', 'shoe', 'shoot', 'shooting', 'shootout', 'shop', 'shopping', 'shopworn', 'shore', 'short', 'shortage', 'shortatractivene', 'shortcoming', 'shortcut', 'shorten', 'shorter', 'shortest', 'shortfall', 'shortly', 'shortness', 'shot', 'shotgun', 'should', 'shoulder', 'shouldn', 'shout', 'shove', 'show', 'showcase', 'shower', 'showering', 'showing', 'shown', 'shownthe', 'showroom', 'showstopper', 'shre', 'shrill', 'shrink', 'shrivel', 'shrivelling', 'shuffle', 'shunundo', 'shut', 'shutdown', 'shutsdown', 'shutter', 'shutting', 'shy', 'si', 'sic', 'sick', 'sickle', 'sickness', 'sidarta', 'side', 'sided', 'sidekick', 'sidewalk', 'sideway', 'sideways', 'sigh', 'sight', 'sighted', 'sightseeing', 'sign', 'signal', 'signature', 'significant', 'significantly', 'significantlyjust', 'signifie', 'signifying', 'signing', 'sila', 'silence', 'silent', 'silently', 'silhouette', 'silicon', 'silicone', 'silicony', 'silk', 'sill', 'silly', 'silver', 'silverfish', 'silverish', 'silvery', 'similar', 'similarity', 'similarly', 'similarmediabridge', 'similarsanyo', 'simple', 'simplicity', 'simplifie', 'simplify', 'simplistic', 'simply', 'simplyvibe', 'simulated', 'simultaneous', 'simultaneously', 'sin', 'since', 'sincere', 'sincerely', 'sincronizar', 'sing', 'singapore', 'singe', 'singer', 'singing', 'single', 'singleness', 'singly', 'singsong', 'singular', 'sink', 'sinner', 'sinus', 'sip', 'siquiera', 'sir', 'sire', 'siriusxm', 'sister', 'sit', 'site', 'sitecon', 'sitting', 'situate', 'situation', 'six', 'sixty', 'size', 'sized', 'skateboard', 'skeleton', 'skeptically', 'skepticism', 'sketch', 'sketchbook', 'ski', 'skill', 'skilled', 'skin', 'skinned', 'skinny', 'skinomi', 'skinomis', 'skip', 'skirt', 'skivia', 'skull', 'sky', 'skydrive', 'skypeing', 'skyrocket', 'skywholesale', 'slab', 'slack', 'slacken', 'slam', 'slamming', 'slander', 'slap', 'slash', 'slate', 'sle', 'sledge', 'sleek', 'sleeker', 'sleep', 'sleeper', 'sleepless', 'sleeve', 'slekbok', 'slend', 'slender', 'slept', 'slew', 'slice', 'slid', 'slide', 'slideout', 'slideshow', 'slight', 'slightest', 'slightly', 'slim', 'slimarmor', 'slimline', 'slimmest', 'slimprotect', 'slimtalk', 'slip', 'sliperi', 'sliperyit', 'sliperyoveral', 'slipoveral', 'slipper', 'slippere', 'slipperiness', 'slippery', 'slipping', 'slips', 'slit', 'slogan', 'slop', 'slope', 'slot', 'slough', 'slow', 'slowdown', 'slower', 'slowly', 'slowness', 'slur', 'smack', 'smalhard', 'small', 'smaller', 'smallest', 'smallish', 'smart', 'smarthphone', 'smartly', 'smartphone', 'smartphonesbut', 'smartwatch', 'smartwatche', 'smash', 'smear', 'smell', 'smile', 'smith', 'smoke', 'smoker', 'smoking', 'smolder', 'smoldering', 'smooth', 'smoothed', 'smoother', 'smoothing', 'smoothly', 'smoothness', 'smother', 'smudge', 'sn', 'snack', 'snail', 'snake', 'snap', 'snapchat', 'snapdragon', 'snapedthe', 'snapping', 'snapshot', 'snatch', 'snazzy', 'sneer', 'sneering', 'sniff', 'snip', 'snivel', 'snorkeled', 'snorkeling', 'snow', 'snowball', 'snowboard', 'snowboarding', 'snowprof', 'snowstorm', 'snowy', 'snuff', 'snuffing', 'snug', 'snuggery', 'snuggle', 'snugly', 'snugne', 'snugness', 'so', 'soak', 'soaking', 'soap', 'soar', 'sob', 'soccer', 'social', 'socialist', 'socially', 'society', 'sock', 'socket', 'soda', 'sodium', 'sofa', 'soft', 'soften', 'softly', 'softness', 'software', 'soil', 'sol', 'solace', 'solar', 'solder', 'soldier', 'sole', 'solely', 'solicit', 'solicitation', 'solid', 'solidconsi', 'solidity', 'solitary', 'solo', 'solstice', 'solution', 'solutionfinaly', 'solvable', 'solve', 'solvent', 'some', 'somealso', 'someap', 'somebody', 'someday', 'somehow', 'somekind', 'someone', 'somesuch', 'something', 'sometime', 'sometimes', 'somewhat', 'somewhere', 'son', 'song', 'sonicorbstudio', 'sonya', 'soon', 'soothe', 'sophie', 'sophisticated', 'sophistication', 'sophomore', 'sore', 'sorely', 'sorrow', 'sorry', 'sort', 'soul', 'sound', 'soundbendy', 'soundblade', 'soundbot', 'soundbrick', 'soundcard', 'sounding', 'soundly', 'soundmater', 'soundness', 'soundock', 'soundtrack', 'soup', 'sour', 'source', 'south', 'southeast', 'southeasternacesory', 'southern', 'space', 'spacious', 'span', 'spanish', 'spare', 'sparesamsung', 'sparing', 'sparingly', 'sparkle', 'spasm', 'spastic', 'spattered', 'speak', 'speaker', 'speakerand', 'speakerphone', 'speakerphonefor', 'speakertechnology', 'speaking', 'special', 'specially', 'specific', 'specifically', 'specification', 'specify', 'speciman', 'speck', 'speckle', 'speckled', 'specsoveral', 'spectacular', 'spectrum', 'speculate', 'spedwise', 'speech', 'speed', 'speedily', 'speedometer', 'speedy', 'spell', 'spend', 'spending', 'spherical', 'spice', 'spider', 'spiderman', 'spiderpodium', 'spill', 'spin', 'spinal', 'spine', 'spinning', 'spiral', 'spirit', 'spit', 'spite', 'splash', 'splashing', 'splendid', 'splint', 'split', 'splitter', 'splitting', 'spoil', 'spoiled', 'spoilsport', 'spokane', 'spoke', 'spoken', 'sponge', 'spongy', 'spontaneous', 'spontaneously', 'spool', 'sporadic', 'sporadically', 'sport', 'sporting', 'spot', 'spotless', 'spotlight', 'spouse', 'spracht', 'spray', 'spread', 'spreadsheet', 'spree', 'spring', 'sprinkle', 'sprintcon', 'sprintzone', 'spruce', 'sprung', 'spur', 'spy', 'spzwo', 'square', 'squared', 'squarely', 'squeaky', 'squeamish', 'squeegee', 'squeeze', 'squegieing', 'squire', 'squish', 'squishy', 'squishycon', 'srsbtm', 'sssssss', 'sssssssssss', 'ssssssssssssssssssssssssssssss', 'st', 'stab', 'stability', 'stabilization', 'stabilizationthe', 'stabilize', 'stabilizer', 'stable', 'stack', 'stadium', 'staff', 'stage', 'staggering', 'stain', 'staining', 'stair', 'stairway', 'stalk', 'stall', 'stamp', 'stand', 'standalone', 'standalonenavigon', 'standard', 'standardgalaxy', 'standardize', 'standardized', 'standbecause', 'standing', 'standout', 'standpoint', 'star', 'starbuck', 'stare', 'stark', 'starry', 'starscon', 'starshave', 'starspro', 'starsthis', 'start', 'startechnolusion', 'started', 'starting', 'startle', 'starve', 'state', 'statebotom', 'stately', 'statement', 'stateside', 'static', 'staticaly', 'station', 'stationary', 'status', 'statuscon', 'statusthistravel', 'statute', 'stay', 'stayed', 'stayhear', 'staying', 'steadily', 'steady', 'steal', 'stealth', 'steam', 'steamed', 'steaming', 'steampunk', 'steamship', 'steel', 'steely', 'steep', 'steer', 'steffen', 'steiheil', 'steinheil', 'steinhiel', 'stem', 'step', 'stepson', 'stern', 'sterno', 'steroid', 'steve', 'stick', 'sticki', 'sticking', 'stickler', 'sticky', 'stiff', 'stiffen', 'stiffly', 'stiffness', 'stile', 'still', 'stimulate', 'stink', 'stint', 'stitch', 'stitching', 'stock', 'stocking', 'stole', 'stone', 'stonethat', 'stoop', 'stop', 'stoppage', 'stopped', 'stopping', 'storage', 'storageand', 'store', 'storebaterypre', 'stored', 'storm', 'stormcruiser', 'stormtroper', 'story', 'stout', 'stouter', 'stove', 'stowaway', 'straight', 'straightalk', 'straighten', 'straightforward', 'strain', 'strait', 'strand', 'strange', 'strangely', 'strap', 'strapped', 'strategically', 'strategy', 'stratosphere', 'stray', 'streak', 'stream', 'streaming', 'streamline', 'streamlined', 'street', 'strength', 'stress', 'stretch', 'stretchable', 'stretchcon', 'stretchiness', 'stretching', 'stretpa', 'strict', 'strictly', 'stride', 'strident', 'strike', 'string', 'strip', 'stripe', 'striped', 'stripedthe', 'stroke', 'stroll', 'strong', 'stronger', 'strongly', 'structural', 'structurally', 'structure', 'struggle', 'struggling', 'stubborn', 'stubbornly', 'stubby', 'stuck', 'stud', 'student', 'studied', 'studio', 'study', 'stuff', 'stumble', 'stump', 'stun', 'stunning', 'stupid', 'stupidity', 'stupidly', 'sturdily', 'sturdiness', 'sturdy', 'sturdycon', 'stutter', 'stuttering', 'stwirele', 'sty', 'style', 'stylecon', 'stylish', 'stylus', 'stylusand', 'styluse', 'stylusfor', 'stylusin', 'stylusis', 'styluspen', 'sub', 'subdue', 'subject', 'subjective', 'sublimate', 'submerge', 'submit', 'subpixel', 'subscribe', 'subscription', 'subsequent', 'subsequently', 'subsidize', 'substance', 'substandard', 'substantial', 'substantially', 'substitute', 'substrate', 'subtitle', 'subtle', 'subtlety', 'subtly', 'subtract', 'suburb', 'suburban', 'subversion', 'subvert', 'subway', 'subwoofer', 'succeed', 'success', 'successful', 'successfully', 'succession', 'successor', 'succumb', 'such', 'suck', 'suction', 'sudan', 'sudden', 'suddenly', 'sue', 'suffer', 'suffering', 'suffice', 'sufficient', 'sufficiently', 'suffocate', 'sugar', 'suggest', 'suggested', 'suggestion', 'suggestive', 'suicide', 'suit', 'suitable', 'suitcase', 'suite', 'suited', 'sulk', 'sum', 'sumarythe', 'summarize', 'summary', 'summed', 'summer', 'summertime', 'summon', 'sun', 'sunblock', 'sunday', 'sundown', 'sunglass', 'suniecustomer', 'sunielaptopmate', 'sunlight', 'sunny', 'sunroof', 'sunshade', 'sunshine', 'sunshinewifi', 'sup', 'super', 'superb', 'superbe', 'superbowl', 'supercharge', 'supercheap', 'supercomputer', 'superficially', 'superglue', 'superior', 'superlative', 'superlegera', 'superlong', 'supermarket', 'supershieldz', 'superstar', 'superstore', 'supertoth', 'supervise', 'supervision', 'supervisor', 'supine', 'suportanyway', 'suportoveral', 'supper', 'supple', 'supplement', 'supplied', 'supplier', 'supply', 'support', 'supporter', 'suppose', 'supposed', 'supposedly', 'suppress', 'suppression', 'suppurative', 'supreme', 'supurbly', 'sure', 'surely', 'suretype', 'surf', 'surface', 'surfacepro', 'surfacescon', 'surfboard', 'surge', 'surgeon', 'surgery', 'surgical', 'surging', 'surly', 'surpass', 'surplus', 'surprise', 'surprised', 'surprising', 'surprisingly', 'surrender', 'surrey', 'surround', 'surrounding', 'survey', 'survivalist', 'survive', 'survivor', 'susceptible', 'suspect', 'suspecting', 'suspend', 'suspicion', 'suspicious', 'sustain', 'sustainable', 'swag', 'swallow', 'swamp', 'swap', 'swarovski', 'sway', 'swear', 'swearing', 'sweat', 'sweating', 'sweatprof', 'sweatshirt', 'swede', 'sweep', 'sweet', 'sweetness', 'swell', 'swelling', 'swerve', 'swiftly', 'swim', 'swimmer', 'swimming', 'swing', 'swishing', 'swiss', 'switch', 'switched', 'swoop', 'swore', 'sycosis', 'syllable', 'symbol', 'symmetrical', 'symmetry', 'symphonic', 'symptom', 'synchronization', 'synchronize', 'syncingthe', 'syndrome', 'synthesis', 'syrian', 'system', 'systematically', 'sytlus', 'ta', 'tabe', 'table', 'tablet', 'tabletop', 'tabletsample', 'tack', 'tackifie', 'tackiness', 'tackle', 'tact', 'tactic', 'tactical', 'tactile', 'tafa', 'tag', 'tail', 'tailgate', 'tailor', 'take', 'takeaway', 'taken', 'takes', 'taking', 'takingpicture', 'tale', 'talented', 'talk', 'talking', 'tall', 'tambien', 'tambov', 'tammany', 'tangible', 'tangle', 'tangled', 'tank', 'tankclear', 'tap', 'tape', 'tapering', 'tapping', 'tar', 'target', 'tarsus', 'tartar', 'task', 'taskbar', 'taste', 'taut', 'tavel', 'tavsiye', 'tax', 'taxis', 'taylor', 'te', 'tea', 'teach', 'teacher', 'team', 'teamlaptopmate', 'tear', 'teaspoon', 'techarmor', 'techmate', 'technical', 'technically', 'technique', 'technogek', 'technological', 'technology', 'technomage', 'technophobe', 'techskin', 'techsmart', 'tecrnowaday', 'tedious', 'teenage', 'teenager', 'telemarketer', 'telephone', 'telescope', 'telescoping', 'television', 'tell', 'telling', 'telltale', 'temp', 'temper', 'temperament', 'temperate', 'temperature', 'tempered', 'temple', 'temporarily', 'temporary', 'tempt', 'temptation', 'tempting', 'ten', 'tend', 'tendency', 'tender', 'tendon', 'tends', 'teno', 'tens', 'tension', 'tent', 'tenth', 'tenure', 'term', 'terminal', 'terminate', 'terrain', 'terrible', 'terribly', 'terrific', 'terrified', 'terrify', 'territory', 'terse', 'test', 'testament', 'tested', 'testify', 'testimony', 'testing', 'testingtesting', 'testosterone', 'tetanus', 'tether', 'tethered', 'texas', 'text', 'textile', 'texts', 'texture', 'textureprevente', 'tfdatauser', 'th', 'than', 'thank', 'thankful', 'thanks', 'thanksgive', 'thanksssssss', 'thankyou', 'that', 'thatwante', 'thatwil', 'thatyou', 'thaw', 'thdaux', 'the', 'theamazon', 'theamazonbasic', 'theariza', 'theasyac', 'theater', 'theatre', 'thebelkin', 'theblack', 'thebolse', 'thebumper', 'thecal', 'thechunkine', 'theduracel', 'theft', 'thegla', 'thegogle', 'thegogrove', 'theiflash', 'theincipio', 'theincredicharge', 'theiphone', 'their', 'theirpurpose', 'theitorch', 'thejabra', 'thejkase', 'thekdlink', 'thekindle', 'thelago', 'thelarger', 'theme', 'themediabridge', 'themonoprice', 'themonster', 'themotorola', 'themycharge', 'then', 'thenatal', 'thenikon', 'theninstale', 'theological', 'theoretical', 'theoriongadget', 'theory', 'theoterbox', 'theparot', 'theperson', 'thephuby', 'theplan', 'thepowerad', 'thepowermat', 'thepowerpak', 'there', 'thereafter', 'thereby', 'therefore', 'therein', 'thereof', 'thereon', 'thereoveral', 'theringke', 'thermal', 'thermometer', 'thermoplastic', 'thesamsung', 'thescion', 'thescren', 'these', 'thesendy', 'thesescren', 'thesilverhil', 'thetaotronic', 'thetargus', 'thetran', 'theultra', 'theunit', 'thevolume', 'theworld', 'thexpow', 'thexpower', 'they', 'thezetron', 'thick', 'thickcamera', 'thicker', 'thickness', 'thief', 'thieve', 'thigh', 'thin', 'thing', 'thingsright', 'think', 'thinker', 'thinking', 'thinkpad', 'thinner', 'thinness', 'third', 'thirdly', 'thirteen', 'thirty', 'this', 'thisampen', 'thisaudio', 'thisdoe', 'thisesentialy', 'thismotorola', 'thisoxa', 'thisphone', 'thispigen', 'thispowerad', 'thistand', 'thnaksemie', 'thoma', 'thorax', 'thorough', 'thoroughly', 'those', 'thou', 'though', 'thought', 'thoughtful', 'thoughtfully', 'thoughts', 'thoughtsthe', 'thousand', 'thrash', 'thread', 'threaten', 'three', 'threw', 'thrill', 'thrilled', 'thrive', 'throttle', 'throughcon', 'throughout', 'throw', 'throwaway', 'throwback', 'throwing', 'thud', 'thumb', 'thumbnail', 'thumbprint', 'thumbscrew', 'thumping', 'thunder', 'thunderbolt', 'thursday', 'thus', 'thushighlighte', 'ti', 'tibia', 'tic', 'tick', 'ticket', 'tickle', 'tide', 'tidy', 'tie', 'tier', 'tiffany', 'tight', 'tighten', 'tightened', 'tightening', 'tighter', 'tightly', 'tightness', 'tightstrongnot', 'til', 'tile', 'till', 'tiller', 'tilsit', 'tilt', 'tilting', 'time', 'timecon', 'timed', 'timeframe', 'timeline', 'timely', 'timeout', 'timerequire', 'timesand', 'timescon', 'timesmal', 'timesoveral', 'timesuse', 'timeupdatei', 'timidly', 'timing', 'timothy', 'tin', 'tinder', 'tinge', 'tingle', 'tingling', 'tinker', 'tint', 'tiny', 'tip', 'tipsy', 'tire', 'tired', 'tireless', 'tiresome', 'tis', 'tissue', 'titanic', 'title', 'tm', 'to', 'toacomplish', 'toast', 'today', 'todiztronic', 'todrope', 'toe', 'together', 'toilet', 'tokyo', 'told', 'tolerable', 'tolerance', 'tolerate', 'toll', 'toller', 'tom', 'tomato', 'tomorrow', 'ton', 'tone', 'toned', 'tongue', 'tonic', 'tonight', 'tonsumarize', 'tony', 'too', 'took', 'tool', 'tooth', 'toothpick', 'top', 'topcon', 'topic', 'topmost', 'topped', 'torch', 'torchlight', 'tore', 'torment', 'torn', 'tornado', 'torrent', 'tortoise', 'torture', 'toshiba', 'tosmudge', 'toss', 'tossing', 'total', 'totally', 'touch', 'touchflo', 'touchfor', 'touching', 'touchpadcon', 'touchpan', 'touchscreen', 'touchstone', 'touchwiz', 'tough', 'tour', 'tournament', 'tout', 'tow', 'toward', 'towards', 'towel', 'towelete', 'tower', 'town', 'toxic', 'toy', 'toying', 'tpuboxwave', 'tr', 'trace', 'tracfone', 'track', 'trackball', 'trackcontrol', 'trackpad', 'tracphone', 'traction', 'trade', 'trademark', 'tradeoff', 'trading', 'tradition', 'traditional', 'traditionally', 'traffic', 'tragedy', 'tragic', 'trail', 'trailer', 'train', 'trainer', 'training', 'traitor', 'tramp', 'tranducer', 'trans', 'transaction', 'transatlantic', 'transcend', 'transcriber', 'transducer', 'transfer', 'transferability', 'transferable', 'transferring', 'transform', 'transformation', 'transformer', 'transit', 'transition', 'transitory', 'translate', 'translation', 'translucent', 'transmission', 'transmit', 'transmitercon', 'transparent', 'transponder', 'transport', 'transportanywhere', 'transporting', 'trap', 'trapper', 'trash', 'trauma', 'travel', 'traveler', 'traveling', 'travelinghome', 'travelling', 'travelmat', 'travelocity', 'travels', 'tray', 'tread', 'treadmill', 'treasure', 'treasured', 'treat', 'treatment', 'treaty', 'treble', 'tree', 'tremendous', 'trend', 'trent', 'trentdual', 'trentium', 'treopro', 'trepak', 'tress', 'tresse', 'trexcel', 'trial', 'triangle', 'tribute', 'trick', 'trickle', 'tricky', 'tried', 'triedcon', 'triedhigh', 'trifle', 'trigger', 'trill', 'trim', 'trinidad', 'trip', 'triple', 'tripped', 'tripping', 'triumph', 'trivial', 'troop', 'trooper', 'trophie', 'trouble', 'troubleshoot', 'troubleshooting', 'troublesome', 'trough', 'truce', 'truck', 'true', 'truer', 'truevolume', 'truly', 'trumpet', 'trunk', 'trust', 'trusting', 'trustworthy', 'trusty', 'truth', 'truthfully', 'try', 'trying', 'tsar', 'tt', 'tu', 'tub', 'tube', 'tuck', 'tucking', 'tug', 'tugging', 'tumble', 'tumbler', 'tumeric', 'tune', 'tunebelt', 'tuned', 'tunica', 'tuning', 'tunnel', 'turbocharge', 'turf', 'turk', 'turkish', 'turn', 'turnaround', 'turned', 'turner', 'turning', 'turnoff', 'turns', 'turquoise', 'turtle', 'tushin', 'tutor', 'tutorial', 'tutoring', 'twelve', 'twenty', 'twice', 'twin', 'twinkle', 'twist', 'twisted', 'twisting', 'twitch', 'twitching', 'twiterdone', 'twitter', 'two', 'twoenelop', 'twofold', 'txt', 'ty', 'tying', 'type', 'typewriting', 'typical', 'typically', 'ugh', 'uglier', 'ugly', 'ukshvc', 'ulcer', 'ulm', 'ulna', 'ultimate', 'ultimately', 'ultra', 'ultrapixel', 'ultraprof', 'ultraprovider', 'ultraslim', 'un', 'unable', 'unacceptable', 'unaffected', 'unarmed', 'unattended', 'unattractive', 'unauthorized', 'unavailableyou', 'unavoidable', 'unaware', 'unbearable', 'unbelievable', 'unbelievably', 'unbelieveable', 'unbiased', 'unbreakable', 'unbroken', 'uncalled', 'uncertain', 'uncertainty', 'unchangeable', 'unchanged', 'unchanging', 'uncle', 'uncleanable', 'unclear', 'uncomfortable', 'uncommon', 'uncommonly', 'uncomplicated', 'unconditione', 'unconditioned', 'unconnected', 'unconscionable', 'unconsciously', 'uncoordinate', 'uncover', 'uncovered', 'uncoveredcute', 'undecided', 'under', 'underarmor', 'undercharge', 'underclothe', 'undercut', 'undercutingthe', 'undergo', 'underground', 'underlie', 'underlying', 'undermine', 'underneath', 'underpowere', 'underpowered', 'underpriced', 'undersized', 'understand', 'understandable', 'understanding', 'understatement', 'undertake', 'underwater', 'underway', 'underwhelme', 'underwhelming', 'undesirable', 'undo', 'undone', 'undoubtedly', 'undue', 'uneasy', 'unequal', 'unequivocal', 'uneven', 'unevenly', 'uneventful', 'unexpected', 'unexpectedly', 'unexpose', 'unfair', 'unfamiliar', 'unfeigned', 'unfinished', 'unfixable', 'unfold', 'unfordable', 'unforeseen', 'unfortunate', 'unfortunately', 'unfounded', 'ungainly', 'unhappy', 'unhealthy', 'unheard', 'unhindered', 'unhinge', 'unhooked', 'unicorn', 'unified', 'uniform', 'unify', 'unilateral', 'unimpededcon', 'uninhibite', 'uninstale', 'uninstaled', 'uninstaling', 'unintelligible', 'unintended', 'unintentional', 'unintentionally', 'uninterrupted', 'unintuitive', 'union', 'unionthe', 'unique', 'unit', 'unite', 'united', 'unites', 'universal', 'universally', 'university', 'unjust', 'unknown', 'unless', 'unlike', 'unlikely', 'unlimited', 'unload', 'unloaded', 'unloading', 'unlock', 'unlocked', 'unmanageably', 'unnamed', 'unnatural', 'unnaturalness', 'unnecessarily', 'unnecessary', 'unnoticed', 'unobtrusive', 'unobtrusively', 'unofficial', 'unofficially', 'unopened', 'unpack', 'unpacked', 'unpaid', 'unparalleled', 'unpleasant', 'unquestionably', 'unreal', 'unrealistically', 'unreasonable', 'unreasonably', 'unrecognizable', 'unresilient', 'unsatisfactory', 'unscratchable', 'unscrupulous', 'unseat', 'unseen', 'unsenthe', 'unsheathe', 'unsheathed', 'unsightly', 'unspare', 'unstable', 'unsteady', 'unsuccessful', 'untextured', 'until', 'untimely', 'unto', 'unused', 'unusual', 'unusually', 'unvexed', 'unwanted', 'unwieldily', 'unwieldy', 'unwrapped', 'up', 'update', 'updateafter', 'updatedampen', 'updateoterbox', 'updatereplacement', 'updateshortly', 'updatethe', 'updatethere', 'updatethis', 'upgradable', 'upgrade', 'uphill', 'uphold', 'upholder', 'upholstered', 'upland', 'upon', 'upper', 'upright', 'upset', 'upsetting', 'upside', 'upstairs', 'upward', 'upwards', 'urban', 'urbanity', 'urea', 'urethane', 'urge', 'urgent', 'us', 'usabilityit', 'usage', 'use', 'used', 'usedthe', 'usedwith', 'usefirstly', 'useful', 'usefulcord', 'usefulness', 'usefulsince', 'useless', 'user', 'uses', 'usethe', 'usethin', 'using', 'usual', 'usually', 'utah', 'utf', 'utilitarian', 'utility', 'utilize', 'utmost', 'utstarcom', 'utter', 'utterly', 'va', 'vacant', 'vacation', 'vacuum', 'vagrancy', 'vagrant', 'vague', 'vain', 'valentine', 'valet', 'valid', 'valkyrie', 'valley', 'valour', 'valuable', 'value', 'van', 'vanilla', 'vanish', 'vanity', 'vantage', 'vaporware', 'variable', 'variance', 'variant', 'variation', 'varied', 'variety', 'various', 'varnish', 'vary', 'vas', 'vase', 'vaseline', 'vast', 'vault', 'vaultskin', 've', 'vegetable', 'vehicle', 'veil', 'vein', 'velcro', 'velocity', 'velvet', 'velveteen', 'velvety', 'vendor', 'venerable', 'venezuela', 'venice', 'vent', 'venter', 'ventilate', 'ventilator', 'venture', 'venue', 'venus', 'ver', 'vera', 'verb', 'verbal', 'verbatim', 'verdict', 'verge', 'verified', 'verify', 'verifying', 'verily', 'veritable', 'verlust', 'vermont', 'versa', 'versatile', 'versatility', 'verse', 'verses', 'version', 'versionhapy', 'versus', 'vertex', 'vertical', 'vertically', 'very', 'verydisapoint', 'vest', 'vested', 'veteran', 'veto', 'vi', 'via', 'viable', 'vibrate', 'vibrated', 'vibration', 'vice', 'vicinity', 'victim', 'victor', 'victory', 'victse', 'video', 'videographer', 'vie', 'vienna', 'view', 'viewer', 'viewing', 'viewpoint', 'vigor', 'vigorous', 'vigorously', 'villa', 'vine', 'vinegar', 'violent', 'violently', 'violet', 'violin', 'virgin', 'virginia', 'virtual', 'virtually', 'virtue', 'virus', 'vise', 'visibility', 'visible', 'vision', 'visit', 'visitor', 'vista', 'visual', 'visualization', 'vital', 'viva', 'vive', 'vivid', 'vividness', 'vocal', 'vocalizer', 'voice', 'voiceasist', 'voicemail', 'voicethe', 'void', 'voila', 'vol', 'volatile', 'volkswagen', 'volleyball', 'voltage', 'volume', 'volumeplay', 'volumeswitche', 'voluminous', 'volunteer', 'voritystore', 'vote', 'vow', 'vowed', 'voyage', 'vs', 'vulnerable', 'vznavigator', 'wa', 'wad', 'wade', 'wag', 'wage', 'wagon', 'waist', 'waiste', 'wait', 'waiter', 'waiting', 'wake', 'wakelock', 'waken', 'wakethat', 'waking', 'waletno', 'walgren', 'walk', 'walked', 'walker', 'walking', 'wall', 'wallet', 'wallpaper', 'walpaperceramicspainte', 'walsgosh', 'walsrefrigeratorstexture', 'walt', 'walyworld', 'wan', 'wand', 'wander', 'wane', 'wannabe', 'want', 'wanted', 'wanting', 'wants', 'war', 'warantycompatibility', 'warantycon', 'warantyit', 'warantylight', 'warantynote', 'warantyquick', 'ward', 'wardrobe', 'wardrop', 'ware', 'warehouse', 'warfare', 'warm', 'warming', 'warmly', 'warmth', 'warn', 'warning', 'warp', 'warped', 'warrant', 'warranty', 'warren', 'warrior', 'wart', 'wary', 'wasconducte', 'wasexcelent', 'wash', 'washable', 'washed', 'washing', 'wast', 'wastage', 'waste', 'wasteful', 'wat', 'watch', 'watching', 'water', 'watering', 'waterproof', 'waterproofing', 'watery', 'watt', 'wave', 'waved', 'wavering', 'wavy', 'wax', 'way', 'wayne', 'wayward', 'we', 'weak', 'weaken', 'weakness', 'wealth', 'weapon', 'wear', 'wearer', 'wearing', 'wearwrist', 'weary', 'weather', 'weave', 'web', 'webinar', 'webpage', 'webster', 'websurfe', 'webtreo', 'wedding', 'wedge', 'wednesday', 'wee', 'weed', 'weedy', 'week', 'weekend', 'weekly', 'weeper', 'weigh', 'weighing', 'weighs', 'weight', 'weightdoesn', 'weightfit', 'weightiest', 'weightnice', 'weighty', 'weird', 'welcome', 'weld', 'welded', 'well', 'welphone', 'welprotect', 'welquick', 'welsimple', 'welthis', 'welugly', 'wen', 'went', 'werden', 'werebulky', 'weren', 'west', 'westbury', 'wet', 'wetspot', 'wh', 'what', 'whatever', 'whatnot', 'whatsap', 'whatsoever', 'whatsoeverhtc', 'wheel', 'wheeler', 'wheelhouse', 'when', 'whence', 'whenever', 'where', 'whereas', 'whereby', 'wherever', 'whether', 'whethercharge', 'whew', 'which', 'whichever', 'whilst', 'whim', 'whine', 'whip', 'whisky', 'whisper', 'whistle', 'whit', 'white', 'whiteboard', 'whiter', 'whitethis', 'whitewater', 'whitish', 'whiztag', 'who', 'whoever', 'whoknow', 'whole', 'wholeheartedly', 'wholethe', 'whom', 'whomever', 'whose', 'why', 'wicked', 'wicker', 'wide', 'widely', 'widen', 'wider', 'widescren', 'widespread', 'widest', 'width', 'wierele', 'wife', 'wight', 'wiki', 'wikipedia', 'wild', 'wilderness', 'wildest', 'wildlife', 'wildly', 'will', 'william', 'willing', 'willingness', 'wilmot', 'wilratle', 'wilson', 'wiltravel', 'win', 'wind', 'windbreaker', 'windnoise', 'window', 'windows', 'windscreen', 'windsheild', 'windshield', 'windshild', 'windsor', 'windy', 'wine', 'winfield', 'wing', 'winner', 'winning', 'winter', 'wipe', 'wiping', 'wire', 'wirecuter', 'wired', 'wirelesfinest', 'wirelesly', 'wirelesphone', 'wiring', 'wisconsin', 'wise', 'wisely', 'wiseman', 'wiser', 'wish', 'wished', 'wishlist', 'wit', 'witch', 'with', 'withcon', 'withhold', 'withholding', 'within', 'without', 'withstand', 'withstood', 'withthis', 'witness', 'witty', 'wive', 'wizard', 'wm', 'wo', 'wobbly', 'wodbridge', 'wogue', 'woke', 'wolrab', 'woman', 'wonder', 'wonderful', 'wonderfully', 'wonderfulycon', 'wood', 'wooden', 'woodworke', 'word', 'wording', 'wordplay', 'wordseven', 'wore', 'work', 'workability', 'workaround', 'workbag', 'workbench', 'workbeter', 'workday', 'worked', 'worker', 'workflow', 'workhouse', 'working', 'workman', 'workmanship', 'workout', 'workplace', 'works', 'worksbut', 'workshop', 'worksince', 'world', 'worldly', 'worldwide', 'worn', 'worried', 'worry', 'worse', 'worsedon', 'worst', 'worth', 'worthless', 'worthwhile', 'worthy', 'would', 'wouldn', 'wouldrecomend', 'wound', 'woven', 'wrangle', 'wrangled', 'wrap', 'wraparound', 'wrapping', 'wreck', 'wrecker', 'wrecking', 'wrest', 'wrestle', 'wretch', 'wretched', 'wriggle', 'wriggling', 'wring', 'wrinkle', 'wrist', 'write', 'writer', 'writethe', 'writing', 'writingnice', 'wrong', 'www', 'wxhxd', 'wyome', 'xepwo', 'xperiaserie', 'xtremeand', 'xtremeguard', 'xx', 'xxx', 'yakjuxw', 'yakov', 'yankee', 'yard', 'yea', 'yeah', 'year', 'yearly', 'yell', 'yelled', 'yellow', 'yellowing', 'yellowish', 'yep', 'yer', 'yes', 'yesbluetoth', 'yesterday', 'yet', 'yeterli', 'yield', 'yielding', 'yingyang', 'yogurtland', 'york', 'yospacepayment', 'you', 'youbuyer', 'youcon', 'youdont', 'youfrancois', 'youhave', 'young', 'youngster', 'your', 'youth', 'youthful', 'yrmvby', 'yurbuds', 'yuri', 'zen', 'zero', 'zerolemomn', 'zerolemon', 'zip', 'ziplock', 'zis', 'zone', 'zukyju']\n"
     ]
    }
   ],
   "source": [
    "# Print feature names\n",
    "\n",
    "feature_names = tfidf_vectorizer.get_feature_names()\n",
    "print (feature_names)"
   ]
  },
  {
   "cell_type": "code",
   "execution_count": 36,
   "metadata": {},
   "outputs": [
    {
     "name": "stdout",
     "output_type": "stream",
     "text": [
      "    ab  abacus  abandon  abbreviate  abbreviation  abc  abe  abelkin  ability  \\\n",
      "0  0.0     0.0      0.0         0.0           0.0  0.0  0.0      0.0      0.0   \n",
      "1  0.0     0.0      0.0         0.0           0.0  0.0  0.0      0.0      0.0   \n",
      "2  0.0     0.0      0.0         0.0           0.0  0.0  0.0      0.0      0.0   \n",
      "3  0.0     0.0      0.0         0.0           0.0  0.0  0.0      0.0      0.0   \n",
      "4  0.0     0.0      0.0         0.0           0.0  0.0  0.0      0.0      0.0   \n",
      "\n",
      "   able  ...  yuri  zen  zero  zerolemomn  zerolemon  zip  ziplock  zis  zone  \\\n",
      "0   0.0  ...   0.0  0.0   0.0         0.0        0.0  0.0      0.0  0.0   0.0   \n",
      "1   0.0  ...   0.0  0.0   0.0         0.0        0.0  0.0      0.0  0.0   0.0   \n",
      "2   0.1  ...   0.0  0.0   0.0         0.0        0.0  0.0      0.0  0.0   0.0   \n",
      "3   0.0  ...   0.0  0.0   0.0         0.0        0.0  0.0      0.0  0.0   0.0   \n",
      "4   0.0  ...   0.0  0.0   0.0         0.0        0.0  0.0      0.0  0.0   0.0   \n",
      "\n",
      "   zukyju  \n",
      "0     0.0  \n",
      "1     0.0  \n",
      "2     0.0  \n",
      "3     0.0  \n",
      "4     0.0  \n",
      "\n",
      "[5 rows x 10957 columns]\n"
     ]
    }
   ],
   "source": [
    "features = tfidf_train_features.todense()\n",
    "features_tfidf = np.round(features, 2)\n",
    "display_features(features_tfidf[0:5], feature_names)"
   ]
  },
  {
   "cell_type": "markdown",
   "metadata": {},
   "source": [
    "#### 3: Average Word Vector "
   ]
  },
  {
   "cell_type": "code",
   "execution_count": 37,
   "metadata": {},
   "outputs": [],
   "source": [
    "# tokenize documents\n",
    "tokenized_train = [nltk.word_tokenize(text) for text in train_X]\n",
    "tokenized_test = [nltk.word_tokenize(text) for text in test_X]"
   ]
  },
  {
   "cell_type": "code",
   "execution_count": 38,
   "metadata": {
    "scrolled": true
   },
   "outputs": [],
   "source": [
    "import gensim\n",
    "\n",
    "# build word2vec model                   \n",
    "model = gensim.models.Word2Vec(tokenized_train,\n",
    "                               size=5000,\n",
    "                               min_count=2)"
   ]
  },
  {
   "cell_type": "code",
   "execution_count": 39,
   "metadata": {
    "scrolled": true
   },
   "outputs": [],
   "source": [
    "# averaged word vector features\n",
    "avg_wv_train_features = Average_Word_Vectorizer(corpus=tokenized_train,\n",
    "                                                 model=model,\n",
    "                                                 num_features=5000)                   \n",
    "avg_wv_test_features = Average_Word_Vectorizer(corpus=tokenized_test,\n",
    "                                                model=model,\n",
    "                                                num_features=5000) \n",
    "feature_set.append(('Averaged word vector features', avg_wv_train_features, avg_wv_test_features))"
   ]
  },
  {
   "cell_type": "code",
   "execution_count": 40,
   "metadata": {
    "scrolled": true
   },
   "outputs": [
    {
     "name": "stdout",
     "output_type": "stream",
     "text": [
      "[[ 0.037  0.011 -0.051 ...  0.044  0.029  0.03 ]\n",
      " [ 0.057  0.013 -0.029 ...  0.016  0.018  0.045]\n",
      " [ 0.015  0.014 -0.066 ...  0.053  0.035  0.078]\n",
      " ...\n",
      " [ 0.079  0.049 -0.073 ...  0.009  0.01   0.029]\n",
      " [ 0.059  0.043 -0.017 ...  0.021  0.013  0.085]\n",
      " [ 0.051  0.031 -0.05  ...  0.008  0.021  0.054]]\n"
     ]
    }
   ],
   "source": [
    "# Print test features\n",
    "print (np.round(avg_wv_test_features, 3))"
   ]
  },
  {
   "cell_type": "markdown",
   "metadata": {},
   "source": [
    "#### 4: TF-IDF Weighted Average Word Vector"
   ]
  },
  {
   "cell_type": "code",
   "execution_count": 41,
   "metadata": {
    "scrolled": true
   },
   "outputs": [],
   "source": [
    "# tfidf weighted averaged word vector features\n",
    "vocab = tfidf_vectorizer.vocabulary_\n",
    "tfidf_wv_train_features = tfidf_weighted_averaged_word_vectorizer(corpus=tokenized_train, \n",
    "                                                                  tfidf_vectors=tfidf_train_features, \n",
    "                                                                  tfidf_vocabulary=vocab, \n",
    "                                                                  model=model, \n",
    "                                                                  num_features=5000)\n",
    "tfidf_wv_test_features = tfidf_weighted_averaged_word_vectorizer(corpus=tokenized_test, \n",
    "                                                                 tfidf_vectors=tfidf_test_features, \n",
    "                                                                 tfidf_vocabulary=vocab, \n",
    "                                                                 model=model, \n",
    "                                                                 num_features=5000)\n",
    "feature_set.append(('Tfidf weighted averaged word vector features', tfidf_wv_train_features, tfidf_wv_test_features))"
   ]
  },
  {
   "cell_type": "code",
   "execution_count": 42,
   "metadata": {},
   "outputs": [
    {
     "name": "stdout",
     "output_type": "stream",
     "text": [
      "[[ 0.041  0.014 -0.01  ...  0.056  0.047  0.041]\n",
      " [ 0.057  0.026 -0.013 ...  0.008  0.011  0.063]\n",
      " [ 0.006  0.019 -0.048 ...  0.044  0.033  0.081]\n",
      " ...\n",
      " [ 0.075  0.045 -0.076 ...  0.012  0.008  0.026]\n",
      " [ 0.06   0.04  -0.017 ...  0.018  0.011  0.074]\n",
      " [ 0.047  0.027 -0.043 ...  0.008  0.022  0.046]]\n"
     ]
    }
   ],
   "source": [
    "# Print test features\n",
    "print (np.round(tfidf_wv_test_features, 3))"
   ]
  },
  {
   "cell_type": "markdown",
   "metadata": {},
   "source": [
    "-------------------------------------------------------------------------------------------------------------------------------\n",
    "##  Function for Evaluating Models"
   ]
  },
  {
   "cell_type": "code",
   "execution_count": 43,
   "metadata": {},
   "outputs": [],
   "source": [
    "from sklearn.metrics import accuracy_score, classification_report\n",
    "\n",
    "def scoring_metrics(true_labels, predicted_labels):\n",
    "    print ('Accuracy: ', accuracy_score(true_labels,predicted_labels))\n",
    "    print (classification_report(true_labels, predicted_labels))"
   ]
  },
  {
   "cell_type": "markdown",
   "metadata": {},
   "source": [
    "-------------------------------------------------------------------------------------------------------------------------------\n",
    "## Models"
   ]
  },
  {
   "cell_type": "markdown",
   "metadata": {},
   "source": [
    "### Logistic Regression"
   ]
  },
  {
   "cell_type": "code",
   "execution_count": 44,
   "metadata": {
    "scrolled": true
   },
   "outputs": [
    {
     "name": "stderr",
     "output_type": "stream",
     "text": [
      "C:\\DataScience\\Anaconda\\lib\\site-packages\\sklearn\\linear_model\\_logistic.py:762: ConvergenceWarning: lbfgs failed to converge (status=1):\n",
      "STOP: TOTAL NO. of ITERATIONS REACHED LIMIT.\n",
      "\n",
      "Increase the number of iterations (max_iter) or scale the data as shown in:\n",
      "    https://scikit-learn.org/stable/modules/preprocessing.html\n",
      "Please also refer to the documentation for alternative solver options:\n",
      "    https://scikit-learn.org/stable/modules/linear_model.html#logistic-regression\n",
      "  n_iter_i = _check_optimize_result(\n"
     ]
    },
    {
     "name": "stdout",
     "output_type": "stream",
     "text": [
      "======================================================\n",
      "Model: Logistic Regression\n",
      "Bag of words features\n",
      "Training Set Performance: \n",
      "Accuracy:  0.86\n",
      "              precision    recall  f1-score   support\n",
      "\n",
      "           1       0.90      0.87      0.88       826\n",
      "           2       0.93      0.73      0.82       700\n",
      "           3       0.87      0.71      0.78      1308\n",
      "           4       0.88      0.67      0.76      2460\n",
      "           5       0.84      0.97      0.90      6706\n",
      "\n",
      "    accuracy                           0.86     12000\n",
      "   macro avg       0.89      0.79      0.83     12000\n",
      "weighted avg       0.86      0.86      0.85     12000\n",
      "\n",
      "Test Set Performance: \n",
      "Accuracy:  0.5956666666666667\n",
      "              precision    recall  f1-score   support\n",
      "\n",
      "           1       0.49      0.45      0.47       207\n",
      "           2       0.22      0.15      0.18       175\n",
      "           3       0.32      0.25      0.28       327\n",
      "           4       0.39      0.28      0.32       615\n",
      "           5       0.71      0.84      0.77      1676\n",
      "\n",
      "    accuracy                           0.60      3000\n",
      "   macro avg       0.43      0.39      0.40      3000\n",
      "weighted avg       0.56      0.60      0.57      3000\n",
      "\n"
     ]
    },
    {
     "name": "stderr",
     "output_type": "stream",
     "text": [
      "C:\\DataScience\\Anaconda\\lib\\site-packages\\sklearn\\linear_model\\_logistic.py:762: ConvergenceWarning: lbfgs failed to converge (status=1):\n",
      "STOP: TOTAL NO. of ITERATIONS REACHED LIMIT.\n",
      "\n",
      "Increase the number of iterations (max_iter) or scale the data as shown in:\n",
      "    https://scikit-learn.org/stable/modules/preprocessing.html\n",
      "Please also refer to the documentation for alternative solver options:\n",
      "    https://scikit-learn.org/stable/modules/linear_model.html#logistic-regression\n",
      "  n_iter_i = _check_optimize_result(\n"
     ]
    },
    {
     "name": "stdout",
     "output_type": "stream",
     "text": [
      "======================================================\n",
      "Model: Logistic Regression\n",
      "Tfidf features\n",
      "Training Set Performance: \n",
      "Accuracy:  0.7131666666666666\n",
      "              precision    recall  f1-score   support\n",
      "\n",
      "           1       0.77      0.56      0.65       826\n",
      "           2       0.86      0.17      0.29       700\n",
      "           3       0.71      0.35      0.47      1308\n",
      "           4       0.68      0.42      0.52      2460\n",
      "           5       0.71      0.97      0.82      6706\n",
      "\n",
      "    accuracy                           0.71     12000\n",
      "   macro avg       0.75      0.49      0.55     12000\n",
      "weighted avg       0.72      0.71      0.68     12000\n",
      "\n",
      "Test Set Performance: \n",
      "Accuracy:  0.617\n",
      "              precision    recall  f1-score   support\n",
      "\n",
      "           1       0.60      0.38      0.46       207\n",
      "           2       0.17      0.01      0.02       175\n",
      "           3       0.40      0.17      0.24       327\n",
      "           4       0.42      0.25      0.31       615\n",
      "           5       0.66      0.93      0.78      1676\n",
      "\n",
      "    accuracy                           0.62      3000\n",
      "   macro avg       0.45      0.35      0.36      3000\n",
      "weighted avg       0.55      0.62      0.56      3000\n",
      "\n"
     ]
    },
    {
     "name": "stderr",
     "output_type": "stream",
     "text": [
      "C:\\DataScience\\Anaconda\\lib\\site-packages\\sklearn\\linear_model\\_logistic.py:762: ConvergenceWarning: lbfgs failed to converge (status=1):\n",
      "STOP: TOTAL NO. of ITERATIONS REACHED LIMIT.\n",
      "\n",
      "Increase the number of iterations (max_iter) or scale the data as shown in:\n",
      "    https://scikit-learn.org/stable/modules/preprocessing.html\n",
      "Please also refer to the documentation for alternative solver options:\n",
      "    https://scikit-learn.org/stable/modules/linear_model.html#logistic-regression\n",
      "  n_iter_i = _check_optimize_result(\n"
     ]
    },
    {
     "name": "stdout",
     "output_type": "stream",
     "text": [
      "======================================================\n",
      "Model: Logistic Regression\n",
      "Averaged word vector features\n",
      "Training Set Performance: \n",
      "Accuracy:  0.5765833333333333\n",
      "              precision    recall  f1-score   support\n",
      "\n",
      "           1       0.46      0.19      0.27       826\n",
      "           2       0.67      0.00      0.01       700\n",
      "           3       0.33      0.04      0.06      1308\n",
      "           4       0.39      0.10      0.16      2460\n",
      "           5       0.59      0.96      0.74      6706\n",
      "\n",
      "    accuracy                           0.58     12000\n",
      "   macro avg       0.49      0.26      0.25     12000\n",
      "weighted avg       0.52      0.58      0.47     12000\n",
      "\n",
      "Test Set Performance: \n",
      "Accuracy:  0.5746666666666667\n",
      "              precision    recall  f1-score   support\n",
      "\n",
      "           1       0.48      0.20      0.29       207\n",
      "           2       1.00      0.01      0.01       175\n",
      "           3       0.36      0.05      0.09       327\n",
      "           4       0.37      0.09      0.15       615\n",
      "           5       0.59      0.96      0.73      1676\n",
      "\n",
      "    accuracy                           0.57      3000\n",
      "   macro avg       0.56      0.26      0.25      3000\n",
      "weighted avg       0.54      0.57      0.47      3000\n",
      "\n"
     ]
    },
    {
     "name": "stderr",
     "output_type": "stream",
     "text": [
      "C:\\DataScience\\Anaconda\\lib\\site-packages\\sklearn\\linear_model\\_logistic.py:762: ConvergenceWarning: lbfgs failed to converge (status=1):\n",
      "STOP: TOTAL NO. of ITERATIONS REACHED LIMIT.\n",
      "\n",
      "Increase the number of iterations (max_iter) or scale the data as shown in:\n",
      "    https://scikit-learn.org/stable/modules/preprocessing.html\n",
      "Please also refer to the documentation for alternative solver options:\n",
      "    https://scikit-learn.org/stable/modules/linear_model.html#logistic-regression\n",
      "  n_iter_i = _check_optimize_result(\n"
     ]
    },
    {
     "name": "stdout",
     "output_type": "stream",
     "text": [
      "======================================================\n",
      "Model: Logistic Regression\n",
      "Tfidf weighted averaged word vector features\n",
      "Training Set Performance: \n",
      "Accuracy:  0.57225\n",
      "              precision    recall  f1-score   support\n",
      "\n",
      "           1       0.47      0.16      0.24       826\n",
      "           2       0.43      0.01      0.02       700\n",
      "           3       0.32      0.04      0.07      1308\n",
      "           4       0.39      0.07      0.12      2460\n",
      "           5       0.59      0.97      0.73      6706\n",
      "\n",
      "    accuracy                           0.57     12000\n",
      "   macro avg       0.44      0.25      0.24     12000\n",
      "weighted avg       0.50      0.57      0.46     12000\n",
      "\n",
      "Test Set Performance: \n",
      "Accuracy:  0.569\n",
      "              precision    recall  f1-score   support\n",
      "\n",
      "           1       0.38      0.14      0.20       207\n",
      "           2       0.25      0.01      0.01       175\n",
      "           3       0.42      0.04      0.07       327\n",
      "           4       0.39      0.07      0.11       615\n",
      "           5       0.58      0.97      0.73      1676\n",
      "\n",
      "    accuracy                           0.57      3000\n",
      "   macro avg       0.40      0.24      0.22      3000\n",
      "weighted avg       0.49      0.57      0.45      3000\n",
      "\n"
     ]
    }
   ],
   "source": [
    "from sklearn.linear_model import LogisticRegression\n",
    "results = []\n",
    "for f_name, train_feature, test_feature in feature_set:\n",
    "\n",
    "    LR_Model = LogisticRegression()\n",
    "    LR_Model.fit(train_feature, train_y)\n",
    "    train_pred = LR_Model.predict(train_feature)\n",
    "    test_pred = LR_Model.predict(test_feature)\n",
    "    print(\"======================================================\")\n",
    "    print(\"Model: Logistic Regression\")\n",
    "    print(f_name)\n",
    "    print(\"Training Set Performance: \")\n",
    "    scoring_metrics(true_labels = train_y, predicted_labels = train_pred)\n",
    "    print(\"Test Set Performance: \")\n",
    "    scoring_metrics(true_labels = test_y, predicted_labels = test_pred)   \n",
    "    results.append((\"LogisticRegression\", f_name, test_pred))"
   ]
  },
  {
   "cell_type": "markdown",
   "metadata": {},
   "source": [
    "### RandomForestClassifier"
   ]
  },
  {
   "cell_type": "code",
   "execution_count": 45,
   "metadata": {},
   "outputs": [
    {
     "name": "stdout",
     "output_type": "stream",
     "text": [
      "======================================================\n",
      "Model: RandomForestClassifier\n",
      "Bag of words features\n",
      "Training Set Performance: \n",
      "Accuracy:  0.9999166666666667\n",
      "              precision    recall  f1-score   support\n",
      "\n",
      "           1       1.00      1.00      1.00       826\n",
      "           2       1.00      1.00      1.00       700\n",
      "           3       1.00      1.00      1.00      1308\n",
      "           4       1.00      1.00      1.00      2460\n",
      "           5       1.00      1.00      1.00      6706\n",
      "\n",
      "    accuracy                           1.00     12000\n",
      "   macro avg       1.00      1.00      1.00     12000\n",
      "weighted avg       1.00      1.00      1.00     12000\n",
      "\n",
      "Test Set Performance: \n",
      "Accuracy:  0.5856666666666667\n",
      "              precision    recall  f1-score   support\n",
      "\n",
      "           1       0.71      0.17      0.28       207\n",
      "           2       0.67      0.01      0.02       175\n",
      "           3       0.44      0.05      0.09       327\n",
      "           4       0.48      0.09      0.15       615\n",
      "           5       0.59      0.98      0.74      1676\n",
      "\n",
      "    accuracy                           0.59      3000\n",
      "   macro avg       0.58      0.26      0.26      3000\n",
      "weighted avg       0.56      0.59      0.47      3000\n",
      "\n",
      "======================================================\n",
      "Model: RandomForestClassifier\n",
      "Tfidf features\n",
      "Training Set Performance: \n",
      "Accuracy:  0.9999166666666667\n",
      "              precision    recall  f1-score   support\n",
      "\n",
      "           1       1.00      1.00      1.00       826\n",
      "           2       1.00      1.00      1.00       700\n",
      "           3       1.00      1.00      1.00      1308\n",
      "           4       1.00      1.00      1.00      2460\n",
      "           5       1.00      1.00      1.00      6706\n",
      "\n",
      "    accuracy                           1.00     12000\n",
      "   macro avg       1.00      1.00      1.00     12000\n",
      "weighted avg       1.00      1.00      1.00     12000\n",
      "\n",
      "Test Set Performance: \n",
      "Accuracy:  0.5756666666666667\n",
      "              precision    recall  f1-score   support\n",
      "\n",
      "           1       0.72      0.11      0.19       207\n",
      "           2       0.00      0.00      0.00       175\n",
      "           3       0.44      0.03      0.06       327\n",
      "           4       0.36      0.05      0.09       615\n",
      "           5       0.58      0.99      0.73      1676\n",
      "\n",
      "    accuracy                           0.58      3000\n",
      "   macro avg       0.42      0.24      0.22      3000\n",
      "weighted avg       0.50      0.58      0.45      3000\n",
      "\n",
      "======================================================\n",
      "Model: RandomForestClassifier\n",
      "Averaged word vector features\n"
     ]
    },
    {
     "name": "stderr",
     "output_type": "stream",
     "text": [
      "C:\\DataScience\\Anaconda\\lib\\site-packages\\sklearn\\metrics\\_classification.py:1221: UndefinedMetricWarning: Precision and F-score are ill-defined and being set to 0.0 in labels with no predicted samples. Use `zero_division` parameter to control this behavior.\n",
      "  _warn_prf(average, modifier, msg_start, len(result))\n"
     ]
    },
    {
     "name": "stdout",
     "output_type": "stream",
     "text": [
      "Training Set Performance: \n",
      "Accuracy:  0.9999166666666667\n",
      "              precision    recall  f1-score   support\n",
      "\n",
      "           1       1.00      1.00      1.00       826\n",
      "           2       1.00      1.00      1.00       700\n",
      "           3       1.00      1.00      1.00      1308\n",
      "           4       1.00      1.00      1.00      2460\n",
      "           5       1.00      1.00      1.00      6706\n",
      "\n",
      "    accuracy                           1.00     12000\n",
      "   macro avg       1.00      1.00      1.00     12000\n",
      "weighted avg       1.00      1.00      1.00     12000\n",
      "\n",
      "Test Set Performance: \n",
      "Accuracy:  0.567\n",
      "              precision    recall  f1-score   support\n",
      "\n",
      "           1       0.43      0.19      0.27       207\n",
      "           2       0.20      0.01      0.02       175\n",
      "           3       0.28      0.06      0.09       327\n",
      "           4       0.31      0.12      0.17       615\n",
      "           5       0.60      0.94      0.73      1676\n",
      "\n",
      "    accuracy                           0.57      3000\n",
      "   macro avg       0.36      0.26      0.26      3000\n",
      "weighted avg       0.47      0.57      0.47      3000\n",
      "\n",
      "======================================================\n",
      "Model: RandomForestClassifier\n",
      "Tfidf weighted averaged word vector features\n",
      "Training Set Performance: \n",
      "Accuracy:  0.9999166666666667\n",
      "              precision    recall  f1-score   support\n",
      "\n",
      "           1       1.00      1.00      1.00       826\n",
      "           2       1.00      1.00      1.00       700\n",
      "           3       1.00      1.00      1.00      1308\n",
      "           4       1.00      1.00      1.00      2460\n",
      "           5       1.00      1.00      1.00      6706\n",
      "\n",
      "    accuracy                           1.00     12000\n",
      "   macro avg       1.00      1.00      1.00     12000\n",
      "weighted avg       1.00      1.00      1.00     12000\n",
      "\n",
      "Test Set Performance: \n",
      "Accuracy:  0.5573333333333333\n",
      "              precision    recall  f1-score   support\n",
      "\n",
      "           1       0.41      0.14      0.21       207\n",
      "           2       0.17      0.01      0.01       175\n",
      "           3       0.28      0.06      0.10       327\n",
      "           4       0.30      0.12      0.17       615\n",
      "           5       0.59      0.93      0.72      1676\n",
      "\n",
      "    accuracy                           0.56      3000\n",
      "   macro avg       0.35      0.25      0.24      3000\n",
      "weighted avg       0.46      0.56      0.46      3000\n",
      "\n"
     ]
    }
   ],
   "source": [
    "from sklearn.ensemble import RandomForestClassifier\n",
    "\n",
    "for f_name, train_feature, test_feature in feature_set:\n",
    "    print(\"======================================================\")\n",
    "    print(\"Model: RandomForestClassifier\")\n",
    "    print(f_name)\n",
    "    RFC_Model = RandomForestClassifier()\n",
    "    RFC_Model.fit(train_feature, train_y)\n",
    "    train_pred = RFC_Model.predict(train_feature)\n",
    "    test_pred = RFC_Model.predict(test_feature)    \n",
    "    print(\"Training Set Performance: \")\n",
    "    scoring_metrics(true_labels = train_y, predicted_labels = train_pred)\n",
    "    print(\"Test Set Performance: \")\n",
    "    scoring_metrics(true_labels = test_y, predicted_labels = test_pred) \n",
    "    results.append((\"RandomForestClassifier\", f_name, test_pred))"
   ]
  },
  {
   "cell_type": "markdown",
   "metadata": {},
   "source": [
    "-------------------------------------------------------------------------------------------------------------------------------\n",
    "## Confusion Matrix"
   ]
  },
  {
   "cell_type": "code",
   "execution_count": 46,
   "metadata": {},
   "outputs": [
    {
     "name": "stdout",
     "output_type": "stream",
     "text": [
      "Model LogisticRegression with Bag of words features:\n",
      "    1   2   3    4     5\n",
      "1  93  29  20   14    51\n",
      "2  34  26  33   21    61\n",
      "3  28  29  81   63   126\n",
      "4  11  15  72  171   346\n",
      "5  22  18  48  172  1416\n",
      "\n",
      "Model LogisticRegression with Tfidf features:\n",
      "    1  2   3    4     5\n",
      "1  78  2  15   14    98\n",
      "2  23  2  25   34    91\n",
      "3  15  4  55   73   180\n",
      "4   6  3  31  154   421\n",
      "5   7  1  12   94  1562\n",
      "\n",
      "Model LogisticRegression with Averaged word vector features:\n",
      "    1  2   3   4     5\n",
      "1  42  0   3   5   157\n",
      "2  12  1   4  15   143\n",
      "3  12  0  16  32   267\n",
      "4   7  0  11  57   540\n",
      "5  14  0  10  44  1608\n",
      "\n",
      "Model LogisticRegression with Tfidf weighted averaged word vector features:\n",
      "    1  2   3   4     5\n",
      "1  28  0   2   5   172\n",
      "2  12  1   4  10   148\n",
      "3  12  1  13  19   282\n",
      "4   8  0   6  40   561\n",
      "5  14  2   6  29  1625\n",
      "\n",
      "Model RandomForestClassifier with Bag of words features:\n",
      "    1  2   3   4     5\n",
      "1  36  0   4   3   164\n",
      "2   8  2   6  11   148\n",
      "3   6  0  17  21   283\n",
      "4   1  1   8  56   549\n",
      "5   0  0   4  26  1646\n",
      "\n",
      "Model RandomForestClassifier with Tfidf features:\n",
      "    1  2   3   4     5\n",
      "1  23  0   1   9   174\n",
      "2   5  0   4  12   154\n",
      "3   4  0  11  23   289\n",
      "4   0  0   7  31   577\n",
      "5   0  0   2  12  1662\n",
      "\n",
      "Model RandomForestClassifier with Averaged word vector features:\n",
      "    1  2   3   4     5\n",
      "1  40  1   7  17   142\n",
      "2  12  2   7  26   128\n",
      "3   9  3  18  48   249\n",
      "4  15  1  14  71   514\n",
      "5  17  3  19  67  1570\n",
      "\n",
      "Model RandomForestClassifier with Tfidf weighted averaged word vector features:\n",
      "    1  2   3   4     5\n",
      "1  29  1   8  17   152\n",
      "2  11  1   8  22   133\n",
      "3  12  2  19  38   256\n",
      "4   8  0  10  71   526\n",
      "5  11  2  22  89  1552\n",
      "\n"
     ]
    }
   ],
   "source": [
    "from sklearn.metrics import confusion_matrix\n",
    "\n",
    "for m_name, f_name, predictions in results:\n",
    "    print(\"Model {} with {}:\".format(m_name, f_name))\n",
    "    cm = confusion_matrix(test_y, predictions)\n",
    "    print(pd.DataFrame(cm, index=range(1,6), columns=range(1,6)))\n",
    "    print()"
   ]
  },
  {
   "cell_type": "markdown",
   "metadata": {},
   "source": [
    "-------------------------------------------------------------------------------------------------------------------------------\n",
    "## Hyperparameter Tuning"
   ]
  },
  {
   "cell_type": "markdown",
   "metadata": {},
   "source": [
    "#### 1: LogisticRegression"
   ]
  },
  {
   "cell_type": "code",
   "execution_count": 47,
   "metadata": {},
   "outputs": [
    {
     "name": "stderr",
     "output_type": "stream",
     "text": [
      "C:\\DataScience\\Anaconda\\lib\\site-packages\\sklearn\\model_selection\\_validation.py:548: FitFailedWarning: Estimator fit failed. The score on this train-test partition for these parameters will be set to nan. Details: \n",
      "Traceback (most recent call last):\n",
      "  File \"C:\\DataScience\\Anaconda\\lib\\site-packages\\sklearn\\model_selection\\_validation.py\", line 531, in _fit_and_score\n",
      "    estimator.fit(X_train, y_train, **fit_params)\n",
      "  File \"C:\\DataScience\\Anaconda\\lib\\site-packages\\sklearn\\linear_model\\_logistic.py\", line 1304, in fit\n",
      "    solver = _check_solver(self.solver, self.penalty, self.dual)\n",
      "  File \"C:\\DataScience\\Anaconda\\lib\\site-packages\\sklearn\\linear_model\\_logistic.py\", line 442, in _check_solver\n",
      "    raise ValueError(\"Solver %s supports only 'l2' or 'none' penalties, \"\n",
      "ValueError: Solver newton-cg supports only 'l2' or 'none' penalties, got l1 penalty.\n",
      "\n",
      "  warnings.warn(\"Estimator fit failed. The score on this train-test\"\n",
      "C:\\DataScience\\Anaconda\\lib\\site-packages\\sklearn\\model_selection\\_validation.py:548: FitFailedWarning: Estimator fit failed. The score on this train-test partition for these parameters will be set to nan. Details: \n",
      "Traceback (most recent call last):\n",
      "  File \"C:\\DataScience\\Anaconda\\lib\\site-packages\\sklearn\\model_selection\\_validation.py\", line 531, in _fit_and_score\n",
      "    estimator.fit(X_train, y_train, **fit_params)\n",
      "  File \"C:\\DataScience\\Anaconda\\lib\\site-packages\\sklearn\\linear_model\\_logistic.py\", line 1304, in fit\n",
      "    solver = _check_solver(self.solver, self.penalty, self.dual)\n",
      "  File \"C:\\DataScience\\Anaconda\\lib\\site-packages\\sklearn\\linear_model\\_logistic.py\", line 442, in _check_solver\n",
      "    raise ValueError(\"Solver %s supports only 'l2' or 'none' penalties, \"\n",
      "ValueError: Solver sag supports only 'l2' or 'none' penalties, got l1 penalty.\n",
      "\n",
      "  warnings.warn(\"Estimator fit failed. The score on this train-test\"\n",
      "C:\\DataScience\\Anaconda\\lib\\site-packages\\sklearn\\linear_model\\_sag.py:329: ConvergenceWarning: The max_iter was reached which means the coef_ did not converge\n",
      "  warnings.warn(\"The max_iter was reached which means \"\n",
      "C:\\DataScience\\Anaconda\\lib\\site-packages\\sklearn\\linear_model\\_sag.py:329: ConvergenceWarning: The max_iter was reached which means the coef_ did not converge\n",
      "  warnings.warn(\"The max_iter was reached which means \"\n",
      "C:\\DataScience\\Anaconda\\lib\\site-packages\\sklearn\\linear_model\\_sag.py:329: ConvergenceWarning: The max_iter was reached which means the coef_ did not converge\n",
      "  warnings.warn(\"The max_iter was reached which means \"\n",
      "C:\\DataScience\\Anaconda\\lib\\site-packages\\sklearn\\linear_model\\_sag.py:329: ConvergenceWarning: The max_iter was reached which means the coef_ did not converge\n",
      "  warnings.warn(\"The max_iter was reached which means \"\n",
      "C:\\DataScience\\Anaconda\\lib\\site-packages\\sklearn\\linear_model\\_sag.py:329: ConvergenceWarning: The max_iter was reached which means the coef_ did not converge\n",
      "  warnings.warn(\"The max_iter was reached which means \"\n",
      "C:\\DataScience\\Anaconda\\lib\\site-packages\\sklearn\\linear_model\\_sag.py:329: ConvergenceWarning: The max_iter was reached which means the coef_ did not converge\n",
      "  warnings.warn(\"The max_iter was reached which means \"\n",
      "C:\\DataScience\\Anaconda\\lib\\site-packages\\sklearn\\linear_model\\_sag.py:329: ConvergenceWarning: The max_iter was reached which means the coef_ did not converge\n",
      "  warnings.warn(\"The max_iter was reached which means \"\n",
      "C:\\DataScience\\Anaconda\\lib\\site-packages\\sklearn\\linear_model\\_sag.py:329: ConvergenceWarning: The max_iter was reached which means the coef_ did not converge\n",
      "  warnings.warn(\"The max_iter was reached which means \"\n",
      "C:\\DataScience\\Anaconda\\lib\\site-packages\\sklearn\\linear_model\\_sag.py:329: ConvergenceWarning: The max_iter was reached which means the coef_ did not converge\n",
      "  warnings.warn(\"The max_iter was reached which means \"\n",
      "C:\\DataScience\\Anaconda\\lib\\site-packages\\sklearn\\linear_model\\_sag.py:329: ConvergenceWarning: The max_iter was reached which means the coef_ did not converge\n",
      "  warnings.warn(\"The max_iter was reached which means \"\n",
      "C:\\DataScience\\Anaconda\\lib\\site-packages\\sklearn\\linear_model\\_sag.py:329: ConvergenceWarning: The max_iter was reached which means the coef_ did not converge\n",
      "  warnings.warn(\"The max_iter was reached which means \"\n",
      "C:\\DataScience\\Anaconda\\lib\\site-packages\\sklearn\\linear_model\\_sag.py:329: ConvergenceWarning: The max_iter was reached which means the coef_ did not converge\n",
      "  warnings.warn(\"The max_iter was reached which means \"\n",
      "C:\\DataScience\\Anaconda\\lib\\site-packages\\sklearn\\linear_model\\_sag.py:329: ConvergenceWarning: The max_iter was reached which means the coef_ did not converge\n",
      "  warnings.warn(\"The max_iter was reached which means \"\n",
      "C:\\DataScience\\Anaconda\\lib\\site-packages\\sklearn\\linear_model\\_sag.py:329: ConvergenceWarning: The max_iter was reached which means the coef_ did not converge\n",
      "  warnings.warn(\"The max_iter was reached which means \"\n",
      "C:\\DataScience\\Anaconda\\lib\\site-packages\\sklearn\\linear_model\\_sag.py:329: ConvergenceWarning: The max_iter was reached which means the coef_ did not converge\n",
      "  warnings.warn(\"The max_iter was reached which means \"\n"
     ]
    },
    {
     "name": "stdout",
     "output_type": "stream",
     "text": [
      "Hyper Parameter Tuning of LogisticRegression with Bow features\n",
      "Tuned Parameter: {'penalty': 'l2', 'solver': 'sag'}\n",
      "Tuned Score: 0.6090833333333333\n",
      "\n",
      "Test set performance:\n",
      "Accuracy:  0.6136666666666667\n",
      "              precision    recall  f1-score   support\n",
      "\n",
      "           1       0.53      0.47      0.50       207\n",
      "           2       0.27      0.09      0.14       175\n",
      "           3       0.34      0.22      0.27       327\n",
      "           4       0.39      0.28      0.33       615\n",
      "           5       0.70      0.88      0.78      1676\n",
      "\n",
      "    accuracy                           0.61      3000\n",
      "   macro avg       0.45      0.39      0.40      3000\n",
      "weighted avg       0.56      0.61      0.58      3000\n",
      "\n"
     ]
    },
    {
     "name": "stderr",
     "output_type": "stream",
     "text": [
      "C:\\DataScience\\Anaconda\\lib\\site-packages\\sklearn\\linear_model\\_sag.py:329: ConvergenceWarning: The max_iter was reached which means the coef_ did not converge\n",
      "  warnings.warn(\"The max_iter was reached which means \"\n"
     ]
    }
   ],
   "source": [
    "from sklearn.model_selection import GridSearchCV\n",
    "\n",
    "param_grid = {'penalty': ['l1', 'l2'], 'solver':['newton-cg', 'sag', 'saga']}\n",
    "\n",
    "LR_GridSearchCV = GridSearchCV(LogisticRegression(), param_grid = param_grid, cv=5)\n",
    "LR_GridSearchCV.fit(bow_train_features, train_y)\n",
    "\n",
    "test_pred = LR_GridSearchCV.predict(bow_test_features) \n",
    "print(\"Hyper Parameter Tuning of LogisticRegression with Bow features\")\n",
    "print(\"Tuned Parameter: {}\".format(LR_GridSearchCV.best_params_))\n",
    "print(\"Tuned Score: {}\".format(LR_GridSearchCV.best_score_))\n",
    "print()\n",
    "\n",
    "# evaluate model prediction performance \n",
    "print ('Test set performance:')\n",
    "scoring_metrics(true_labels=test_y, predicted_labels=test_pred)"
   ]
  },
  {
   "cell_type": "code",
   "execution_count": 48,
   "metadata": {},
   "outputs": [
    {
     "name": "stderr",
     "output_type": "stream",
     "text": [
      "C:\\DataScience\\Anaconda\\lib\\site-packages\\sklearn\\model_selection\\_validation.py:548: FitFailedWarning: Estimator fit failed. The score on this train-test partition for these parameters will be set to nan. Details: \n",
      "Traceback (most recent call last):\n",
      "  File \"C:\\DataScience\\Anaconda\\lib\\site-packages\\sklearn\\model_selection\\_validation.py\", line 531, in _fit_and_score\n",
      "    estimator.fit(X_train, y_train, **fit_params)\n",
      "  File \"C:\\DataScience\\Anaconda\\lib\\site-packages\\sklearn\\linear_model\\_logistic.py\", line 1304, in fit\n",
      "    solver = _check_solver(self.solver, self.penalty, self.dual)\n",
      "  File \"C:\\DataScience\\Anaconda\\lib\\site-packages\\sklearn\\linear_model\\_logistic.py\", line 442, in _check_solver\n",
      "    raise ValueError(\"Solver %s supports only 'l2' or 'none' penalties, \"\n",
      "ValueError: Solver newton-cg supports only 'l2' or 'none' penalties, got l1 penalty.\n",
      "\n",
      "  warnings.warn(\"Estimator fit failed. The score on this train-test\"\n",
      "C:\\DataScience\\Anaconda\\lib\\site-packages\\sklearn\\model_selection\\_validation.py:548: FitFailedWarning: Estimator fit failed. The score on this train-test partition for these parameters will be set to nan. Details: \n",
      "Traceback (most recent call last):\n",
      "  File \"C:\\DataScience\\Anaconda\\lib\\site-packages\\sklearn\\model_selection\\_validation.py\", line 531, in _fit_and_score\n",
      "    estimator.fit(X_train, y_train, **fit_params)\n",
      "  File \"C:\\DataScience\\Anaconda\\lib\\site-packages\\sklearn\\linear_model\\_logistic.py\", line 1304, in fit\n",
      "    solver = _check_solver(self.solver, self.penalty, self.dual)\n",
      "  File \"C:\\DataScience\\Anaconda\\lib\\site-packages\\sklearn\\linear_model\\_logistic.py\", line 442, in _check_solver\n",
      "    raise ValueError(\"Solver %s supports only 'l2' or 'none' penalties, \"\n",
      "ValueError: Solver sag supports only 'l2' or 'none' penalties, got l1 penalty.\n",
      "\n",
      "  warnings.warn(\"Estimator fit failed. The score on this train-test\"\n"
     ]
    },
    {
     "name": "stdout",
     "output_type": "stream",
     "text": [
      "Hyper Parameter Tuning of LogisticRegression with TFIDF word vector\n",
      "Tuned Parameter: {'penalty': 'l2', 'solver': 'newton-cg'}\n",
      "Tuned Score: 0.6131666666666666\n",
      "\n",
      "Test set performance:\n",
      "Accuracy:  0.6176666666666667\n",
      "              precision    recall  f1-score   support\n",
      "\n",
      "           1       0.60      0.38      0.47       207\n",
      "           2       0.17      0.01      0.02       175\n",
      "           3       0.40      0.17      0.24       327\n",
      "           4       0.42      0.25      0.32       615\n",
      "           5       0.66      0.93      0.78      1676\n",
      "\n",
      "    accuracy                           0.62      3000\n",
      "   macro avg       0.45      0.35      0.36      3000\n",
      "weighted avg       0.55      0.62      0.56      3000\n",
      "\n"
     ]
    }
   ],
   "source": [
    "param_grid = {'penalty': ['l1', 'l2'], 'solver':['newton-cg', 'sag', 'saga']}\n",
    "\n",
    "\n",
    "LR_GridSearchCV = GridSearchCV(LogisticRegression(), param_grid = param_grid, cv=5)\n",
    "LR_GridSearchCV.fit(tfidf_train_features, train_y)\n",
    "\n",
    "test_pred = LR_GridSearchCV.predict(tfidf_test_features) \n",
    "print(\"Hyper Parameter Tuning of LogisticRegression with TFIDF word vector\")\n",
    "print(\"Tuned Parameter: {}\".format(LR_GridSearchCV.best_params_))\n",
    "print(\"Tuned Score: {}\".format(LR_GridSearchCV.best_score_))\n",
    "print()\n",
    "\n",
    "# evaluate model prediction performance \n",
    "print ('Test set performance:')\n",
    "scoring_metrics(true_labels=test_y, predicted_labels=test_pred)"
   ]
  },
  {
   "cell_type": "code",
   "execution_count": 49,
   "metadata": {
    "scrolled": true
   },
   "outputs": [],
   "source": [
    "# param_grid = {'penalty': ['l1', 'l2'], 'solver':['newton-cg', 'sag', 'saga']}\n",
    "\n",
    "# LR_GridSearchCV = GridSearchCV(LogisticRegression(), param_grid = param_grid, cv=5)\n",
    "# LR_GridSearchCV.fit(avg_wv_train_features, train_y)\n",
    "\n",
    "# test_pred = LR_GridSearchCV.predict(avg_wv_test_features) \n",
    "# print(\"Hyper Parameter Tuning of LogisticRegression with Average word vector\")\n",
    "# print(\"Tuned Parameter: {}\".format(LR_GridSearchCV.best_params_))\n",
    "# print(\"Tuned Score: {}\".format(LR_GridSearchCV.best_score_))\n",
    "# print()\n",
    "\n",
    "# # evaluate model prediction performance \n",
    "# print ('Test set performance:')\n",
    "# scoring_metrics(true_labels=test_y, predicted_labels=test_pred)"
   ]
  },
  {
   "cell_type": "code",
   "execution_count": 50,
   "metadata": {},
   "outputs": [],
   "source": [
    "# param_grid = {'penalty': ['l1', 'l2'], 'solver':['liblinear', 'newton-cg', 'sag', 'saga']}\n",
    "\n",
    "# LR_GridSearchCV = GridSearchCV(LogisticRegression(), param_grid = param_grid, cv=5)\n",
    "# LR_GridSearchCV.fit(tfidf_wv_train_features, train_y)\n",
    "\n",
    "# test_pred = LR_GridSearchCV.predict(tfidf_wv_test_features) \n",
    "# print(\"Hyper Parameter Tuning of LogisticRegression with TFIDF weighted Average word vector\")\n",
    "# print(\"Tuned Parameter: {}\".format(LR_GridSearchCV.best_params_))\n",
    "# print(\"Tuned Score: {}\".format(LR_GridSearchCV.best_score_))\n",
    "# print()\n",
    "\n",
    "# # evaluate model prediction performance \n",
    "# print ('Test set performance:')\n",
    "# scoring_metrics(true_labels=test_y, predicted_labels=test_pred)"
   ]
  },
  {
   "cell_type": "markdown",
   "metadata": {},
   "source": [
    "#### 2: RandomForestClassifier"
   ]
  },
  {
   "cell_type": "code",
   "execution_count": 51,
   "metadata": {},
   "outputs": [],
   "source": [
    "n_options = [10,20,50,100,200]\n",
    "criterion_options = ['gini']\n",
    "param_grid = {'n_estimators': n_options, 'criterion': criterion_options}"
   ]
  },
  {
   "cell_type": "code",
   "execution_count": 52,
   "metadata": {},
   "outputs": [
    {
     "name": "stdout",
     "output_type": "stream",
     "text": [
      "Hyper Parameter Tuning of RandomForest Classifier with Bow features\n",
      "Tuned Parameter: {'criterion': 'gini', 'n_estimators': 50}\n",
      "Tuned Score: 0.5785833333333332\n",
      "\n",
      "Test set performance:\n",
      "Accuracy:  0.5846666666666667\n",
      "              precision    recall  f1-score   support\n",
      "\n",
      "           1       0.70      0.15      0.25       207\n",
      "           2       0.00      0.00      0.00       175\n",
      "           3       0.42      0.06      0.10       327\n",
      "           4       0.42      0.12      0.18       615\n",
      "           5       0.60      0.97      0.74      1676\n",
      "\n",
      "    accuracy                           0.58      3000\n",
      "   macro avg       0.43      0.26      0.25      3000\n",
      "weighted avg       0.51      0.58      0.48      3000\n",
      "\n"
     ]
    }
   ],
   "source": [
    "RFC_GridSearchCV = GridSearchCV(RandomForestClassifier(), param_grid = param_grid, cv=5) \n",
    "RFC_GridSearchCV.fit(bow_train_features, train_y)\n",
    "\n",
    "test_pred = RFC_GridSearchCV.predict(bow_test_features) \n",
    "print(\"Hyper Parameter Tuning of RandomForest Classifier with Bow features\")\n",
    "print(\"Tuned Parameter: {}\".format(RFC_GridSearchCV.best_params_))\n",
    "print(\"Tuned Score: {}\".format(RFC_GridSearchCV.best_score_))\n",
    "print()\n",
    "\n",
    "# evaluate model prediction performance \n",
    "print ('Test set performance:')\n",
    "scoring_metrics(true_labels=test_y, predicted_labels=test_pred)"
   ]
  },
  {
   "cell_type": "code",
   "execution_count": 53,
   "metadata": {
    "scrolled": false
   },
   "outputs": [
    {
     "name": "stdout",
     "output_type": "stream",
     "text": [
      "Hyper Parameter Tuning of RandomForest Classifier with TFIDF word vector\n",
      "Tuned Parameter: {'criterion': 'gini', 'n_estimators': 50}\n",
      "Tuned Score: 0.57875\n",
      "\n",
      "Test set performance:\n",
      "Accuracy:  0.5833333333333334\n",
      "              precision    recall  f1-score   support\n",
      "\n",
      "           1       0.65      0.14      0.22       207\n",
      "           2       0.67      0.01      0.02       175\n",
      "           3       0.38      0.04      0.07       327\n",
      "           4       0.43      0.09      0.15       615\n",
      "           5       0.59      0.99      0.74      1676\n",
      "\n",
      "    accuracy                           0.58      3000\n",
      "   macro avg       0.54      0.25      0.24      3000\n",
      "weighted avg       0.54      0.58      0.47      3000\n",
      "\n"
     ]
    }
   ],
   "source": [
    "RFC_GridSearchCV = GridSearchCV(RandomForestClassifier(), param_grid = param_grid, cv=5) \n",
    "RFC_GridSearchCV.fit(tfidf_train_features, train_y)\n",
    "\n",
    "test_pred = RFC_GridSearchCV.predict(tfidf_test_features) \n",
    "print(\"Hyper Parameter Tuning of RandomForest Classifier with TFIDF word vector\")\n",
    "print(\"Tuned Parameter: {}\".format(RFC_GridSearchCV.best_params_))\n",
    "print(\"Tuned Score: {}\".format(RFC_GridSearchCV.best_score_))\n",
    "print()\n",
    "\n",
    "# evaluate model prediction performance \n",
    "print ('Test set performance:')\n",
    "scoring_metrics(true_labels=test_y, predicted_labels=test_pred)"
   ]
  },
  {
   "cell_type": "code",
   "execution_count": 54,
   "metadata": {},
   "outputs": [],
   "source": [
    "# RFC_GridSearchCV = GridSearchCV(RandomForestClassifier(), param_grid = param_grid, cv=5) \n",
    "# RFC_GridSearchCV.fit(avg_wv_train_features, train_y)\n",
    "\n",
    "# test_pred = RFC_GridSearchCV.predict(avg_wv_test_features) \n",
    "# print(\"Hyper Parameter Tuning of RandomForest Classifier with Average word vector\")\n",
    "# print(\"Tuned Parameter: {}\".format(RFC_GridSearchCV.best_params_))\n",
    "# print(\"Tuned Score: {}\".format(RFC_GridSearchCV.best_score_))\n",
    "# print()\n",
    "\n",
    "# # evaluate model prediction performance \n",
    "# print ('Test set performance:')\n",
    "# scoring_metrics(true_labels=test_y, predicted_labels=test_pred)"
   ]
  },
  {
   "cell_type": "code",
   "execution_count": 55,
   "metadata": {},
   "outputs": [],
   "source": [
    "# RFC_GridSearchCV = GridSearchCV(RandomForestClassifier(), param_grid = param_grid, cv=5) \n",
    "# RFC_GridSearchCV.fit(tfidf_wv_train_features, train_y)\n",
    "\n",
    "# test_pred = RFC_GridSearchCV.predict(tfidf_wv_test_features) \n",
    "# print(\"Hyper Parameter Tuning of RandomForest Classifier with TFIDF weighted Average word vector\")\n",
    "# print(\"Tuned Parameter: {}\".format(RFC_GridSearchCV.best_params_))\n",
    "# print(\"Tuned Score: {}\".format(RFC_GridSearchCV.best_score_))\n",
    "# print()\n",
    "\n",
    "# # evaluate model prediction performance \n",
    "# print ('Test set performance:')\n",
    "# scoring_metrics(true_labels=test_y, predicted_labels=test_pred)"
   ]
  }
 ],
 "metadata": {
  "kernelspec": {
   "display_name": "Python 3",
   "language": "python",
   "name": "python3"
  },
  "language_info": {
   "codemirror_mode": {
    "name": "ipython",
    "version": 3
   },
   "file_extension": ".py",
   "mimetype": "text/x-python",
   "name": "python",
   "nbconvert_exporter": "python",
   "pygments_lexer": "ipython3",
   "version": "3.8.5"
  }
 },
 "nbformat": 4,
 "nbformat_minor": 4
}
