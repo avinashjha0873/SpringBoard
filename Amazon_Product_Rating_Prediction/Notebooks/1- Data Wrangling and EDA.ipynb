{
 "cells": [
  {
   "cell_type": "markdown",
   "metadata": {},
   "source": [
    "# Amazon Product Rating Prediction\n"
   ]
  },
  {
   "cell_type": "markdown",
   "metadata": {},
   "source": [
    "## Introduction:-\n",
    "Amazon.com is an American multinational technology company that focuses on e-commerce, cloud computing, digital streaming, and artificial intelligence. Amazon has millions of products and billions of customers. One of the basic and most influential features of Amazon is that you can give a review about the product you buy. This review plays an important role when you want to buy a product as the product with better reviews is most likely to be purchased. Therefore depending on online reviews has hence become natural for customers.\n",
    "\n",
    "When looking for a product a customer needs to find useful and credible reviews as fast as possible and comparing text reviews can be a daunting task. So Amazon has 5 stars rating which will give you an overview of the quality of the product with 1 means not that good and 5 meaning really good.\n",
    "\n",
    "However, many other platforms do not have this rating system. In such cases, it is very important to have a model that could predict the rating of the product using text reviews.\n",
    "\n",
    "## Aim:-\n",
    "The purpose of this project is to develop a model that could predict its rating based on text reviews. While this model is built to work with any kind of product, this project includes reviews from Amazon’s phones and accessories dataset.\n"
   ]
  },
  {
   "cell_type": "markdown",
   "metadata": {},
   "source": [
    "-------------------------------------------------------------------------------------------------------------------------------"
   ]
  },
  {
   "cell_type": "markdown",
   "metadata": {},
   "source": [
    "### Imports"
   ]
  },
  {
   "cell_type": "code",
   "execution_count": 1,
   "metadata": {},
   "outputs": [],
   "source": [
    "import pandas as pd\n",
    "import numpy as np\n",
    "import matplotlib.pyplot as plt"
   ]
  },
  {
   "cell_type": "markdown",
   "metadata": {},
   "source": [
    "### Data Load"
   ]
  },
  {
   "cell_type": "code",
   "execution_count": 2,
   "metadata": {},
   "outputs": [],
   "source": [
    "# I tried to read .gz file using gzip module but for some reason(may be size is too big) i was not able to read the data. \n",
    "#So i manually unzip the file in file explorer. \n",
    "import gzip\n",
    "path_zip = r'..\\Raw_Data\\reviews_Cell_Phones_and_Accessories_5.json.gz'\n",
    "path_json = r'..\\Raw_Data\\Cell_Phones_and_Accessories_5.json'\n",
    "with gzip.open(path_zip) as file:\n",
    "    data = file.read()\n",
    "\n",
    "Review_DF = pd.read_json(path_json, lines = True)\n",
    "#Got an ValueError:Trailing Line while loading .json file which was resolved using lines = True parameter."
   ]
  },
  {
   "cell_type": "code",
   "execution_count": 3,
   "metadata": {},
   "outputs": [
    {
     "name": "stdout",
     "output_type": "stream",
     "text": [
      "###############################################################################################################\n",
      "Original Column names: \n",
      " Index(['reviewerID', 'asin', 'reviewerName', 'helpful', 'reviewText',\n",
      "       'overall', 'summary', 'unixReviewTime', 'reviewTime'],\n",
      "      dtype='object')\n",
      "New Column names: \n",
      " Index(['User_ID', 'Product_ID', 'User_Name', 'Rating_Helpfulness',\n",
      "       'Text_Review', 'Ratings', 'Review_Summary', 'Review_Timestamp_Unix',\n",
      "       'Review_Date'],\n",
      "      dtype='object')\n",
      "###############################################################################################################\n"
     ]
    }
   ],
   "source": [
    "print(\"###############################################################################################################\")\n",
    "print(\"Original Column names: \\n\", Review_DF.columns)\n",
    "\n",
    "New_Column_Names = ['User_ID', 'Product_ID', 'User_Name', 'Rating_Helpfulness', 'Text_Review', \n",
    "                    'Ratings', 'Review_Summary', 'Review_Timestamp_Unix', 'Review_Date']\n",
    "\n",
    "Review_DF.columns = New_Column_Names\n",
    "\n",
    "print(\"New Column names: \\n\", Review_DF.columns)\n",
    "print(\"###############################################################################################################\")"
   ]
  },
  {
   "cell_type": "code",
   "execution_count": 4,
   "metadata": {},
   "outputs": [
    {
     "name": "stdout",
     "output_type": "stream",
     "text": [
      "Shape of the Dataset:  (194439, 9)\n"
     ]
    },
    {
     "data": {
      "text/html": [
       "<div>\n",
       "<style scoped>\n",
       "    .dataframe tbody tr th:only-of-type {\n",
       "        vertical-align: middle;\n",
       "    }\n",
       "\n",
       "    .dataframe tbody tr th {\n",
       "        vertical-align: top;\n",
       "    }\n",
       "\n",
       "    .dataframe thead th {\n",
       "        text-align: right;\n",
       "    }\n",
       "</style>\n",
       "<table border=\"1\" class=\"dataframe\">\n",
       "  <thead>\n",
       "    <tr style=\"text-align: right;\">\n",
       "      <th></th>\n",
       "      <th>User_ID</th>\n",
       "      <th>Product_ID</th>\n",
       "      <th>User_Name</th>\n",
       "      <th>Rating_Helpfulness</th>\n",
       "      <th>Text_Review</th>\n",
       "      <th>Ratings</th>\n",
       "      <th>Review_Summary</th>\n",
       "      <th>Review_Timestamp_Unix</th>\n",
       "      <th>Review_Date</th>\n",
       "    </tr>\n",
       "  </thead>\n",
       "  <tbody>\n",
       "    <tr>\n",
       "      <th>0</th>\n",
       "      <td>A30TL5EWN6DFXT</td>\n",
       "      <td>120401325X</td>\n",
       "      <td>christina</td>\n",
       "      <td>[0, 0]</td>\n",
       "      <td>They look good and stick good! I just don't li...</td>\n",
       "      <td>4</td>\n",
       "      <td>Looks Good</td>\n",
       "      <td>1400630400</td>\n",
       "      <td>05 21, 2014</td>\n",
       "    </tr>\n",
       "    <tr>\n",
       "      <th>1</th>\n",
       "      <td>ASY55RVNIL0UD</td>\n",
       "      <td>120401325X</td>\n",
       "      <td>emily l.</td>\n",
       "      <td>[0, 0]</td>\n",
       "      <td>These stickers work like the review says they ...</td>\n",
       "      <td>5</td>\n",
       "      <td>Really great product.</td>\n",
       "      <td>1389657600</td>\n",
       "      <td>01 14, 2014</td>\n",
       "    </tr>\n",
       "    <tr>\n",
       "      <th>2</th>\n",
       "      <td>A2TMXE2AFO7ONB</td>\n",
       "      <td>120401325X</td>\n",
       "      <td>Erica</td>\n",
       "      <td>[0, 0]</td>\n",
       "      <td>These are awesome and make my phone look so st...</td>\n",
       "      <td>5</td>\n",
       "      <td>LOVE LOVE LOVE</td>\n",
       "      <td>1403740800</td>\n",
       "      <td>06 26, 2014</td>\n",
       "    </tr>\n",
       "    <tr>\n",
       "      <th>3</th>\n",
       "      <td>AWJ0WZQYMYFQ4</td>\n",
       "      <td>120401325X</td>\n",
       "      <td>JM</td>\n",
       "      <td>[4, 4]</td>\n",
       "      <td>Item arrived in great time and was in perfect ...</td>\n",
       "      <td>4</td>\n",
       "      <td>Cute!</td>\n",
       "      <td>1382313600</td>\n",
       "      <td>10 21, 2013</td>\n",
       "    </tr>\n",
       "    <tr>\n",
       "      <th>4</th>\n",
       "      <td>ATX7CZYFXI1KW</td>\n",
       "      <td>120401325X</td>\n",
       "      <td>patrice m rogoza</td>\n",
       "      <td>[2, 3]</td>\n",
       "      <td>awesome! stays on, and looks great. can be use...</td>\n",
       "      <td>5</td>\n",
       "      <td>leopard home button sticker for iphone 4s</td>\n",
       "      <td>1359849600</td>\n",
       "      <td>02 3, 2013</td>\n",
       "    </tr>\n",
       "  </tbody>\n",
       "</table>\n",
       "</div>"
      ],
      "text/plain": [
       "          User_ID  Product_ID         User_Name Rating_Helpfulness  \\\n",
       "0  A30TL5EWN6DFXT  120401325X         christina             [0, 0]   \n",
       "1   ASY55RVNIL0UD  120401325X          emily l.             [0, 0]   \n",
       "2  A2TMXE2AFO7ONB  120401325X             Erica             [0, 0]   \n",
       "3   AWJ0WZQYMYFQ4  120401325X                JM             [4, 4]   \n",
       "4   ATX7CZYFXI1KW  120401325X  patrice m rogoza             [2, 3]   \n",
       "\n",
       "                                         Text_Review  Ratings  \\\n",
       "0  They look good and stick good! I just don't li...        4   \n",
       "1  These stickers work like the review says they ...        5   \n",
       "2  These are awesome and make my phone look so st...        5   \n",
       "3  Item arrived in great time and was in perfect ...        4   \n",
       "4  awesome! stays on, and looks great. can be use...        5   \n",
       "\n",
       "                              Review_Summary  Review_Timestamp_Unix  \\\n",
       "0                                 Looks Good             1400630400   \n",
       "1                      Really great product.             1389657600   \n",
       "2                             LOVE LOVE LOVE             1403740800   \n",
       "3                                      Cute!             1382313600   \n",
       "4  leopard home button sticker for iphone 4s             1359849600   \n",
       "\n",
       "   Review_Date  \n",
       "0  05 21, 2014  \n",
       "1  01 14, 2014  \n",
       "2  06 26, 2014  \n",
       "3  10 21, 2013  \n",
       "4   02 3, 2013  "
      ]
     },
     "execution_count": 4,
     "metadata": {},
     "output_type": "execute_result"
    }
   ],
   "source": [
    "print(\"Shape of the Dataset: \", Review_DF.shape)\n",
    "Review_DF.head()"
   ]
  },
  {
   "cell_type": "markdown",
   "metadata": {},
   "source": [
    "-------------------------------------------------------------------------------------------------------------------------------\n",
    "### Initital EDA"
   ]
  },
  {
   "cell_type": "code",
   "execution_count": 5,
   "metadata": {},
   "outputs": [
    {
     "name": "stdout",
     "output_type": "stream",
     "text": [
      "###############################################################################################################\n",
      "Total Number of Reviews:  194439 \n",
      "\n",
      "Total Number of Unique Users:  27879 \n",
      "\n",
      "Total Number of Unique Products:  10429 \n",
      "\n",
      "Averge Rating Score:  4.129912208970422 \n",
      "\n",
      "###############################################################################################################\n"
     ]
    }
   ],
   "source": [
    "print(\"###############################################################################################################\")\n",
    "\n",
    "print(\"Total Number of Reviews: \", Review_DF.shape[0], \"\\n\")\n",
    "print(\"Total Number of Unique Users: \", len(Review_DF.User_ID.unique()), \"\\n\")\n",
    "print(\"Total Number of Unique Products: \", len(Review_DF.Product_ID.unique()), \"\\n\")\n",
    "print(\"Averge Rating Score: \", Review_DF.Ratings.mean(), \"\\n\")\n",
    "\n",
    "print(\"###############################################################################################################\")"
   ]
  },
  {
   "cell_type": "code",
   "execution_count": 6,
   "metadata": {},
   "outputs": [
    {
     "name": "stdout",
     "output_type": "stream",
     "text": [
      "############################################################################################################### \n",
      "\n",
      "<class 'pandas.core.frame.DataFrame'>\n",
      "RangeIndex: 194439 entries, 0 to 194438\n",
      "Data columns (total 9 columns):\n",
      " #   Column                 Non-Null Count   Dtype \n",
      "---  ------                 --------------   ----- \n",
      " 0   User_ID                194439 non-null  object\n",
      " 1   Product_ID             194439 non-null  object\n",
      " 2   User_Name              190920 non-null  object\n",
      " 3   Rating_Helpfulness     194439 non-null  object\n",
      " 4   Text_Review            194439 non-null  object\n",
      " 5   Ratings                194439 non-null  int64 \n",
      " 6   Review_Summary         194439 non-null  object\n",
      " 7   Review_Timestamp_Unix  194439 non-null  int64 \n",
      " 8   Review_Date            194439 non-null  object\n",
      "dtypes: int64(2), object(7)\n",
      "memory usage: 13.4+ MB\n",
      "############################################################################################################### \n",
      "\n",
      "Total number of null values in each column: \n",
      "User_ID                     0\n",
      "Product_ID                  0\n",
      "User_Name                3519\n",
      "Rating_Helpfulness          0\n",
      "Text_Review                 0\n",
      "Ratings                     0\n",
      "Review_Summary              0\n",
      "Review_Timestamp_Unix       0\n",
      "Review_Date                 0\n",
      "dtype: int64\n",
      "############################################################################################################### \n",
      "\n"
     ]
    }
   ],
   "source": [
    "print(\"############################################################################################################### \\n\")\n",
    "Review_DF.info()\n",
    "print(\"############################################################################################################### \\n\")\n",
    "print(\"Total number of null values in each column: \")\n",
    "print(Review_DF.isnull().sum())\n",
    "\n",
    "print(\"############################################################################################################### \\n\")"
   ]
  },
  {
   "cell_type": "markdown",
   "metadata": {},
   "source": [
    "**Obeservations**\n",
    "* There are 3519 null values in User_Name Column.\n",
    "* Need to change dtype of Review_Date and Review_Timestamp_Unix\n",
    "* Rating helpfulness has a list of numerator and denominator which needs to be converted into fractions"
   ]
  },
  {
   "cell_type": "markdown",
   "metadata": {},
   "source": [
    "-------------------------------------------------------------------------------------------------------------------------------\n",
    "### Exploratory Data Analysis"
   ]
  },
  {
   "cell_type": "code",
   "execution_count": 7,
   "metadata": {},
   "outputs": [
    {
     "data": {
      "text/plain": [
       "Ratings\n",
       "1     13279\n",
       "2     11064\n",
       "3     21439\n",
       "4     39993\n",
       "5    108664\n",
       "dtype: int64"
      ]
     },
     "execution_count": 7,
     "metadata": {},
     "output_type": "execute_result"
    }
   ],
   "source": [
    "Review_DF.groupby('Ratings').size()"
   ]
  },
  {
   "cell_type": "code",
   "execution_count": 8,
   "metadata": {},
   "outputs": [
    {
     "data": {
      "text/plain": [
       "Text(0, 0.5, 'Frequency')"
      ]
     },
     "execution_count": 8,
     "metadata": {},
     "output_type": "execute_result"
    },
    {
     "data": {
      "image/png": "[encoded data removed]",
      "text/plain": [
       "<Figure size 432x288 with 1 Axes>"
      ]
     },
     "metadata": {
      "needs_background": "light"
     },
     "output_type": "display_data"
    }
   ],
   "source": [
    "Review_DF.groupby('Ratings').size().plot(kind = 'bar')\n",
    "plt.xticks([0,1,2,3,4,5], rotation = 0);\n",
    "plt.title(\"Frequency of Ratings\")\n",
    "plt.xlabel(\"Ratings\")\n",
    "plt.ylabel(\"Frequency\")"
   ]
  },
  {
   "cell_type": "code",
   "execution_count": 9,
   "metadata": {},
   "outputs": [],
   "source": [
    "Review_DF['Review_Date'] = pd.to_datetime(Review_DF['Review_Date'])"
   ]
  },
  {
   "cell_type": "code",
   "execution_count": 10,
   "metadata": {},
   "outputs": [
    {
     "data": {
      "text/plain": [
       "0        2014-05-21\n",
       "1        2014-01-14\n",
       "2        2014-06-26\n",
       "3        2013-10-21\n",
       "4        2013-02-03\n",
       "            ...    \n",
       "194434   2014-07-21\n",
       "194435   2014-07-21\n",
       "194436   2014-07-21\n",
       "194437   2014-07-20\n",
       "194438   2014-07-21\n",
       "Name: Review_Timestamp_Unix, Length: 194439, dtype: datetime64[ns]"
      ]
     },
     "execution_count": 10,
     "metadata": {},
     "output_type": "execute_result"
    }
   ],
   "source": [
    "test = pd.to_datetime(Review_DF['Review_Timestamp_Unix'], unit = 's')\n",
    "test"
   ]
  },
  {
   "cell_type": "markdown",
   "metadata": {},
   "source": [
    "Dropping unix timestamp as it contains same info as Review date just in different format."
   ]
  },
  {
   "cell_type": "code",
   "execution_count": 11,
   "metadata": {},
   "outputs": [],
   "source": [
    "Review_DF.drop('Review_Timestamp_Unix', inplace = True, axis = 1)"
   ]
  },
  {
   "cell_type": "code",
   "execution_count": 12,
   "metadata": {},
   "outputs": [],
   "source": [
    "Review_EDA_DF = Review_DF.copy()\n",
    "Review_EDA_DF['Year'] = pd.DatetimeIndex(Review_EDA_DF['Review_Date']).year\n",
    "Review_EDA_DF['Month'] = pd.DatetimeIndex(Review_EDA_DF['Review_Date']).month"
   ]
  },
  {
   "cell_type": "code",
   "execution_count": 13,
   "metadata": {},
   "outputs": [
    {
     "data": {
      "text/html": [
       "<div>\n",
       "<style scoped>\n",
       "    .dataframe tbody tr th:only-of-type {\n",
       "        vertical-align: middle;\n",
       "    }\n",
       "\n",
       "    .dataframe tbody tr th {\n",
       "        vertical-align: top;\n",
       "    }\n",
       "\n",
       "    .dataframe thead th {\n",
       "        text-align: right;\n",
       "    }\n",
       "</style>\n",
       "<table border=\"1\" class=\"dataframe\">\n",
       "  <thead>\n",
       "    <tr style=\"text-align: right;\">\n",
       "      <th></th>\n",
       "      <th>Ratings</th>\n",
       "      <th>Month</th>\n",
       "    </tr>\n",
       "    <tr>\n",
       "      <th>Year</th>\n",
       "      <th></th>\n",
       "      <th></th>\n",
       "    </tr>\n",
       "  </thead>\n",
       "  <tbody>\n",
       "    <tr>\n",
       "      <th>2001</th>\n",
       "      <td>5.000000</td>\n",
       "      <td>2.000000</td>\n",
       "    </tr>\n",
       "    <tr>\n",
       "      <th>2002</th>\n",
       "      <td>5.000000</td>\n",
       "      <td>10.000000</td>\n",
       "    </tr>\n",
       "    <tr>\n",
       "      <th>2003</th>\n",
       "      <td>5.000000</td>\n",
       "      <td>12.000000</td>\n",
       "    </tr>\n",
       "    <tr>\n",
       "      <th>2004</th>\n",
       "      <td>3.704545</td>\n",
       "      <td>7.613636</td>\n",
       "    </tr>\n",
       "    <tr>\n",
       "      <th>2005</th>\n",
       "      <td>3.715385</td>\n",
       "      <td>7.000000</td>\n",
       "    </tr>\n",
       "    <tr>\n",
       "      <th>2006</th>\n",
       "      <td>3.545833</td>\n",
       "      <td>6.633333</td>\n",
       "    </tr>\n",
       "    <tr>\n",
       "      <th>2007</th>\n",
       "      <td>3.987147</td>\n",
       "      <td>6.614396</td>\n",
       "    </tr>\n",
       "    <tr>\n",
       "      <th>2008</th>\n",
       "      <td>3.960118</td>\n",
       "      <td>6.775480</td>\n",
       "    </tr>\n",
       "    <tr>\n",
       "      <th>2009</th>\n",
       "      <td>3.892884</td>\n",
       "      <td>7.236419</td>\n",
       "    </tr>\n",
       "    <tr>\n",
       "      <th>2010</th>\n",
       "      <td>3.988925</td>\n",
       "      <td>7.740309</td>\n",
       "    </tr>\n",
       "    <tr>\n",
       "      <th>2011</th>\n",
       "      <td>4.025649</td>\n",
       "      <td>7.558962</td>\n",
       "    </tr>\n",
       "    <tr>\n",
       "      <th>2012</th>\n",
       "      <td>4.083515</td>\n",
       "      <td>8.455903</td>\n",
       "    </tr>\n",
       "    <tr>\n",
       "      <th>2013</th>\n",
       "      <td>4.125098</td>\n",
       "      <td>6.578846</td>\n",
       "    </tr>\n",
       "    <tr>\n",
       "      <th>2014</th>\n",
       "      <td>4.203125</td>\n",
       "      <td>3.838260</td>\n",
       "    </tr>\n",
       "  </tbody>\n",
       "</table>\n",
       "</div>"
      ],
      "text/plain": [
       "       Ratings      Month\n",
       "Year                     \n",
       "2001  5.000000   2.000000\n",
       "2002  5.000000  10.000000\n",
       "2003  5.000000  12.000000\n",
       "2004  3.704545   7.613636\n",
       "2005  3.715385   7.000000\n",
       "2006  3.545833   6.633333\n",
       "2007  3.987147   6.614396\n",
       "2008  3.960118   6.775480\n",
       "2009  3.892884   7.236419\n",
       "2010  3.988925   7.740309\n",
       "2011  4.025649   7.558962\n",
       "2012  4.083515   8.455903\n",
       "2013  4.125098   6.578846\n",
       "2014  4.203125   3.838260"
      ]
     },
     "execution_count": 13,
     "metadata": {},
     "output_type": "execute_result"
    }
   ],
   "source": [
    "Year_Mean_Rating_DF = Review_EDA_DF.groupby('Year').mean('Rating')\n",
    "Year_Mean_Rating_DF"
   ]
  },
  {
   "cell_type": "code",
   "execution_count": 14,
   "metadata": {},
   "outputs": [
    {
     "data": {
      "text/plain": [
       "<BarContainer object of 14 artists>"
      ]
     },
     "execution_count": 14,
     "metadata": {},
     "output_type": "execute_result"
    },
    {
     "data": {
      "image/png": "[encoded data removed]",
      "text/plain": [
       "<Figure size 720x360 with 1 Axes>"
      ]
     },
     "metadata": {
      "needs_background": "light"
     },
     "output_type": "display_data"
    }
   ],
   "source": [
    "plt.figure(figsize = (10,5))\n",
    "plt.bar(x = Year_Mean_Rating_DF.index, height = Year_Mean_Rating_DF['Ratings'] )\n"
   ]
  },
  {
   "cell_type": "code",
   "execution_count": 15,
   "metadata": {},
   "outputs": [],
   "source": [
    "path = r'..\\Data\\01_Clean_Review_Data.json'\n",
    "Review_DF.to_json(path)"
   ]
  }
 ],
 "metadata": {
  "kernelspec": {
   "display_name": "Python 3",
   "language": "python",
   "name": "python3"
  },
  "language_info": {
   "codemirror_mode": {
    "name": "ipython",
    "version": 3
   },
   "file_extension": ".py",
   "mimetype": "text/x-python",
   "name": "python",
   "nbconvert_exporter": "python",
   "pygments_lexer": "ipython3",
   "version": "3.8.5"
  }
 },
 "nbformat": 4,
 "nbformat_minor": 4
}
