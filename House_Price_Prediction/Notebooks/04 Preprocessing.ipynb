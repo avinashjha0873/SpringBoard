{
 "cells": [
  {
   "cell_type": "markdown",
   "metadata": {},
   "source": [
    "# Data Preprocessing"
   ]
  },
  {
   "cell_type": "markdown",
   "metadata": {},
   "source": [
    "### Imports"
   ]
  },
  {
   "cell_type": "code",
   "execution_count": 1,
   "metadata": {},
   "outputs": [],
   "source": [
    "import pandas as pd\n",
    "import numpy as np\n",
    "import matplotlib.pyplot as plt\n",
    "import seaborn as sns\n",
    "from sklearn.model_selection import train_test_split, cross_validate, GridSearchCV\n",
    "from sklearn.dummy import DummyRegressor\n",
    "from sklearn.metrics import r2_score, mean_absolute_error, mean_squared_error, accuracy_score\n",
    "from sklearn.preprocessing import StandardScaler\n",
    "from sklearn.linear_model import LinearRegression\n",
    "from sklearn.pipeline import make_pipeline\n",
    "from sklearn.feature_selection import SelectKBest, f_regression\n",
    "from sklearn.ensemble import RandomForestRegressor\n",
    "from sklearn.model_selection import cross_val_score\n",
    "from sklearn import __version__ as sklearn_version\n",
    "import datetime\n",
    "import pickle\n",
    "import os\n",
    "#from library.sb_utils import save_file"
   ]
  },
  {
   "cell_type": "code",
   "execution_count": 2,
   "metadata": {},
   "outputs": [],
   "source": [
    "#!pip install library"
   ]
  },
  {
   "cell_type": "code",
   "execution_count": 3,
   "metadata": {
    "scrolled": true
   },
   "outputs": [],
   "source": [
    "#!pip freeze"
   ]
  },
  {
   "cell_type": "markdown",
   "metadata": {},
   "source": [
    "### Data Load"
   ]
  },
  {
   "cell_type": "code",
   "execution_count": 4,
   "metadata": {
    "scrolled": true
   },
   "outputs": [
    {
     "data": {
      "text/html": [
       "<div>\n",
       "<style scoped>\n",
       "    .dataframe tbody tr th:only-of-type {\n",
       "        vertical-align: middle;\n",
       "    }\n",
       "\n",
       "    .dataframe tbody tr th {\n",
       "        vertical-align: top;\n",
       "    }\n",
       "\n",
       "    .dataframe thead th {\n",
       "        text-align: right;\n",
       "    }\n",
       "</style>\n",
       "<table border=\"1\" class=\"dataframe\">\n",
       "  <thead>\n",
       "    <tr style=\"text-align: right;\">\n",
       "      <th></th>\n",
       "      <th>Id</th>\n",
       "      <th>Transaction_Date</th>\n",
       "      <th>Price</th>\n",
       "      <th>Bedroom_Count</th>\n",
       "      <th>Bathroom_Count</th>\n",
       "      <th>Sqft_Living</th>\n",
       "      <th>Sqft_Plot</th>\n",
       "      <th>Floor_Count</th>\n",
       "      <th>Waterfront</th>\n",
       "      <th>View</th>\n",
       "      <th>...</th>\n",
       "      <th>Change_In_Sqft_Plot</th>\n",
       "      <th>Listing_per_Zip_Code</th>\n",
       "      <th>Zipcode_Median_housePrice</th>\n",
       "      <th>sqft_living_zipcode_ratio</th>\n",
       "      <th>sqft_lot_zipcode_ratio</th>\n",
       "      <th>sqft_above_zipcode_ratio</th>\n",
       "      <th>sqft_basement_zipcode_ratio</th>\n",
       "      <th>sqft_living15_zipcode_ratio</th>\n",
       "      <th>sqft_lot15_zipcode_ratio</th>\n",
       "      <th>sqft_median_price_zipcode_ratio</th>\n",
       "    </tr>\n",
       "  </thead>\n",
       "  <tbody>\n",
       "    <tr>\n",
       "      <th>0</th>\n",
       "      <td>7129300520</td>\n",
       "      <td>2014-10-13</td>\n",
       "      <td>221900.0</td>\n",
       "      <td>3</td>\n",
       "      <td>1.00</td>\n",
       "      <td>1180</td>\n",
       "      <td>5650</td>\n",
       "      <td>1.0</td>\n",
       "      <td>0</td>\n",
       "      <td>0</td>\n",
       "      <td>...</td>\n",
       "      <td>0</td>\n",
       "      <td>258</td>\n",
       "      <td>279500.0</td>\n",
       "      <td>0.002633</td>\n",
       "      <td>0.002636</td>\n",
       "      <td>0.003440</td>\n",
       "      <td>0.000000</td>\n",
       "      <td>0.003147</td>\n",
       "      <td>0.002693</td>\n",
       "      <td>0.793918</td>\n",
       "    </tr>\n",
       "    <tr>\n",
       "      <th>1</th>\n",
       "      <td>6414100192</td>\n",
       "      <td>2014-12-09</td>\n",
       "      <td>538000.0</td>\n",
       "      <td>3</td>\n",
       "      <td>2.25</td>\n",
       "      <td>2570</td>\n",
       "      <td>7242</td>\n",
       "      <td>2.0</td>\n",
       "      <td>0</td>\n",
       "      <td>0</td>\n",
       "      <td>...</td>\n",
       "      <td>397</td>\n",
       "      <td>402</td>\n",
       "      <td>425000.0</td>\n",
       "      <td>0.003649</td>\n",
       "      <td>0.002342</td>\n",
       "      <td>0.003792</td>\n",
       "      <td>0.003032</td>\n",
       "      <td>0.002533</td>\n",
       "      <td>0.002595</td>\n",
       "      <td>1.265882</td>\n",
       "    </tr>\n",
       "    <tr>\n",
       "      <th>2</th>\n",
       "      <td>5631500400</td>\n",
       "      <td>2015-02-25</td>\n",
       "      <td>180000.0</td>\n",
       "      <td>2</td>\n",
       "      <td>1.00</td>\n",
       "      <td>770</td>\n",
       "      <td>10000</td>\n",
       "      <td>1.0</td>\n",
       "      <td>0</td>\n",
       "      <td>0</td>\n",
       "      <td>...</td>\n",
       "      <td>-1938</td>\n",
       "      <td>282</td>\n",
       "      <td>442500.0</td>\n",
       "      <td>0.001286</td>\n",
       "      <td>0.002980</td>\n",
       "      <td>0.001532</td>\n",
       "      <td>0.000000</td>\n",
       "      <td>0.004613</td>\n",
       "      <td>0.002828</td>\n",
       "      <td>0.406780</td>\n",
       "    </tr>\n",
       "    <tr>\n",
       "      <th>3</th>\n",
       "      <td>2487200875</td>\n",
       "      <td>2014-12-09</td>\n",
       "      <td>604000.0</td>\n",
       "      <td>4</td>\n",
       "      <td>3.00</td>\n",
       "      <td>1960</td>\n",
       "      <td>5000</td>\n",
       "      <td>1.0</td>\n",
       "      <td>0</td>\n",
       "      <td>0</td>\n",
       "      <td>...</td>\n",
       "      <td>0</td>\n",
       "      <td>263</td>\n",
       "      <td>489950.0</td>\n",
       "      <td>0.004316</td>\n",
       "      <td>0.003178</td>\n",
       "      <td>0.002953</td>\n",
       "      <td>0.009234</td>\n",
       "      <td>0.003092</td>\n",
       "      <td>0.003304</td>\n",
       "      <td>1.232779</td>\n",
       "    </tr>\n",
       "    <tr>\n",
       "      <th>4</th>\n",
       "      <td>1954400510</td>\n",
       "      <td>2015-02-18</td>\n",
       "      <td>510000.0</td>\n",
       "      <td>3</td>\n",
       "      <td>2.00</td>\n",
       "      <td>1680</td>\n",
       "      <td>8080</td>\n",
       "      <td>1.0</td>\n",
       "      <td>0</td>\n",
       "      <td>0</td>\n",
       "      <td>...</td>\n",
       "      <td>-577</td>\n",
       "      <td>435</td>\n",
       "      <td>645000.0</td>\n",
       "      <td>0.001456</td>\n",
       "      <td>0.001273</td>\n",
       "      <td>0.001579</td>\n",
       "      <td>0.000000</td>\n",
       "      <td>0.001598</td>\n",
       "      <td>0.001305</td>\n",
       "      <td>0.790698</td>\n",
       "    </tr>\n",
       "  </tbody>\n",
       "</table>\n",
       "<p>5 rows × 32 columns</p>\n",
       "</div>"
      ],
      "text/plain": [
       "           Id Transaction_Date     Price  Bedroom_Count  Bathroom_Count  \\\n",
       "0  7129300520       2014-10-13  221900.0              3            1.00   \n",
       "1  6414100192       2014-12-09  538000.0              3            2.25   \n",
       "2  5631500400       2015-02-25  180000.0              2            1.00   \n",
       "3  2487200875       2014-12-09  604000.0              4            3.00   \n",
       "4  1954400510       2015-02-18  510000.0              3            2.00   \n",
       "\n",
       "   Sqft_Living  Sqft_Plot  Floor_Count  Waterfront  View  ...  \\\n",
       "0         1180       5650          1.0           0     0  ...   \n",
       "1         2570       7242          2.0           0     0  ...   \n",
       "2          770      10000          1.0           0     0  ...   \n",
       "3         1960       5000          1.0           0     0  ...   \n",
       "4         1680       8080          1.0           0     0  ...   \n",
       "\n",
       "   Change_In_Sqft_Plot  Listing_per_Zip_Code  Zipcode_Median_housePrice  \\\n",
       "0                    0                   258                   279500.0   \n",
       "1                  397                   402                   425000.0   \n",
       "2                -1938                   282                   442500.0   \n",
       "3                    0                   263                   489950.0   \n",
       "4                 -577                   435                   645000.0   \n",
       "\n",
       "   sqft_living_zipcode_ratio  sqft_lot_zipcode_ratio  \\\n",
       "0                   0.002633                0.002636   \n",
       "1                   0.003649                0.002342   \n",
       "2                   0.001286                0.002980   \n",
       "3                   0.004316                0.003178   \n",
       "4                   0.001456                0.001273   \n",
       "\n",
       "   sqft_above_zipcode_ratio  sqft_basement_zipcode_ratio  \\\n",
       "0                  0.003440                     0.000000   \n",
       "1                  0.003792                     0.003032   \n",
       "2                  0.001532                     0.000000   \n",
       "3                  0.002953                     0.009234   \n",
       "4                  0.001579                     0.000000   \n",
       "\n",
       "   sqft_living15_zipcode_ratio  sqft_lot15_zipcode_ratio  \\\n",
       "0                     0.003147                  0.002693   \n",
       "1                     0.002533                  0.002595   \n",
       "2                     0.004613                  0.002828   \n",
       "3                     0.003092                  0.003304   \n",
       "4                     0.001598                  0.001305   \n",
       "\n",
       "   sqft_median_price_zipcode_ratio  \n",
       "0                         0.793918  \n",
       "1                         1.265882  \n",
       "2                         0.406780  \n",
       "3                         1.232779  \n",
       "4                         0.790698  \n",
       "\n",
       "[5 rows x 32 columns]"
      ]
     },
     "execution_count": 4,
     "metadata": {},
     "output_type": "execute_result"
    }
   ],
   "source": [
    "Housing_Data = pd.read_csv(r'..\\Data\\housing_data_step3_features.csv', index_col = 0)\n",
    "Housing_Data.head()"
   ]
  },
  {
   "cell_type": "markdown",
   "metadata": {},
   "source": [
    "#### Change in Data Type"
   ]
  },
  {
   "cell_type": "code",
   "execution_count": 5,
   "metadata": {},
   "outputs": [],
   "source": [
    "Housing_Data['Transaction_Date'] = pd.to_datetime(Housing_Data['Transaction_Date'])\n",
    "Housing_Data['Id'] = Housing_Data['Id'].astype('object')\n",
    "Housing_Data['Zipcode'] = Housing_Data['Zipcode'].astype('object')"
   ]
  },
  {
   "cell_type": "code",
   "execution_count": 6,
   "metadata": {},
   "outputs": [
    {
     "data": {
      "text/plain": [
       "(21417, 32)"
      ]
     },
     "execution_count": 6,
     "metadata": {},
     "output_type": "execute_result"
    }
   ],
   "source": [
    "Housing_Data.shape"
   ]
  },
  {
   "cell_type": "code",
   "execution_count": 7,
   "metadata": {},
   "outputs": [
    {
     "data": {
      "text/plain": [
       "Index(['Id', 'Transaction_Date', 'Price', 'Bedroom_Count', 'Bathroom_Count',\n",
       "       'Sqft_Living', 'Sqft_Plot', 'Floor_Count', 'Waterfront', 'View',\n",
       "       'Condition', 'Grade', 'Sqft_Above', 'Sqft_Basement', 'Zipcode',\n",
       "       'Latitude', 'Longitude', 'Sqft_Living_2015', 'Sqft_Plot_2015',\n",
       "       'Plot-Living', 'Age', 'Change_In_Sqft_Living', 'Change_In_Sqft_Plot',\n",
       "       'Listing_per_Zip_Code', 'Zipcode_Median_housePrice',\n",
       "       'sqft_living_zipcode_ratio', 'sqft_lot_zipcode_ratio',\n",
       "       'sqft_above_zipcode_ratio', 'sqft_basement_zipcode_ratio',\n",
       "       'sqft_living15_zipcode_ratio', 'sqft_lot15_zipcode_ratio',\n",
       "       'sqft_median_price_zipcode_ratio'],\n",
       "      dtype='object')"
      ]
     },
     "execution_count": 7,
     "metadata": {},
     "output_type": "execute_result"
    }
   ],
   "source": [
    "Housing_Data.columns"
   ]
  },
  {
   "cell_type": "markdown",
   "metadata": {},
   "source": [
    "### Train/Test Split for Final Evaluation"
   ]
  },
  {
   "cell_type": "code",
   "execution_count": 8,
   "metadata": {},
   "outputs": [],
   "source": [
    "train, test = train_test_split(Housing_Data.drop(columns = ['Transaction_Date']), test_size = 0.01, random_state = 7)"
   ]
  },
  {
   "cell_type": "code",
   "execution_count": 9,
   "metadata": {
    "scrolled": true
   },
   "outputs": [
    {
     "data": {
      "text/plain": [
       "((21202, 31), (215, 31))"
      ]
     },
     "execution_count": 9,
     "metadata": {},
     "output_type": "execute_result"
    }
   ],
   "source": [
    "(train.shape, test.shape)"
   ]
  },
  {
   "cell_type": "code",
   "execution_count": 10,
   "metadata": {},
   "outputs": [],
   "source": [
    "path = r'..\\Data\\test_data.csv'\n",
    "test.to_csv(path)\n",
    "path2 = r'..\\Data\\train_data.csv'\n",
    "train.to_csv(path2)"
   ]
  },
  {
   "cell_type": "markdown",
   "metadata": {},
   "source": [
    "### Train/Test Split for model selection"
   ]
  },
  {
   "cell_type": "code",
   "execution_count": 11,
   "metadata": {
    "scrolled": true
   },
   "outputs": [],
   "source": [
    "X_train, X_test, y_train, y_test = train_test_split(train.drop(columns = ['Price']), train.Price, test_size = 0.1, random_state = 7)"
   ]
  },
  {
   "cell_type": "code",
   "execution_count": 12,
   "metadata": {},
   "outputs": [
    {
     "data": {
      "text/plain": [
       "Index(['Id', 'Bedroom_Count', 'Bathroom_Count', 'Sqft_Living', 'Sqft_Plot',\n",
       "       'Floor_Count', 'Waterfront', 'View', 'Condition', 'Grade', 'Sqft_Above',\n",
       "       'Sqft_Basement', 'Zipcode', 'Latitude', 'Longitude', 'Sqft_Living_2015',\n",
       "       'Sqft_Plot_2015', 'Plot-Living', 'Age', 'Change_In_Sqft_Living',\n",
       "       'Change_In_Sqft_Plot', 'Listing_per_Zip_Code',\n",
       "       'Zipcode_Median_housePrice', 'sqft_living_zipcode_ratio',\n",
       "       'sqft_lot_zipcode_ratio', 'sqft_above_zipcode_ratio',\n",
       "       'sqft_basement_zipcode_ratio', 'sqft_living15_zipcode_ratio',\n",
       "       'sqft_lot15_zipcode_ratio', 'sqft_median_price_zipcode_ratio'],\n",
       "      dtype='object')"
      ]
     },
     "execution_count": 12,
     "metadata": {},
     "output_type": "execute_result"
    }
   ],
   "source": [
    "X_train.columns"
   ]
  },
  {
   "cell_type": "code",
   "execution_count": 13,
   "metadata": {},
   "outputs": [],
   "source": [
    "name_list = ['Id', 'Zipcode']\n",
    "names_train = X_train[name_list]\n",
    "names_test = X_test[name_list]"
   ]
  },
  {
   "cell_type": "code",
   "execution_count": 14,
   "metadata": {},
   "outputs": [
    {
     "data": {
      "text/plain": [
       "Id                                  object\n",
       "Bedroom_Count                        int64\n",
       "Bathroom_Count                     float64\n",
       "Sqft_Living                          int64\n",
       "Sqft_Plot                            int64\n",
       "Floor_Count                        float64\n",
       "Waterfront                           int64\n",
       "View                                 int64\n",
       "Condition                            int64\n",
       "Grade                                int64\n",
       "Sqft_Above                           int64\n",
       "Sqft_Basement                        int64\n",
       "Zipcode                             object\n",
       "Latitude                           float64\n",
       "Longitude                          float64\n",
       "Sqft_Living_2015                     int64\n",
       "Sqft_Plot_2015                       int64\n",
       "Plot-Living                          int64\n",
       "Age                                  int64\n",
       "Change_In_Sqft_Living                int64\n",
       "Change_In_Sqft_Plot                  int64\n",
       "Listing_per_Zip_Code                 int64\n",
       "Zipcode_Median_housePrice          float64\n",
       "sqft_living_zipcode_ratio          float64\n",
       "sqft_lot_zipcode_ratio             float64\n",
       "sqft_above_zipcode_ratio           float64\n",
       "sqft_basement_zipcode_ratio        float64\n",
       "sqft_living15_zipcode_ratio        float64\n",
       "sqft_lot15_zipcode_ratio           float64\n",
       "sqft_median_price_zipcode_ratio    float64\n",
       "dtype: object"
      ]
     },
     "execution_count": 14,
     "metadata": {},
     "output_type": "execute_result"
    }
   ],
   "source": [
    "X_train.dtypes"
   ]
  },
  {
   "cell_type": "markdown",
   "metadata": {},
   "source": [
    "##### Mean Price of Training "
   ]
  },
  {
   "cell_type": "code",
   "execution_count": 15,
   "metadata": {},
   "outputs": [
    {
     "data": {
      "text/plain": [
       "541369.4660133116"
      ]
     },
     "execution_count": 15,
     "metadata": {},
     "output_type": "execute_result"
    }
   ],
   "source": [
    "train_mean = y_train.mean()\n",
    "train_mean"
   ]
  },
  {
   "cell_type": "markdown",
   "metadata": {},
   "source": [
    "### Data Modelling "
   ]
  },
  {
   "cell_type": "markdown",
   "metadata": {},
   "source": [
    "#### Model Type 1: Dummy Regressor(Benchmark Model)"
   ]
  },
  {
   "cell_type": "code",
   "execution_count": 16,
   "metadata": {},
   "outputs": [
    {
     "data": {
      "text/plain": [
       "array([[541369.46601331]])"
      ]
     },
     "execution_count": 16,
     "metadata": {},
     "output_type": "execute_result"
    }
   ],
   "source": [
    "# Fitting Model\n",
    "dumb_reg = DummyRegressor(strategy='mean')\n",
    "dumb_reg.fit(X_train, y_train)\n",
    "dumb_reg.constant_"
   ]
  },
  {
   "cell_type": "code",
   "execution_count": 17,
   "metadata": {},
   "outputs": [],
   "source": [
    "# Predicting Value\n",
    "y_tr_pred = dumb_reg.predict(X_train)\n",
    "y_te_pred = dumb_reg.predict(X_test)"
   ]
  },
  {
   "cell_type": "markdown",
   "metadata": {},
   "source": [
    "##### Printing Results"
   ]
  },
  {
   "cell_type": "code",
   "execution_count": 18,
   "metadata": {
    "scrolled": true
   },
   "outputs": [
    {
     "name": "stdout",
     "output_type": "stream",
     "text": [
      "R-Squared value for Training Data:  0.0\n",
      "R-Squared value for Test Data:  -0.00040831701386956354\n"
     ]
    }
   ],
   "source": [
    "print(\"R-Squared value for Training Data: \", r2_score(y_train, y_tr_pred))\n",
    "print(\"R-Squared value for Test Data: \", r2_score(y_test, y_te_pred))"
   ]
  },
  {
   "cell_type": "code",
   "execution_count": 19,
   "metadata": {},
   "outputs": [
    {
     "name": "stdout",
     "output_type": "stream",
     "text": [
      "Mean Square Error for Training Data:  133469432671.03212\n",
      "Mean Square Error for Test Data:  154086719982.84085\n"
     ]
    }
   ],
   "source": [
    "print(\"Mean Square Error for Training Data: \", mean_squared_error(y_train, y_tr_pred))\n",
    "print(\"Mean Square Error for Test Data: \", mean_squared_error(y_test, y_te_pred))"
   ]
  },
  {
   "cell_type": "code",
   "execution_count": 20,
   "metadata": {},
   "outputs": [
    {
     "name": "stdout",
     "output_type": "stream",
     "text": [
      "Mean Absolute Error for Training Data:  232971.33425403337\n",
      "Mean Absolute Error for Test Data:  243007.7646908446\n"
     ]
    }
   ],
   "source": [
    "print(\"Mean Absolute Error for Training Data: \", mean_absolute_error(y_train, y_tr_pred))\n",
    "print(\"Mean Absolute Error for Test Data: \", mean_absolute_error(y_test, y_te_pred))"
   ]
  },
  {
   "cell_type": "markdown",
   "metadata": {},
   "source": [
    "#### Data Scaling "
   ]
  },
  {
   "cell_type": "code",
   "execution_count": 21,
   "metadata": {},
   "outputs": [],
   "source": [
    "scaler = StandardScaler()\n",
    "scaler.fit(X_train, X_test)\n",
    "X_tr_scaled = scaler.transform(X_train)\n",
    "X_te_scaled = scaler.transform(X_test)"
   ]
  },
  {
   "cell_type": "markdown",
   "metadata": {},
   "source": [
    "#### Model 2: Linear Regression"
   ]
  },
  {
   "cell_type": "code",
   "execution_count": 22,
   "metadata": {},
   "outputs": [],
   "source": [
    "lm = LinearRegression().fit(X_tr_scaled, y_train)\n",
    "y_tr_pred = lm.predict(X_tr_scaled)\n",
    "y_te_pred = lm.predict(X_te_scaled)"
   ]
  },
  {
   "cell_type": "markdown",
   "metadata": {},
   "source": [
    "##### Printing Results"
   ]
  },
  {
   "cell_type": "code",
   "execution_count": 23,
   "metadata": {},
   "outputs": [
    {
     "name": "stdout",
     "output_type": "stream",
     "text": [
      "R-Squared value for Training Data:  0.921431144174052\n",
      "R-Squared value for Test Data:  0.918670621652827\n"
     ]
    }
   ],
   "source": [
    "print(\"R-Squared value for Training Data: \", r2_score(y_train, y_tr_pred))\n",
    "print(\"R-Squared value for Test Data: \", r2_score(y_test, y_te_pred))"
   ]
  },
  {
   "cell_type": "code",
   "execution_count": 24,
   "metadata": {},
   "outputs": [
    {
     "name": "stdout",
     "output_type": "stream",
     "text": [
      "Mean Square Error for Training Data:  10486540612.701387\n",
      "Mean Square Error for Test Data:  12526662298.41593\n"
     ]
    }
   ],
   "source": [
    "print(\"Mean Square Error for Training Data: \", mean_squared_error(y_train, y_tr_pred))\n",
    "print(\"Mean Square Error for Test Data: \", mean_squared_error(y_test, y_te_pred))"
   ]
  },
  {
   "cell_type": "code",
   "execution_count": 25,
   "metadata": {},
   "outputs": [
    {
     "name": "stdout",
     "output_type": "stream",
     "text": [
      "Mean Absolute Error for Training Data:  53362.87598160564\n",
      "Mean Absolute Error for Test Data:  56377.42218946571\n"
     ]
    }
   ],
   "source": [
    "print(\"Mean Absolute Error for Training Data: \", mean_absolute_error(y_train, y_tr_pred))\n",
    "print(\"Mean Absolute Error for Test Data: \", mean_absolute_error(y_test, y_te_pred))"
   ]
  },
  {
   "cell_type": "markdown",
   "metadata": {},
   "source": [
    "#### Model 3: Linear Regression with SelectKBest(Basic)"
   ]
  },
  {
   "cell_type": "code",
   "execution_count": 26,
   "metadata": {
    "scrolled": true
   },
   "outputs": [
    {
     "data": {
      "text/plain": [
       "Pipeline(memory=None,\n",
       "         steps=[('standardscaler',\n",
       "                 StandardScaler(copy=True, with_mean=True, with_std=True)),\n",
       "                ('selectkbest',\n",
       "                 SelectKBest(k=10,\n",
       "                             score_func=<function f_regression at 0x000001CDB9495438>)),\n",
       "                ('linearregression',\n",
       "                 LinearRegression(copy_X=True, fit_intercept=True, n_jobs=None,\n",
       "                                  normalize=False))],\n",
       "         verbose=False)"
      ]
     },
     "execution_count": 26,
     "metadata": {},
     "output_type": "execute_result"
    }
   ],
   "source": [
    "# Fitting Model\n",
    "pipe = make_pipeline(\n",
    "        StandardScaler(),\n",
    "    SelectKBest(f_regression),\n",
    "    LinearRegression()\n",
    ")\n",
    "pipe.fit(X_train, y_train)"
   ]
  },
  {
   "cell_type": "code",
   "execution_count": 27,
   "metadata": {},
   "outputs": [],
   "source": [
    "# Predicting Price\n",
    "y_tr_pred = pipe.predict(X_train)\n",
    "y_te_pred = pipe.predict(X_test)"
   ]
  },
  {
   "cell_type": "markdown",
   "metadata": {},
   "source": [
    "##### Printing Results"
   ]
  },
  {
   "cell_type": "code",
   "execution_count": 28,
   "metadata": {},
   "outputs": [
    {
     "name": "stdout",
     "output_type": "stream",
     "text": [
      "R-Squared value for Training Data:  0.9177049079294216\n",
      "R-Squared value for Test Data:  0.9182132658376132\n"
     ]
    }
   ],
   "source": [
    "print(\"R-Squared value for Training Data: \", r2_score(y_train, y_tr_pred))\n",
    "print(\"R-Squared value for Test Data: \", r2_score(y_test, y_te_pred))"
   ]
  },
  {
   "cell_type": "code",
   "execution_count": 29,
   "metadata": {},
   "outputs": [
    {
     "name": "stdout",
     "output_type": "stream",
     "text": [
      "Mean Square Error for Training Data:  10983879250.270456\n",
      "Mean Square Error for Test Data:  12597105992.488485\n"
     ]
    }
   ],
   "source": [
    "print(\"Mean Square Error for Training Data: \", mean_squared_error(y_train, y_tr_pred))\n",
    "print(\"Mean Square Error for Test Data: \", mean_squared_error(y_test, y_te_pred))"
   ]
  },
  {
   "cell_type": "code",
   "execution_count": 30,
   "metadata": {},
   "outputs": [
    {
     "name": "stdout",
     "output_type": "stream",
     "text": [
      "Mean Absolute Error for Training Data:  52979.522866740954\n",
      "Mean Absolute Error for Test Data:  56076.910340852526\n"
     ]
    }
   ],
   "source": [
    "print(\"Mean Absolute Error for Training Data: \", mean_absolute_error(y_train, y_tr_pred))\n",
    "print(\"Mean Absolute Error for Test Data: \", mean_absolute_error(y_test, y_te_pred))"
   ]
  },
  {
   "cell_type": "markdown",
   "metadata": {},
   "source": [
    "##### Applying Cross Validation"
   ]
  },
  {
   "cell_type": "code",
   "execution_count": 31,
   "metadata": {},
   "outputs": [],
   "source": [
    "cv_results = cross_validate(pipe, X_train, y_train, cv = 5, n_jobs = -1,scoring='r2')"
   ]
  },
  {
   "cell_type": "code",
   "execution_count": 32,
   "metadata": {},
   "outputs": [
    {
     "data": {
      "text/plain": [
       "array([0.92385655, 0.91101427, 0.90983876, 0.9297808 , 0.91138376])"
      ]
     },
     "execution_count": 32,
     "metadata": {},
     "output_type": "execute_result"
    }
   ],
   "source": [
    "cv_scores = cv_results['test_score']\n",
    "cv_scores"
   ]
  },
  {
   "cell_type": "code",
   "execution_count": 33,
   "metadata": {},
   "outputs": [
    {
     "name": "stdout",
     "output_type": "stream",
     "text": [
      "Mean Cross Validation Scores:  0.917174825882926\n",
      "Std of Cross Validation Scores:  0.008110029050030916\n"
     ]
    }
   ],
   "source": [
    "print(\"Mean Cross Validation Scores: \", np.mean(cv_scores))\n",
    "print(\"Std of Cross Validation Scores: \", np.std(cv_scores))"
   ]
  },
  {
   "cell_type": "markdown",
   "metadata": {},
   "source": [
    "##### Applying GridSearchCV for Hyper parameter Selection"
   ]
  },
  {
   "cell_type": "code",
   "execution_count": 34,
   "metadata": {
    "scrolled": true
   },
   "outputs": [
    {
     "data": {
      "text/plain": [
       "{'selectkbest__k': [1,\n",
       "  2,\n",
       "  3,\n",
       "  4,\n",
       "  5,\n",
       "  6,\n",
       "  7,\n",
       "  8,\n",
       "  9,\n",
       "  10,\n",
       "  11,\n",
       "  12,\n",
       "  13,\n",
       "  14,\n",
       "  15,\n",
       "  16,\n",
       "  17,\n",
       "  18,\n",
       "  19,\n",
       "  20,\n",
       "  21,\n",
       "  22,\n",
       "  23,\n",
       "  24,\n",
       "  25,\n",
       "  26,\n",
       "  27,\n",
       "  28,\n",
       "  29,\n",
       "  30]}"
      ]
     },
     "execution_count": 34,
     "metadata": {},
     "output_type": "execute_result"
    }
   ],
   "source": [
    "k = [k+1 for k in range(len(X_train.columns))]\n",
    "grid_params = {'selectkbest__k': k}\n",
    "grid_params"
   ]
  },
  {
   "cell_type": "code",
   "execution_count": 35,
   "metadata": {},
   "outputs": [],
   "source": [
    "lr_grid_cv = GridSearchCV(pipe, param_grid=grid_params, cv=5, n_jobs=-1, scoring='r2')\n"
   ]
  },
  {
   "cell_type": "code",
   "execution_count": 36,
   "metadata": {},
   "outputs": [
    {
     "data": {
      "text/plain": [
       "GridSearchCV(cv=5, error_score=nan,\n",
       "             estimator=Pipeline(memory=None,\n",
       "                                steps=[('standardscaler',\n",
       "                                        StandardScaler(copy=True,\n",
       "                                                       with_mean=True,\n",
       "                                                       with_std=True)),\n",
       "                                       ('selectkbest',\n",
       "                                        SelectKBest(k=10,\n",
       "                                                    score_func=<function f_regression at 0x000001CDB9495438>)),\n",
       "                                       ('linearregression',\n",
       "                                        LinearRegression(copy_X=True,\n",
       "                                                         fit_intercept=True,\n",
       "                                                         n_jobs=None,\n",
       "                                                         normalize=False))],\n",
       "                                verbose=False),\n",
       "             iid='deprecated', n_jobs=-1,\n",
       "             param_grid={'selectkbest__k': [1, 2, 3, 4, 5, 6, 7, 8, 9, 10, 11,\n",
       "                                            12, 13, 14, 15, 16, 17, 18, 19, 20,\n",
       "                                            21, 22, 23, 24, 25, 26, 27, 28, 29,\n",
       "                                            30]},\n",
       "             pre_dispatch='2*n_jobs', refit=True, return_train_score=False,\n",
       "             scoring='r2', verbose=0)"
      ]
     },
     "execution_count": 36,
     "metadata": {},
     "output_type": "execute_result"
    }
   ],
   "source": [
    "lr_grid_cv.fit(X_train,y_train)"
   ]
  },
  {
   "cell_type": "code",
   "execution_count": 37,
   "metadata": {
    "scrolled": true
   },
   "outputs": [
    {
     "data": {
      "text/plain": [
       "array([0.92598983, 0.91515689, 0.91447526, 0.93240011, 0.91225004])"
      ]
     },
     "execution_count": 37,
     "metadata": {},
     "output_type": "execute_result"
    }
   ],
   "source": [
    "cv_results = cross_validate(lr_grid_cv.best_estimator_, X_train, y_train, cv=5, n_jobs = -1,scoring='r2')\n",
    "cv_scores = cv_results['test_score']\n",
    "cv_scores"
   ]
  },
  {
   "cell_type": "code",
   "execution_count": 38,
   "metadata": {},
   "outputs": [
    {
     "name": "stdout",
     "output_type": "stream",
     "text": [
      "Mean Cross Validation Scores:  0.9200544244028569\n",
      "Std of Cross Validation Scores:  0.007793155468778798\n"
     ]
    }
   ],
   "source": [
    "print(\"Mean Cross Validation Scores: \", np.mean(cv_scores))\n",
    "print(\"Std of Cross Validation Scores: \", np.std(cv_scores))"
   ]
  },
  {
   "cell_type": "code",
   "execution_count": 39,
   "metadata": {},
   "outputs": [
    {
     "data": {
      "text/plain": [
       "{'selectkbest__k': 26}"
      ]
     },
     "execution_count": 39,
     "metadata": {},
     "output_type": "execute_result"
    }
   ],
   "source": [
    "# Printing Best value of hyper parameter\n",
    "lr_grid_cv.best_params_"
   ]
  },
  {
   "cell_type": "code",
   "execution_count": 40,
   "metadata": {
    "scrolled": true
   },
   "outputs": [
    {
     "data": {
      "text/plain": [
       "sqft_median_price_zipcode_ratio    242600.749981\n",
       "Zipcode_Median_housePrice          213827.733874\n",
       "sqft_above_zipcode_ratio            59572.720143\n",
       "sqft_lot15_zipcode_ratio            14304.737752\n",
       "Sqft_Basement                       12580.575781\n",
       "Sqft_Living                         10597.872565\n",
       "Sqft_Living_2015                    10221.754847\n",
       "Sqft_Above                           5051.784606\n",
       "sqft_lot_zipcode_ratio               4284.347279\n",
       "View                                 2686.327825\n",
       "sqft_basement_zipcode_ratio          1878.784897\n",
       "Listing_per_Zip_Code                 1850.717018\n",
       "Waterfront                           -264.355526\n",
       "Grade                                -842.189803\n",
       "Bathroom_Count                      -1637.312906\n",
       "Change_In_Sqft_Plot                 -1699.793086\n",
       "Zipcode                             -2443.929954\n",
       "Latitude                            -3047.893855\n",
       "Change_In_Sqft_Living               -4580.332842\n",
       "Floor_Count                         -7468.644011\n",
       "Sqft_Plot                           -7574.525230\n",
       "Plot-Living                         -7846.804162\n",
       "Bedroom_Count                      -11659.002191\n",
       "Sqft_Plot_2015                     -13032.657606\n",
       "sqft_living_zipcode_ratio          -24455.392775\n",
       "sqft_living15_zipcode_ratio        -31766.068111\n",
       "dtype: float64"
      ]
     },
     "execution_count": 40,
     "metadata": {},
     "output_type": "execute_result"
    }
   ],
   "source": [
    "# Printing Top Features Contributing \n",
    "selected = lr_grid_cv.best_estimator_.named_steps.selectkbest.get_support()\n",
    "selected\n",
    "coefs = lr_grid_cv.best_estimator_.named_steps.linearregression.coef_\n",
    "features = X_train.columns[selected]\n",
    "pd.Series(coefs, index=features).sort_values(ascending=False)"
   ]
  },
  {
   "cell_type": "markdown",
   "metadata": {},
   "source": [
    "#### Model 3: Linear Regression with SelectKBest(Best Parameters)"
   ]
  },
  {
   "cell_type": "code",
   "execution_count": 41,
   "metadata": {},
   "outputs": [
    {
     "data": {
      "text/plain": [
       "Pipeline(memory=None,\n",
       "         steps=[('standardscaler',\n",
       "                 StandardScaler(copy=True, with_mean=True, with_std=True)),\n",
       "                ('selectkbest',\n",
       "                 SelectKBest(k=21,\n",
       "                             score_func=<function f_regression at 0x000001CDB9495438>)),\n",
       "                ('linearregression',\n",
       "                 LinearRegression(copy_X=True, fit_intercept=True, n_jobs=None,\n",
       "                                  normalize=False))],\n",
       "         verbose=False)"
      ]
     },
     "execution_count": 41,
     "metadata": {},
     "output_type": "execute_result"
    }
   ],
   "source": [
    "# Fitting Model\n",
    "pipe21 = make_pipeline(\n",
    "    StandardScaler(),\n",
    "    SelectKBest(f_regression, k=21),\n",
    "    LinearRegression()\n",
    ")\n",
    "pipe21.fit(X_train, y_train)"
   ]
  },
  {
   "cell_type": "code",
   "execution_count": 42,
   "metadata": {},
   "outputs": [],
   "source": [
    "y_tr_predict = pipe.predict(X_train)\n",
    "y_te_predict = pipe.predict(X_test)"
   ]
  },
  {
   "cell_type": "markdown",
   "metadata": {},
   "source": [
    "##### Printing Results"
   ]
  },
  {
   "cell_type": "code",
   "execution_count": 43,
   "metadata": {},
   "outputs": [
    {
     "name": "stdout",
     "output_type": "stream",
     "text": [
      "R-Squared value for Training Data:  0.9177049079294216\n",
      "R-Squared value for Test Data:  0.9182132658376132\n"
     ]
    }
   ],
   "source": [
    "print(\"R-Squared value for Training Data: \", r2_score(y_train, y_tr_pred))\n",
    "print(\"R-Squared value for Test Data: \", r2_score(y_test, y_te_pred))"
   ]
  },
  {
   "cell_type": "code",
   "execution_count": 44,
   "metadata": {},
   "outputs": [
    {
     "name": "stdout",
     "output_type": "stream",
     "text": [
      "Mean Absolute Error for Training Data:  52979.522866740954\n",
      "Mean Absolute Error for Test Data:  56076.910340852526\n"
     ]
    }
   ],
   "source": [
    "print(\"Mean Absolute Error for Training Data: \", mean_absolute_error(y_train, y_tr_pred))\n",
    "print(\"Mean Absolute Error for Test Data: \", mean_absolute_error(y_test, y_te_pred))"
   ]
  },
  {
   "cell_type": "code",
   "execution_count": 45,
   "metadata": {},
   "outputs": [
    {
     "name": "stdout",
     "output_type": "stream",
     "text": [
      "Mean Square Error for Training Data:  10983879250.270456\n",
      "Mean Square Error for Test Data:  12597105992.488485\n"
     ]
    }
   ],
   "source": [
    "print(\"Mean Square Error for Training Data: \", mean_squared_error(y_train, y_tr_pred))\n",
    "print(\"Mean Square Error for Test Data: \", mean_squared_error(y_test, y_te_pred))"
   ]
  },
  {
   "cell_type": "markdown",
   "metadata": {},
   "source": [
    "#### Model 4: Random Forest"
   ]
  },
  {
   "cell_type": "code",
   "execution_count": 46,
   "metadata": {
    "scrolled": true
   },
   "outputs": [
    {
     "name": "stdout",
     "output_type": "stream",
     "text": [
      "Mean absolute error: 7304.161221122114\n",
      "Model score 0.9830496480100623\n"
     ]
    }
   ],
   "source": [
    "RFRmodel=RandomForestRegressor(random_state=1)\n",
    "RFRmodel.fit(X_train,y_train)\n",
    "RFRpred=RFRmodel.predict(X_test)\n",
    "rfrScore = RFRmodel.score(X_test,y_test)\n",
    "print(\"Mean absolute error:\",mean_absolute_error(RFRpred,y_test))\n",
    "print(\"Model score\",rfrScore)"
   ]
  },
  {
   "cell_type": "code",
   "execution_count": 47,
   "metadata": {},
   "outputs": [
    {
     "data": {
      "text/plain": [
       "Pipeline(memory=None,\n",
       "         steps=[('standardscaler',\n",
       "                 StandardScaler(copy=True, with_mean=True, with_std=True)),\n",
       "                ('selectkbest',\n",
       "                 SelectKBest(k=10,\n",
       "                             score_func=<function f_regression at 0x000001CDB9495438>)),\n",
       "                ('randomforestregressor',\n",
       "                 RandomForestRegressor(bootstrap=True, ccp_alpha=0.0,\n",
       "                                       criterion='mse', max_depth=None,\n",
       "                                       max_features='auto', max_leaf_nodes=None,\n",
       "                                       max_samples=None,\n",
       "                                       min_impurity_decrease=0.0,\n",
       "                                       min_impurity_split=None,\n",
       "                                       min_samples_leaf=1, min_samples_split=2,\n",
       "                                       min_weight_fraction_leaf=0.0,\n",
       "                                       n_estimators=100, n_jobs=None,\n",
       "                                       oob_score=False, random_state=1,\n",
       "                                       verbose=0, warm_start=False))],\n",
       "         verbose=False)"
      ]
     },
     "execution_count": 47,
     "metadata": {},
     "output_type": "execute_result"
    }
   ],
   "source": [
    "# Fitting Model\n",
    "pipe = make_pipeline(\n",
    "        StandardScaler(),\n",
    "    SelectKBest(f_regression),\n",
    "    RandomForestRegressor(random_state=1)\n",
    ")\n",
    "pipe.fit(X_train, y_train)"
   ]
  },
  {
   "cell_type": "code",
   "execution_count": 48,
   "metadata": {},
   "outputs": [],
   "source": [
    "# Predicting Price\n",
    "y_tr_pred = pipe.predict(X_train)\n",
    "y_te_pred = pipe.predict(X_test)"
   ]
  },
  {
   "cell_type": "markdown",
   "metadata": {},
   "source": [
    "##### Printing Results"
   ]
  },
  {
   "cell_type": "code",
   "execution_count": 49,
   "metadata": {},
   "outputs": [
    {
     "name": "stdout",
     "output_type": "stream",
     "text": [
      "R-Squared value for Training Data:  0.9977071490462202\n",
      "R-Squared value for Test Data:  0.9865669148348859\n"
     ]
    }
   ],
   "source": [
    "print(\"R-Squared value for Training Data: \", r2_score(y_train, y_tr_pred))\n",
    "print(\"R-Squared value for Test Data: \", r2_score(y_test, y_te_pred))"
   ]
  },
  {
   "cell_type": "code",
   "execution_count": 50,
   "metadata": {},
   "outputs": [
    {
     "name": "stdout",
     "output_type": "stream",
     "text": [
      "Mean Square Error for Training Data:  306025516.0002279\n",
      "Mean Square Error for Test Data:  2069015218.2270267\n"
     ]
    }
   ],
   "source": [
    "print(\"Mean Square Error for Training Data: \", mean_squared_error(y_train, y_tr_pred))\n",
    "print(\"Mean Square Error for Test Data: \", mean_squared_error(y_test, y_te_pred))"
   ]
  },
  {
   "cell_type": "code",
   "execution_count": 51,
   "metadata": {},
   "outputs": [
    {
     "name": "stdout",
     "output_type": "stream",
     "text": [
      "Mean Square Error for Training Data:  1980.5033745610817\n",
      "Mean Square Error for Test Data:  6128.626402640263\n"
     ]
    }
   ],
   "source": [
    "print(\"Mean Square Error for Training Data: \", mean_absolute_error(y_train, y_tr_pred))\n",
    "print(\"Mean Square Error for Test Data: \", mean_absolute_error(y_test, y_te_pred))"
   ]
  },
  {
   "cell_type": "markdown",
   "metadata": {},
   "source": [
    "##### Applying Cross Validation\n"
   ]
  },
  {
   "cell_type": "code",
   "execution_count": 52,
   "metadata": {},
   "outputs": [
    {
     "data": {
      "text/plain": [
       "array([0.99418418, 0.98648856, 0.99096487, 0.97797082, 0.97407116])"
      ]
     },
     "execution_count": 52,
     "metadata": {},
     "output_type": "execute_result"
    }
   ],
   "source": [
    "cv_results = cross_validate(pipe, X_train, y_train, cv=5, n_jobs = -1,scoring='r2')\n",
    "cv_scores = cv_results['test_score']\n",
    "cv_scores"
   ]
  },
  {
   "cell_type": "code",
   "execution_count": 53,
   "metadata": {},
   "outputs": [
    {
     "name": "stdout",
     "output_type": "stream",
     "text": [
      "Mean Cross Validation Scores:  0.9847359179762547\n",
      "Std of Cross Validation Scores:  0.007624234264294771\n"
     ]
    }
   ],
   "source": [
    "print(\"Mean Cross Validation Scores: \", np.mean(cv_scores))\n",
    "print(\"Std of Cross Validation Scores: \", np.std(cv_scores))"
   ]
  },
  {
   "cell_type": "code",
   "execution_count": 54,
   "metadata": {},
   "outputs": [
    {
     "data": {
      "text/plain": [
       "dict_keys(['memory', 'steps', 'verbose', 'standardscaler', 'selectkbest', 'randomforestregressor', 'standardscaler__copy', 'standardscaler__with_mean', 'standardscaler__with_std', 'selectkbest__k', 'selectkbest__score_func', 'randomforestregressor__bootstrap', 'randomforestregressor__ccp_alpha', 'randomforestregressor__criterion', 'randomforestregressor__max_depth', 'randomforestregressor__max_features', 'randomforestregressor__max_leaf_nodes', 'randomforestregressor__max_samples', 'randomforestregressor__min_impurity_decrease', 'randomforestregressor__min_impurity_split', 'randomforestregressor__min_samples_leaf', 'randomforestregressor__min_samples_split', 'randomforestregressor__min_weight_fraction_leaf', 'randomforestregressor__n_estimators', 'randomforestregressor__n_jobs', 'randomforestregressor__oob_score', 'randomforestregressor__random_state', 'randomforestregressor__verbose', 'randomforestregressor__warm_start'])"
      ]
     },
     "execution_count": 54,
     "metadata": {},
     "output_type": "execute_result"
    }
   ],
   "source": [
    "pipe.get_params().keys()"
   ]
  },
  {
   "cell_type": "code",
   "execution_count": 55,
   "metadata": {},
   "outputs": [
    {
     "data": {
      "text/plain": [
       "{'randomforestregressor__n_estimators': [10,\n",
       "  11,\n",
       "  12,\n",
       "  14,\n",
       "  16,\n",
       "  18,\n",
       "  20,\n",
       "  23,\n",
       "  26,\n",
       "  29,\n",
       "  33,\n",
       "  37,\n",
       "  42,\n",
       "  48,\n",
       "  54,\n",
       "  61,\n",
       "  69,\n",
       "  78,\n",
       "  88,\n",
       "  100],\n",
       " 'standardscaler': [StandardScaler(copy=True, with_mean=True, with_std=True),\n",
       "  None]}"
      ]
     },
     "execution_count": 55,
     "metadata": {},
     "output_type": "execute_result"
    }
   ],
   "source": [
    "n_est = [int(n) for n in np.logspace(start=1, stop=2, num=20)]\n",
    "grid_params = {\n",
    "        'randomforestregressor__n_estimators': n_est,\n",
    "        'standardscaler': [StandardScaler(), None],\n",
    "}\n",
    "grid_params"
   ]
  },
  {
   "cell_type": "markdown",
   "metadata": {},
   "source": [
    "#### Applying GridSearchCV for Hyper Parameter Selection"
   ]
  },
  {
   "cell_type": "code",
   "execution_count": 56,
   "metadata": {},
   "outputs": [],
   "source": [
    "rf_grid_cv = GridSearchCV(pipe, param_grid=grid_params, cv=5, n_jobs=-1, scoring='r2')"
   ]
  },
  {
   "cell_type": "markdown",
   "metadata": {},
   "source": [
    "The cell below will take time to run."
   ]
  },
  {
   "cell_type": "code",
   "execution_count": 57,
   "metadata": {},
   "outputs": [
    {
     "data": {
      "text/plain": [
       "GridSearchCV(cv=5, error_score=nan,\n",
       "             estimator=Pipeline(memory=None,\n",
       "                                steps=[('standardscaler',\n",
       "                                        StandardScaler(copy=True,\n",
       "                                                       with_mean=True,\n",
       "                                                       with_std=True)),\n",
       "                                       ('selectkbest',\n",
       "                                        SelectKBest(k=10,\n",
       "                                                    score_func=<function f_regression at 0x000001CDB9495438>)),\n",
       "                                       ('randomforestregressor',\n",
       "                                        RandomForestRegressor(bootstrap=True,\n",
       "                                                              ccp_alpha=0.0,\n",
       "                                                              criterion='mse',\n",
       "                                                              max_depth=None,\n",
       "                                                              max_featu...\n",
       "                                                              random_state=1,\n",
       "                                                              verbose=0,\n",
       "                                                              warm_start=False))],\n",
       "                                verbose=False),\n",
       "             iid='deprecated', n_jobs=-1,\n",
       "             param_grid={'randomforestregressor__n_estimators': [10, 11, 12, 14,\n",
       "                                                                 16, 18, 20, 23,\n",
       "                                                                 26, 29, 33, 37,\n",
       "                                                                 42, 48, 54, 61,\n",
       "                                                                 69, 78, 88,\n",
       "                                                                 100],\n",
       "                         'standardscaler': [StandardScaler(copy=True,\n",
       "                                                           with_mean=True,\n",
       "                                                           with_std=True),\n",
       "                                            None]},\n",
       "             pre_dispatch='2*n_jobs', refit=True, return_train_score=False,\n",
       "             scoring='r2', verbose=0)"
      ]
     },
     "execution_count": 57,
     "metadata": {},
     "output_type": "execute_result"
    }
   ],
   "source": [
    "rf_grid_cv.fit(X_train, y_train)"
   ]
  },
  {
   "cell_type": "code",
   "execution_count": 58,
   "metadata": {},
   "outputs": [
    {
     "data": {
      "text/plain": [
       "{'randomforestregressor__n_estimators': 16,\n",
       " 'standardscaler': StandardScaler(copy=True, with_mean=True, with_std=True)}"
      ]
     },
     "execution_count": 58,
     "metadata": {},
     "output_type": "execute_result"
    }
   ],
   "source": [
    "rf_grid_cv.best_params_"
   ]
  },
  {
   "cell_type": "code",
   "execution_count": 59,
   "metadata": {},
   "outputs": [
    {
     "data": {
      "text/plain": [
       "array([0.99324368, 0.99008696, 0.98711712, 0.98107086, 0.97401646])"
      ]
     },
     "execution_count": 59,
     "metadata": {},
     "output_type": "execute_result"
    }
   ],
   "source": [
    "cv_results = cross_validate(rf_grid_cv.best_estimator_, X_train, y_train, cv= 5, n_jobs = -1,scoring='r2')\n",
    "cv_scores = cv_results['test_score']\n",
    "cv_scores"
   ]
  },
  {
   "cell_type": "code",
   "execution_count": 60,
   "metadata": {
    "scrolled": true
   },
   "outputs": [
    {
     "data": {
      "text/plain": [
       "sqft_median_price_zipcode_ratio    0.374756\n",
       "Zipcode_Median_housePrice          0.299436\n",
       "Grade                              0.284169\n",
       "Sqft_Living                        0.017250\n",
       "sqft_living_zipcode_ratio          0.009623\n",
       "Change_In_Sqft_Living              0.008560\n",
       "Sqft_Above                         0.003833\n",
       "Sqft_Living_2015                   0.001187\n",
       "Bathroom_Count                     0.001070\n",
       "View                               0.000116\n",
       "dtype: float64"
      ]
     },
     "execution_count": 60,
     "metadata": {},
     "output_type": "execute_result"
    }
   ],
   "source": [
    "selected = rf_grid_cv.best_estimator_.named_steps.selectkbest.get_support()\n",
    "features = rf_grid_cv.best_estimator_.named_steps.randomforestregressor.feature_importances_\n",
    "columns = X_train.columns[selected]\n",
    "pd.Series(features, index=columns).sort_values(ascending=False)"
   ]
  },
  {
   "cell_type": "code",
   "execution_count": 61,
   "metadata": {},
   "outputs": [
    {
     "name": "stdout",
     "output_type": "stream",
     "text": [
      "Mean Cross Validation Scores:  0.9851070158696285\n",
      "Std of Cross Validation Scores:  0.006845968716555976\n"
     ]
    }
   ],
   "source": [
    "print(\"Mean Cross Validation Scores: \", np.mean(cv_scores))\n",
    "print(\"Std of Cross Validation Scores: \", np.std(cv_scores))"
   ]
  },
  {
   "cell_type": "markdown",
   "metadata": {},
   "source": [
    "#### Model 5: Random Forest with SelectKBest(best estimator)"
   ]
  },
  {
   "cell_type": "code",
   "execution_count": 62,
   "metadata": {},
   "outputs": [
    {
     "data": {
      "text/plain": [
       "Pipeline(memory=None,\n",
       "         steps=[('standardscaler',\n",
       "                 StandardScaler(copy=True, with_mean=True, with_std=True)),\n",
       "                ('selectkbest',\n",
       "                 SelectKBest(k=10,\n",
       "                             score_func=<function f_regression at 0x000001CDB9495438>)),\n",
       "                ('randomforestregressor',\n",
       "                 RandomForestRegressor(bootstrap=True, ccp_alpha=0.0,\n",
       "                                       criterion='mse', max_depth=None,\n",
       "                                       max_features='auto', max_leaf_nodes=None,\n",
       "                                       max_samples=None,\n",
       "                                       min_impurity_decrease=0.0,\n",
       "                                       min_impurity_split=None,\n",
       "                                       min_samples_leaf=1, min_samples_split=2,\n",
       "                                       min_weight_fraction_leaf=0.0,\n",
       "                                       n_estimators=100, n_jobs=None,\n",
       "                                       oob_score=False, random_state=29,\n",
       "                                       verbose=0, warm_start=False))],\n",
       "         verbose=False)"
      ]
     },
     "execution_count": 62,
     "metadata": {},
     "output_type": "execute_result"
    }
   ],
   "source": [
    "# Fitting Model\n",
    "pipe_rf_new_param = make_pipeline(\n",
    "    StandardScaler(),\n",
    "    SelectKBest(f_regression),\n",
    "    RandomForestRegressor(random_state=29)\n",
    ")\n",
    "pipe_rf_new_param.fit(X_train, y_train)"
   ]
  },
  {
   "cell_type": "code",
   "execution_count": 63,
   "metadata": {},
   "outputs": [],
   "source": [
    "# Predicting Price\n",
    "y_tr_pred = pipe_rf_new_param.predict(X_train)\n",
    "y_te_pred = pipe_rf_new_param.predict(X_test)"
   ]
  },
  {
   "cell_type": "markdown",
   "metadata": {},
   "source": [
    "##### Printing Results"
   ]
  },
  {
   "cell_type": "code",
   "execution_count": 64,
   "metadata": {},
   "outputs": [
    {
     "name": "stdout",
     "output_type": "stream",
     "text": [
      "R-Squared value for Training Data:  0.9978388001678369\n",
      "R-Squared value for Test Data:  0.9843191999980323\n"
     ]
    }
   ],
   "source": [
    "print(\"R-Squared value for Training Data: \", r2_score(y_train, y_tr_pred))\n",
    "print(\"R-Squared value for Test Data: \", r2_score(y_test, y_te_pred))"
   ]
  },
  {
   "cell_type": "code",
   "execution_count": 65,
   "metadata": {},
   "outputs": [
    {
     "name": "stdout",
     "output_type": "stream",
     "text": [
      "Mean Absolute Error for Training Data:  1981.1812137728627\n",
      "Mean Absolute Error for Test Data:  6502.9726025459695\n"
     ]
    }
   ],
   "source": [
    "print(\"Mean Absolute Error for Training Data: \", mean_absolute_error(y_train, y_tr_pred))\n",
    "print(\"Mean Absolute Error for Test Data: \", mean_absolute_error(y_test, y_te_pred))"
   ]
  },
  {
   "cell_type": "code",
   "execution_count": 66,
   "metadata": {},
   "outputs": [
    {
     "name": "stdout",
     "output_type": "stream",
     "text": [
      "Mean Square Error for Training Data:  288454115.4875359\n",
      "Mean Square Error for Test Data:  2415216864.8720126\n"
     ]
    }
   ],
   "source": [
    "print(\"Mean Square Error for Training Data: \", mean_squared_error(y_train, y_tr_pred))\n",
    "print(\"Mean Square Error for Test Data: \", mean_squared_error(y_test, y_te_pred))"
   ]
  },
  {
   "cell_type": "markdown",
   "metadata": {},
   "source": [
    "### Saving Model"
   ]
  },
  {
   "cell_type": "code",
   "execution_count": 67,
   "metadata": {},
   "outputs": [],
   "source": [
    "#Code task 28#\n",
    "#This may not be \"production grade ML deployment\" practice, but adding some basic\n",
    "#information to your saved models can save your bacon in development.\n",
    "#Just what version model have you just loaded to reuse? What version of `sklearn`\n",
    "#created it? When did you make it?\n",
    "#Assign the pandas version number (`pd.__version__`) to the `pandas_version` attribute,\n",
    "#the numpy version (`np.__version__`) to the `numpy_version` attribute,\n",
    "#the sklearn version (`sklearn_version`) to the `sklearn_version` attribute,\n",
    "#and the current datetime (`datetime.datetime.now()`) to the `build_datetime` attribute\n",
    "#Let's call this model version '1.0'\n",
    "best_model = rf_grid_cv.best_estimator_\n",
    "best_model.version = rf_grid_cv\n",
    "best_model.pandas_version = pd.__version__\n",
    "best_model.numpy_version = np.__version__\n",
    "best_model.sklearn_version = sklearn_version\n",
    "best_model.X_columns = [col for col in X_train.columns]\n",
    "best_model.build_datetime = datetime.datetime.now()"
   ]
  },
  {
   "cell_type": "code",
   "execution_count": 68,
   "metadata": {},
   "outputs": [],
   "source": [
    "modelpath = r'..\\Model\\my_model.pkl'\n",
    "output = open(modelpath, 'wb')\n",
    "pickle.dump(best_model, output)\n",
    "output.close()"
   ]
  },
  {
   "cell_type": "markdown",
   "metadata": {},
   "source": [
    "**Top Features Given by Random Forest model**\n",
    "* sqft_median_price_zipcode_ratio    0.374756\n",
    "* Zipcode_Median_housePrice          0.299436\n",
    "* Grade                              0.284169\n",
    "* Sqft_Living                        0.017250\n",
    "* sqft_living_zipcode_ratio          0.009623\n",
    "* Change_In_Sqft_Living              0.008560\n",
    "* Sqft_Above                         0.003833\n",
    "* Sqft_Living_2015                   0.001187\n",
    "* Bathroom_Count                     0.001070\n",
    "* View  \n",
    "\n",
    "**Top Features Given by Linear Regression Model**\n",
    "* sqft_median_price_zipcode_ratio    242600.749981\n",
    "* Zipcode_Median_housePrice          213827.733874\n",
    "* sqft_above_zipcode_ratio            59572.720143\n",
    "* sqft_lot15_zipcode_ratio            14304.737752\n",
    "* Sqft_Basement                       12580.575781\n",
    "* Sqft_Living                         10597.872565\n",
    "* Sqft_Living_2015                    10221.754847\n",
    "* Sqft_Above                           5051.784606\n",
    "* sqft_lot_zipcode_ratio               4284.347279\n",
    "* View                                 2686.327825"
   ]
  }
 ],
 "metadata": {
  "kernelspec": {
   "display_name": "Python 3",
   "language": "python",
   "name": "python3"
  },
  "language_info": {
   "codemirror_mode": {
    "name": "ipython",
    "version": 3
   },
   "file_extension": ".py",
   "mimetype": "text/x-python",
   "name": "python",
   "nbconvert_exporter": "python",
   "pygments_lexer": "ipython3",
   "version": "3.7.6"
  }
 },
 "nbformat": 4,
 "nbformat_minor": 4
}
