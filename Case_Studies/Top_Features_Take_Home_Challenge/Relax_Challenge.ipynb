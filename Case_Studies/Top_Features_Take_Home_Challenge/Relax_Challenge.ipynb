{
 "cells": [
  {
   "cell_type": "markdown",
   "metadata": {},
   "source": [
    "# Introduction\n",
    "\n",
    "## About User Table\n",
    "A user table ( \"takehome_users\" ) with data on 12,000 users who signed up for the product in the last two years. \n",
    "\n",
    "This table includes:\n",
    "\n",
    "* name: the user's name\n",
    "* object_id: the user's id\n",
    "* email: email address\n",
    "* creation_source: how their account was created. This takes on one of 5 values:\n",
    "    * PERSONAL_PROJECTS: invited to join another user's personal workspace\n",
    "    * GUEST_INVITE: invited to an organization as a guest(limited permissions)\n",
    "    * ORG_INVITE: invited to an organization (as a full member)\n",
    "    * SIGNUP: signed up via the website\n",
    "    * SIGNUP_GOOGLE_AUTH: signed up using Google Authentication (using a Google email account for their login id)\n",
    "* creation_time: when they created their account\n",
    "* last_session_creation_time: unix timestamp of last login\n",
    "* opted_in_to_mailing_list: whether they have opted into receiving marketing emails\n",
    "* enabled_for_marketing_drip: whether they are on the regular marketing email drip\n",
    "* org_id: the organization (group of users) they belong to\n",
    "* invited_by_user_id: which user invited them to join (if applicable).\n",
    "\n",
    "## About user_engagement Table\n",
    "\n",
    "A usage summary table ( \"takehome_user_engagement\" ) that has a row for each day that a user logged into the product.\n",
    "\n",
    "   **Aim:-**\n",
    "    To find the features that predict future Adopted user.\n",
    "\n",
    "   **Definition of Adopted User:-**\n",
    "    User who has logged into the product on three separate days in at least one sevenday period."
   ]
  },
  {
   "cell_type": "markdown",
   "metadata": {},
   "source": [
    "### Imports "
   ]
  },
  {
   "cell_type": "code",
   "execution_count": 69,
   "metadata": {},
   "outputs": [],
   "source": [
    "#Initial imports\n",
    "import pandas as pd\n",
    "import numpy as np\n",
    "import matplotlib.pyplot as plt\n",
    "import os\n",
    "\n",
    "# importing Datetime to change Last_Login dtype\n",
    "from datetime import datetime\n",
    "\n",
    "\n",
    "from sklearn.feature_selection import SelectKBest\n",
    "from sklearn.feature_selection import chi2"
   ]
  },
  {
   "cell_type": "markdown",
   "metadata": {},
   "source": [
    "### Data Load User Details"
   ]
  },
  {
   "cell_type": "code",
   "execution_count": 2,
   "metadata": {},
   "outputs": [
    {
     "data": {
      "text/plain": [
       "'C:\\\\Users\\\\Avinash Jha\\\\Documents\\\\Python\\\\Springboard\\\\GITHUB\\\\relax_challenge'"
      ]
     },
     "execution_count": 2,
     "metadata": {},
     "output_type": "execute_result"
    }
   ],
   "source": [
    "os.getcwd()"
   ]
  },
  {
   "cell_type": "code",
   "execution_count": 3,
   "metadata": {},
   "outputs": [
    {
     "data": {
      "text/html": [
       "<div>\n",
       "<style scoped>\n",
       "    .dataframe tbody tr th:only-of-type {\n",
       "        vertical-align: middle;\n",
       "    }\n",
       "\n",
       "    .dataframe tbody tr th {\n",
       "        vertical-align: top;\n",
       "    }\n",
       "\n",
       "    .dataframe thead th {\n",
       "        text-align: right;\n",
       "    }\n",
       "</style>\n",
       "<table border=\"1\" class=\"dataframe\">\n",
       "  <thead>\n",
       "    <tr style=\"text-align: right;\">\n",
       "      <th></th>\n",
       "      <th>object_id</th>\n",
       "      <th>creation_time</th>\n",
       "      <th>name</th>\n",
       "      <th>email</th>\n",
       "      <th>creation_source</th>\n",
       "      <th>last_session_creation_time</th>\n",
       "      <th>opted_in_to_mailing_list</th>\n",
       "      <th>enabled_for_marketing_drip</th>\n",
       "      <th>org_id</th>\n",
       "      <th>invited_by_user_id</th>\n",
       "    </tr>\n",
       "  </thead>\n",
       "  <tbody>\n",
       "    <tr>\n",
       "      <th>0</th>\n",
       "      <td>1</td>\n",
       "      <td>2014-04-22 03:53:30</td>\n",
       "      <td>Clausen August</td>\n",
       "      <td>AugustCClausen@yahoo.com</td>\n",
       "      <td>GUEST_INVITE</td>\n",
       "      <td>1.398139e+09</td>\n",
       "      <td>1</td>\n",
       "      <td>0</td>\n",
       "      <td>11</td>\n",
       "      <td>10803.0</td>\n",
       "    </tr>\n",
       "    <tr>\n",
       "      <th>1</th>\n",
       "      <td>2</td>\n",
       "      <td>2013-11-15 03:45:04</td>\n",
       "      <td>Poole Matthew</td>\n",
       "      <td>MatthewPoole@gustr.com</td>\n",
       "      <td>ORG_INVITE</td>\n",
       "      <td>1.396238e+09</td>\n",
       "      <td>0</td>\n",
       "      <td>0</td>\n",
       "      <td>1</td>\n",
       "      <td>316.0</td>\n",
       "    </tr>\n",
       "    <tr>\n",
       "      <th>2</th>\n",
       "      <td>3</td>\n",
       "      <td>2013-03-19 23:14:52</td>\n",
       "      <td>Bottrill Mitchell</td>\n",
       "      <td>MitchellBottrill@gustr.com</td>\n",
       "      <td>ORG_INVITE</td>\n",
       "      <td>1.363735e+09</td>\n",
       "      <td>0</td>\n",
       "      <td>0</td>\n",
       "      <td>94</td>\n",
       "      <td>1525.0</td>\n",
       "    </tr>\n",
       "    <tr>\n",
       "      <th>3</th>\n",
       "      <td>4</td>\n",
       "      <td>2013-05-21 08:09:28</td>\n",
       "      <td>Clausen Nicklas</td>\n",
       "      <td>NicklasSClausen@yahoo.com</td>\n",
       "      <td>GUEST_INVITE</td>\n",
       "      <td>1.369210e+09</td>\n",
       "      <td>0</td>\n",
       "      <td>0</td>\n",
       "      <td>1</td>\n",
       "      <td>5151.0</td>\n",
       "    </tr>\n",
       "    <tr>\n",
       "      <th>4</th>\n",
       "      <td>5</td>\n",
       "      <td>2013-01-17 10:14:20</td>\n",
       "      <td>Raw Grace</td>\n",
       "      <td>GraceRaw@yahoo.com</td>\n",
       "      <td>GUEST_INVITE</td>\n",
       "      <td>1.358850e+09</td>\n",
       "      <td>0</td>\n",
       "      <td>0</td>\n",
       "      <td>193</td>\n",
       "      <td>5240.0</td>\n",
       "    </tr>\n",
       "  </tbody>\n",
       "</table>\n",
       "</div>"
      ],
      "text/plain": [
       "   object_id        creation_time               name  \\\n",
       "0          1  2014-04-22 03:53:30     Clausen August   \n",
       "1          2  2013-11-15 03:45:04      Poole Matthew   \n",
       "2          3  2013-03-19 23:14:52  Bottrill Mitchell   \n",
       "3          4  2013-05-21 08:09:28    Clausen Nicklas   \n",
       "4          5  2013-01-17 10:14:20          Raw Grace   \n",
       "\n",
       "                        email creation_source  last_session_creation_time  \\\n",
       "0    AugustCClausen@yahoo.com    GUEST_INVITE                1.398139e+09   \n",
       "1      MatthewPoole@gustr.com      ORG_INVITE                1.396238e+09   \n",
       "2  MitchellBottrill@gustr.com      ORG_INVITE                1.363735e+09   \n",
       "3   NicklasSClausen@yahoo.com    GUEST_INVITE                1.369210e+09   \n",
       "4          GraceRaw@yahoo.com    GUEST_INVITE                1.358850e+09   \n",
       "\n",
       "   opted_in_to_mailing_list  enabled_for_marketing_drip  org_id  \\\n",
       "0                         1                           0      11   \n",
       "1                         0                           0       1   \n",
       "2                         0                           0      94   \n",
       "3                         0                           0       1   \n",
       "4                         0                           0     193   \n",
       "\n",
       "   invited_by_user_id  \n",
       "0             10803.0  \n",
       "1               316.0  \n",
       "2              1525.0  \n",
       "3              5151.0  \n",
       "4              5240.0  "
      ]
     },
     "execution_count": 3,
     "metadata": {},
     "output_type": "execute_result"
    }
   ],
   "source": [
    "user = pd.read_csv(r'C:\\Users\\Avinash Jha\\Documents\\Python\\Springboard\\GITHUB\\SpringBoard_CaseStudy\\relax_challenge\\users.csv', encoding = 'latin-1')\n",
    "user.head()"
   ]
  },
  {
   "cell_type": "markdown",
   "metadata": {},
   "source": [
    "Used Encoding as without it the cell raised an UnicodeDecodeError. I used encoding = 'Latin-1' because it worked for me."
   ]
  },
  {
   "cell_type": "markdown",
   "metadata": {},
   "source": [
    "#### Changing Column Names"
   ]
  },
  {
   "cell_type": "code",
   "execution_count": 4,
   "metadata": {},
   "outputs": [
    {
     "data": {
      "text/html": [
       "<div>\n",
       "<style scoped>\n",
       "    .dataframe tbody tr th:only-of-type {\n",
       "        vertical-align: middle;\n",
       "    }\n",
       "\n",
       "    .dataframe tbody tr th {\n",
       "        vertical-align: top;\n",
       "    }\n",
       "\n",
       "    .dataframe thead th {\n",
       "        text-align: right;\n",
       "    }\n",
       "</style>\n",
       "<table border=\"1\" class=\"dataframe\">\n",
       "  <thead>\n",
       "    <tr style=\"text-align: right;\">\n",
       "      <th></th>\n",
       "      <th>UserID</th>\n",
       "      <th>Account_Creation_Time</th>\n",
       "      <th>User_Name</th>\n",
       "      <th>User_Email</th>\n",
       "      <th>Account_Creation_Method</th>\n",
       "      <th>Last_Login</th>\n",
       "      <th>Mailing_List</th>\n",
       "      <th>Marketing_Dip</th>\n",
       "      <th>Organization_ID</th>\n",
       "      <th>Referral_By</th>\n",
       "    </tr>\n",
       "  </thead>\n",
       "  <tbody>\n",
       "    <tr>\n",
       "      <th>0</th>\n",
       "      <td>1</td>\n",
       "      <td>2014-04-22 03:53:30</td>\n",
       "      <td>Clausen August</td>\n",
       "      <td>AugustCClausen@yahoo.com</td>\n",
       "      <td>GUEST_INVITE</td>\n",
       "      <td>1.398139e+09</td>\n",
       "      <td>1</td>\n",
       "      <td>0</td>\n",
       "      <td>11</td>\n",
       "      <td>10803.0</td>\n",
       "    </tr>\n",
       "    <tr>\n",
       "      <th>1</th>\n",
       "      <td>2</td>\n",
       "      <td>2013-11-15 03:45:04</td>\n",
       "      <td>Poole Matthew</td>\n",
       "      <td>MatthewPoole@gustr.com</td>\n",
       "      <td>ORG_INVITE</td>\n",
       "      <td>1.396238e+09</td>\n",
       "      <td>0</td>\n",
       "      <td>0</td>\n",
       "      <td>1</td>\n",
       "      <td>316.0</td>\n",
       "    </tr>\n",
       "    <tr>\n",
       "      <th>2</th>\n",
       "      <td>3</td>\n",
       "      <td>2013-03-19 23:14:52</td>\n",
       "      <td>Bottrill Mitchell</td>\n",
       "      <td>MitchellBottrill@gustr.com</td>\n",
       "      <td>ORG_INVITE</td>\n",
       "      <td>1.363735e+09</td>\n",
       "      <td>0</td>\n",
       "      <td>0</td>\n",
       "      <td>94</td>\n",
       "      <td>1525.0</td>\n",
       "    </tr>\n",
       "    <tr>\n",
       "      <th>3</th>\n",
       "      <td>4</td>\n",
       "      <td>2013-05-21 08:09:28</td>\n",
       "      <td>Clausen Nicklas</td>\n",
       "      <td>NicklasSClausen@yahoo.com</td>\n",
       "      <td>GUEST_INVITE</td>\n",
       "      <td>1.369210e+09</td>\n",
       "      <td>0</td>\n",
       "      <td>0</td>\n",
       "      <td>1</td>\n",
       "      <td>5151.0</td>\n",
       "    </tr>\n",
       "    <tr>\n",
       "      <th>4</th>\n",
       "      <td>5</td>\n",
       "      <td>2013-01-17 10:14:20</td>\n",
       "      <td>Raw Grace</td>\n",
       "      <td>GraceRaw@yahoo.com</td>\n",
       "      <td>GUEST_INVITE</td>\n",
       "      <td>1.358850e+09</td>\n",
       "      <td>0</td>\n",
       "      <td>0</td>\n",
       "      <td>193</td>\n",
       "      <td>5240.0</td>\n",
       "    </tr>\n",
       "  </tbody>\n",
       "</table>\n",
       "</div>"
      ],
      "text/plain": [
       "   UserID Account_Creation_Time          User_Name  \\\n",
       "0       1   2014-04-22 03:53:30     Clausen August   \n",
       "1       2   2013-11-15 03:45:04      Poole Matthew   \n",
       "2       3   2013-03-19 23:14:52  Bottrill Mitchell   \n",
       "3       4   2013-05-21 08:09:28    Clausen Nicklas   \n",
       "4       5   2013-01-17 10:14:20          Raw Grace   \n",
       "\n",
       "                   User_Email Account_Creation_Method    Last_Login  \\\n",
       "0    AugustCClausen@yahoo.com            GUEST_INVITE  1.398139e+09   \n",
       "1      MatthewPoole@gustr.com              ORG_INVITE  1.396238e+09   \n",
       "2  MitchellBottrill@gustr.com              ORG_INVITE  1.363735e+09   \n",
       "3   NicklasSClausen@yahoo.com            GUEST_INVITE  1.369210e+09   \n",
       "4          GraceRaw@yahoo.com            GUEST_INVITE  1.358850e+09   \n",
       "\n",
       "   Mailing_List  Marketing_Dip  Organization_ID  Referral_By  \n",
       "0             1              0               11      10803.0  \n",
       "1             0              0                1        316.0  \n",
       "2             0              0               94       1525.0  \n",
       "3             0              0                1       5151.0  \n",
       "4             0              0              193       5240.0  "
      ]
     },
     "execution_count": 4,
     "metadata": {},
     "output_type": "execute_result"
    }
   ],
   "source": [
    "## Changing the names of the columns.\n",
    "New_Column_Names = ['UserID', 'Account_Creation_Time', 'User_Name', 'User_Email', 'Account_Creation_Method', \n",
    "                    'Last_Login', 'Mailing_List', 'Marketing_Dip', 'Organization_ID', 'Referral_By']\n",
    "\n",
    "user.columns = New_Column_Names\n",
    "user.head()"
   ]
  },
  {
   "cell_type": "markdown",
   "metadata": {},
   "source": [
    "#### Setting UserID as Index"
   ]
  },
  {
   "cell_type": "code",
   "execution_count": 5,
   "metadata": {},
   "outputs": [],
   "source": [
    "#I added it just for visual purpose. Commented this as later I delete it in my feature selection.\n",
    "#user.set_index('UserID', inplace = True)"
   ]
  },
  {
   "cell_type": "markdown",
   "metadata": {},
   "source": [
    "#### Initial EDA"
   ]
  },
  {
   "cell_type": "code",
   "execution_count": 6,
   "metadata": {
    "scrolled": true
   },
   "outputs": [
    {
     "name": "stdout",
     "output_type": "stream",
     "text": [
      "<class 'pandas.core.frame.DataFrame'>\n",
      "RangeIndex: 12000 entries, 0 to 11999\n",
      "Data columns (total 10 columns):\n",
      " #   Column                   Non-Null Count  Dtype  \n",
      "---  ------                   --------------  -----  \n",
      " 0   UserID                   12000 non-null  int64  \n",
      " 1   Account_Creation_Time    12000 non-null  object \n",
      " 2   User_Name                12000 non-null  object \n",
      " 3   User_Email               12000 non-null  object \n",
      " 4   Account_Creation_Method  12000 non-null  object \n",
      " 5   Last_Login               8823 non-null   float64\n",
      " 6   Mailing_List             12000 non-null  int64  \n",
      " 7   Marketing_Dip            12000 non-null  int64  \n",
      " 8   Organization_ID          12000 non-null  int64  \n",
      " 9   Referral_By              6417 non-null   float64\n",
      "dtypes: float64(2), int64(4), object(4)\n",
      "memory usage: 937.6+ KB\n"
     ]
    }
   ],
   "source": [
    "user.info()"
   ]
  },
  {
   "cell_type": "markdown",
   "metadata": {},
   "source": [
    "The dataset has 12000 entries. \n",
    "last_session_creation_time and invited_by_user_id  has null values"
   ]
  },
  {
   "cell_type": "code",
   "execution_count": 7,
   "metadata": {
    "scrolled": true
   },
   "outputs": [
    {
     "data": {
      "text/html": [
       "<div>\n",
       "<style scoped>\n",
       "    .dataframe tbody tr th:only-of-type {\n",
       "        vertical-align: middle;\n",
       "    }\n",
       "\n",
       "    .dataframe tbody tr th {\n",
       "        vertical-align: top;\n",
       "    }\n",
       "\n",
       "    .dataframe thead th {\n",
       "        text-align: right;\n",
       "    }\n",
       "</style>\n",
       "<table border=\"1\" class=\"dataframe\">\n",
       "  <thead>\n",
       "    <tr style=\"text-align: right;\">\n",
       "      <th></th>\n",
       "      <th>UserID</th>\n",
       "      <th>Last_Login</th>\n",
       "      <th>Mailing_List</th>\n",
       "      <th>Marketing_Dip</th>\n",
       "      <th>Organization_ID</th>\n",
       "      <th>Referral_By</th>\n",
       "    </tr>\n",
       "  </thead>\n",
       "  <tbody>\n",
       "    <tr>\n",
       "      <th>count</th>\n",
       "      <td>12000.00000</td>\n",
       "      <td>8.823000e+03</td>\n",
       "      <td>12000.000000</td>\n",
       "      <td>12000.000000</td>\n",
       "      <td>12000.000000</td>\n",
       "      <td>6417.000000</td>\n",
       "    </tr>\n",
       "    <tr>\n",
       "      <th>mean</th>\n",
       "      <td>6000.50000</td>\n",
       "      <td>1.379279e+09</td>\n",
       "      <td>0.249500</td>\n",
       "      <td>0.149333</td>\n",
       "      <td>141.884583</td>\n",
       "      <td>5962.957145</td>\n",
       "    </tr>\n",
       "    <tr>\n",
       "      <th>std</th>\n",
       "      <td>3464.24595</td>\n",
       "      <td>1.953116e+07</td>\n",
       "      <td>0.432742</td>\n",
       "      <td>0.356432</td>\n",
       "      <td>124.056723</td>\n",
       "      <td>3383.761968</td>\n",
       "    </tr>\n",
       "    <tr>\n",
       "      <th>min</th>\n",
       "      <td>1.00000</td>\n",
       "      <td>1.338452e+09</td>\n",
       "      <td>0.000000</td>\n",
       "      <td>0.000000</td>\n",
       "      <td>0.000000</td>\n",
       "      <td>3.000000</td>\n",
       "    </tr>\n",
       "    <tr>\n",
       "      <th>25%</th>\n",
       "      <td>3000.75000</td>\n",
       "      <td>1.363195e+09</td>\n",
       "      <td>0.000000</td>\n",
       "      <td>0.000000</td>\n",
       "      <td>29.000000</td>\n",
       "      <td>3058.000000</td>\n",
       "    </tr>\n",
       "    <tr>\n",
       "      <th>50%</th>\n",
       "      <td>6000.50000</td>\n",
       "      <td>1.382888e+09</td>\n",
       "      <td>0.000000</td>\n",
       "      <td>0.000000</td>\n",
       "      <td>108.000000</td>\n",
       "      <td>5954.000000</td>\n",
       "    </tr>\n",
       "    <tr>\n",
       "      <th>75%</th>\n",
       "      <td>9000.25000</td>\n",
       "      <td>1.398443e+09</td>\n",
       "      <td>0.000000</td>\n",
       "      <td>0.000000</td>\n",
       "      <td>238.250000</td>\n",
       "      <td>8817.000000</td>\n",
       "    </tr>\n",
       "    <tr>\n",
       "      <th>max</th>\n",
       "      <td>12000.00000</td>\n",
       "      <td>1.402067e+09</td>\n",
       "      <td>1.000000</td>\n",
       "      <td>1.000000</td>\n",
       "      <td>416.000000</td>\n",
       "      <td>11999.000000</td>\n",
       "    </tr>\n",
       "  </tbody>\n",
       "</table>\n",
       "</div>"
      ],
      "text/plain": [
       "            UserID    Last_Login  Mailing_List  Marketing_Dip  \\\n",
       "count  12000.00000  8.823000e+03  12000.000000   12000.000000   \n",
       "mean    6000.50000  1.379279e+09      0.249500       0.149333   \n",
       "std     3464.24595  1.953116e+07      0.432742       0.356432   \n",
       "min        1.00000  1.338452e+09      0.000000       0.000000   \n",
       "25%     3000.75000  1.363195e+09      0.000000       0.000000   \n",
       "50%     6000.50000  1.382888e+09      0.000000       0.000000   \n",
       "75%     9000.25000  1.398443e+09      0.000000       0.000000   \n",
       "max    12000.00000  1.402067e+09      1.000000       1.000000   \n",
       "\n",
       "       Organization_ID   Referral_By  \n",
       "count     12000.000000   6417.000000  \n",
       "mean        141.884583   5962.957145  \n",
       "std         124.056723   3383.761968  \n",
       "min           0.000000      3.000000  \n",
       "25%          29.000000   3058.000000  \n",
       "50%         108.000000   5954.000000  \n",
       "75%         238.250000   8817.000000  \n",
       "max         416.000000  11999.000000  "
      ]
     },
     "execution_count": 7,
     "metadata": {},
     "output_type": "execute_result"
    }
   ],
   "source": [
    "user.describe()"
   ]
  },
  {
   "cell_type": "code",
   "execution_count": 8,
   "metadata": {
    "scrolled": true
   },
   "outputs": [
    {
     "data": {
      "text/plain": [
       "array(['SIGNUP', 'PERSONAL_PROJECTS', 'SIGNUP_GOOGLE_AUTH'], dtype=object)"
      ]
     },
     "execution_count": 8,
     "metadata": {},
     "output_type": "execute_result"
    }
   ],
   "source": [
    "# Checking for different account creation method for users who were not referred by anyone\n",
    "user[user.Referral_By.isnull()]['Account_Creation_Method'].unique()"
   ]
  },
  {
   "cell_type": "markdown",
   "metadata": {},
   "source": [
    "**Referral By**\n",
    "\n",
    "There are three different types of Account creation methods used for the users which not have any referral id\n",
    "* SIGNUP\n",
    "* PERSONAL_PROJECT\n",
    "* SGINUP_GOOGLE_AUTH\n",
    "\n",
    "We can impute the null values by imputing the top member of the organization in regards to referral"
   ]
  },
  {
   "cell_type": "markdown",
   "metadata": {},
   "source": [
    "#### Last Login\n",
    "\n",
    "Last login column had unix date time values which needed to be converted to datetime obj.\n",
    "\n",
    "I used unit parameter as 's' after referring to stack overflow.\n",
    "\n",
    "Last_Login can be used to create a column which can be used to see the frequency of logins"
   ]
  },
  {
   "cell_type": "code",
   "execution_count": 10,
   "metadata": {},
   "outputs": [
    {
     "data": {
      "text/plain": [
       "array([1.39813881e+09, 1.39623750e+09, 1.36373489e+09, ...,\n",
       "       1.39860272e+09, 1.33863816e+09, 1.39072663e+09])"
      ]
     },
     "execution_count": 10,
     "metadata": {},
     "output_type": "execute_result"
    }
   ],
   "source": [
    "user.Last_Login.unique()"
   ]
  },
  {
   "cell_type": "code",
   "execution_count": 11,
   "metadata": {},
   "outputs": [],
   "source": [
    "user['Last_Login'] = pd.to_datetime(user['Last_Login'], unit = 's')"
   ]
  },
  {
   "cell_type": "markdown",
   "metadata": {},
   "source": [
    "#### User_Emails\n",
    "\n",
    "The duplicate entries in emails are the results of same individuals registering for app, in different companies or through different referrals. "
   ]
  },
  {
   "cell_type": "code",
   "execution_count": 12,
   "metadata": {
    "scrolled": true
   },
   "outputs": [
    {
     "data": {
      "text/plain": [
       "11980"
      ]
     },
     "execution_count": 12,
     "metadata": {},
     "output_type": "execute_result"
    }
   ],
   "source": [
    "len(user.User_Email.unique())"
   ]
  },
  {
   "cell_type": "code",
   "execution_count": 13,
   "metadata": {
    "scrolled": true
   },
   "outputs": [
    {
     "data": {
      "text/html": [
       "<div>\n",
       "<style scoped>\n",
       "    .dataframe tbody tr th:only-of-type {\n",
       "        vertical-align: middle;\n",
       "    }\n",
       "\n",
       "    .dataframe tbody tr th {\n",
       "        vertical-align: top;\n",
       "    }\n",
       "\n",
       "    .dataframe thead th {\n",
       "        text-align: right;\n",
       "    }\n",
       "</style>\n",
       "<table border=\"1\" class=\"dataframe\">\n",
       "  <thead>\n",
       "    <tr style=\"text-align: right;\">\n",
       "      <th></th>\n",
       "      <th>UserID</th>\n",
       "      <th>Account_Creation_Time</th>\n",
       "      <th>User_Name</th>\n",
       "      <th>User_Email</th>\n",
       "      <th>Account_Creation_Method</th>\n",
       "      <th>Last_Login</th>\n",
       "      <th>Mailing_List</th>\n",
       "      <th>Marketing_Dip</th>\n",
       "      <th>Organization_ID</th>\n",
       "      <th>Referral_By</th>\n",
       "    </tr>\n",
       "  </thead>\n",
       "  <tbody>\n",
       "    <tr>\n",
       "      <th>1603</th>\n",
       "      <td>1604</td>\n",
       "      <td>2014-02-03 04:48:08</td>\n",
       "      <td>Lane Alfie</td>\n",
       "      <td>AlfieLane@yahoo.com</td>\n",
       "      <td>ORG_INVITE</td>\n",
       "      <td>2014-02-06 04:48:08</td>\n",
       "      <td>0</td>\n",
       "      <td>0</td>\n",
       "      <td>0</td>\n",
       "      <td>4128.0</td>\n",
       "    </tr>\n",
       "    <tr>\n",
       "      <th>3822</th>\n",
       "      <td>3823</td>\n",
       "      <td>2012-11-22 05:51:29</td>\n",
       "      <td>Lane Alfie</td>\n",
       "      <td>AlfieLane@yahoo.com</td>\n",
       "      <td>ORG_INVITE</td>\n",
       "      <td>2012-11-23 05:51:29</td>\n",
       "      <td>0</td>\n",
       "      <td>0</td>\n",
       "      <td>169</td>\n",
       "      <td>9498.0</td>\n",
       "    </tr>\n",
       "    <tr>\n",
       "      <th>5280</th>\n",
       "      <td>5281</td>\n",
       "      <td>2012-09-29 11:54:08</td>\n",
       "      <td>Bach Amanda</td>\n",
       "      <td>AmandaABach@gmail.com</td>\n",
       "      <td>SIGNUP_GOOGLE_AUTH</td>\n",
       "      <td>2014-06-04 11:54:08</td>\n",
       "      <td>0</td>\n",
       "      <td>0</td>\n",
       "      <td>146</td>\n",
       "      <td>NaN</td>\n",
       "    </tr>\n",
       "    <tr>\n",
       "      <th>9040</th>\n",
       "      <td>9041</td>\n",
       "      <td>2013-01-03 00:53:47</td>\n",
       "      <td>Bach Amanda</td>\n",
       "      <td>AmandaABach@gmail.com</td>\n",
       "      <td>ORG_INVITE</td>\n",
       "      <td>NaT</td>\n",
       "      <td>0</td>\n",
       "      <td>0</td>\n",
       "      <td>377</td>\n",
       "      <td>6208.0</td>\n",
       "    </tr>\n",
       "    <tr>\n",
       "      <th>375</th>\n",
       "      <td>376</td>\n",
       "      <td>2012-08-10 22:27:08</td>\n",
       "      <td>Tye Jacob</td>\n",
       "      <td>JacobTye@gmail.com</td>\n",
       "      <td>SIGNUP_GOOGLE_AUTH</td>\n",
       "      <td>2012-08-10 22:27:08</td>\n",
       "      <td>1</td>\n",
       "      <td>0</td>\n",
       "      <td>104</td>\n",
       "      <td>NaN</td>\n",
       "    </tr>\n",
       "    <tr>\n",
       "      <th>5081</th>\n",
       "      <td>5082</td>\n",
       "      <td>2013-06-25 19:31:11</td>\n",
       "      <td>Tye Jacob</td>\n",
       "      <td>JacobTye@gmail.com</td>\n",
       "      <td>SIGNUP_GOOGLE_AUTH</td>\n",
       "      <td>2013-06-27 19:31:11</td>\n",
       "      <td>0</td>\n",
       "      <td>0</td>\n",
       "      <td>298</td>\n",
       "      <td>NaN</td>\n",
       "    </tr>\n",
       "    <tr>\n",
       "      <th>3605</th>\n",
       "      <td>3606</td>\n",
       "      <td>2013-05-10 08:31:59</td>\n",
       "      <td>Sankt Janina</td>\n",
       "      <td>JaninaSankt@gmail.com</td>\n",
       "      <td>GUEST_INVITE</td>\n",
       "      <td>2013-05-29 08:31:59</td>\n",
       "      <td>0</td>\n",
       "      <td>0</td>\n",
       "      <td>84</td>\n",
       "      <td>8356.0</td>\n",
       "    </tr>\n",
       "    <tr>\n",
       "      <th>1169</th>\n",
       "      <td>1170</td>\n",
       "      <td>2014-04-27 16:48:34</td>\n",
       "      <td>Sankt Janina</td>\n",
       "      <td>JaninaSankt@gmail.com</td>\n",
       "      <td>ORG_INVITE</td>\n",
       "      <td>2014-04-27 16:48:34</td>\n",
       "      <td>1</td>\n",
       "      <td>1</td>\n",
       "      <td>285</td>\n",
       "      <td>623.0</td>\n",
       "    </tr>\n",
       "    <tr>\n",
       "      <th>10153</th>\n",
       "      <td>10154</td>\n",
       "      <td>2014-05-06 10:57:37</td>\n",
       "      <td>Neudorf Kerstin</td>\n",
       "      <td>KerstinNeudorf@gmail.com</td>\n",
       "      <td>ORG_INVITE</td>\n",
       "      <td>2014-05-16 10:57:37</td>\n",
       "      <td>0</td>\n",
       "      <td>0</td>\n",
       "      <td>359</td>\n",
       "      <td>4563.0</td>\n",
       "    </tr>\n",
       "    <tr>\n",
       "      <th>11244</th>\n",
       "      <td>11245</td>\n",
       "      <td>2014-01-17 18:05:15</td>\n",
       "      <td>Neudorf Kerstin</td>\n",
       "      <td>KerstinNeudorf@gmail.com</td>\n",
       "      <td>SIGNUP</td>\n",
       "      <td>2014-01-17 18:05:15</td>\n",
       "      <td>1</td>\n",
       "      <td>1</td>\n",
       "      <td>68</td>\n",
       "      <td>NaN</td>\n",
       "    </tr>\n",
       "    <tr>\n",
       "      <th>2751</th>\n",
       "      <td>2752</td>\n",
       "      <td>2013-10-12 22:10:03</td>\n",
       "      <td>Mueller Klaus</td>\n",
       "      <td>KlausMueller@gustr.com</td>\n",
       "      <td>ORG_INVITE</td>\n",
       "      <td>2013-10-12 22:10:03</td>\n",
       "      <td>0</td>\n",
       "      <td>0</td>\n",
       "      <td>31</td>\n",
       "      <td>8202.0</td>\n",
       "    </tr>\n",
       "    <tr>\n",
       "      <th>4955</th>\n",
       "      <td>4956</td>\n",
       "      <td>2013-01-28 23:21:34</td>\n",
       "      <td>Mueller Klaus</td>\n",
       "      <td>KlausMueller@gustr.com</td>\n",
       "      <td>GUEST_INVITE</td>\n",
       "      <td>2013-01-28 23:21:34</td>\n",
       "      <td>1</td>\n",
       "      <td>0</td>\n",
       "      <td>19</td>\n",
       "      <td>3225.0</td>\n",
       "    </tr>\n",
       "    <tr>\n",
       "      <th>6432</th>\n",
       "      <td>6433</td>\n",
       "      <td>2014-05-09 10:31:42</td>\n",
       "      <td>Kappel Kristin</td>\n",
       "      <td>KristinKappel@yahoo.com</td>\n",
       "      <td>SIGNUP</td>\n",
       "      <td>2014-05-11 10:31:42</td>\n",
       "      <td>1</td>\n",
       "      <td>1</td>\n",
       "      <td>202</td>\n",
       "      <td>NaN</td>\n",
       "    </tr>\n",
       "    <tr>\n",
       "      <th>3213</th>\n",
       "      <td>3214</td>\n",
       "      <td>2013-02-20 03:31:36</td>\n",
       "      <td>Kappel Kristin</td>\n",
       "      <td>KristinKappel@yahoo.com</td>\n",
       "      <td>ORG_INVITE</td>\n",
       "      <td>2013-02-22 03:31:36</td>\n",
       "      <td>0</td>\n",
       "      <td>0</td>\n",
       "      <td>264</td>\n",
       "      <td>3918.0</td>\n",
       "    </tr>\n",
       "    <tr>\n",
       "      <th>6536</th>\n",
       "      <td>6537</td>\n",
       "      <td>2014-05-09 00:19:37</td>\n",
       "      <td>Bertelsen Lærke</td>\n",
       "      <td>LaerkeMBertelsen@gmail.com</td>\n",
       "      <td>PERSONAL_PROJECTS</td>\n",
       "      <td>NaT</td>\n",
       "      <td>1</td>\n",
       "      <td>1</td>\n",
       "      <td>127</td>\n",
       "      <td>NaN</td>\n",
       "    </tr>\n",
       "    <tr>\n",
       "      <th>5947</th>\n",
       "      <td>5948</td>\n",
       "      <td>2013-10-02 08:32:32</td>\n",
       "      <td>Bertelsen Laerke</td>\n",
       "      <td>LaerkeMBertelsen@gmail.com</td>\n",
       "      <td>GUEST_INVITE</td>\n",
       "      <td>2013-10-03 08:32:32</td>\n",
       "      <td>0</td>\n",
       "      <td>0</td>\n",
       "      <td>234</td>\n",
       "      <td>8598.0</td>\n",
       "    </tr>\n",
       "    <tr>\n",
       "      <th>3955</th>\n",
       "      <td>3956</td>\n",
       "      <td>2014-02-06 06:45:03</td>\n",
       "      <td>Nørgaard Lasse</td>\n",
       "      <td>LasseLNrgaard@gmail.com</td>\n",
       "      <td>ORG_INVITE</td>\n",
       "      <td>2014-05-25 06:45:03</td>\n",
       "      <td>0</td>\n",
       "      <td>0</td>\n",
       "      <td>9</td>\n",
       "      <td>6442.0</td>\n",
       "    </tr>\n",
       "    <tr>\n",
       "      <th>7257</th>\n",
       "      <td>7258</td>\n",
       "      <td>2013-05-14 20:04:00</td>\n",
       "      <td>Nørgaard Lasse</td>\n",
       "      <td>LasseLNrgaard@gmail.com</td>\n",
       "      <td>ORG_INVITE</td>\n",
       "      <td>NaT</td>\n",
       "      <td>0</td>\n",
       "      <td>0</td>\n",
       "      <td>35</td>\n",
       "      <td>1904.0</td>\n",
       "    </tr>\n",
       "    <tr>\n",
       "      <th>8424</th>\n",
       "      <td>8425</td>\n",
       "      <td>2012-10-11 18:53:41</td>\n",
       "      <td>Duerr Leonie</td>\n",
       "      <td>LeonieDuerr@gmail.com</td>\n",
       "      <td>ORG_INVITE</td>\n",
       "      <td>2012-10-16 18:53:41</td>\n",
       "      <td>0</td>\n",
       "      <td>0</td>\n",
       "      <td>2</td>\n",
       "      <td>1359.0</td>\n",
       "    </tr>\n",
       "    <tr>\n",
       "      <th>11905</th>\n",
       "      <td>11906</td>\n",
       "      <td>2014-04-14 21:24:59</td>\n",
       "      <td>Duerr Leonie</td>\n",
       "      <td>LeonieDuerr@gmail.com</td>\n",
       "      <td>ORG_INVITE</td>\n",
       "      <td>2014-06-04 21:24:59</td>\n",
       "      <td>0</td>\n",
       "      <td>0</td>\n",
       "      <td>200</td>\n",
       "      <td>190.0</td>\n",
       "    </tr>\n",
       "    <tr>\n",
       "      <th>6346</th>\n",
       "      <td>6347</td>\n",
       "      <td>2014-04-14 07:58:54</td>\n",
       "      <td>Winther Magnus</td>\n",
       "      <td>MagnusSWinther@jourrapide.com</td>\n",
       "      <td>SIGNUP</td>\n",
       "      <td>2014-04-15 07:58:54</td>\n",
       "      <td>0</td>\n",
       "      <td>0</td>\n",
       "      <td>51</td>\n",
       "      <td>NaN</td>\n",
       "    </tr>\n",
       "    <tr>\n",
       "      <th>2375</th>\n",
       "      <td>2376</td>\n",
       "      <td>2013-03-22 00:12:45</td>\n",
       "      <td>Winther Magnus</td>\n",
       "      <td>MagnusSWinther@jourrapide.com</td>\n",
       "      <td>GUEST_INVITE</td>\n",
       "      <td>NaT</td>\n",
       "      <td>1</td>\n",
       "      <td>0</td>\n",
       "      <td>137</td>\n",
       "      <td>256.0</td>\n",
       "    </tr>\n",
       "    <tr>\n",
       "      <th>7159</th>\n",
       "      <td>7160</td>\n",
       "      <td>2012-11-15 03:13:19</td>\n",
       "      <td>Schröder Mandy</td>\n",
       "      <td>MandySchroder@gustr.com</td>\n",
       "      <td>PERSONAL_PROJECTS</td>\n",
       "      <td>NaT</td>\n",
       "      <td>1</td>\n",
       "      <td>0</td>\n",
       "      <td>127</td>\n",
       "      <td>NaN</td>\n",
       "    </tr>\n",
       "    <tr>\n",
       "      <th>6293</th>\n",
       "      <td>6294</td>\n",
       "      <td>2013-05-31 03:12:35</td>\n",
       "      <td>Schröder Mandy</td>\n",
       "      <td>MandySchroder@gustr.com</td>\n",
       "      <td>ORG_INVITE</td>\n",
       "      <td>2013-06-04 03:12:35</td>\n",
       "      <td>0</td>\n",
       "      <td>0</td>\n",
       "      <td>58</td>\n",
       "      <td>4241.0</td>\n",
       "    </tr>\n",
       "    <tr>\n",
       "      <th>7603</th>\n",
       "      <td>7604</td>\n",
       "      <td>2014-03-06 20:34:32</td>\n",
       "      <td>Seiler Marko</td>\n",
       "      <td>MarkoSeiler@yahoo.com</td>\n",
       "      <td>SIGNUP</td>\n",
       "      <td>2014-03-06 20:34:32</td>\n",
       "      <td>0</td>\n",
       "      <td>0</td>\n",
       "      <td>258</td>\n",
       "      <td>NaN</td>\n",
       "    </tr>\n",
       "    <tr>\n",
       "      <th>5668</th>\n",
       "      <td>5669</td>\n",
       "      <td>2013-03-29 10:43:56</td>\n",
       "      <td>Seiler Marko</td>\n",
       "      <td>MarkoSeiler@yahoo.com</td>\n",
       "      <td>ORG_INVITE</td>\n",
       "      <td>2013-03-30 10:43:56</td>\n",
       "      <td>0</td>\n",
       "      <td>0</td>\n",
       "      <td>253</td>\n",
       "      <td>1861.0</td>\n",
       "    </tr>\n",
       "    <tr>\n",
       "      <th>5016</th>\n",
       "      <td>5017</td>\n",
       "      <td>2013-01-18 02:12:58</td>\n",
       "      <td>Walter Maximilian</td>\n",
       "      <td>MaximilianWalter@gmail.com</td>\n",
       "      <td>SIGNUP_GOOGLE_AUTH</td>\n",
       "      <td>2013-01-19 02:12:58</td>\n",
       "      <td>1</td>\n",
       "      <td>1</td>\n",
       "      <td>402</td>\n",
       "      <td>NaN</td>\n",
       "    </tr>\n",
       "    <tr>\n",
       "      <th>3426</th>\n",
       "      <td>3427</td>\n",
       "      <td>2013-12-01 11:03:15</td>\n",
       "      <td>Walter Maximilian</td>\n",
       "      <td>MaximilianWalter@gmail.com</td>\n",
       "      <td>SIGNUP_GOOGLE_AUTH</td>\n",
       "      <td>2013-12-01 11:03:15</td>\n",
       "      <td>0</td>\n",
       "      <td>0</td>\n",
       "      <td>2</td>\n",
       "      <td>NaN</td>\n",
       "    </tr>\n",
       "    <tr>\n",
       "      <th>8587</th>\n",
       "      <td>8588</td>\n",
       "      <td>2014-05-30 14:23:08</td>\n",
       "      <td>Karlsen Mimir</td>\n",
       "      <td>MimirMKarlsen@jourrapide.com</td>\n",
       "      <td>SIGNUP</td>\n",
       "      <td>2014-06-01 14:23:08</td>\n",
       "      <td>1</td>\n",
       "      <td>0</td>\n",
       "      <td>154</td>\n",
       "      <td>NaN</td>\n",
       "    </tr>\n",
       "    <tr>\n",
       "      <th>2764</th>\n",
       "      <td>2765</td>\n",
       "      <td>2012-06-29 13:11:26</td>\n",
       "      <td>Karlsen Mimir</td>\n",
       "      <td>MimirMKarlsen@jourrapide.com</td>\n",
       "      <td>GUEST_INVITE</td>\n",
       "      <td>2012-07-02 13:11:26</td>\n",
       "      <td>1</td>\n",
       "      <td>1</td>\n",
       "      <td>334</td>\n",
       "      <td>2765.0</td>\n",
       "    </tr>\n",
       "    <tr>\n",
       "      <th>3582</th>\n",
       "      <td>3583</td>\n",
       "      <td>2012-12-10 15:41:20</td>\n",
       "      <td>Holm Nicolai</td>\n",
       "      <td>NicolaiSHolm@yahoo.com</td>\n",
       "      <td>GUEST_INVITE</td>\n",
       "      <td>2012-12-10 15:41:20</td>\n",
       "      <td>1</td>\n",
       "      <td>0</td>\n",
       "      <td>243</td>\n",
       "      <td>4225.0</td>\n",
       "    </tr>\n",
       "    <tr>\n",
       "      <th>10299</th>\n",
       "      <td>10300</td>\n",
       "      <td>2013-10-12 20:05:03</td>\n",
       "      <td>Holm Nicolai</td>\n",
       "      <td>NicolaiSHolm@yahoo.com</td>\n",
       "      <td>ORG_INVITE</td>\n",
       "      <td>2013-10-17 20:05:03</td>\n",
       "      <td>0</td>\n",
       "      <td>0</td>\n",
       "      <td>64</td>\n",
       "      <td>153.0</td>\n",
       "    </tr>\n",
       "    <tr>\n",
       "      <th>11798</th>\n",
       "      <td>11799</td>\n",
       "      <td>2013-03-23 21:52:48</td>\n",
       "      <td>Wyatt Paige</td>\n",
       "      <td>PaigeWyatt@gmail.com</td>\n",
       "      <td>GUEST_INVITE</td>\n",
       "      <td>2013-03-24 21:52:48</td>\n",
       "      <td>0</td>\n",
       "      <td>0</td>\n",
       "      <td>219</td>\n",
       "      <td>3477.0</td>\n",
       "    </tr>\n",
       "    <tr>\n",
       "      <th>11688</th>\n",
       "      <td>11689</td>\n",
       "      <td>2014-05-16 12:45:13</td>\n",
       "      <td>Wyatt Paige</td>\n",
       "      <td>PaigeWyatt@gmail.com</td>\n",
       "      <td>SIGNUP</td>\n",
       "      <td>NaT</td>\n",
       "      <td>0</td>\n",
       "      <td>0</td>\n",
       "      <td>356</td>\n",
       "      <td>NaN</td>\n",
       "    </tr>\n",
       "    <tr>\n",
       "      <th>4226</th>\n",
       "      <td>4227</td>\n",
       "      <td>2013-12-20 23:08:20</td>\n",
       "      <td>Brandt Thomas</td>\n",
       "      <td>ThomasBrandt@gmail.com</td>\n",
       "      <td>PERSONAL_PROJECTS</td>\n",
       "      <td>NaT</td>\n",
       "      <td>0</td>\n",
       "      <td>0</td>\n",
       "      <td>402</td>\n",
       "      <td>NaN</td>\n",
       "    </tr>\n",
       "    <tr>\n",
       "      <th>7628</th>\n",
       "      <td>7629</td>\n",
       "      <td>2012-11-18 11:37:48</td>\n",
       "      <td>Brandt Thomas</td>\n",
       "      <td>ThomasBrandt@gmail.com</td>\n",
       "      <td>PERSONAL_PROJECTS</td>\n",
       "      <td>NaT</td>\n",
       "      <td>0</td>\n",
       "      <td>0</td>\n",
       "      <td>24</td>\n",
       "      <td>NaN</td>\n",
       "    </tr>\n",
       "    <tr>\n",
       "      <th>6637</th>\n",
       "      <td>6638</td>\n",
       "      <td>2013-11-09 08:52:09</td>\n",
       "      <td>Schiffer Tom</td>\n",
       "      <td>TomSchiffer@gmail.com</td>\n",
       "      <td>ORG_INVITE</td>\n",
       "      <td>2014-05-23 08:52:09</td>\n",
       "      <td>0</td>\n",
       "      <td>0</td>\n",
       "      <td>15</td>\n",
       "      <td>9118.0</td>\n",
       "    </tr>\n",
       "    <tr>\n",
       "      <th>9654</th>\n",
       "      <td>9655</td>\n",
       "      <td>2012-11-02 11:34:03</td>\n",
       "      <td>Schiffer Tom</td>\n",
       "      <td>TomSchiffer@gmail.com</td>\n",
       "      <td>SIGNUP_GOOGLE_AUTH</td>\n",
       "      <td>2012-11-08 11:34:03</td>\n",
       "      <td>0</td>\n",
       "      <td>0</td>\n",
       "      <td>258</td>\n",
       "      <td>NaN</td>\n",
       "    </tr>\n",
       "    <tr>\n",
       "      <th>6705</th>\n",
       "      <td>6706</td>\n",
       "      <td>2012-06-27 06:19:12</td>\n",
       "      <td>Gerste Ulrike</td>\n",
       "      <td>UlrikeGerste@gmail.com</td>\n",
       "      <td>SIGNUP_GOOGLE_AUTH</td>\n",
       "      <td>2012-06-27 06:19:12</td>\n",
       "      <td>0</td>\n",
       "      <td>1</td>\n",
       "      <td>333</td>\n",
       "      <td>NaN</td>\n",
       "    </tr>\n",
       "    <tr>\n",
       "      <th>6590</th>\n",
       "      <td>6591</td>\n",
       "      <td>2013-01-21 01:12:29</td>\n",
       "      <td>Gerste Ulrike</td>\n",
       "      <td>UlrikeGerste@gmail.com</td>\n",
       "      <td>SIGNUP_GOOGLE_AUTH</td>\n",
       "      <td>2013-01-21 01:12:29</td>\n",
       "      <td>0</td>\n",
       "      <td>0</td>\n",
       "      <td>180</td>\n",
       "      <td>NaN</td>\n",
       "    </tr>\n",
       "  </tbody>\n",
       "</table>\n",
       "</div>"
      ],
      "text/plain": [
       "       UserID Account_Creation_Time          User_Name  \\\n",
       "1603     1604   2014-02-03 04:48:08         Lane Alfie   \n",
       "3822     3823   2012-11-22 05:51:29         Lane Alfie   \n",
       "5280     5281   2012-09-29 11:54:08        Bach Amanda   \n",
       "9040     9041   2013-01-03 00:53:47        Bach Amanda   \n",
       "375       376   2012-08-10 22:27:08          Tye Jacob   \n",
       "5081     5082   2013-06-25 19:31:11          Tye Jacob   \n",
       "3605     3606   2013-05-10 08:31:59       Sankt Janina   \n",
       "1169     1170   2014-04-27 16:48:34       Sankt Janina   \n",
       "10153   10154   2014-05-06 10:57:37    Neudorf Kerstin   \n",
       "11244   11245   2014-01-17 18:05:15    Neudorf Kerstin   \n",
       "2751     2752   2013-10-12 22:10:03      Mueller Klaus   \n",
       "4955     4956   2013-01-28 23:21:34      Mueller Klaus   \n",
       "6432     6433   2014-05-09 10:31:42     Kappel Kristin   \n",
       "3213     3214   2013-02-20 03:31:36     Kappel Kristin   \n",
       "6536     6537   2014-05-09 00:19:37    Bertelsen Lærke   \n",
       "5947     5948   2013-10-02 08:32:32   Bertelsen Laerke   \n",
       "3955     3956   2014-02-06 06:45:03     Nørgaard Lasse   \n",
       "7257     7258   2013-05-14 20:04:00     Nørgaard Lasse   \n",
       "8424     8425   2012-10-11 18:53:41       Duerr Leonie   \n",
       "11905   11906   2014-04-14 21:24:59       Duerr Leonie   \n",
       "6346     6347   2014-04-14 07:58:54     Winther Magnus   \n",
       "2375     2376   2013-03-22 00:12:45     Winther Magnus   \n",
       "7159     7160   2012-11-15 03:13:19     Schröder Mandy   \n",
       "6293     6294   2013-05-31 03:12:35     Schröder Mandy   \n",
       "7603     7604   2014-03-06 20:34:32       Seiler Marko   \n",
       "5668     5669   2013-03-29 10:43:56       Seiler Marko   \n",
       "5016     5017   2013-01-18 02:12:58  Walter Maximilian   \n",
       "3426     3427   2013-12-01 11:03:15  Walter Maximilian   \n",
       "8587     8588   2014-05-30 14:23:08      Karlsen Mimir   \n",
       "2764     2765   2012-06-29 13:11:26      Karlsen Mimir   \n",
       "3582     3583   2012-12-10 15:41:20       Holm Nicolai   \n",
       "10299   10300   2013-10-12 20:05:03       Holm Nicolai   \n",
       "11798   11799   2013-03-23 21:52:48        Wyatt Paige   \n",
       "11688   11689   2014-05-16 12:45:13        Wyatt Paige   \n",
       "4226     4227   2013-12-20 23:08:20      Brandt Thomas   \n",
       "7628     7629   2012-11-18 11:37:48      Brandt Thomas   \n",
       "6637     6638   2013-11-09 08:52:09       Schiffer Tom   \n",
       "9654     9655   2012-11-02 11:34:03       Schiffer Tom   \n",
       "6705     6706   2012-06-27 06:19:12      Gerste Ulrike   \n",
       "6590     6591   2013-01-21 01:12:29      Gerste Ulrike   \n",
       "\n",
       "                          User_Email Account_Creation_Method  \\\n",
       "1603             AlfieLane@yahoo.com              ORG_INVITE   \n",
       "3822             AlfieLane@yahoo.com              ORG_INVITE   \n",
       "5280           AmandaABach@gmail.com      SIGNUP_GOOGLE_AUTH   \n",
       "9040           AmandaABach@gmail.com              ORG_INVITE   \n",
       "375               JacobTye@gmail.com      SIGNUP_GOOGLE_AUTH   \n",
       "5081              JacobTye@gmail.com      SIGNUP_GOOGLE_AUTH   \n",
       "3605           JaninaSankt@gmail.com            GUEST_INVITE   \n",
       "1169           JaninaSankt@gmail.com              ORG_INVITE   \n",
       "10153       KerstinNeudorf@gmail.com              ORG_INVITE   \n",
       "11244       KerstinNeudorf@gmail.com                  SIGNUP   \n",
       "2751          KlausMueller@gustr.com              ORG_INVITE   \n",
       "4955          KlausMueller@gustr.com            GUEST_INVITE   \n",
       "6432         KristinKappel@yahoo.com                  SIGNUP   \n",
       "3213         KristinKappel@yahoo.com              ORG_INVITE   \n",
       "6536      LaerkeMBertelsen@gmail.com       PERSONAL_PROJECTS   \n",
       "5947      LaerkeMBertelsen@gmail.com            GUEST_INVITE   \n",
       "3955         LasseLNrgaard@gmail.com              ORG_INVITE   \n",
       "7257         LasseLNrgaard@gmail.com              ORG_INVITE   \n",
       "8424           LeonieDuerr@gmail.com              ORG_INVITE   \n",
       "11905          LeonieDuerr@gmail.com              ORG_INVITE   \n",
       "6346   MagnusSWinther@jourrapide.com                  SIGNUP   \n",
       "2375   MagnusSWinther@jourrapide.com            GUEST_INVITE   \n",
       "7159         MandySchroder@gustr.com       PERSONAL_PROJECTS   \n",
       "6293         MandySchroder@gustr.com              ORG_INVITE   \n",
       "7603           MarkoSeiler@yahoo.com                  SIGNUP   \n",
       "5668           MarkoSeiler@yahoo.com              ORG_INVITE   \n",
       "5016      MaximilianWalter@gmail.com      SIGNUP_GOOGLE_AUTH   \n",
       "3426      MaximilianWalter@gmail.com      SIGNUP_GOOGLE_AUTH   \n",
       "8587    MimirMKarlsen@jourrapide.com                  SIGNUP   \n",
       "2764    MimirMKarlsen@jourrapide.com            GUEST_INVITE   \n",
       "3582          NicolaiSHolm@yahoo.com            GUEST_INVITE   \n",
       "10299         NicolaiSHolm@yahoo.com              ORG_INVITE   \n",
       "11798           PaigeWyatt@gmail.com            GUEST_INVITE   \n",
       "11688           PaigeWyatt@gmail.com                  SIGNUP   \n",
       "4226          ThomasBrandt@gmail.com       PERSONAL_PROJECTS   \n",
       "7628          ThomasBrandt@gmail.com       PERSONAL_PROJECTS   \n",
       "6637           TomSchiffer@gmail.com              ORG_INVITE   \n",
       "9654           TomSchiffer@gmail.com      SIGNUP_GOOGLE_AUTH   \n",
       "6705          UlrikeGerste@gmail.com      SIGNUP_GOOGLE_AUTH   \n",
       "6590          UlrikeGerste@gmail.com      SIGNUP_GOOGLE_AUTH   \n",
       "\n",
       "               Last_Login  Mailing_List  Marketing_Dip  Organization_ID  \\\n",
       "1603  2014-02-06 04:48:08             0              0                0   \n",
       "3822  2012-11-23 05:51:29             0              0              169   \n",
       "5280  2014-06-04 11:54:08             0              0              146   \n",
       "9040                  NaT             0              0              377   \n",
       "375   2012-08-10 22:27:08             1              0              104   \n",
       "5081  2013-06-27 19:31:11             0              0              298   \n",
       "3605  2013-05-29 08:31:59             0              0               84   \n",
       "1169  2014-04-27 16:48:34             1              1              285   \n",
       "10153 2014-05-16 10:57:37             0              0              359   \n",
       "11244 2014-01-17 18:05:15             1              1               68   \n",
       "2751  2013-10-12 22:10:03             0              0               31   \n",
       "4955  2013-01-28 23:21:34             1              0               19   \n",
       "6432  2014-05-11 10:31:42             1              1              202   \n",
       "3213  2013-02-22 03:31:36             0              0              264   \n",
       "6536                  NaT             1              1              127   \n",
       "5947  2013-10-03 08:32:32             0              0              234   \n",
       "3955  2014-05-25 06:45:03             0              0                9   \n",
       "7257                  NaT             0              0               35   \n",
       "8424  2012-10-16 18:53:41             0              0                2   \n",
       "11905 2014-06-04 21:24:59             0              0              200   \n",
       "6346  2014-04-15 07:58:54             0              0               51   \n",
       "2375                  NaT             1              0              137   \n",
       "7159                  NaT             1              0              127   \n",
       "6293  2013-06-04 03:12:35             0              0               58   \n",
       "7603  2014-03-06 20:34:32             0              0              258   \n",
       "5668  2013-03-30 10:43:56             0              0              253   \n",
       "5016  2013-01-19 02:12:58             1              1              402   \n",
       "3426  2013-12-01 11:03:15             0              0                2   \n",
       "8587  2014-06-01 14:23:08             1              0              154   \n",
       "2764  2012-07-02 13:11:26             1              1              334   \n",
       "3582  2012-12-10 15:41:20             1              0              243   \n",
       "10299 2013-10-17 20:05:03             0              0               64   \n",
       "11798 2013-03-24 21:52:48             0              0              219   \n",
       "11688                 NaT             0              0              356   \n",
       "4226                  NaT             0              0              402   \n",
       "7628                  NaT             0              0               24   \n",
       "6637  2014-05-23 08:52:09             0              0               15   \n",
       "9654  2012-11-08 11:34:03             0              0              258   \n",
       "6705  2012-06-27 06:19:12             0              1              333   \n",
       "6590  2013-01-21 01:12:29             0              0              180   \n",
       "\n",
       "       Referral_By  \n",
       "1603        4128.0  \n",
       "3822        9498.0  \n",
       "5280           NaN  \n",
       "9040        6208.0  \n",
       "375            NaN  \n",
       "5081           NaN  \n",
       "3605        8356.0  \n",
       "1169         623.0  \n",
       "10153       4563.0  \n",
       "11244          NaN  \n",
       "2751        8202.0  \n",
       "4955        3225.0  \n",
       "6432           NaN  \n",
       "3213        3918.0  \n",
       "6536           NaN  \n",
       "5947        8598.0  \n",
       "3955        6442.0  \n",
       "7257        1904.0  \n",
       "8424        1359.0  \n",
       "11905        190.0  \n",
       "6346           NaN  \n",
       "2375         256.0  \n",
       "7159           NaN  \n",
       "6293        4241.0  \n",
       "7603           NaN  \n",
       "5668        1861.0  \n",
       "5016           NaN  \n",
       "3426           NaN  \n",
       "8587           NaN  \n",
       "2764        2765.0  \n",
       "3582        4225.0  \n",
       "10299        153.0  \n",
       "11798       3477.0  \n",
       "11688          NaN  \n",
       "4226           NaN  \n",
       "7628           NaN  \n",
       "6637        9118.0  \n",
       "9654           NaN  \n",
       "6705           NaN  \n",
       "6590           NaN  "
      ]
     },
     "execution_count": 13,
     "metadata": {},
     "output_type": "execute_result"
    }
   ],
   "source": [
    "# Listing all the entries with duplicate emails\n",
    "vEmails = user['User_Email']\n",
    "user[user['User_Email'].isin(vEmails[user['User_Email'].duplicated()])].sort_values('User_Email')"
   ]
  },
  {
   "cell_type": "markdown",
   "metadata": {},
   "source": [
    "#### Account_Creation_Time\n",
    "\n",
    "Duplicates were found in Account Creation time. Inspecting the same below."
   ]
  },
  {
   "cell_type": "code",
   "execution_count": 14,
   "metadata": {},
   "outputs": [
    {
     "data": {
      "text/plain": [
       "11996"
      ]
     },
     "execution_count": 14,
     "metadata": {},
     "output_type": "execute_result"
    }
   ],
   "source": [
    "len(user.Account_Creation_Time.unique())"
   ]
  },
  {
   "cell_type": "code",
   "execution_count": 15,
   "metadata": {},
   "outputs": [
    {
     "data": {
      "text/plain": [
       "8069     2014-02-11 17:57:53\n",
       "11223    2012-09-01 07:22:09\n",
       "11821    2012-09-14 21:35:03\n",
       "11861    2013-05-25 04:35:52\n",
       "Name: Account_Creation_Time, dtype: object"
      ]
     },
     "execution_count": 15,
     "metadata": {},
     "output_type": "execute_result"
    }
   ],
   "source": [
    "## Listing Rows with duplicate Account creation time\n",
    "vList = user['Account_Creation_Time'] #Creating a mask\n",
    "vList[user['Account_Creation_Time'].duplicated()] #applying the mask\n"
   ]
  },
  {
   "cell_type": "code",
   "execution_count": 16,
   "metadata": {},
   "outputs": [
    {
     "data": {
      "text/html": [
       "<div>\n",
       "<style scoped>\n",
       "    .dataframe tbody tr th:only-of-type {\n",
       "        vertical-align: middle;\n",
       "    }\n",
       "\n",
       "    .dataframe tbody tr th {\n",
       "        vertical-align: top;\n",
       "    }\n",
       "\n",
       "    .dataframe thead th {\n",
       "        text-align: right;\n",
       "    }\n",
       "</style>\n",
       "<table border=\"1\" class=\"dataframe\">\n",
       "  <thead>\n",
       "    <tr style=\"text-align: right;\">\n",
       "      <th></th>\n",
       "      <th>UserID</th>\n",
       "      <th>Account_Creation_Time</th>\n",
       "      <th>User_Name</th>\n",
       "      <th>User_Email</th>\n",
       "      <th>Account_Creation_Method</th>\n",
       "      <th>Last_Login</th>\n",
       "      <th>Mailing_List</th>\n",
       "      <th>Marketing_Dip</th>\n",
       "      <th>Organization_ID</th>\n",
       "      <th>Referral_By</th>\n",
       "    </tr>\n",
       "  </thead>\n",
       "  <tbody>\n",
       "    <tr>\n",
       "      <th>1589</th>\n",
       "      <td>1590</td>\n",
       "      <td>2014-02-11 17:57:53</td>\n",
       "      <td>Walker Milton</td>\n",
       "      <td>MiltonLWalker@cuvox.de</td>\n",
       "      <td>ORG_INVITE</td>\n",
       "      <td>2014-02-12 17:57:53</td>\n",
       "      <td>0</td>\n",
       "      <td>0</td>\n",
       "      <td>41</td>\n",
       "      <td>3510.0</td>\n",
       "    </tr>\n",
       "    <tr>\n",
       "      <th>8069</th>\n",
       "      <td>8070</td>\n",
       "      <td>2014-02-11 17:57:53</td>\n",
       "      <td>Lebouef David</td>\n",
       "      <td>DavidELebouef@hotmail.com</td>\n",
       "      <td>GUEST_INVITE</td>\n",
       "      <td>2014-05-29 17:57:53</td>\n",
       "      <td>0</td>\n",
       "      <td>0</td>\n",
       "      <td>119</td>\n",
       "      <td>4877.0</td>\n",
       "    </tr>\n",
       "  </tbody>\n",
       "</table>\n",
       "</div>"
      ],
      "text/plain": [
       "      UserID Account_Creation_Time      User_Name                 User_Email  \\\n",
       "1589    1590   2014-02-11 17:57:53  Walker Milton     MiltonLWalker@cuvox.de   \n",
       "8069    8070   2014-02-11 17:57:53  Lebouef David  DavidELebouef@hotmail.com   \n",
       "\n",
       "     Account_Creation_Method          Last_Login  Mailing_List  Marketing_Dip  \\\n",
       "1589              ORG_INVITE 2014-02-12 17:57:53             0              0   \n",
       "8069            GUEST_INVITE 2014-05-29 17:57:53             0              0   \n",
       "\n",
       "      Organization_ID  Referral_By  \n",
       "1589               41       3510.0  \n",
       "8069              119       4877.0  "
      ]
     },
     "execution_count": 16,
     "metadata": {},
     "output_type": "execute_result"
    }
   ],
   "source": [
    "user[user['Account_Creation_Time'] == '2014-02-11 17:57:53']"
   ]
  },
  {
   "cell_type": "code",
   "execution_count": 17,
   "metadata": {
    "scrolled": true
   },
   "outputs": [],
   "source": [
    "user['Account_Creation_Time'] = pd.to_datetime(user['Account_Creation_Time'])"
   ]
  },
  {
   "cell_type": "markdown",
   "metadata": {},
   "source": [
    "### Data Load Engagement Table"
   ]
  },
  {
   "cell_type": "code",
   "execution_count": 20,
   "metadata": {},
   "outputs": [
    {
     "data": {
      "text/html": [
       "<div>\n",
       "<style scoped>\n",
       "    .dataframe tbody tr th:only-of-type {\n",
       "        vertical-align: middle;\n",
       "    }\n",
       "\n",
       "    .dataframe tbody tr th {\n",
       "        vertical-align: top;\n",
       "    }\n",
       "\n",
       "    .dataframe thead th {\n",
       "        text-align: right;\n",
       "    }\n",
       "</style>\n",
       "<table border=\"1\" class=\"dataframe\">\n",
       "  <thead>\n",
       "    <tr style=\"text-align: right;\">\n",
       "      <th></th>\n",
       "      <th>time_stamp</th>\n",
       "      <th>user_id</th>\n",
       "      <th>visited</th>\n",
       "    </tr>\n",
       "  </thead>\n",
       "  <tbody>\n",
       "    <tr>\n",
       "      <th>0</th>\n",
       "      <td>2014-04-22 03:53:30</td>\n",
       "      <td>1</td>\n",
       "      <td>1</td>\n",
       "    </tr>\n",
       "    <tr>\n",
       "      <th>1</th>\n",
       "      <td>2013-11-15 03:45:04</td>\n",
       "      <td>2</td>\n",
       "      <td>1</td>\n",
       "    </tr>\n",
       "    <tr>\n",
       "      <th>2</th>\n",
       "      <td>2013-11-29 03:45:04</td>\n",
       "      <td>2</td>\n",
       "      <td>1</td>\n",
       "    </tr>\n",
       "    <tr>\n",
       "      <th>3</th>\n",
       "      <td>2013-12-09 03:45:04</td>\n",
       "      <td>2</td>\n",
       "      <td>1</td>\n",
       "    </tr>\n",
       "    <tr>\n",
       "      <th>4</th>\n",
       "      <td>2013-12-25 03:45:04</td>\n",
       "      <td>2</td>\n",
       "      <td>1</td>\n",
       "    </tr>\n",
       "  </tbody>\n",
       "</table>\n",
       "</div>"
      ],
      "text/plain": [
       "            time_stamp  user_id  visited\n",
       "0  2014-04-22 03:53:30        1        1\n",
       "1  2013-11-15 03:45:04        2        1\n",
       "2  2013-11-29 03:45:04        2        1\n",
       "3  2013-12-09 03:45:04        2        1\n",
       "4  2013-12-25 03:45:04        2        1"
      ]
     },
     "execution_count": 20,
     "metadata": {},
     "output_type": "execute_result"
    }
   ],
   "source": [
    "user_engagement = pd.read_csv(r'C:\\Users\\Avinash Jha\\Documents\\Python\\Springboard\\GITHUB\\SpringBoard_CaseStudy\\relax_challenge\\user_engagement.csv')\n",
    "user_engagement.head()"
   ]
  },
  {
   "cell_type": "markdown",
   "metadata": {},
   "source": [
    "#### Initial EDA"
   ]
  },
  {
   "cell_type": "code",
   "execution_count": 21,
   "metadata": {},
   "outputs": [
    {
     "name": "stdout",
     "output_type": "stream",
     "text": [
      "<class 'pandas.core.frame.DataFrame'>\n",
      "RangeIndex: 207917 entries, 0 to 207916\n",
      "Data columns (total 3 columns):\n",
      " #   Column      Non-Null Count   Dtype \n",
      "---  ------      --------------   ----- \n",
      " 0   time_stamp  207917 non-null  object\n",
      " 1   user_id     207917 non-null  int64 \n",
      " 2   visited     207917 non-null  int64 \n",
      "dtypes: int64(2), object(1)\n",
      "memory usage: 4.8+ MB\n"
     ]
    }
   ],
   "source": [
    "user_engagement.info()"
   ]
  },
  {
   "cell_type": "code",
   "execution_count": 22,
   "metadata": {},
   "outputs": [],
   "source": [
    "New_Column_Names = ['Login_Timestamp', 'UserID', 'Visited']\n",
    "user_engagement.columns = New_Column_Names"
   ]
  },
  {
   "cell_type": "code",
   "execution_count": 23,
   "metadata": {},
   "outputs": [],
   "source": [
    "user_engagement['Login_Timestamp'] = pd.to_datetime(user_engagement['Login_Timestamp'])"
   ]
  },
  {
   "cell_type": "code",
   "execution_count": 24,
   "metadata": {},
   "outputs": [
    {
     "name": "stdout",
     "output_type": "stream",
     "text": [
      "<class 'pandas.core.frame.DataFrame'>\n",
      "RangeIndex: 207917 entries, 0 to 207916\n",
      "Data columns (total 3 columns):\n",
      " #   Column           Non-Null Count   Dtype         \n",
      "---  ------           --------------   -----         \n",
      " 0   Login_Timestamp  207917 non-null  datetime64[ns]\n",
      " 1   UserID           207917 non-null  int64         \n",
      " 2   Visited          207917 non-null  int64         \n",
      "dtypes: datetime64[ns](1), int64(2)\n",
      "memory usage: 4.8 MB\n"
     ]
    }
   ],
   "source": [
    "user_engagement.info()"
   ]
  },
  {
   "cell_type": "markdown",
   "metadata": {},
   "source": [
    "#### Creation of Adopted User Variable"
   ]
  },
  {
   "cell_type": "code",
   "execution_count": 25,
   "metadata": {
    "scrolled": true
   },
   "outputs": [],
   "source": [
    "# Creating adopted user \n",
    "#vDict = dict()\n",
    "#vDict[vUserid] = list of time stamps\n",
    "#pd.DatetimeIndex(user_engagement['Login_Timestamp']).year\n",
    "#user_engagement['Login_Timestamp'].dt.year"
   ]
  },
  {
   "cell_type": "code",
   "execution_count": 26,
   "metadata": {},
   "outputs": [],
   "source": [
    "#Try 1\n",
    "from tqdm import tqdm\n",
    "if(1 == 2):\n",
    "    df = user_engagement.drop('Visited', axis = 1).head(1000)\n",
    "    df.sort_values('UserID', inplace = True)\n",
    "    i = 0\n",
    "    vDict = dict()\n",
    "    for user in tqdm(df['UserID'].unique()):\n",
    "        vList = []\n",
    "        for index, row in df.iterrows():\n",
    "            if(row['UserID'] == user):\n",
    "                vList.append(row['Login_Timestamp'])\n",
    "        if(len(vList) > 3):\n",
    "            vDict[user] = vList"
   ]
  },
  {
   "cell_type": "code",
   "execution_count": 27,
   "metadata": {
    "scrolled": false
   },
   "outputs": [
    {
     "name": "stdout",
     "output_type": "stream",
     "text": [
      "<class 'pandas.core.frame.DataFrame'>\n",
      "RangeIndex: 207917 entries, 0 to 207916\n",
      "Data columns (total 2 columns):\n",
      " #   Column           Non-Null Count   Dtype         \n",
      "---  ------           --------------   -----         \n",
      " 0   Login_Timestamp  207917 non-null  datetime64[ns]\n",
      " 1   UserID           207917 non-null  int64         \n",
      "dtypes: datetime64[ns](1), int64(1)\n",
      "memory usage: 3.2 MB\n"
     ]
    }
   ],
   "source": [
    "df = user_engagement.drop('Visited', axis = 1)\n",
    "df.info()"
   ]
  },
  {
   "cell_type": "code",
   "execution_count": 28,
   "metadata": {
    "scrolled": true
   },
   "outputs": [
    {
     "data": {
      "text/plain": [
       "UserID        \n",
       "2       9         6.0\n",
       "        10        5.0\n",
       "        11        7.0\n",
       "10      24        7.0\n",
       "        27        5.0\n",
       "                 ... \n",
       "11988   207898    3.0\n",
       "        207899    3.0\n",
       "        207900    3.0\n",
       "        207901    3.0\n",
       "        207902    6.0\n",
       "Name: Login_Timestamp, Length: 167199, dtype: float64"
      ]
     },
     "execution_count": 28,
     "metadata": {},
     "output_type": "execute_result"
    }
   ],
   "source": [
    "#tRY 2\n",
    "df['Login_Timestamp'] = df['Login_Timestamp'].dt.floor('h').astype(np.int64)\n",
    "df_grouped = df.groupby('UserID')['Login_Timestamp'].rolling(window=3)\n",
    "b = pd.to_timedelta(df_grouped.max() - df_grouped.min()).dt.days\n",
    "b[b <= 7]\n"
   ]
  },
  {
   "cell_type": "code",
   "execution_count": 29,
   "metadata": {},
   "outputs": [],
   "source": [
    "c = list(b[b <= 7].index.get_level_values(0).unique())"
   ]
  },
  {
   "cell_type": "markdown",
   "metadata": {},
   "source": [
    "#### Addition of Adoption User Column\n"
   ]
  },
  {
   "cell_type": "code",
   "execution_count": 30,
   "metadata": {
    "scrolled": false
   },
   "outputs": [],
   "source": [
    "user['Adopted_User'] = 0"
   ]
  },
  {
   "cell_type": "code",
   "execution_count": 31,
   "metadata": {},
   "outputs": [],
   "source": [
    "user['Adopted_User'] = user['Adopted_User'].mask(user['UserID'].isin(c), 1)"
   ]
  },
  {
   "cell_type": "code",
   "execution_count": 32,
   "metadata": {},
   "outputs": [
    {
     "data": {
      "text/plain": [
       "array([0, 1], dtype=int64)"
      ]
     },
     "execution_count": 32,
     "metadata": {},
     "output_type": "execute_result"
    }
   ],
   "source": [
    "user['Adopted_User'].unique()"
   ]
  },
  {
   "cell_type": "markdown",
   "metadata": {},
   "source": [
    "#### Feature Creation"
   ]
  },
  {
   "cell_type": "markdown",
   "metadata": {},
   "source": [
    "* UserID will not be used for feature selection as it is unique.\n",
    "* Account creation time and last login can be broken down to year, Q1, Q2, Q3, Q4. \n",
    "* User_Name and Email will not be used in feature selection. \n",
    "* Account creation method, organization id, will be one hot encoded(drop) as this is Nominal data.\n",
    "* Mailing_List and Marketing_Dip can be used as it is\n"
   ]
  },
  {
   "cell_type": "code",
   "execution_count": 34,
   "metadata": {},
   "outputs": [
    {
     "name": "stdout",
     "output_type": "stream",
     "text": [
      "<class 'pandas.core.frame.DataFrame'>\n",
      "RangeIndex: 12000 entries, 0 to 11999\n",
      "Data columns (total 11 columns):\n",
      " #   Column                   Non-Null Count  Dtype         \n",
      "---  ------                   --------------  -----         \n",
      " 0   UserID                   12000 non-null  int64         \n",
      " 1   Account_Creation_Time    12000 non-null  datetime64[ns]\n",
      " 2   User_Name                12000 non-null  object        \n",
      " 3   User_Email               12000 non-null  object        \n",
      " 4   Account_Creation_Method  12000 non-null  object        \n",
      " 5   Last_Login               8823 non-null   datetime64[ns]\n",
      " 6   Mailing_List             12000 non-null  int64         \n",
      " 7   Marketing_Dip            12000 non-null  int64         \n",
      " 8   Organization_ID          12000 non-null  int64         \n",
      " 9   Referral_By              6417 non-null   float64       \n",
      " 10  Adopted_User             12000 non-null  int64         \n",
      "dtypes: datetime64[ns](2), float64(1), int64(5), object(3)\n",
      "memory usage: 1.0+ MB\n"
     ]
    }
   ],
   "source": [
    "user.info()"
   ]
  },
  {
   "cell_type": "code",
   "execution_count": 35,
   "metadata": {},
   "outputs": [],
   "source": [
    "user.drop(['UserID', 'User_Name', 'User_Email', 'Referral_By', 'Organization_ID'], inplace = True, axis = 1)"
   ]
  },
  {
   "cell_type": "code",
   "execution_count": 36,
   "metadata": {},
   "outputs": [],
   "source": [
    "user['Account_Creation_Year'] = user['Account_Creation_Time'].dt.year\n",
    "user['Account_Creation'] = user['Account_Creation_Time'].dt.month\n",
    "user['Account_Creation_Year'] = user['Account_Creation_Year'].astype('object')"
   ]
  },
  {
   "cell_type": "code",
   "execution_count": 37,
   "metadata": {},
   "outputs": [
    {
     "data": {
      "text/plain": [
       "array([ 4, 11,  3,  5,  1, 12,  7, 10,  2,  8,  9,  6], dtype=int64)"
      ]
     },
     "execution_count": 37,
     "metadata": {},
     "output_type": "execute_result"
    }
   ],
   "source": [
    "user['Account_Creation'].unique()"
   ]
  },
  {
   "cell_type": "code",
   "execution_count": 38,
   "metadata": {
    "scrolled": true
   },
   "outputs": [],
   "source": [
    "user['Account_Creation'].replace({1: 'Q1', 2:'Q1',3: 'Q2', 4:'Q2',5: 'Q2', 6:'Q3',7: 'Q3', 8:'Q3',9: 'Q3', 10:'Q4', 11:'Q4', 12:'Q4'}, inplace = True)\n"
   ]
  },
  {
   "cell_type": "code",
   "execution_count": 39,
   "metadata": {},
   "outputs": [],
   "source": [
    "user = pd.get_dummies(user, columns = ['Account_Creation','Account_Creation_Method'], drop_first = True)\n"
   ]
  },
  {
   "cell_type": "code",
   "execution_count": 40,
   "metadata": {},
   "outputs": [
    {
     "name": "stdout",
     "output_type": "stream",
     "text": [
      "26.474999999999998 % values are missing\n"
     ]
    }
   ],
   "source": [
    "total_missing = user['Last_Login'].isna().sum()\n",
    "total_rows = 12000\n",
    "\n",
    "missing_percentage = (total_missing/total_rows)*100\n",
    "print(missing_percentage, \"% values are missing\")"
   ]
  },
  {
   "cell_type": "markdown",
   "metadata": {},
   "source": [
    "Thought to impute values but did not find a good way"
   ]
  },
  {
   "cell_type": "code",
   "execution_count": 41,
   "metadata": {
    "scrolled": true
   },
   "outputs": [],
   "source": [
    "user['Accessed_Atleast_Once'] = 1\n",
    "user.loc[user['Last_Login'].isna(), 'Accessed_Atleast_Once'] = 0 "
   ]
  },
  {
   "cell_type": "code",
   "execution_count": 42,
   "metadata": {},
   "outputs": [],
   "source": [
    "user.drop(['Last_Login','Account_Creation_Time'], inplace = True, axis = 1)"
   ]
  },
  {
   "cell_type": "code",
   "execution_count": 43,
   "metadata": {},
   "outputs": [],
   "source": [
    "#user['Referral_By'] = user['Referral_By'].astype('object')\n",
    "#user['Referral_By'].fillna('No_Referral')"
   ]
  },
  {
   "cell_type": "code",
   "execution_count": 44,
   "metadata": {
    "scrolled": true
   },
   "outputs": [],
   "source": [
    "#user['Organization_ID'] = user['Organization_ID'].astype('object')\n",
    "#X = pd.get_dummies(user, columns = ['Organization_ID'], drop_first = True)"
   ]
  },
  {
   "cell_type": "code",
   "execution_count": 48,
   "metadata": {},
   "outputs": [
    {
     "name": "stdout",
     "output_type": "stream",
     "text": [
      "<class 'pandas.core.frame.DataFrame'>\n",
      "RangeIndex: 12000 entries, 0 to 11999\n",
      "Data columns (total 12 columns):\n",
      " #   Column                                      Non-Null Count  Dtype \n",
      "---  ------                                      --------------  ----- \n",
      " 0   Mailing_List                                12000 non-null  int64 \n",
      " 1   Marketing_Dip                               12000 non-null  int64 \n",
      " 2   Adopted_User                                12000 non-null  int64 \n",
      " 3   Account_Creation_Year                       12000 non-null  object\n",
      " 4   Account_Creation_Q2                         12000 non-null  uint8 \n",
      " 5   Account_Creation_Q3                         12000 non-null  uint8 \n",
      " 6   Account_Creation_Q4                         12000 non-null  uint8 \n",
      " 7   Account_Creation_Method_ORG_INVITE          12000 non-null  uint8 \n",
      " 8   Account_Creation_Method_PERSONAL_PROJECTS   12000 non-null  uint8 \n",
      " 9   Account_Creation_Method_SIGNUP              12000 non-null  uint8 \n",
      " 10  Account_Creation_Method_SIGNUP_GOOGLE_AUTH  12000 non-null  uint8 \n",
      " 11  Accessed_Atleast_Once                       12000 non-null  int64 \n",
      "dtypes: int64(4), object(1), uint8(7)\n",
      "memory usage: 550.9+ KB\n"
     ]
    }
   ],
   "source": [
    "user.info()"
   ]
  },
  {
   "cell_type": "markdown",
   "metadata": {},
   "source": [
    "### Finding the Best Features"
   ]
  },
  {
   "cell_type": "markdown",
   "metadata": {},
   "source": [
    "#### SelectKbest"
   ]
  },
  {
   "cell_type": "code",
   "execution_count": 51,
   "metadata": {},
   "outputs": [],
   "source": [
    "X= user.drop('Adopted_User', axis = 1)\n",
    "y = user['Adopted_User']\n",
    "\n",
    "BestFeatures = SelectKBest(score_func=chi2, k = 5)\n",
    "fit_Model = BestFeatures.fit(X, y)\n"
   ]
  },
  {
   "cell_type": "code",
   "execution_count": 57,
   "metadata": {},
   "outputs": [],
   "source": [
    "dfscores = pd.DataFrame(fit_Model.scores_)\n",
    "dfcolumns = pd.DataFrame(X.columns)\n"
   ]
  },
  {
   "cell_type": "code",
   "execution_count": 64,
   "metadata": {},
   "outputs": [],
   "source": [
    "Results = pd.concat([dfcolumns, dfscores], axis = 1)\n",
    "Results.columns = ['Feature_Name', 'Feature_Score']\n",
    "Results.set_index('Feature_Name', inplace = True)"
   ]
  },
  {
   "cell_type": "code",
   "execution_count": 68,
   "metadata": {},
   "outputs": [
    {
     "data": {
      "text/html": [
       "<div>\n",
       "<style scoped>\n",
       "    .dataframe tbody tr th:only-of-type {\n",
       "        vertical-align: middle;\n",
       "    }\n",
       "\n",
       "    .dataframe tbody tr th {\n",
       "        vertical-align: top;\n",
       "    }\n",
       "\n",
       "    .dataframe thead th {\n",
       "        text-align: right;\n",
       "    }\n",
       "</style>\n",
       "<table border=\"1\" class=\"dataframe\">\n",
       "  <thead>\n",
       "    <tr style=\"text-align: right;\">\n",
       "      <th></th>\n",
       "      <th>Feature_Score</th>\n",
       "    </tr>\n",
       "    <tr>\n",
       "      <th>Feature_Name</th>\n",
       "      <th></th>\n",
       "    </tr>\n",
       "  </thead>\n",
       "  <tbody>\n",
       "    <tr>\n",
       "      <th>Accessed_Atleast_Once</th>\n",
       "      <td>183.142851</td>\n",
       "    </tr>\n",
       "    <tr>\n",
       "      <th>Account_Creation_Q2</th>\n",
       "      <td>62.078674</td>\n",
       "    </tr>\n",
       "    <tr>\n",
       "      <th>Account_Creation_Method_PERSONAL_PROJECTS</th>\n",
       "      <td>56.694032</td>\n",
       "    </tr>\n",
       "    <tr>\n",
       "      <th>Account_Creation_Q3</th>\n",
       "      <td>18.656831</td>\n",
       "    </tr>\n",
       "    <tr>\n",
       "      <th>Account_Creation_Method_SIGNUP_GOOGLE_AUTH</th>\n",
       "      <td>13.908834</td>\n",
       "    </tr>\n",
       "    <tr>\n",
       "      <th>Account_Creation_Q4</th>\n",
       "      <td>12.333829</td>\n",
       "    </tr>\n",
       "    <tr>\n",
       "      <th>Account_Creation_Method_SIGNUP</th>\n",
       "      <td>0.788815</td>\n",
       "    </tr>\n",
       "    <tr>\n",
       "      <th>Mailing_List</th>\n",
       "      <td>0.703419</td>\n",
       "    </tr>\n",
       "    <tr>\n",
       "      <th>Marketing_Dip</th>\n",
       "      <td>0.441751</td>\n",
       "    </tr>\n",
       "    <tr>\n",
       "      <th>Account_Creation_Method_ORG_INVITE</th>\n",
       "      <td>0.336644</td>\n",
       "    </tr>\n",
       "    <tr>\n",
       "      <th>Account_Creation_Year</th>\n",
       "      <td>0.022760</td>\n",
       "    </tr>\n",
       "  </tbody>\n",
       "</table>\n",
       "</div>"
      ],
      "text/plain": [
       "                                            Feature_Score\n",
       "Feature_Name                                             \n",
       "Accessed_Atleast_Once                          183.142851\n",
       "Account_Creation_Q2                             62.078674\n",
       "Account_Creation_Method_PERSONAL_PROJECTS       56.694032\n",
       "Account_Creation_Q3                             18.656831\n",
       "Account_Creation_Method_SIGNUP_GOOGLE_AUTH      13.908834\n",
       "Account_Creation_Q4                             12.333829\n",
       "Account_Creation_Method_SIGNUP                   0.788815\n",
       "Mailing_List                                     0.703419\n",
       "Marketing_Dip                                    0.441751\n",
       "Account_Creation_Method_ORG_INVITE               0.336644\n",
       "Account_Creation_Year                            0.022760"
      ]
     },
     "execution_count": 68,
     "metadata": {},
     "output_type": "execute_result"
    }
   ],
   "source": [
    "Results.sort_values('Feature_Score', ascending = False)"
   ]
  }
 ],
 "metadata": {
  "kernelspec": {
   "display_name": "Python 3",
   "language": "python",
   "name": "python3"
  },
  "language_info": {
   "codemirror_mode": {
    "name": "ipython",
    "version": 3
   },
   "file_extension": ".py",
   "mimetype": "text/x-python",
   "name": "python",
   "nbconvert_exporter": "python",
   "pygments_lexer": "ipython3",
   "version": "3.7.6"
  }
 },
 "nbformat": 4,
 "nbformat_minor": 4
}
